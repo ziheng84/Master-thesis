{
 "cells": [
  {
   "cell_type": "code",
   "execution_count": 4,
   "metadata": {},
   "outputs": [],
   "source": [
    "from nd2reader import ND2Reader\n",
    "import matplotlib.pyplot as plt\n",
    "import os\n",
    "\n",
    "from cv2 import imwrite\n",
    "from skimage import img_as_ubyte\n",
    "from skimage.io import imshow, imread"
   ]
  },
  {
   "cell_type": "code",
   "execution_count": null,
   "metadata": {},
   "outputs": [],
   "source": [
    "################### Following blocks are used for ND2 file #####################"
   ]
  },
  {
   "cell_type": "code",
   "execution_count": 53,
   "metadata": {},
   "outputs": [
    {
     "data": {
      "text/plain": [
       "<matplotlib.image.AxesImage at 0x1553ebaacf8>"
      ]
     },
     "execution_count": 53,
     "metadata": {},
     "output_type": "execute_result"
    },
    {
     "data": {
      "image/png": "[encoded data removed]",
      "text/plain": [
       "<Figure size 432x288 with 2 Axes>"
      ]
     },
     "metadata": {
      "needs_background": "light"
     },
     "output_type": "display_data"
    }
   ],
   "source": [
    "PATH = 'F:\\\\MA\\\\data\\\\MR_CellPlanes\\\\20190819_HK13062_Laser_Eva4_0 nM\\\\BF\\\\'\n",
    "\n",
    "NAME = 'Point0001_ChannelBrightfield_Seq0002'\n",
    "#NAME = 'GFP_MAX_P0'\n",
    "\n",
    "image = ND2Reader(PATH+ NAME + '.nd2') \n",
    "#image = imread(PATH + NAME + '.tif')\n",
    "\n",
    "dummy = img_as_ubyte(image[0])\n",
    "#dummy = image[10]\n",
    "imshow(dummy)"
   ]
  },
  {
   "cell_type": "code",
   "execution_count": 54,
   "metadata": {},
   "outputs": [],
   "source": [
    "# Generate and save TIF images from nd2 stack. Contrast stretching with 10 times is performed.\n",
    "\n",
    "SAVE_DIR = PATH + NAME + '\\\\'\n",
    "os.mkdir(SAVE_DIR)\n",
    "\n",
    "for n in range(len(image)):\n",
    "    #temp_img = 10 * img_as_ubyte(image[n])  # to convert 16bit image to 8bit\n",
    "    temp_img = image[n]  \n",
    "    imwrite(SAVE_DIR + NAME + '_T' + str(n) + '.tif', temp_img)"
   ]
  },
  {
   "cell_type": "code",
   "execution_count": null,
   "metadata": {},
   "outputs": [],
   "source": []
  },
  {
   "cell_type": "code",
   "execution_count": null,
   "metadata": {},
   "outputs": [],
   "source": [
    "################### Following blocks are used for TIF stack file #####################"
   ]
  }
 ],
 "metadata": {
  "kernelspec": {
   "display_name": "Python 3",
   "language": "python",
   "name": "python3"
  },
  "language_info": {
   "codemirror_mode": {
    "name": "ipython",
    "version": 3
   },
   "file_extension": ".py",
   "mimetype": "text/x-python",
   "name": "python",
   "nbconvert_exporter": "python",
   "pygments_lexer": "ipython3",
   "version": "3.7.3"
  }
 },
 "nbformat": 4,
 "nbformat_minor": 2
}
