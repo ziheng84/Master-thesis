{
 "cells": [
  {
   "cell_type": "code",
   "execution_count": 1,
   "metadata": {},
   "outputs": [],
   "source": [
    "import numpy as np\n",
    "from skimage.io import imread, imshow, imsave\n",
    "from skimage.util import crop\n",
    "import matplotlib.pylab as plt\n",
    "import matplotlib.patches as patches"
   ]
  },
  {
   "cell_type": "code",
   "execution_count": 25,
   "metadata": {},
   "outputs": [],
   "source": [
    "x1_1 = 150\n",
    "x1_2 = 770\n",
    "x1_3 = 1400\n",
    "x1_4 = 470\n",
    "x1_5 = 1100\n",
    "\n",
    "y1_1 = 200\n",
    "y1_2 = 850\n",
    "y1_3 = 1510\n",
    "\n",
    "x_list1 = [x1_1, x1_2, x1_3, x1_4, x1_5, x1_1, x1_2, x1_3]\n",
    "y_list1 = [y1_1, y1_1, y1_1, y1_2, y1_2, y1_3, y1_3, y1_3]"
   ]
  },
  {
   "cell_type": "code",
   "execution_count": 49,
   "metadata": {},
   "outputs": [],
   "source": [
    "x2_1 = 270\n",
    "x2_2 = 900\n",
    "x2_3 = 1500\n",
    "x2_4 = 0 \n",
    "x2_5 = 600\n",
    "x2_6 = 1200\n",
    "\n",
    "y2_1 = 500\n",
    "y2_2 = 1150\n",
    "\n",
    "x_list2 = [x2_1, x2_2, x2_3, x2_4, x2_5, x2_6]\n",
    "y_list2 = [y2_1, y2_1, y2_1, y2_2, y2_2, y2_2]"
   ]
  },
  {
   "cell_type": "code",
   "execution_count": 71,
   "metadata": {},
   "outputs": [],
   "source": [
    "file_name = 'Point0001_Channel470 nm_Seq0002_T0'\n",
    "A = imread(file_name + '.png')\n",
    "\n",
    "# Preprocess for original tiff image, not for masks!!!\n",
    "#A = A/256\n",
    "A = A.astype('uint8')\n",
    "\n",
    "width = 512\n",
    "height = 512\n",
    "\n",
    "start_x = 1400\n",
    "start_y = 850"
   ]
  },
  {
   "cell_type": "code",
   "execution_count": 72,
   "metadata": {},
   "outputs": [
    {
     "data": {
      "image/png": "[encoded data removed]",
      "text/plain": [
       "<Figure size 432x288 with 1 Axes>"
      ]
     },
     "metadata": {
      "needs_background": "light"
     },
     "output_type": "display_data"
    }
   ],
   "source": [
    "# Visualize the cropping windows with bounding box\n",
    "\n",
    "# Create figure and axes\n",
    "fig,ax = plt.subplots(1)\n",
    "\n",
    "# Display the image\n",
    "ax.imshow(A)\n",
    "\n",
    "# Create a Rectangle patch\n",
    "for i in range(len(x_list2)):\n",
    "    start_x = x_list2[i]\n",
    "    start_y = y_list2[i]\n",
    "    rect = patches.Rectangle((start_x,start_y),width,height,linewidth=1,edgecolor='r',facecolor='none')\n",
    "    ax.add_patch(rect)\n",
    "\n",
    "#rect = patches.Rectangle((50,200),40,30,linewidth=1,edgecolor='r',facecolor='none')\n",
    "#ax.add_patch(rect)\n",
    "\n",
    "plt.show()"
   ]
  },
  {
   "cell_type": "code",
   "execution_count": 73,
   "metadata": {},
   "outputs": [
    {
     "name": "stdout",
     "output_type": "stream",
     "text": [
      "(2044, 2048, 4) (512, 512, 4)\n"
     ]
    },
    {
     "data": {
      "image/png": "[encoded data removed]",
      "text/plain": [
       "<Figure size 720x1440 with 2 Axes>"
      ]
     },
     "metadata": {
      "needs_background": "light"
     },
     "output_type": "display_data"
    }
   ],
   "source": [
    "# Try some cropping in both horizontal and vertical directions\n",
    "\n",
    "#B = A[start_y:start_y + width,start_x:start_x + height,:]\n",
    "B = A[start_y:start_y + width,start_x:start_x + height]\n",
    "\n",
    "print(A.shape, B.shape)\n",
    "# (512, 512, 4) (64, 64, 4)\n",
    "\n",
    "plt.figure(figsize=(10,20))\n",
    "plt.subplot(121), plt.imshow(A)\n",
    "plt.subplot(122), plt.imshow(B)\n",
    "plt.show()"
   ]
  },
  {
   "cell_type": "code",
   "execution_count": 74,
   "metadata": {},
   "outputs": [],
   "source": [
    "for i in range(len(x_list2)):\n",
    "    start_x = x_list2[i]\n",
    "    start_y = y_list2[i]\n",
    "    B = A[start_y:start_y + width,start_x:start_x + height,:]\n",
    "    B = B.astype('uint8')\n",
    "    imsave(file_name + '_' + str(i) + '.png', B)"
   ]
  },
  {
   "cell_type": "code",
   "execution_count": null,
   "metadata": {},
   "outputs": [],
   "source": []
  }
 ],
 "metadata": {
  "kernelspec": {
   "display_name": "Python 3",
   "language": "python",
   "name": "python3"
  },
  "language_info": {
   "codemirror_mode": {
    "name": "ipython",
    "version": 3
   },
   "file_extension": ".py",
   "mimetype": "text/x-python",
   "name": "python",
   "nbconvert_exporter": "python",
   "pygments_lexer": "ipython3",
   "version": "3.7.3"
  }
 },
 "nbformat": 4,
 "nbformat_minor": 2
}
