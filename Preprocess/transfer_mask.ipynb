{
 "cells": [
  {
   "cell_type": "code",
   "execution_count": 1,
   "metadata": {},
   "outputs": [],
   "source": [
    "import os\n",
    "import sys\n",
    "import warnings\n",
    "from tqdm import tqdm\n",
    "\n",
    "import numpy as np\n",
    "from skimage.io import imread, imshow, imsave"
   ]
  },
  {
   "cell_type": "code",
   "execution_count": 2,
   "metadata": {},
   "outputs": [
    {
     "name": "stdout",
     "output_type": "stream",
     "text": [
      "Directory  F:\\MA\\data\\NIH\\20180717_161620(new_Ls)\\train\\mask\\SegmentationClassPNG\\out-cell\\  already exists\n"
     ]
    }
   ],
   "source": [
    "# Initialization\n",
    "\n",
    "PATH = 'F:\\\\MA\\\\data\\\\NIH\\\\20180717_161620(new_Ls)\\\\train\\\\mask\\\\SegmentationClassPNG\\\\'\n",
    "dirName = PATH + 'out-cell\\\\'\n",
    "\n",
    "warnings.filterwarnings('ignore', category=UserWarning, module='skimage')\n",
    "\n",
    "# Create target Directory if don't exist\n",
    "if not os.path.exists(dirName):\n",
    "    os.mkdir(dirName)\n",
    "    print(\"Directory \" , dirName ,  \" Created \")\n",
    "else:    \n",
    "    print(\"Directory \" , dirName ,  \" already exists\")\n",
    "\n",
    "    \n",
    "IMG_ID = next(os.walk(PATH))[2]\n",
    "IMG_WIDTH = 400\n",
    "IMG_HEIGHT = 400"
   ]
  },
  {
   "cell_type": "code",
   "execution_count": 32,
   "metadata": {},
   "outputs": [],
   "source": [
    "def label_to_mask(label):\n",
    "    mask = np.empty([label.shape[0], label.shape[1]])\n",
    "    \n",
    "    for x in range(label.shape[0]):\n",
    "        for y in range(label.shape[1]):\n",
    "            for c in range(label.shape[2]):\n",
    "                if label[x,y,c] == 128:\n",
    "                    mask[x,y] = c+1\n",
    "                    \n",
    "    return mask.astype('uint8')"
   ]
  },
  {
   "cell_type": "code",
   "execution_count": 33,
   "metadata": {},
   "outputs": [
    {
     "name": "stdout",
     "output_type": "stream",
     "text": [
      "Transferring images ... \n"
     ]
    },
    {
     "name": "stderr",
     "output_type": "stream",
     "text": [
      "100%|██████████████████████████████████████████████████████████████████████████████████| 66/66 [01:27<00:00,  1.29s/it]\n"
     ]
    },
    {
     "name": "stdout",
     "output_type": "stream",
     "text": [
      "Done!\n"
     ]
    }
   ],
   "source": [
    "#MASK = np.zeros((len(IMG_ID), IMG_WIDTH, IMG_HEIGHT), dtype=np.uint8)\n",
    "MASK = []\n",
    "\n",
    "# Transfer images\n",
    "print('Transferring images ... ')\n",
    "sys.stdout.flush()\n",
    "\n",
    "for n, id_ in tqdm(enumerate(IMG_ID), total=len(IMG_ID)):\n",
    "    \n",
    "    label = imread(PATH + id_)\n",
    "    mask = label_to_mask(label)\n",
    "    MASK.append(mask)\n",
    "    imsave(dirName + IMG_ID[n], mask)\n",
    "        \n",
    "print('Done!')"
   ]
  },
  {
   "cell_type": "code",
   "execution_count": 34,
   "metadata": {},
   "outputs": [
    {
     "data": {
      "text/plain": [
       "<matplotlib.image.AxesImage at 0x13df48af080>"
      ]
     },
     "execution_count": 34,
     "metadata": {},
     "output_type": "execute_result"
    },
    {
     "data": {
      "image/png": "[encoded data removed]",
      "text/plain": [
       "<Figure size 432x288 with 2 Axes>"
      ]
     },
     "metadata": {
      "needs_background": "light"
     },
     "output_type": "display_data"
    }
   ],
   "source": [
    "# Sanity test\n",
    "imshow(MASK[5])"
   ]
  },
  {
   "cell_type": "code",
   "execution_count": null,
   "metadata": {},
   "outputs": [],
   "source": []
  }
 ],
 "metadata": {
  "kernelspec": {
   "display_name": "Python 3",
   "language": "python",
   "name": "python3"
  },
  "language_info": {
   "codemirror_mode": {
    "name": "ipython",
    "version": 3
   },
   "file_extension": ".py",
   "mimetype": "text/x-python",
   "name": "python",
   "nbconvert_exporter": "python",
   "pygments_lexer": "ipython3",
   "version": "3.7.3"
  }
 },
 "nbformat": 4,
 "nbformat_minor": 2
}
