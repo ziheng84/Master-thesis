{
 "cells": [
  {
   "cell_type": "code",
   "execution_count": 1,
   "metadata": {},
   "outputs": [
    {
     "name": "stderr",
     "output_type": "stream",
     "text": [
      "Using TensorFlow backend.\n"
     ]
    }
   ],
   "source": [
    "# Initialization\n",
    "import os\n",
    "import sys\n",
    "import random\n",
    "import warnings\n",
    "\n",
    "import numpy as np\n",
    "import pandas as pd\n",
    "\n",
    "import matplotlib.pyplot as plt\n",
    "import seaborn as sns\n",
    "\n",
    "from tqdm import tqdm\n",
    "from itertools import chain\n",
    "from skimage.io import imread, imshow, imread_collection, concatenate_images\n",
    "from skimage.transform import resize\n",
    "from skimage.morphology import label\n",
    "from sklearn.utils.class_weight import compute_class_weight\n",
    "\n",
    "from keras.models import Model, load_model\n",
    "from keras.utils import to_categorical # one-hot-encoding\n",
    "\n",
    "# Required for loss function\n",
    "import math\n",
    "from tensorflow.python.keras import losses\n",
    "\n",
    "import tensorflow as tf"
   ]
  },
  {
   "cell_type": "code",
   "execution_count": 2,
   "metadata": {},
   "outputs": [],
   "source": [
    "# Set someparameters\n",
    "IMG_WIDTH = 128\n",
    "IMG_HEIGHT = 128\n",
    "# Original size = 572*572\n",
    "LABEL_CLASS = 3\n",
    "\n",
    "MODEL_NAME = 'model-lab-Ls-unet-epoch100.h5'\n",
    "\n",
    "warnings.filterwarnings('ignore', category=UserWarning, module='skimage')\n",
    "seed = 42\n",
    "random.seed = seed\n",
    "np.random.seed = seed"
   ]
  },
  {
   "cell_type": "code",
   "execution_count": 3,
   "metadata": {},
   "outputs": [],
   "source": [
    "# Define pre-process function\n",
    "\n",
    "from skimage.transform import resize\n",
    "\n",
    "def pre_process(img, img_height, img_width, norm = False, rescale = False, mask = False):\n",
    "    img = np.array(img)                 #list to array\n",
    "    proc_img = []\n",
    "    \n",
    "    #proc_img = resize(img, (img_height, img_width), mode='constant', preserve_range=True)\n",
    "        \n",
    "    if mask:\n",
    "        proc_img = resize(img, (img_height, img_width), mode='constant', preserve_range=True)\n",
    "    else:\n",
    "        proc_img = img[:,:,np.newaxis]\n",
    "        proc_img = resize(img, (img_height, img_width, 1), mode='constant', preserve_range=True)\n",
    "        \n",
    "    if rescale:\n",
    "        proc_img /= 255\n",
    "        \n",
    "    #image normalization\n",
    "    if norm:\n",
    "        #adjusted_std = max(np.std(proc_img), 1.0/np.sqrt(proc_img.size))\n",
    "        ipsilon = 0.0001\n",
    "        proc_img = (proc_img-np.mean(proc_img))/np.std(proc_img)+ipsilon\n",
    "        \n",
    "    return proc_img"
   ]
  },
  {
   "cell_type": "code",
   "execution_count": 5,
   "metadata": {},
   "outputs": [
    {
     "name": "stdout",
     "output_type": "stream",
     "text": [
      "Getting and resizing test images ... \n"
     ]
    },
    {
     "name": "stderr",
     "output_type": "stream",
     "text": [
      "100%|██████████████████████████████████████████████████████████████████████████████████| 11/11 [00:00<00:00, 17.93it/s]\n"
     ]
    },
    {
     "name": "stdout",
     "output_type": "stream",
     "text": [
      "Done!\n"
     ]
    }
   ],
   "source": [
    "# Importing data...\n",
    "\n",
    "# Path for Linux\n",
    "#TRAIN_PATH = '/home/ziheng/UNet/dataset_lab/train/'\n",
    "#TEST_PATH = '/home/ziheng/UNet/dataset_lab/test/'\n",
    "\n",
    "# Path for Windows\n",
    "TRAIN_PATH = 'F:\\\\MA\\\\data\\\\NIH\\\\Ls\\\\20180717_161620(new_Ls)\\\\train\\\\'\n",
    "TEST_PATH = 'F:\\\\MA\\\\data\\\\NIH\\\\Ls\\\\20180717_161620(new_Ls)\\\\test\\\\'\n",
    "\n",
    "\n",
    "# original lab dataset\n",
    "# 'F:\\\\MA\\\\data\\\\dataset_lab\\\\train\\\\'\n",
    "# L-shape dataset\n",
    "# 'F:\\\\MA\\\\data\\\\NIH\\\\Ls\\\\20180717_161620(new_Ls)\\\\train\\\\'\n",
    "# DISCO dataset\n",
    "# 'F:\\\\MA\\\\data\\\\Swain_lab\\\\train\\\\'\n",
    "\n",
    "# Get train and test IDs\n",
    "train_ids = next(os.walk(TRAIN_PATH + 'in/'))[2]\n",
    "test_ids = next(os.walk(TEST_PATH + 'in/'))[2]\n",
    "\n",
    "# X_test: original images\n",
    "X_test = np.zeros((len(test_ids), IMG_HEIGHT, IMG_WIDTH, 1), dtype=np.float32)\n",
    "# Y_test: masks\n",
    "Y_test = np.zeros((len(test_ids), IMG_HEIGHT, IMG_WIDTH, LABEL_CLASS), dtype=np.bool)\n",
    "# Y_orig: original mask without one-hot encoding\n",
    "#Y_orig = np.zeros((len(test_ids), 64, 64), dtype=np.uint8)\n",
    "    \n",
    "    \n",
    "# Get and resize test images\n",
    "print('Getting and resizing test images ... ')\n",
    "sys.stdout.flush()\n",
    "\n",
    "for n, id_ in tqdm(enumerate(test_ids), total=len(test_ids)):\n",
    "    \n",
    "    img = imread(TEST_PATH + 'in/' + id_)\n",
    "    X_test[n] = pre_process(img, IMG_HEIGHT, IMG_WIDTH, norm = False, rescale = True)\n",
    "    \n",
    "    mask = imread(TEST_PATH + 'out-cell/' + id_.replace('.jpg', '.png'))\n",
    "    #Y_orig[n] = mask\n",
    "    mask = to_categorical(mask, LABEL_CLASS) # Generate binary masks (one hot encoding)\n",
    "    # Resizing need to be done AFTER one-hot encoding!!!!!!!\n",
    "    mask = pre_process(mask, IMG_HEIGHT, IMG_WIDTH, mask = True)\n",
    "    Y_test[n] = mask\n",
    "    \n",
    "    \n",
    "print('Done!')"
   ]
  },
  {
   "cell_type": "code",
   "execution_count": 6,
   "metadata": {},
   "outputs": [
    {
     "data": {
      "text/plain": [
       "(11, 64, 64)"
      ]
     },
     "execution_count": 6,
     "metadata": {},
     "output_type": "execute_result"
    }
   ],
   "source": [
    "Y_orig.shape"
   ]
  },
  {
   "cell_type": "code",
   "execution_count": 7,
   "metadata": {},
   "outputs": [],
   "source": [
    "def IoU(y_true,y_pred):\n",
    "    y_true_f = tf.reshape(y_true,[-1])\n",
    "    y_pred_f = tf.reshape(y_pred,[-1])\n",
    "    intersection = tf.reduce_sum(y_true_f * y_pred_f)\n",
    "    score = intersection / (tf.reduce_sum(y_true_f) + tf.reduce_sum(y_pred_f))\n",
    "    return score\n",
    "\n",
    "def IoU_loss(y_true , y_pred):\n",
    "    loss = 1 - IoU(y_true, y_pred)\n",
    "    return loss"
   ]
  },
  {
   "cell_type": "code",
   "execution_count": 8,
   "metadata": {},
   "outputs": [],
   "source": [
    "# Define custom metrics and loss functions\n",
    "def dice_coeff(y_true,y_pred):\n",
    "    smooth = 1.\n",
    "    y_true_f = tf.reshape(y_true,[-1])\n",
    "    y_pred_f = tf.reshape(y_pred,[-1])\n",
    "    intersection = tf.reduce_sum(y_true_f * y_pred_f)\n",
    "    score = (2. * intersection + smooth) / (tf.reduce_sum(y_true_f) + tf.reduce_sum(y_pred_f) + smooth)\n",
    "    return score\n",
    "\n",
    "def dice_loss(y_true , y_pred):\n",
    "    loss = 1 - dice_coeff(y_true, y_pred)\n",
    "    return loss\n",
    "\n",
    "def bce_dice_loss (y_true, y_pred):\n",
    "    loss = losses.categorical_crossentropy(y_true,y_pred)+dice_loss(y_true,y_pred)\n",
    "    return loss\n",
    "\n",
    "# The same as log_loss\n",
    "def mlogloss(target, pred):\n",
    "    score = 0.0\n",
    "    for i in range(len(pred)):\n",
    "        pp = pred[i]\n",
    "        for j in range(len(pp)):\n",
    "            prob = pp[j]\n",
    "            if prob < 1e-15:\n",
    "                prob = 1e-15\n",
    "            score += target[i][j] * math.log(prob)\n",
    "    return -score/len(pred)"
   ]
  },
  {
   "cell_type": "code",
   "execution_count": 9,
   "metadata": {},
   "outputs": [
    {
     "name": "stdout",
     "output_type": "stream",
     "text": [
      "WARNING:tensorflow:From C:\\Anaconda\\envs\\deep-learning\\lib\\site-packages\\tensorflow\\python\\framework\\op_def_library.py:263: colocate_with (from tensorflow.python.framework.ops) is deprecated and will be removed in a future version.\n",
      "Instructions for updating:\n",
      "Colocations handled automatically by placer.\n",
      "WARNING:tensorflow:From C:\\Anaconda\\envs\\deep-learning\\lib\\site-packages\\keras\\backend\\tensorflow_backend.py:3445: calling dropout (from tensorflow.python.ops.nn_ops) with keep_prob is deprecated and will be removed in a future version.\n",
      "Instructions for updating:\n",
      "Please use `rate` instead of `keep_prob`. Rate should be set to `rate = 1 - keep_prob`.\n",
      "WARNING:tensorflow:From C:\\Anaconda\\envs\\deep-learning\\lib\\site-packages\\tensorflow\\python\\ops\\math_ops.py:3066: to_int32 (from tensorflow.python.ops.math_ops) is deprecated and will be removed in a future version.\n",
      "Instructions for updating:\n",
      "Use tf.cast instead.\n",
      "11/11 [==============================] - 1s 81ms/step\n"
     ]
    }
   ],
   "source": [
    "# Predict on train, val and test\n",
    "model = load_model('.\\\\model\\\\' + MODEL_NAME, custom_objects={'bce_dice_loss': bce_dice_loss, 'IoU': IoU, 'dice_loss': dice_loss})\n",
    "#preds_train = model.predict(X_train[:int(X_train.shape[0]*0.9)], verbose=1)\n",
    "#preds_val = model.predict(X_train[int(X_train.shape[0]*0.9):], verbose=1)\n",
    "preds_test = model.predict(X_test, verbose=1)\n",
    "\n",
    "# Threshold predictions\n",
    "#preds_train_t = (preds_train > 0.5).astype(np.uint8)\n",
    "#preds_val_t = (preds_val > 0.5).astype(np.uint8)\n",
    "preds_test_t = (preds_test > 0.5).astype(np.uint8)\n",
    "\n",
    "# Create list of upsampled test masks\n",
    "preds_test_upsampled = []\n",
    "#for i in range(len(preds_test)):\n",
    "#    preds_test_upsampled.append(resize(np.squeeze(preds_test[i]), \n",
    "#                                       (sizes_test[i][0], sizes_test[i][1]), \n",
    "#                                       mode='constant', preserve_range=True))"
   ]
  },
  {
   "cell_type": "code",
   "execution_count": 10,
   "metadata": {},
   "outputs": [],
   "source": [
    "# Generate the mask wihtout one-hot-encoding \n",
    "preds_test_mask = np.zeros(shape=(preds_test_t.shape[0], preds_test_t.shape[1], preds_test_t.shape[2]))\n",
    "\n",
    "for i in range(preds_test_t.shape[0]):\n",
    "    for y in range(preds_test_t.shape[1]):\n",
    "        for x in range(preds_test_t.shape[2]):\n",
    "            if preds_test_t[i, y, x, 1] == 1:\n",
    "                preds_test_mask[i, y, x] = 1\n",
    "            elif preds_test_t[i, y, x, 2] == 1:\n",
    "                preds_test_mask[i, y, x] = 2\n",
    "            else:\n",
    "                preds_test_mask[i, y, x] = 0"
   ]
  },
  {
   "cell_type": "code",
   "execution_count": 33,
   "metadata": {},
   "outputs": [
    {
     "name": "stdout",
     "output_type": "stream",
     "text": [
      "1\n"
     ]
    },
    {
     "data": {
      "image/png": "[encoded data removed]",
      "text/plain": [
       "<Figure size 432x288 with 1 Axes>"
      ]
     },
     "metadata": {
      "needs_background": "light"
     },
     "output_type": "display_data"
    },
    {
     "data": {
      "image/png": "[encoded data removed]",
      "text/plain": [
       "<Figure size 432x288 with 2 Axes>"
      ]
     },
     "metadata": {
      "needs_background": "light"
     },
     "output_type": "display_data"
    }
   ],
   "source": [
    "# Visualize the test image + the prediction masks\n",
    "#ix = random.randint(0, len(test_ids)-1)\n",
    "ix = 1\n",
    "print(ix)\n",
    "\n",
    "plt.figure()\n",
    "#plt.grid(None)\n",
    "imshow(np.reshape(X_test[ix], (IMG_WIDTH, IMG_HEIGHT)))\n",
    "plt.show()\n",
    "\n",
    "#plt.grid(None)\n",
    "#imshow(Y_orig[ix])\n",
    "#plt.show()\n",
    "\n",
    "plt.figure()\n",
    "#plt.grid(None)\n",
    "imshow(np.squeeze(preds_test_mask[ix]))\n",
    "plt.show()"
   ]
  },
  {
   "cell_type": "code",
   "execution_count": 44,
   "metadata": {
    "scrolled": false
   },
   "outputs": [
    {
     "name": "stdout",
     "output_type": "stream",
     "text": [
      "11\n"
     ]
    },
    {
     "ename": "IndexError",
     "evalue": "index 11 is out of bounds for axis 0 with size 11",
     "output_type": "error",
     "traceback": [
      "\u001b[1;31m---------------------------------------------------------------------------\u001b[0m",
      "\u001b[1;31mIndexError\u001b[0m                                Traceback (most recent call last)",
      "\u001b[1;32m<ipython-input-44-96489817bf87>\u001b[0m in \u001b[0;36m<module>\u001b[1;34m\u001b[0m\n\u001b[0;32m      8\u001b[0m \u001b[0mplt\u001b[0m\u001b[1;33m.\u001b[0m\u001b[0mfigure\u001b[0m\u001b[1;33m(\u001b[0m\u001b[1;33m)\u001b[0m\u001b[1;33m\u001b[0m\u001b[1;33m\u001b[0m\u001b[0m\n\u001b[0;32m      9\u001b[0m \u001b[1;31m#plt.grid(None)\u001b[0m\u001b[1;33m\u001b[0m\u001b[1;33m\u001b[0m\u001b[1;33m\u001b[0m\u001b[0m\n\u001b[1;32m---> 10\u001b[1;33m \u001b[0mimshow\u001b[0m\u001b[1;33m(\u001b[0m\u001b[0mnp\u001b[0m\u001b[1;33m.\u001b[0m\u001b[0mreshape\u001b[0m\u001b[1;33m(\u001b[0m\u001b[0mX_test\u001b[0m\u001b[1;33m[\u001b[0m\u001b[0mix\u001b[0m\u001b[1;33m]\u001b[0m\u001b[1;33m,\u001b[0m \u001b[1;33m(\u001b[0m\u001b[0mIMG_WIDTH\u001b[0m\u001b[1;33m,\u001b[0m \u001b[0mIMG_HEIGHT\u001b[0m\u001b[1;33m)\u001b[0m\u001b[1;33m)\u001b[0m\u001b[1;33m)\u001b[0m\u001b[1;33m\u001b[0m\u001b[1;33m\u001b[0m\u001b[0m\n\u001b[0m\u001b[0;32m     11\u001b[0m \u001b[1;31m#plt.show()\u001b[0m\u001b[1;33m\u001b[0m\u001b[1;33m\u001b[0m\u001b[1;33m\u001b[0m\u001b[0m\n\u001b[0;32m     12\u001b[0m \u001b[0mplt\u001b[0m\u001b[1;33m.\u001b[0m\u001b[0msavefig\u001b[0m\u001b[1;33m(\u001b[0m\u001b[1;34m'test_img_'\u001b[0m \u001b[1;33m+\u001b[0m \u001b[0mstr\u001b[0m\u001b[1;33m(\u001b[0m\u001b[0mix\u001b[0m\u001b[1;33m)\u001b[0m \u001b[1;33m+\u001b[0m \u001b[1;34m'.png'\u001b[0m\u001b[1;33m)\u001b[0m\u001b[1;33m\u001b[0m\u001b[1;33m\u001b[0m\u001b[0m\n",
      "\u001b[1;31mIndexError\u001b[0m: index 11 is out of bounds for axis 0 with size 11"
     ]
    },
    {
     "data": {
      "text/plain": [
       "<Figure size 432x288 with 0 Axes>"
      ]
     },
     "metadata": {},
     "output_type": "display_data"
    }
   ],
   "source": [
    "################### Don't run unless you want to generate images!!!!!!! ######################\n",
    "##############################################################################################\n",
    "# Generate and save the test image + the prediction masks\n",
    "#ix = random.randint(0, len(test_ids))\n",
    "ix = 11\n",
    "print(ix)\n",
    "\n",
    "plt.figure()\n",
    "#plt.grid(None)\n",
    "imshow(np.reshape(X_test[ix], (IMG_WIDTH, IMG_HEIGHT)))\n",
    "#plt.show()\n",
    "plt.savefig('test_img_' + str(ix) + '.png')\n",
    "\n",
    "#plt.grid(None)\n",
    "#plt.figure()\n",
    "#imshow(np.squeeze(Y_test[ix,:,:,mask_category])) \n",
    "#plt.show()\n",
    "\n",
    "plt.figure()\n",
    "#plt.grid(None)\n",
    "imshow(np.squeeze(preds_test_mask[ix]))\n",
    "#plt.show()\n",
    "plt.savefig('preds_mask_' + str(ix) + '.png')"
   ]
  },
  {
   "cell_type": "code",
   "execution_count": 12,
   "metadata": {},
   "outputs": [],
   "source": [
    "# Define evaluation metrics\n",
    "def metric_IoU(target, prediction):\n",
    "    ipsilon = 0.0001\n",
    "    \n",
    "    intersection = np.logical_and(target, prediction)\n",
    "    union = np.logical_or(target, prediction)\n",
    "    return (np.sum(intersection)+ipsilon)/(np.sum(union)+ipsilon) \n",
    "\n",
    "def metric_precision(target, prediction):\n",
    "    ipsilon = 0.0001\n",
    "    \n",
    "    target_bool = np.array(target, dtype = 'bool')\n",
    "    prediction_bool = np.array(prediction, dtype = 'bool')\n",
    "    TP = np.logical_and(target_bool, prediction_bool)\n",
    "    FP = np.logical_and(~target_bool, prediction_bool)\n",
    "    return (np.sum(TP)+ipsilon)/(np.sum(TP)+np.sum(FP)+ipsilon)\n",
    "    \n",
    "def metric_recall(target, prediction):\n",
    "    ipsilon = 0.0001\n",
    "    \n",
    "    target_bool = np.array(target, dtype = 'bool')\n",
    "    prediction_bool = np.array(prediction, dtype = 'bool')\n",
    "    TP = np.logical_and(target_bool, prediction_bool)\n",
    "    FN = np.logical_and(target_bool, ~prediction_bool)\n",
    "    return (np.sum(TP)+ipsilon)/((np.sum(TP)+np.sum(FN))+ipsilon)\n",
    "    \n",
    "def metric_f1(target, prediction):\n",
    "    precision = metric_precision(target, prediction)\n",
    "    recall = metric_recall(target, prediction)\n",
    "    return 2*precision*recall/(precision+recall)"
   ]
  },
  {
   "cell_type": "code",
   "execution_count": 13,
   "metadata": {},
   "outputs": [],
   "source": [
    "IoU_score = []\n",
    "class_IoU_score = []\n",
    "class_f1_score = []\n",
    "class_precision_score = []\n",
    "class_recall_score =  []\n",
    "\n",
    "for d in range(Y_test.shape[3]):\n",
    "    class_IoU_score.append([])\n",
    "    class_f1_score.append([])\n",
    "    class_precision_score.append([])\n",
    "    class_recall_score.append([])\n",
    "\n",
    "for i in range(len(X_test)):\n",
    "    IoU_score.append(metric_IoU(Y_test[i], preds_test_t[i]))\n",
    "    for d in range(Y_test.shape[3]):\n",
    "        class_IoU_score[d].append(metric_IoU(Y_test[i,:,:,d], preds_test_t[i,:,:,d]))\n",
    "        class_f1_score[d].append(metric_f1(Y_test[i,:,:,d], preds_test_t[i,:,:,d]))\n",
    "        class_precision_score[d].append(metric_precision(Y_test[i,:,:,d], preds_test_t[i,:,:,d]))\n",
    "        class_recall_score[d].append(metric_recall(Y_test[i,:,:,d], preds_test_t[i,:,:,d]))\n",
    "        \n",
    "IoU_score = np.array(IoU_score)\n",
    "class_IoU_score = np.array(class_IoU_score)\n",
    "class_f1_score = np.array(class_f1_score)\n",
    "class_precision_score = np.array(class_precision_score)\n",
    "class_recall_score = np.array(class_recall_score)\n",
    "\n",
    "IoU_result = pd.DataFrame(data = class_IoU_score.transpose(), columns = ['Background', 'Trap', 'Cell'])\n",
    "f1_result = pd.DataFrame(data = class_f1_score.transpose(), columns = ['Background', 'Trap', 'Cell'])\n",
    "precision_result = pd.DataFrame(data = class_precision_score.transpose(), columns = ['Background', 'Trap', 'Cell'])\n",
    "recall_result = pd.DataFrame(data = class_recall_score.transpose(), columns = ['Background', 'Trap', 'Cell'])"
   ]
  },
  {
   "cell_type": "code",
   "execution_count": 47,
   "metadata": {},
   "outputs": [
    {
     "data": {
      "text/html": [
       "<div>\n",
       "<style scoped>\n",
       "    .dataframe tbody tr th:only-of-type {\n",
       "        vertical-align: middle;\n",
       "    }\n",
       "\n",
       "    .dataframe tbody tr th {\n",
       "        vertical-align: top;\n",
       "    }\n",
       "\n",
       "    .dataframe thead th {\n",
       "        text-align: right;\n",
       "    }\n",
       "</style>\n",
       "<table border=\"1\" class=\"dataframe\">\n",
       "  <thead>\n",
       "    <tr style=\"text-align: right;\">\n",
       "      <th></th>\n",
       "      <th>Background</th>\n",
       "      <th>Trap</th>\n",
       "      <th>Cell</th>\n",
       "    </tr>\n",
       "  </thead>\n",
       "  <tbody>\n",
       "    <tr>\n",
       "      <th>count</th>\n",
       "      <td>52.0000</td>\n",
       "      <td>52.0000</td>\n",
       "      <td>52.0000</td>\n",
       "    </tr>\n",
       "    <tr>\n",
       "      <th>mean</th>\n",
       "      <td>0.8739</td>\n",
       "      <td>0.8841</td>\n",
       "      <td>0.8510</td>\n",
       "    </tr>\n",
       "    <tr>\n",
       "      <th>std</th>\n",
       "      <td>0.0143</td>\n",
       "      <td>0.0212</td>\n",
       "      <td>0.0499</td>\n",
       "    </tr>\n",
       "    <tr>\n",
       "      <th>min</th>\n",
       "      <td>0.8372</td>\n",
       "      <td>0.8459</td>\n",
       "      <td>0.6668</td>\n",
       "    </tr>\n",
       "    <tr>\n",
       "      <th>25%</th>\n",
       "      <td>0.8645</td>\n",
       "      <td>0.8706</td>\n",
       "      <td>0.8313</td>\n",
       "    </tr>\n",
       "    <tr>\n",
       "      <th>50%</th>\n",
       "      <td>0.8743</td>\n",
       "      <td>0.8831</td>\n",
       "      <td>0.8613</td>\n",
       "    </tr>\n",
       "    <tr>\n",
       "      <th>75%</th>\n",
       "      <td>0.8867</td>\n",
       "      <td>0.8969</td>\n",
       "      <td>0.8875</td>\n",
       "    </tr>\n",
       "    <tr>\n",
       "      <th>max</th>\n",
       "      <td>0.8957</td>\n",
       "      <td>0.9316</td>\n",
       "      <td>0.9110</td>\n",
       "    </tr>\n",
       "  </tbody>\n",
       "</table>\n",
       "</div>"
      ],
      "text/plain": [
       "       Background     Trap     Cell\n",
       "count     52.0000  52.0000  52.0000\n",
       "mean       0.8739   0.8841   0.8510\n",
       "std        0.0143   0.0212   0.0499\n",
       "min        0.8372   0.8459   0.6668\n",
       "25%        0.8645   0.8706   0.8313\n",
       "50%        0.8743   0.8831   0.8613\n",
       "75%        0.8867   0.8969   0.8875\n",
       "max        0.8957   0.9316   0.9110"
      ]
     },
     "execution_count": 47,
     "metadata": {},
     "output_type": "execute_result"
    }
   ],
   "source": [
    "IoU_result.describe().round(4)"
   ]
  },
  {
   "cell_type": "code",
   "execution_count": 57,
   "metadata": {},
   "outputs": [
    {
     "data": {
      "image/png": "[encoded data removed]",
      "text/plain": [
       "<Figure size 360x720 with 1 Axes>"
      ]
     },
     "metadata": {},
     "output_type": "display_data"
    }
   ],
   "source": [
    "sns.set(rc={'figure.figsize':(5, 10)})\n",
    "sns.boxplot(x=\"variable\", y=\"value\", data=pd.melt(IoU_result), width = 0.5)\n",
    "#sns.boxplot(IoU_result)\n",
    "\n",
    "#plt.show()\n",
    "plt.savefig('IoU.png')"
   ]
  },
  {
   "cell_type": "code",
   "execution_count": 58,
   "metadata": {},
   "outputs": [
    {
     "data": {
      "text/html": [
       "<div>\n",
       "<style scoped>\n",
       "    .dataframe tbody tr th:only-of-type {\n",
       "        vertical-align: middle;\n",
       "    }\n",
       "\n",
       "    .dataframe tbody tr th {\n",
       "        vertical-align: top;\n",
       "    }\n",
       "\n",
       "    .dataframe thead th {\n",
       "        text-align: right;\n",
       "    }\n",
       "</style>\n",
       "<table border=\"1\" class=\"dataframe\">\n",
       "  <thead>\n",
       "    <tr style=\"text-align: right;\">\n",
       "      <th></th>\n",
       "      <th>Background</th>\n",
       "      <th>Trap</th>\n",
       "      <th>Cell</th>\n",
       "    </tr>\n",
       "  </thead>\n",
       "  <tbody>\n",
       "    <tr>\n",
       "      <th>count</th>\n",
       "      <td>52.0000</td>\n",
       "      <td>52.0000</td>\n",
       "      <td>52.0000</td>\n",
       "    </tr>\n",
       "    <tr>\n",
       "      <th>mean</th>\n",
       "      <td>0.9327</td>\n",
       "      <td>0.9383</td>\n",
       "      <td>0.9187</td>\n",
       "    </tr>\n",
       "    <tr>\n",
       "      <th>std</th>\n",
       "      <td>0.0082</td>\n",
       "      <td>0.0119</td>\n",
       "      <td>0.0306</td>\n",
       "    </tr>\n",
       "    <tr>\n",
       "      <th>min</th>\n",
       "      <td>0.9114</td>\n",
       "      <td>0.9165</td>\n",
       "      <td>0.8001</td>\n",
       "    </tr>\n",
       "    <tr>\n",
       "      <th>25%</th>\n",
       "      <td>0.9273</td>\n",
       "      <td>0.9308</td>\n",
       "      <td>0.9079</td>\n",
       "    </tr>\n",
       "    <tr>\n",
       "      <th>50%</th>\n",
       "      <td>0.9329</td>\n",
       "      <td>0.9379</td>\n",
       "      <td>0.9255</td>\n",
       "    </tr>\n",
       "    <tr>\n",
       "      <th>75%</th>\n",
       "      <td>0.9400</td>\n",
       "      <td>0.9456</td>\n",
       "      <td>0.9404</td>\n",
       "    </tr>\n",
       "    <tr>\n",
       "      <th>max</th>\n",
       "      <td>0.9450</td>\n",
       "      <td>0.9646</td>\n",
       "      <td>0.9534</td>\n",
       "    </tr>\n",
       "  </tbody>\n",
       "</table>\n",
       "</div>"
      ],
      "text/plain": [
       "       Background     Trap     Cell\n",
       "count     52.0000  52.0000  52.0000\n",
       "mean       0.9327   0.9383   0.9187\n",
       "std        0.0082   0.0119   0.0306\n",
       "min        0.9114   0.9165   0.8001\n",
       "25%        0.9273   0.9308   0.9079\n",
       "50%        0.9329   0.9379   0.9255\n",
       "75%        0.9400   0.9456   0.9404\n",
       "max        0.9450   0.9646   0.9534"
      ]
     },
     "execution_count": 58,
     "metadata": {},
     "output_type": "execute_result"
    }
   ],
   "source": [
    "f1_result.describe().round(4)"
   ]
  },
  {
   "cell_type": "code",
   "execution_count": 59,
   "metadata": {},
   "outputs": [
    {
     "data": {
      "image/png": "[encoded data removed]",
      "text/plain": [
       "<Figure size 360x720 with 1 Axes>"
      ]
     },
     "metadata": {},
     "output_type": "display_data"
    }
   ],
   "source": [
    "sns.set(rc={'figure.figsize':(5, 10)})\n",
    "sns.boxplot(x=\"variable\", y=\"value\", data=pd.melt(f1_result), width = 0.5)\n",
    "#sns.boxplot(IoU_result)\n",
    "\n",
    "#plt.show()\n",
    "plt.savefig('f1.png')"
   ]
  },
  {
   "cell_type": "code",
   "execution_count": 60,
   "metadata": {},
   "outputs": [
    {
     "data": {
      "text/html": [
       "<div>\n",
       "<style scoped>\n",
       "    .dataframe tbody tr th:only-of-type {\n",
       "        vertical-align: middle;\n",
       "    }\n",
       "\n",
       "    .dataframe tbody tr th {\n",
       "        vertical-align: top;\n",
       "    }\n",
       "\n",
       "    .dataframe thead th {\n",
       "        text-align: right;\n",
       "    }\n",
       "</style>\n",
       "<table border=\"1\" class=\"dataframe\">\n",
       "  <thead>\n",
       "    <tr style=\"text-align: right;\">\n",
       "      <th></th>\n",
       "      <th>Background</th>\n",
       "      <th>Trap</th>\n",
       "      <th>Cell</th>\n",
       "    </tr>\n",
       "  </thead>\n",
       "  <tbody>\n",
       "    <tr>\n",
       "      <th>count</th>\n",
       "      <td>52.0000</td>\n",
       "      <td>52.0000</td>\n",
       "      <td>52.0000</td>\n",
       "    </tr>\n",
       "    <tr>\n",
       "      <th>mean</th>\n",
       "      <td>0.8797</td>\n",
       "      <td>0.9122</td>\n",
       "      <td>0.9139</td>\n",
       "    </tr>\n",
       "    <tr>\n",
       "      <th>std</th>\n",
       "      <td>0.0118</td>\n",
       "      <td>0.0378</td>\n",
       "      <td>0.0479</td>\n",
       "    </tr>\n",
       "    <tr>\n",
       "      <th>min</th>\n",
       "      <td>0.8491</td>\n",
       "      <td>0.8534</td>\n",
       "      <td>0.7155</td>\n",
       "    </tr>\n",
       "    <tr>\n",
       "      <th>25%</th>\n",
       "      <td>0.8715</td>\n",
       "      <td>0.8786</td>\n",
       "      <td>0.8932</td>\n",
       "    </tr>\n",
       "    <tr>\n",
       "      <th>50%</th>\n",
       "      <td>0.8795</td>\n",
       "      <td>0.9082</td>\n",
       "      <td>0.9166</td>\n",
       "    </tr>\n",
       "    <tr>\n",
       "      <th>75%</th>\n",
       "      <td>0.8904</td>\n",
       "      <td>0.9474</td>\n",
       "      <td>0.9467</td>\n",
       "    </tr>\n",
       "    <tr>\n",
       "      <th>max</th>\n",
       "      <td>0.8982</td>\n",
       "      <td>0.9764</td>\n",
       "      <td>0.9891</td>\n",
       "    </tr>\n",
       "  </tbody>\n",
       "</table>\n",
       "</div>"
      ],
      "text/plain": [
       "       Background     Trap     Cell\n",
       "count     52.0000  52.0000  52.0000\n",
       "mean       0.8797   0.9122   0.9139\n",
       "std        0.0118   0.0378   0.0479\n",
       "min        0.8491   0.8534   0.7155\n",
       "25%        0.8715   0.8786   0.8932\n",
       "50%        0.8795   0.9082   0.9166\n",
       "75%        0.8904   0.9474   0.9467\n",
       "max        0.8982   0.9764   0.9891"
      ]
     },
     "execution_count": 60,
     "metadata": {},
     "output_type": "execute_result"
    }
   ],
   "source": [
    "precision_result.describe().round(4)"
   ]
  },
  {
   "cell_type": "code",
   "execution_count": 61,
   "metadata": {},
   "outputs": [
    {
     "data": {
      "image/png": "[encoded data removed]",
      "text/plain": [
       "<Figure size 360x720 with 1 Axes>"
      ]
     },
     "metadata": {},
     "output_type": "display_data"
    }
   ],
   "source": [
    "sns.set(rc={'figure.figsize':(5, 10)})\n",
    "sns.boxplot(x=\"variable\", y=\"value\", data=pd.melt(precision_result), width = 0.5)\n",
    "\n",
    "#plt.show()\n",
    "plt.savefig('precision.png')"
   ]
  },
  {
   "cell_type": "code",
   "execution_count": 62,
   "metadata": {},
   "outputs": [
    {
     "data": {
      "text/html": [
       "<div>\n",
       "<style scoped>\n",
       "    .dataframe tbody tr th:only-of-type {\n",
       "        vertical-align: middle;\n",
       "    }\n",
       "\n",
       "    .dataframe tbody tr th {\n",
       "        vertical-align: top;\n",
       "    }\n",
       "\n",
       "    .dataframe thead th {\n",
       "        text-align: right;\n",
       "    }\n",
       "</style>\n",
       "<table border=\"1\" class=\"dataframe\">\n",
       "  <thead>\n",
       "    <tr style=\"text-align: right;\">\n",
       "      <th></th>\n",
       "      <th>Background</th>\n",
       "      <th>Trap</th>\n",
       "      <th>Cell</th>\n",
       "    </tr>\n",
       "  </thead>\n",
       "  <tbody>\n",
       "    <tr>\n",
       "      <th>count</th>\n",
       "      <td>52.0000</td>\n",
       "      <td>52.0000</td>\n",
       "      <td>52.0000</td>\n",
       "    </tr>\n",
       "    <tr>\n",
       "      <th>mean</th>\n",
       "      <td>0.9924</td>\n",
       "      <td>0.9682</td>\n",
       "      <td>0.9276</td>\n",
       "    </tr>\n",
       "    <tr>\n",
       "      <th>std</th>\n",
       "      <td>0.0050</td>\n",
       "      <td>0.0279</td>\n",
       "      <td>0.0541</td>\n",
       "    </tr>\n",
       "    <tr>\n",
       "      <th>min</th>\n",
       "      <td>0.9784</td>\n",
       "      <td>0.8895</td>\n",
       "      <td>0.7406</td>\n",
       "    </tr>\n",
       "    <tr>\n",
       "      <th>25%</th>\n",
       "      <td>0.9900</td>\n",
       "      <td>0.9503</td>\n",
       "      <td>0.9129</td>\n",
       "    </tr>\n",
       "    <tr>\n",
       "      <th>50%</th>\n",
       "      <td>0.9928</td>\n",
       "      <td>0.9789</td>\n",
       "      <td>0.9464</td>\n",
       "    </tr>\n",
       "    <tr>\n",
       "      <th>75%</th>\n",
       "      <td>0.9958</td>\n",
       "      <td>0.9914</td>\n",
       "      <td>0.9639</td>\n",
       "    </tr>\n",
       "    <tr>\n",
       "      <th>max</th>\n",
       "      <td>0.9997</td>\n",
       "      <td>0.9995</td>\n",
       "      <td>0.9888</td>\n",
       "    </tr>\n",
       "  </tbody>\n",
       "</table>\n",
       "</div>"
      ],
      "text/plain": [
       "       Background     Trap     Cell\n",
       "count     52.0000  52.0000  52.0000\n",
       "mean       0.9924   0.9682   0.9276\n",
       "std        0.0050   0.0279   0.0541\n",
       "min        0.9784   0.8895   0.7406\n",
       "25%        0.9900   0.9503   0.9129\n",
       "50%        0.9928   0.9789   0.9464\n",
       "75%        0.9958   0.9914   0.9639\n",
       "max        0.9997   0.9995   0.9888"
      ]
     },
     "execution_count": 62,
     "metadata": {},
     "output_type": "execute_result"
    }
   ],
   "source": [
    "recall_result.describe().round(4)"
   ]
  },
  {
   "cell_type": "code",
   "execution_count": 63,
   "metadata": {},
   "outputs": [
    {
     "data": {
      "image/png": "[encoded data removed]",
      "text/plain": [
       "<Figure size 360x720 with 1 Axes>"
      ]
     },
     "metadata": {},
     "output_type": "display_data"
    }
   ],
   "source": [
    "sns.set(rc={'figure.figsize':(5, 10)})\n",
    "sns.boxplot(x=\"variable\", y=\"value\", data=pd.melt(recall_result), width = 0.5)\n",
    "\n",
    "#plt.show()\n",
    "plt.savefig('recall.png')"
   ]
  },
  {
   "cell_type": "code",
   "execution_count": null,
   "metadata": {},
   "outputs": [],
   "source": []
  }
 ],
 "metadata": {
  "kernelspec": {
   "display_name": "Python 3",
   "language": "python",
   "name": "python3"
  },
  "language_info": {
   "codemirror_mode": {
    "name": "ipython",
    "version": 3
   },
   "file_extension": ".py",
   "mimetype": "text/x-python",
   "name": "python",
   "nbconvert_exporter": "python",
   "pygments_lexer": "ipython3",
   "version": "3.7.3"
  }
 },
 "nbformat": 4,
 "nbformat_minor": 2
}
