{
 "cells": [
  {
   "cell_type": "code",
   "execution_count": 1,
   "metadata": {},
   "outputs": [
    {
     "name": "stderr",
     "output_type": "stream",
     "text": [
      "Using TensorFlow backend.\n"
     ]
    }
   ],
   "source": [
    "import os\n",
    "import sys\n",
    "import random\n",
    "import warnings\n",
    "\n",
    "import numpy as np\n",
    "import pandas as pd\n",
    "\n",
    "import matplotlib.pyplot as plt\n",
    "\n",
    "from tqdm import tqdm\n",
    "from skimage.io import imread, imshow, imread_collection, concatenate_images\n",
    "from sklearn.model_selection import train_test_split\n",
    "\n",
    "from keras.models import Model, load_model\n",
    "from keras.layers import Input\n",
    "from keras.layers.core import Dropout, Lambda\n",
    "from keras.layers.convolutional import Conv2D, Conv2DTranspose\n",
    "from keras.layers.pooling import MaxPooling2D\n",
    "from keras.layers.merge import concatenate\n",
    "from keras.callbacks import EarlyStopping, ModelCheckpoint\n",
    "from keras import backend as K\n",
    "\n",
    "from keras.layers import Cropping2D, UpSampling2D\n",
    "from keras.utils import to_categorical\n",
    "#from keras.utils import np_utils\n",
    "\n",
    "# Required for loss function\n",
    "import math\n",
    "#from tensorflow.python.keras import losses\n",
    "\n",
    "#from tensorflow.contrib.keras.layers import Cropping2D\n",
    "\n",
    "import tensorflow as tf\n",
    "\n",
    "from unet_utilz import *\n",
    "from data_augmentation import *"
   ]
  },
  {
   "cell_type": "code",
   "execution_count": 2,
   "metadata": {},
   "outputs": [],
   "source": [
    "# Set some parameters\n",
    "IMG_WIDTH = 128\n",
    "IMG_HEIGHT = 128\n",
    "# Original size = 572*572\n",
    "LABEL_CLASS = 3\n",
    "\n",
    "warnings.filterwarnings('ignore', category=UserWarning, module='skimage')\n",
    "seed = 42\n",
    "random.seed = seed\n",
    "np.random.seed = seed"
   ]
  },
  {
   "cell_type": "code",
   "execution_count": 3,
   "metadata": {},
   "outputs": [],
   "source": [
    "# Import the data\n",
    "\n",
    "# Path for Linux\n",
    "#TRAIN_PATH = '/home/ziheng/UNet/dataset_lab/train/'\n",
    "#TEST_PATH = '/home/ziheng/UNet/dataset_lab/test/'\n",
    "\n",
    "# Path for Windows\n",
    "TRAIN_PATH = 'F:\\\\MA\\\\data\\\\NIH\\\\Ls\\\\20180717_161620(new_Ls)\\\\train\\\\'\n",
    "TEST_PATH = 'F:\\\\MA\\\\data\\\\NIH\\\\Ls\\\\20180717_161620(new_Ls)\\\\test\\\\'\n",
    "\n",
    "\n",
    "# Get train and test IDs\n",
    "X_train_ids = next(os.walk(TRAIN_PATH + 'in/'))[2]\n",
    "Y_train_ids = next(os.walk(TRAIN_PATH + 'out-cell/'))[2]\n",
    "\n",
    "X_test_ids = next(os.walk(TEST_PATH + 'in/'))[2]\n",
    "Y_test_ids = next(os.walk(TEST_PATH + 'out/'))[2]"
   ]
  },
  {
   "cell_type": "code",
   "execution_count": 4,
   "metadata": {},
   "outputs": [
    {
     "name": "stdout",
     "output_type": "stream",
     "text": [
      "Getting and resizing train images ... \n"
     ]
    },
    {
     "name": "stderr",
     "output_type": "stream",
     "text": [
      "100%|██████████████████████████████████████████████████████████████████████████████████| 54/54 [00:01<00:00, 42.23it/s]\n"
     ]
    },
    {
     "name": "stdout",
     "output_type": "stream",
     "text": [
      "Getting and resizing train masks ... \n"
     ]
    },
    {
     "name": "stderr",
     "output_type": "stream",
     "text": [
      "100%|██████████████████████████████████████████████████████████████████████████████████| 54/54 [00:01<00:00, 43.03it/s]\n"
     ]
    },
    {
     "name": "stdout",
     "output_type": "stream",
     "text": [
      "Getting and resizing test images ... \n"
     ]
    },
    {
     "name": "stderr",
     "output_type": "stream",
     "text": [
      "100%|██████████████████████████████████████████████████████████████████████████████████| 49/49 [00:01<00:00, 42.01it/s]\n"
     ]
    },
    {
     "name": "stdout",
     "output_type": "stream",
     "text": [
      "Getting and resizing test masks ... \n"
     ]
    },
    {
     "name": "stderr",
     "output_type": "stream",
     "text": [
      "100%|██████████████████████████████████████████████████████████████████████████████████| 49/49 [00:01<00:00, 43.42it/s]\n"
     ]
    },
    {
     "name": "stdout",
     "output_type": "stream",
     "text": [
      "Done!\n"
     ]
    }
   ],
   "source": [
    "# Get and resize train images and masks\n",
    "\n",
    "# X: original images, Y: masks\n",
    "X_train = np.zeros((len(X_train_ids), IMG_HEIGHT, IMG_WIDTH, 1), dtype=np.float32)\n",
    "Y_train = np.zeros((len(Y_train_ids), IMG_HEIGHT, IMG_WIDTH, LABEL_CLASS), dtype=np.bool)\n",
    "\n",
    "X_test = np.zeros((len(X_test_ids), IMG_HEIGHT, IMG_WIDTH, 1), dtype=np.float32)\n",
    "Y_test = np.zeros((len(Y_test_ids), IMG_HEIGHT, IMG_WIDTH, LABEL_CLASS), dtype=np.bool)\n",
    "\n",
    "print('Getting and resizing train images ... ')\n",
    "sys.stdout.flush()\n",
    "\n",
    "for n, id_ in tqdm(enumerate(X_train_ids), total=len(X_train_ids)):\n",
    "    \n",
    "    img = imread(TRAIN_PATH + 'in/' + id_)\n",
    "    X_train[n] = pre_process(img, IMG_HEIGHT, IMG_WIDTH, norm = False, rescale = True)\n",
    "    \n",
    "    \n",
    "print('Getting and resizing train masks ... ')\n",
    "\n",
    "for n, id_ in tqdm(enumerate(Y_train_ids), total=len(Y_train_ids)):\n",
    "    \n",
    "    mask = imread(TRAIN_PATH + 'out-cell/' + id_)\n",
    "    mask = to_categorical(mask, LABEL_CLASS) # Generate binary masks (one hot encoding)\n",
    "    mask = pre_process(mask, IMG_HEIGHT, IMG_WIDTH, mask = True)\n",
    "    Y_train[n] = mask\n",
    "    \n",
    "    \n",
    "# Get and resize test images\n",
    "#sizes_test = []\n",
    "print('Getting and resizing test images ... ')\n",
    "sys.stdout.flush()\n",
    "\n",
    "for n, id_ in tqdm(enumerate(X_test_ids), total=len(X_test_ids)):\n",
    "\n",
    "    img = imread(TEST_PATH + 'in/' + id_)\n",
    "    X_test[n] = pre_process(img, IMG_HEIGHT, IMG_WIDTH, norm = False, rescale = True)\n",
    "    \n",
    "print('Getting and resizing test masks ... ')\n",
    "\n",
    "for n, id_ in tqdm(enumerate(Y_test_ids), total=len(Y_test_ids)):\n",
    "    \n",
    "    mask = imread(TEST_PATH + 'out-cell/' + id_)\n",
    "    mask = to_categorical(mask, LABEL_CLASS) # Generate binary masks (one hot encoding)\n",
    "    # Resizing need to be done AFTER one-hot encoding!!!!!!!\n",
    "    mask = pre_process(mask, IMG_HEIGHT, IMG_WIDTH, mask = True)\n",
    "    Y_test[n] = mask\n",
    "        \n",
    "print('Done!')"
   ]
  },
  {
   "cell_type": "code",
   "execution_count": 5,
   "metadata": {},
   "outputs": [],
   "source": [
    "# Data augmentation: training data will be doubled\n",
    "X_train_aug, Y_train_aug = augmentation(X_train, Y_train) #default flip is horizontal, vertical only for Swain lab\n",
    "Y_train_aug = Y_train_aug.astype(bool)"
   ]
  },
  {
   "cell_type": "code",
   "execution_count": 6,
   "metadata": {},
   "outputs": [
    {
     "name": "stdout",
     "output_type": "stream",
     "text": [
      "(108, 128, 128, 1)\n",
      "(108, 128, 128, 3)\n"
     ]
    }
   ],
   "source": [
    "print(X_train_aug.shape)\n",
    "print(Y_train_aug.shape)"
   ]
  },
  {
   "cell_type": "code",
   "execution_count": 7,
   "metadata": {
    "scrolled": false
   },
   "outputs": [
    {
     "name": "stdout",
     "output_type": "stream",
     "text": [
      "106\n"
     ]
    },
    {
     "data": {
      "image/png": "[encoded data removed]",
      "text/plain": [
       "<Figure size 432x288 with 1 Axes>"
      ]
     },
     "metadata": {
      "needs_background": "light"
     },
     "output_type": "display_data"
    },
    {
     "data": {
      "image/png": "[encoded data removed]",
      "text/plain": [
       "<Figure size 432x288 with 1 Axes>"
      ]
     },
     "metadata": {
      "needs_background": "light"
     },
     "output_type": "display_data"
    }
   ],
   "source": [
    "# Check if training data looks all right\n",
    "ix = random.randint(0, len(X_train_aug)-1)\n",
    "print(ix)\n",
    "mask_category = 2 # Choose the mask nummer 0,1,2\n",
    "imshow(np.reshape(X_train_aug[ix], (IMG_WIDTH, IMG_HEIGHT)))\n",
    "plt.show()\n",
    "imshow(Y_train_aug[ix,:,:,mask_category])\n",
    "plt.show()"
   ]
  },
  {
   "cell_type": "code",
   "execution_count": 8,
   "metadata": {},
   "outputs": [
    {
     "name": "stdout",
     "output_type": "stream",
     "text": [
      "13\n"
     ]
    },
    {
     "data": {
      "image/png": "[encoded data removed]",
      "text/plain": [
       "<Figure size 432x288 with 1 Axes>"
      ]
     },
     "metadata": {
      "needs_background": "light"
     },
     "output_type": "display_data"
    },
    {
     "data": {
      "image/png": "[encoded data removed]",
      "text/plain": [
       "<Figure size 432x288 with 1 Axes>"
      ]
     },
     "metadata": {
      "needs_background": "light"
     },
     "output_type": "display_data"
    }
   ],
   "source": [
    "# Check if test data looks all right\n",
    "ix = random.randint(0, len(X_test_ids)-1)\n",
    "print(ix)\n",
    "mask_category = 2 # Choose the mask nummer 0,1,2\n",
    "imshow(np.reshape(X_test[ix], (IMG_WIDTH, IMG_HEIGHT)))\n",
    "plt.show()\n",
    "imshow(Y_test[ix,:,:,mask_category]) \n",
    "plt.show()"
   ]
  },
  {
   "cell_type": "code",
   "execution_count": 9,
   "metadata": {},
   "outputs": [],
   "source": [
    "# Random validation split 20%\n",
    "X_train, X_val, Y_train, Y_val = train_test_split(X_train_aug, Y_train_aug, test_size=0.2, random_state=42)"
   ]
  },
  {
   "cell_type": "code",
   "execution_count": 10,
   "metadata": {},
   "outputs": [
    {
     "data": {
      "text/plain": [
       "(86, 128, 128, 1)"
      ]
     },
     "execution_count": 10,
     "metadata": {},
     "output_type": "execute_result"
    }
   ],
   "source": [
    "X_train.shape"
   ]
  },
  {
   "cell_type": "code",
   "execution_count": 11,
   "metadata": {},
   "outputs": [
    {
     "data": {
      "text/plain": [
       "(22, 128, 128, 1)"
      ]
     },
     "execution_count": 11,
     "metadata": {},
     "output_type": "execute_result"
    }
   ],
   "source": [
    "X_val.shape"
   ]
  },
  {
   "cell_type": "code",
   "execution_count": 12,
   "metadata": {
    "scrolled": true
   },
   "outputs": [
    {
     "name": "stdout",
     "output_type": "stream",
     "text": [
      "WARNING:tensorflow:From C:\\Anaconda\\envs\\deep-learning\\lib\\site-packages\\tensorflow\\python\\framework\\op_def_library.py:263: colocate_with (from tensorflow.python.framework.ops) is deprecated and will be removed in a future version.\n",
      "Instructions for updating:\n",
      "Colocations handled automatically by placer.\n",
      "WARNING:tensorflow:From C:\\Anaconda\\envs\\deep-learning\\lib\\site-packages\\keras\\backend\\tensorflow_backend.py:3445: calling dropout (from tensorflow.python.ops.nn_ops) with keep_prob is deprecated and will be removed in a future version.\n",
      "Instructions for updating:\n",
      "Please use `rate` instead of `keep_prob`. Rate should be set to `rate = 1 - keep_prob`.\n",
      "__________________________________________________________________________________________________\n",
      "Layer (type)                    Output Shape         Param #     Connected to                     \n",
      "==================================================================================================\n",
      "input_1 (InputLayer)            (None, 128, 128, 1)  0                                            \n",
      "__________________________________________________________________________________________________\n",
      "conv2d_1 (Conv2D)               (None, 128, 128, 16) 160         input_1[0][0]                    \n",
      "__________________________________________________________________________________________________\n",
      "dropout_1 (Dropout)             (None, 128, 128, 16) 0           conv2d_1[0][0]                   \n",
      "__________________________________________________________________________________________________\n",
      "conv2d_2 (Conv2D)               (None, 128, 128, 16) 2320        dropout_1[0][0]                  \n",
      "__________________________________________________________________________________________________\n",
      "max_pooling2d_1 (MaxPooling2D)  (None, 64, 64, 16)   0           conv2d_2[0][0]                   \n",
      "__________________________________________________________________________________________________\n",
      "conv2d_3 (Conv2D)               (None, 64, 64, 32)   4640        max_pooling2d_1[0][0]            \n",
      "__________________________________________________________________________________________________\n",
      "dropout_2 (Dropout)             (None, 64, 64, 32)   0           conv2d_3[0][0]                   \n",
      "__________________________________________________________________________________________________\n",
      "conv2d_4 (Conv2D)               (None, 64, 64, 32)   9248        dropout_2[0][0]                  \n",
      "__________________________________________________________________________________________________\n",
      "max_pooling2d_2 (MaxPooling2D)  (None, 32, 32, 32)   0           conv2d_4[0][0]                   \n",
      "__________________________________________________________________________________________________\n",
      "conv2d_5 (Conv2D)               (None, 32, 32, 64)   18496       max_pooling2d_2[0][0]            \n",
      "__________________________________________________________________________________________________\n",
      "dropout_3 (Dropout)             (None, 32, 32, 64)   0           conv2d_5[0][0]                   \n",
      "__________________________________________________________________________________________________\n",
      "conv2d_6 (Conv2D)               (None, 32, 32, 64)   36928       dropout_3[0][0]                  \n",
      "__________________________________________________________________________________________________\n",
      "max_pooling2d_3 (MaxPooling2D)  (None, 16, 16, 64)   0           conv2d_6[0][0]                   \n",
      "__________________________________________________________________________________________________\n",
      "conv2d_7 (Conv2D)               (None, 16, 16, 128)  73856       max_pooling2d_3[0][0]            \n",
      "__________________________________________________________________________________________________\n",
      "dropout_4 (Dropout)             (None, 16, 16, 128)  0           conv2d_7[0][0]                   \n",
      "__________________________________________________________________________________________________\n",
      "conv2d_8 (Conv2D)               (None, 16, 16, 128)  147584      dropout_4[0][0]                  \n",
      "__________________________________________________________________________________________________\n",
      "max_pooling2d_4 (MaxPooling2D)  (None, 8, 8, 128)    0           conv2d_8[0][0]                   \n",
      "__________________________________________________________________________________________________\n",
      "conv2d_9 (Conv2D)               (None, 8, 8, 256)    295168      max_pooling2d_4[0][0]            \n",
      "__________________________________________________________________________________________________\n",
      "dropout_5 (Dropout)             (None, 8, 8, 256)    0           conv2d_9[0][0]                   \n",
      "__________________________________________________________________________________________________\n",
      "conv2d_10 (Conv2D)              (None, 8, 8, 256)    590080      dropout_5[0][0]                  \n",
      "__________________________________________________________________________________________________\n",
      "up_sampling2d_1 (UpSampling2D)  (None, 16, 16, 256)  0           conv2d_10[0][0]                  \n",
      "__________________________________________________________________________________________________\n",
      "cropping2d_1 (Cropping2D)       (None, 16, 16, 128)  0           conv2d_8[0][0]                   \n",
      "__________________________________________________________________________________________________\n",
      "concatenate_1 (Concatenate)     (None, 16, 16, 384)  0           up_sampling2d_1[0][0]            \n",
      "                                                                 cropping2d_1[0][0]               \n",
      "__________________________________________________________________________________________________\n",
      "conv2d_11 (Conv2D)              (None, 16, 16, 128)  442496      concatenate_1[0][0]              \n",
      "__________________________________________________________________________________________________\n",
      "dropout_6 (Dropout)             (None, 16, 16, 128)  0           conv2d_11[0][0]                  \n",
      "__________________________________________________________________________________________________\n",
      "conv2d_12 (Conv2D)              (None, 16, 16, 128)  147584      dropout_6[0][0]                  \n",
      "__________________________________________________________________________________________________\n",
      "up_sampling2d_2 (UpSampling2D)  (None, 32, 32, 128)  0           conv2d_12[0][0]                  \n",
      "__________________________________________________________________________________________________\n",
      "cropping2d_2 (Cropping2D)       (None, 32, 32, 64)   0           conv2d_6[0][0]                   \n",
      "__________________________________________________________________________________________________\n",
      "concatenate_2 (Concatenate)     (None, 32, 32, 192)  0           up_sampling2d_2[0][0]            \n",
      "                                                                 cropping2d_2[0][0]               \n",
      "__________________________________________________________________________________________________\n",
      "conv2d_13 (Conv2D)              (None, 32, 32, 64)   110656      concatenate_2[0][0]              \n",
      "__________________________________________________________________________________________________\n",
      "dropout_7 (Dropout)             (None, 32, 32, 64)   0           conv2d_13[0][0]                  \n",
      "__________________________________________________________________________________________________\n",
      "conv2d_14 (Conv2D)              (None, 32, 32, 64)   36928       dropout_7[0][0]                  \n",
      "__________________________________________________________________________________________________\n",
      "up_sampling2d_3 (UpSampling2D)  (None, 64, 64, 64)   0           conv2d_14[0][0]                  \n",
      "__________________________________________________________________________________________________\n",
      "cropping2d_3 (Cropping2D)       (None, 64, 64, 32)   0           conv2d_4[0][0]                   \n",
      "__________________________________________________________________________________________________\n",
      "concatenate_3 (Concatenate)     (None, 64, 64, 96)   0           up_sampling2d_3[0][0]            \n",
      "                                                                 cropping2d_3[0][0]               \n",
      "__________________________________________________________________________________________________\n"
     ]
    },
    {
     "name": "stdout",
     "output_type": "stream",
     "text": [
      "conv2d_15 (Conv2D)              (None, 64, 64, 32)   27680       concatenate_3[0][0]              \n",
      "__________________________________________________________________________________________________\n",
      "dropout_8 (Dropout)             (None, 64, 64, 32)   0           conv2d_15[0][0]                  \n",
      "__________________________________________________________________________________________________\n",
      "conv2d_16 (Conv2D)              (None, 64, 64, 32)   9248        dropout_8[0][0]                  \n",
      "__________________________________________________________________________________________________\n",
      "up_sampling2d_4 (UpSampling2D)  (None, 128, 128, 32) 0           conv2d_16[0][0]                  \n",
      "__________________________________________________________________________________________________\n",
      "cropping2d_4 (Cropping2D)       (None, 128, 128, 16) 0           conv2d_2[0][0]                   \n",
      "__________________________________________________________________________________________________\n",
      "concatenate_4 (Concatenate)     (None, 128, 128, 48) 0           up_sampling2d_4[0][0]            \n",
      "                                                                 cropping2d_4[0][0]               \n",
      "__________________________________________________________________________________________________\n",
      "conv2d_17 (Conv2D)              (None, 128, 128, 16) 6928        concatenate_4[0][0]              \n",
      "__________________________________________________________________________________________________\n",
      "dropout_9 (Dropout)             (None, 128, 128, 16) 0           conv2d_17[0][0]                  \n",
      "__________________________________________________________________________________________________\n",
      "conv2d_18 (Conv2D)              (None, 128, 128, 16) 2320        dropout_9[0][0]                  \n",
      "__________________________________________________________________________________________________\n",
      "conv2d_19 (Conv2D)              (None, 128, 128, 3)  51          conv2d_18[0][0]                  \n",
      "==================================================================================================\n",
      "Total params: 1,962,371\n",
      "Trainable params: 1,962,371\n",
      "Non-trainable params: 0\n",
      "__________________________________________________________________________________________________\n"
     ]
    }
   ],
   "source": [
    "# Build U-Net model\n",
    "\n",
    "inputs = Input((IMG_HEIGHT, IMG_WIDTH, 1))\n",
    "\n",
    "# Preprocess is conducted directly in dataset\n",
    "#s = Lambda(lambda x: x / 255) (inputs)\n",
    "s = inputs\n",
    "\n",
    "c1 = Conv2D(16, (3, 3), activation='elu', kernel_initializer='he_normal', padding='same') (s)\n",
    "c1 = Dropout(0.1) (c1)\n",
    "c1 = Conv2D(16, (3, 3), activation='elu', kernel_initializer='he_normal', padding='same') (c1)\n",
    "p1 = MaxPooling2D((2, 2)) (c1)\n",
    "\n",
    "c2 = Conv2D(32, (3, 3), activation='elu', kernel_initializer='he_normal', padding='same') (p1)\n",
    "c2 = Dropout(0.1) (c2)\n",
    "c2 = Conv2D(32, (3, 3), activation='elu', kernel_initializer='he_normal', padding='same') (c2)\n",
    "p2 = MaxPooling2D((2, 2)) (c2)\n",
    "\n",
    "c3 = Conv2D(64, (3, 3), activation='elu', kernel_initializer='he_normal', padding='same') (p2)\n",
    "c3 = Dropout(0.2) (c3)\n",
    "c3 = Conv2D(64, (3, 3), activation='elu', kernel_initializer='he_normal', padding='same') (c3)\n",
    "p3 = MaxPooling2D((2, 2)) (c3)\n",
    "\n",
    "c4 = Conv2D(128, (3, 3), activation='elu', kernel_initializer='he_normal', padding='same') (p3)\n",
    "c4 = Dropout(0.2) (c4)\n",
    "c4 = Conv2D(128, (3, 3), activation='elu', kernel_initializer='he_normal', padding='same') (c4)\n",
    "p4 = MaxPooling2D(pool_size=(2, 2)) (c4)\n",
    "\n",
    "c5 = Conv2D(256, (3, 3), activation='elu', kernel_initializer='he_normal', padding='same') (p4)\n",
    "c5 = Dropout(0.3) (c5)\n",
    "c5 = Conv2D(256, (3, 3), activation='elu', kernel_initializer='he_normal', padding='same') (c5)\n",
    "\n",
    "###################\n",
    "\n",
    "#u6 = Conv2DTranspose(512, (2, 2), strides=(2, 2), padding='same') (c5)\n",
    "u6 = UpSampling2D(size=(2, 2))(c5)\n",
    "\n",
    "ch, cw = get_crop_shape(c4, u6)\n",
    "crop_c4 = Cropping2D(cropping=(ch,cw))(c4)\n",
    "\n",
    "u6 = concatenate([u6, crop_c4]) # Need to crop c4 from 64 to 56\n",
    "c6 = Conv2D(128, (3, 3), activation='elu', kernel_initializer='he_normal', padding='same') (u6)\n",
    "c6 = Dropout(0.2) (c6)\n",
    "c6 = Conv2D(128, (3, 3), activation='elu', kernel_initializer='he_normal', padding='same') (c6)\n",
    "\n",
    "\n",
    "#u7 = Conv2DTranspose(256, (2, 2), strides=(2, 2), padding='same') (c6)\n",
    "u7 = UpSampling2D(size=(2, 2))(c6)\n",
    "\n",
    "ch, cw = get_crop_shape(c3, u7)\n",
    "crop_c3 = Cropping2D(cropping=(ch,cw))(c3)\n",
    "\n",
    "u7 = concatenate([u7, crop_c3])\n",
    "c7 = Conv2D(64, (3, 3), activation='elu', kernel_initializer='he_normal', padding='same') (u7)\n",
    "c7 = Dropout(0.2) (c7)\n",
    "c7 = Conv2D(64, (3, 3), activation='elu', kernel_initializer='he_normal', padding='same') (c7)\n",
    "\n",
    "\n",
    "#u8 = Conv2DTranspose(128, (2, 2), strides=(2, 2), padding='same') (c7)\n",
    "u8 = UpSampling2D(size=(2, 2))(c7)\n",
    "\n",
    "ch, cw = get_crop_shape(c2, u8)\n",
    "crop_c2 = Cropping2D(cropping=(ch,cw))(c2)\n",
    "\n",
    "u8 = concatenate([u8, crop_c2])\n",
    "c8 = Conv2D(32, (3, 3), activation='elu', kernel_initializer='he_normal', padding='same') (u8)\n",
    "c8 = Dropout(0.1) (c8)\n",
    "c8 = Conv2D(32, (3, 3), activation='elu', kernel_initializer='he_normal', padding='same') (c8)\n",
    "\n",
    "\n",
    "#u9 = Conv2DTranspose(64, (2, 2), strides=(2, 2), padding='same') (c8)\n",
    "u9 = UpSampling2D(size=(2, 2))(c8)\n",
    "\n",
    "ch, cw = get_crop_shape(c1, u9)\n",
    "crop_c1 = Cropping2D(cropping=(ch,cw))(c1)\n",
    "\n",
    "u9 = concatenate([u9, crop_c1], axis=3)\n",
    "c9 = Conv2D(16, (3, 3), activation='elu', kernel_initializer='he_normal', padding='same') (u9)\n",
    "c9 = Dropout(0.1) (c9)\n",
    "c9 = Conv2D(16, (3, 3), activation='elu', kernel_initializer='he_normal', padding='same') (c9)\n",
    "\n",
    "outputs = Conv2D(filters=LABEL_CLASS, kernel_size=(1, 1), activation='softmax') (c9)\n",
    "\n",
    "model = Model(inputs=[inputs], outputs=[outputs])\n",
    "#model.compile(optimizer='adam', loss ='binary_crossentropy', metrics = [dice_loss, 'accuracy', IoU])\n",
    "model.compile(optimizer='adam', loss = bce_dice_loss, metrics = [dice_loss, 'accuracy'])\n",
    "#model.compile(optimizer='adam', loss = IoU_loss, metrics = [IoU, dice_loss, 'accuracy'])\n",
    "model.summary()"
   ]
  },
  {
   "cell_type": "code",
   "execution_count": 13,
   "metadata": {},
   "outputs": [
    {
     "name": "stdout",
     "output_type": "stream",
     "text": [
      "WARNING:tensorflow:From C:\\Anaconda\\envs\\deep-learning\\lib\\site-packages\\tensorflow\\python\\ops\\math_ops.py:3066: to_int32 (from tensorflow.python.ops.math_ops) is deprecated and will be removed in a future version.\n",
      "Instructions for updating:\n",
      "Use tf.cast instead.\n",
      "WARNING:tensorflow:From C:\\Anaconda\\envs\\deep-learning\\lib\\site-packages\\tensorflow\\python\\ops\\math_grad.py:102: div (from tensorflow.python.ops.math_ops) is deprecated and will be removed in a future version.\n",
      "Instructions for updating:\n",
      "Deprecated in favor of operator or tf.math.divide.\n",
      "Train on 86 samples, validate on 22 samples\n",
      "Epoch 1/100\n",
      "86/86 [==============================] - ETA: 42s - loss: 3.1272 - dice_loss: 0.7371 - acc: 0.18 - ETA: 23s - loss: 2.7822 - dice_loss: 0.6853 - acc: 0.27 - ETA: 16s - loss: 2.5048 - dice_loss: 0.6456 - acc: 0.34 - ETA: 12s - loss: 2.5305 - dice_loss: 0.6239 - acc: 0.37 - ETA: 10s - loss: 2.3105 - dice_loss: 0.5879 - acc: 0.44 - ETA: 7s - loss: 2.1532 - dice_loss: 0.5485 - acc: 0.5039 - ETA: 5s - loss: 2.0291 - dice_loss: 0.5258 - acc: 0.545 - ETA: 4s - loss: 1.9196 - dice_loss: 0.4969 - acc: 0.583 - ETA: 2s - loss: 1.8384 - dice_loss: 0.4785 - acc: 0.611 - ETA: 1s - loss: 1.7652 - dice_loss: 0.4636 - acc: 0.634 - 17s 193ms/step - loss: 1.7116 - dice_loss: 0.4510 - acc: 0.6504 - val_loss: 1.2051 - val_dice_loss: 0.3300 - val_acc: 0.8375\n",
      "\n",
      "Epoch 00001: val_loss improved from inf to 1.20505, saving model to model-L-unet-aug.h5\n",
      "Epoch 2/100\n",
      "86/86 [==============================] - ETA: 10s - loss: 1.0866 - dice_loss: 0.2842 - acc: 0.84 - ETA: 9s - loss: 1.0947 - dice_loss: 0.2893 - acc: 0.8443 - ETA: 8s - loss: 1.0637 - dice_loss: 0.2874 - acc: 0.844 - ETA: 7s - loss: 1.0294 - dice_loss: 0.2847 - acc: 0.845 - ETA: 6s - loss: 1.0189 - dice_loss: 0.2788 - acc: 0.846 - ETA: 5s - loss: 1.0701 - dice_loss: 0.2977 - acc: 0.833 - ETA: 4s - loss: 1.0864 - dice_loss: 0.2989 - acc: 0.833 - ETA: 3s - loss: 1.0822 - dice_loss: 0.3000 - acc: 0.835 - ETA: 2s - loss: 1.0758 - dice_loss: 0.2982 - acc: 0.835 - ETA: 0s - loss: 1.0914 - dice_loss: 0.2989 - acc: 0.833 - 14s 165ms/step - loss: 1.1025 - dice_loss: 0.3020 - acc: 0.8304 - val_loss: 1.0095 - val_dice_loss: 0.3009 - val_acc: 0.8281\n",
      "\n",
      "Epoch 00002: val_loss improved from 1.20505 to 1.00953, saving model to model-L-unet-aug.h5\n",
      "Epoch 3/100\n",
      "86/86 [==============================] - ETA: 10s - loss: 0.8899 - dice_loss: 0.2810 - acc: 0.84 - ETA: 9s - loss: 1.1937 - dice_loss: 0.2588 - acc: 0.8384 - ETA: 8s - loss: 1.1558 - dice_loss: 0.2702 - acc: 0.835 - ETA: 7s - loss: 1.1311 - dice_loss: 0.2900 - acc: 0.834 - ETA: 6s - loss: 1.1119 - dice_loss: 0.2977 - acc: 0.833 - ETA: 5s - loss: 1.0874 - dice_loss: 0.2953 - acc: 0.838 - ETA: 4s - loss: 1.0747 - dice_loss: 0.2878 - acc: 0.840 - ETA: 3s - loss: 1.0766 - dice_loss: 0.2884 - acc: 0.838 - ETA: 1s - loss: 1.0618 - dice_loss: 0.2890 - acc: 0.836 - ETA: 0s - loss: 1.0529 - dice_loss: 0.2869 - acc: 0.836 - 13s 152ms/step - loss: 1.0581 - dice_loss: 0.2851 - acc: 0.8356 - val_loss: 0.9388 - val_dice_loss: 0.2734 - val_acc: 0.8376\n",
      "\n",
      "Epoch 00003: val_loss improved from 1.00953 to 0.93883, saving model to model-L-unet-aug.h5\n",
      "Epoch 4/100\n",
      "86/86 [==============================] - ETA: 11s - loss: 0.9731 - dice_loss: 0.3064 - acc: 0.80 - ETA: 9s - loss: 1.0043 - dice_loss: 0.3063 - acc: 0.8087 - ETA: 8s - loss: 0.9577 - dice_loss: 0.2911 - acc: 0.824 - ETA: 7s - loss: 0.9879 - dice_loss: 0.2871 - acc: 0.827 - ETA: 6s - loss: 0.9855 - dice_loss: 0.2829 - acc: 0.830 - ETA: 5s - loss: 0.9997 - dice_loss: 0.2826 - acc: 0.830 - ETA: 4s - loss: 0.9781 - dice_loss: 0.2802 - acc: 0.833 - ETA: 3s - loss: 0.9742 - dice_loss: 0.2808 - acc: 0.834 - ETA: 1s - loss: 0.9719 - dice_loss: 0.2818 - acc: 0.834 - ETA: 0s - loss: 0.9667 - dice_loss: 0.2810 - acc: 0.835 - 13s 151ms/step - loss: 0.9648 - dice_loss: 0.2794 - acc: 0.8366 - val_loss: 1.6517 - val_dice_loss: 0.2333 - val_acc: 0.8376\n",
      "\n",
      "Epoch 00004: val_loss did not improve from 0.93883\n",
      "Epoch 5/100\n",
      "86/86 [==============================] - ETA: 11s - loss: 0.8586 - dice_loss: 0.2360 - acc: 0.85 - ETA: 9s - loss: 0.8239 - dice_loss: 0.2345 - acc: 0.8593 - ETA: 8s - loss: 0.8463 - dice_loss: 0.2387 - acc: 0.851 - ETA: 7s - loss: 0.8972 - dice_loss: 0.2491 - acc: 0.841 - ETA: 6s - loss: 0.9148 - dice_loss: 0.2576 - acc: 0.836 - ETA: 5s - loss: 0.9031 - dice_loss: 0.2584 - acc: 0.837 - ETA: 4s - loss: 0.9012 - dice_loss: 0.2558 - acc: 0.838 - ETA: 3s - loss: 0.9163 - dice_loss: 0.2584 - acc: 0.835 - ETA: 1s - loss: 0.9120 - dice_loss: 0.2601 - acc: 0.836 - ETA: 0s - loss: 0.9258 - dice_loss: 0.2635 - acc: 0.833 - 13s 155ms/step - loss: 0.9229 - dice_loss: 0.2637 - acc: 0.8343 - val_loss: 1.4811 - val_dice_loss: 0.2421 - val_acc: 0.8376\n",
      "\n",
      "Epoch 00005: val_loss did not improve from 0.93883\n",
      "Epoch 6/100\n",
      "86/86 [==============================] - ETA: 12s - loss: 0.8061 - dice_loss: 0.2399 - acc: 0.85 - ETA: 11s - loss: 0.7826 - dice_loss: 0.2326 - acc: 0.86 - ETA: 10s - loss: 0.7969 - dice_loss: 0.2370 - acc: 0.86 - ETA: 8s - loss: 0.8055 - dice_loss: 0.2404 - acc: 0.8583 - ETA: 7s - loss: 0.8058 - dice_loss: 0.2436 - acc: 0.855 - ETA: 6s - loss: 0.8031 - dice_loss: 0.2431 - acc: 0.853 - ETA: 4s - loss: 0.8301 - dice_loss: 0.2450 - acc: 0.848 - ETA: 3s - loss: 0.8321 - dice_loss: 0.2452 - acc: 0.847 - ETA: 2s - loss: 0.8474 - dice_loss: 0.2470 - acc: 0.843 - ETA: 0s - loss: 0.8941 - dice_loss: 0.2530 - acc: 0.835 - 15s 169ms/step - loss: 0.8929 - dice_loss: 0.2538 - acc: 0.8350 - val_loss: 1.2462 - val_dice_loss: 0.2410 - val_acc: 0.8376\n",
      "\n",
      "Epoch 00006: val_loss did not improve from 0.93883\n",
      "Epoch 7/100\n",
      "86/86 [==============================] - ETA: 13s - loss: 0.7826 - dice_loss: 0.2584 - acc: 0.84 - ETA: 11s - loss: 0.8390 - dice_loss: 0.2602 - acc: 0.83 - ETA: 10s - loss: 0.8806 - dice_loss: 0.2619 - acc: 0.83 - ETA: 8s - loss: 0.8851 - dice_loss: 0.2625 - acc: 0.8319 - ETA: 7s - loss: 0.8954 - dice_loss: 0.2663 - acc: 0.829 - ETA: 5s - loss: 0.8986 - dice_loss: 0.2680 - acc: 0.829 - ETA: 4s - loss: 0.9026 - dice_loss: 0.2686 - acc: 0.829 - ETA: 3s - loss: 0.8858 - dice_loss: 0.2649 - acc: 0.833 - ETA: 2s - loss: 0.8787 - dice_loss: 0.2617 - acc: 0.835 - ETA: 0s - loss: 0.8637 - dice_loss: 0.2585 - acc: 0.838 - 14s 159ms/step - loss: 0.8702 - dice_loss: 0.2583 - acc: 0.8367 - val_loss: 1.0612 - val_dice_loss: 0.2254 - val_acc: 0.8376\n",
      "\n",
      "Epoch 00007: val_loss did not improve from 0.93883\n",
      "Epoch 8/100\n",
      "86/86 [==============================] - ETA: 10s - loss: 0.7647 - dice_loss: 0.2239 - acc: 0.85 - ETA: 9s - loss: 0.7511 - dice_loss: 0.2207 - acc: 0.8540 - ETA: 8s - loss: 0.7682 - dice_loss: 0.2236 - acc: 0.852 - ETA: 8s - loss: 0.8029 - dice_loss: 0.2288 - acc: 0.848 - ETA: 6s - loss: 0.7934 - dice_loss: 0.2284 - acc: 0.848 - ETA: 5s - loss: 0.8078 - dice_loss: 0.2318 - acc: 0.843 - ETA: 4s - loss: 0.8510 - dice_loss: 0.2391 - acc: 0.836 - ETA: 3s - loss: 0.8347 - dice_loss: 0.2391 - acc: 0.838 - ETA: 2s - loss: 0.8414 - dice_loss: 0.2419 - acc: 0.837 - ETA: 0s - loss: 0.8429 - dice_loss: 0.2438 - acc: 0.836 - 13s 154ms/step - loss: 0.8507 - dice_loss: 0.2458 - acc: 0.8349 - val_loss: 1.2787 - val_dice_loss: 0.2368 - val_acc: 0.8376\n",
      "\n",
      "Epoch 00008: val_loss did not improve from 0.93883\n",
      "Epoch 9/100\n",
      "86/86 [==============================] - ETA: 11s - loss: 0.8015 - dice_loss: 0.2439 - acc: 0.84 - ETA: 9s - loss: 0.7972 - dice_loss: 0.2411 - acc: 0.8475 - ETA: 8s - loss: 0.7894 - dice_loss: 0.2333 - acc: 0.851 - ETA: 7s - loss: 0.7669 - dice_loss: 0.2301 - acc: 0.855 - ETA: 6s - loss: 0.7859 - dice_loss: 0.2336 - acc: 0.851 - ETA: 5s - loss: 0.7779 - dice_loss: 0.2339 - acc: 0.850 - ETA: 4s - loss: 0.8004 - dice_loss: 0.2375 - acc: 0.844 - ETA: 3s - loss: 0.8138 - dice_loss: 0.2402 - acc: 0.842 - ETA: 2s - loss: 0.7977 - dice_loss: 0.2379 - acc: 0.845 - ETA: 0s - loss: 0.8173 - dice_loss: 0.2401 - acc: 0.842 - 14s 159ms/step - loss: 0.8412 - dice_loss: 0.2436 - acc: 0.8383 - val_loss: 1.4109 - val_dice_loss: 0.2316 - val_acc: 0.8376\n",
      "\n",
      "Epoch 00009: val_loss did not improve from 0.93883\n",
      "Epoch 10/100\n"
     ]
    },
    {
     "name": "stdout",
     "output_type": "stream",
     "text": [
      "86/86 [==============================] - ETA: 11s - loss: 0.7605 - dice_loss: 0.2468 - acc: 0.83 - ETA: 10s - loss: 0.8102 - dice_loss: 0.2539 - acc: 0.83 - ETA: 8s - loss: 0.7793 - dice_loss: 0.2444 - acc: 0.8513 - ETA: 7s - loss: 0.7912 - dice_loss: 0.2420 - acc: 0.854 - ETA: 6s - loss: 0.7901 - dice_loss: 0.2388 - acc: 0.855 - ETA: 5s - loss: 0.7953 - dice_loss: 0.2385 - acc: 0.852 - ETA: 4s - loss: 0.8141 - dice_loss: 0.2421 - acc: 0.845 - ETA: 3s - loss: 0.8174 - dice_loss: 0.2415 - acc: 0.842 - ETA: 2s - loss: 0.8073 - dice_loss: 0.2389 - acc: 0.843 - ETA: 0s - loss: 0.8439 - dice_loss: 0.2434 - acc: 0.837 - 14s 158ms/step - loss: 0.8482 - dice_loss: 0.2443 - acc: 0.8360 - val_loss: 1.5189 - val_dice_loss: 0.2410 - val_acc: 0.8376\n",
      "\n",
      "Epoch 00010: val_loss did not improve from 0.93883\n",
      "Epoch 11/100\n",
      "86/86 [==============================] - ETA: 10s - loss: 0.9617 - dice_loss: 0.2768 - acc: 0.81 - ETA: 9s - loss: 0.9201 - dice_loss: 0.2668 - acc: 0.8280 - ETA: 8s - loss: 0.9524 - dice_loss: 0.2707 - acc: 0.819 - ETA: 7s - loss: 0.9345 - dice_loss: 0.2734 - acc: 0.824 - ETA: 6s - loss: 0.9122 - dice_loss: 0.2748 - acc: 0.829 - ETA: 5s - loss: 0.8784 - dice_loss: 0.2704 - acc: 0.837 - ETA: 4s - loss: 0.8904 - dice_loss: 0.2688 - acc: 0.835 - ETA: 3s - loss: 0.8800 - dice_loss: 0.2648 - acc: 0.837 - ETA: 2s - loss: 0.8557 - dice_loss: 0.2588 - acc: 0.840 - ETA: 0s - loss: 0.8424 - dice_loss: 0.2549 - acc: 0.842 - 13s 156ms/step - loss: 0.8419 - dice_loss: 0.2526 - acc: 0.8432 - val_loss: 1.2940 - val_dice_loss: 0.2299 - val_acc: 0.8376\n",
      "\n",
      "Epoch 00011: val_loss did not improve from 0.93883\n",
      "Epoch 12/100\n",
      "86/86 [==============================] - ETA: 12s - loss: 0.5754 - dice_loss: 0.1816 - acc: 0.89 - ETA: 11s - loss: 0.7286 - dice_loss: 0.2048 - acc: 0.86 - ETA: 10s - loss: 0.8111 - dice_loss: 0.2220 - acc: 0.84 - ETA: 8s - loss: 0.8170 - dice_loss: 0.2264 - acc: 0.8441 - ETA: 7s - loss: 0.8237 - dice_loss: 0.2318 - acc: 0.842 - ETA: 5s - loss: 0.8196 - dice_loss: 0.2343 - acc: 0.843 - ETA: 4s - loss: 0.8200 - dice_loss: 0.2349 - acc: 0.842 - ETA: 3s - loss: 0.8045 - dice_loss: 0.2329 - acc: 0.846 - ETA: 2s - loss: 0.7958 - dice_loss: 0.2312 - acc: 0.847 - ETA: 0s - loss: 0.8142 - dice_loss: 0.2338 - acc: 0.844 - 14s 159ms/step - loss: 0.8085 - dice_loss: 0.2330 - acc: 0.8456 - val_loss: 1.4496 - val_dice_loss: 0.2598 - val_acc: 0.8376\n",
      "\n",
      "Epoch 00012: val_loss did not improve from 0.93883\n",
      "Epoch 13/100\n",
      "86/86 [==============================] - ETA: 10s - loss: 0.7565 - dice_loss: 0.2317 - acc: 0.86 - ETA: 9s - loss: 0.7458 - dice_loss: 0.2295 - acc: 0.8580 - ETA: 8s - loss: 0.7563 - dice_loss: 0.2315 - acc: 0.854 - ETA: 7s - loss: 0.7275 - dice_loss: 0.2239 - acc: 0.862 - ETA: 6s - loss: 0.7666 - dice_loss: 0.2285 - acc: 0.852 - ETA: 5s - loss: 0.7438 - dice_loss: 0.2233 - acc: 0.855 - ETA: 4s - loss: 0.7587 - dice_loss: 0.2228 - acc: 0.854 - ETA: 3s - loss: 0.7651 - dice_loss: 0.2238 - acc: 0.851 - ETA: 2s - loss: 0.7897 - dice_loss: 0.2282 - acc: 0.843 - ETA: 0s - loss: 0.7921 - dice_loss: 0.2292 - acc: 0.843 - 13s 156ms/step - loss: 0.7898 - dice_loss: 0.2288 - acc: 0.8445 - val_loss: 1.3566 - val_dice_loss: 0.2404 - val_acc: 0.8381\n",
      "\n",
      "Epoch 00013: val_loss did not improve from 0.93883\n",
      "Epoch 14/100\n",
      "86/86 [==============================] - ETA: 11s - loss: 0.7430 - dice_loss: 0.2168 - acc: 0.87 - ETA: 10s - loss: 0.8607 - dice_loss: 0.2345 - acc: 0.85 - ETA: 9s - loss: 0.7781 - dice_loss: 0.2215 - acc: 0.8680 - ETA: 8s - loss: 0.7486 - dice_loss: 0.2186 - acc: 0.872 - ETA: 6s - loss: 0.7736 - dice_loss: 0.2240 - acc: 0.866 - ETA: 5s - loss: 0.7742 - dice_loss: 0.2241 - acc: 0.864 - ETA: 4s - loss: 0.7747 - dice_loss: 0.2249 - acc: 0.863 - ETA: 3s - loss: 0.7626 - dice_loss: 0.2243 - acc: 0.865 - ETA: 2s - loss: 0.7885 - dice_loss: 0.2268 - acc: 0.859 - ETA: 0s - loss: 0.7901 - dice_loss: 0.2289 - acc: 0.854 - 14s 158ms/step - loss: 0.7911 - dice_loss: 0.2314 - acc: 0.8518 - val_loss: 0.8295 - val_dice_loss: 0.2180 - val_acc: 0.8543\n",
      "\n",
      "Epoch 00014: val_loss improved from 0.93883 to 0.82953, saving model to model-L-unet-aug.h5\n",
      "Epoch 15/100\n",
      "86/86 [==============================] - ETA: 11s - loss: 0.6830 - dice_loss: 0.2150 - acc: 0.86 - ETA: 9s - loss: 0.7846 - dice_loss: 0.2210 - acc: 0.8533 - ETA: 8s - loss: 0.8032 - dice_loss: 0.2215 - acc: 0.845 - ETA: 7s - loss: 0.8283 - dice_loss: 0.2231 - acc: 0.846 - ETA: 6s - loss: 0.8019 - dice_loss: 0.2180 - acc: 0.852 - ETA: 5s - loss: 0.8048 - dice_loss: 0.2193 - acc: 0.852 - ETA: 4s - loss: 0.8236 - dice_loss: 0.2234 - acc: 0.851 - ETA: 3s - loss: 0.8274 - dice_loss: 0.2283 - acc: 0.848 - ETA: 2s - loss: 0.8315 - dice_loss: 0.2313 - acc: 0.848 - ETA: 0s - loss: 0.8205 - dice_loss: 0.2301 - acc: 0.851 - 13s 156ms/step - loss: 0.8187 - dice_loss: 0.2301 - acc: 0.8516 - val_loss: 0.8423 - val_dice_loss: 0.2113 - val_acc: 0.8599\n",
      "\n",
      "Epoch 00015: val_loss did not improve from 0.82953\n",
      "Epoch 16/100\n",
      "86/86 [==============================] - ETA: 13s - loss: 0.7375 - dice_loss: 0.2127 - acc: 0.84 - ETA: 11s - loss: 0.8208 - dice_loss: 0.2269 - acc: 0.83 - ETA: 9s - loss: 0.8248 - dice_loss: 0.2280 - acc: 0.8377 - ETA: 8s - loss: 0.8096 - dice_loss: 0.2271 - acc: 0.841 - ETA: 6s - loss: 0.8006 - dice_loss: 0.2289 - acc: 0.843 - ETA: 5s - loss: 0.7936 - dice_loss: 0.2305 - acc: 0.843 - ETA: 4s - loss: 0.7808 - dice_loss: 0.2304 - acc: 0.844 - ETA: 3s - loss: 0.7939 - dice_loss: 0.2330 - acc: 0.842 - ETA: 2s - loss: 0.7837 - dice_loss: 0.2304 - acc: 0.844 - ETA: 0s - loss: 0.7810 - dice_loss: 0.2284 - acc: 0.846 - 13s 156ms/step - loss: 0.7807 - dice_loss: 0.2279 - acc: 0.8473 - val_loss: 0.7748 - val_dice_loss: 0.2060 - val_acc: 0.8704\n",
      "\n",
      "Epoch 00016: val_loss improved from 0.82953 to 0.77484, saving model to model-L-unet-aug.h5\n",
      "Epoch 17/100\n",
      "86/86 [==============================] - ETA: 12s - loss: 1.0285 - dice_loss: 0.2585 - acc: 0.80 - ETA: 10s - loss: 0.8543 - dice_loss: 0.2318 - acc: 0.83 - ETA: 9s - loss: 0.8520 - dice_loss: 0.2339 - acc: 0.8347 - ETA: 8s - loss: 0.8451 - dice_loss: 0.2361 - acc: 0.840 - ETA: 7s - loss: 0.8147 - dice_loss: 0.2330 - acc: 0.847 - ETA: 5s - loss: 0.8228 - dice_loss: 0.2352 - acc: 0.846 - ETA: 4s - loss: 0.7900 - dice_loss: 0.2306 - acc: 0.853 - ETA: 3s - loss: 0.7705 - dice_loss: 0.2281 - acc: 0.857 - ETA: 2s - loss: 0.7500 - dice_loss: 0.2233 - acc: 0.861 - ETA: 0s - loss: 0.7321 - dice_loss: 0.2187 - acc: 0.864 - 14s 161ms/step - loss: 0.7344 - dice_loss: 0.2169 - acc: 0.8654 - val_loss: 1.1855 - val_dice_loss: 0.1973 - val_acc: 0.8594\n",
      "\n",
      "Epoch 00017: val_loss did not improve from 0.77484\n",
      "Epoch 18/100\n",
      "86/86 [==============================] - ETA: 11s - loss: 0.6016 - dice_loss: 0.1742 - acc: 0.89 - ETA: 9s - loss: 0.6202 - dice_loss: 0.1737 - acc: 0.8910 - ETA: 8s - loss: 0.6580 - dice_loss: 0.1799 - acc: 0.881 - ETA: 7s - loss: 0.6474 - dice_loss: 0.1809 - acc: 0.881 - ETA: 6s - loss: 0.6708 - dice_loss: 0.1860 - acc: 0.877 - ETA: 5s - loss: 0.6607 - dice_loss: 0.1844 - acc: 0.880 - ETA: 4s - loss: 0.6528 - dice_loss: 0.1835 - acc: 0.882 - ETA: 3s - loss: 0.6419 - dice_loss: 0.1810 - acc: 0.885 - ETA: 1s - loss: 0.6272 - dice_loss: 0.1776 - acc: 0.888 - ETA: 0s - loss: 0.6553 - dice_loss: 0.1806 - acc: 0.882 - 13s 152ms/step - loss: 0.6663 - dice_loss: 0.1858 - acc: 0.8789 - val_loss: 0.8537 - val_dice_loss: 0.1683 - val_acc: 0.8675\n",
      "\n",
      "Epoch 00018: val_loss did not improve from 0.77484\n",
      "Epoch 19/100\n",
      "86/86 [==============================] - ETA: 11s - loss: 0.5408 - dice_loss: 0.1610 - acc: 0.88 - ETA: 9s - loss: 0.6804 - dice_loss: 0.1790 - acc: 0.8694 - ETA: 8s - loss: 0.7749 - dice_loss: 0.1930 - acc: 0.864 - ETA: 7s - loss: 0.7446 - dice_loss: 0.1897 - acc: 0.865 - ETA: 6s - loss: 0.7146 - dice_loss: 0.1888 - acc: 0.870 - ETA: 5s - loss: 0.6939 - dice_loss: 0.1888 - acc: 0.875 - ETA: 4s - loss: 0.6823 - dice_loss: 0.1888 - acc: 0.879 - ETA: 3s - loss: 0.6700 - dice_loss: 0.1876 - acc: 0.880 - ETA: 1s - loss: 0.6699 - dice_loss: 0.1870 - acc: 0.880 - ETA: 0s - loss: 0.6542 - dice_loss: 0.1824 - acc: 0.883 - 13s 155ms/step - loss: 0.6535 - dice_loss: 0.1816 - acc: 0.8836 - val_loss: 0.7389 - val_dice_loss: 0.1662 - val_acc: 0.8755\n",
      "\n"
     ]
    },
    {
     "name": "stdout",
     "output_type": "stream",
     "text": [
      "Epoch 00019: val_loss improved from 0.77484 to 0.73885, saving model to model-L-unet-aug.h5\n",
      "Epoch 20/100\n",
      "86/86 [==============================] - ETA: 11s - loss: 0.5873 - dice_loss: 0.1600 - acc: 0.89 - ETA: 9s - loss: 0.5729 - dice_loss: 0.1603 - acc: 0.8913 - ETA: 8s - loss: 0.6320 - dice_loss: 0.1727 - acc: 0.879 - ETA: 7s - loss: 0.6363 - dice_loss: 0.1736 - acc: 0.877 - ETA: 6s - loss: 0.6252 - dice_loss: 0.1724 - acc: 0.880 - ETA: 5s - loss: 0.6311 - dice_loss: 0.1732 - acc: 0.881 - ETA: 4s - loss: 0.6445 - dice_loss: 0.1743 - acc: 0.880 - ETA: 3s - loss: 0.6213 - dice_loss: 0.1711 - acc: 0.885 - ETA: 2s - loss: 0.6252 - dice_loss: 0.1731 - acc: 0.885 - ETA: 0s - loss: 0.6119 - dice_loss: 0.1718 - acc: 0.887 - 13s 156ms/step - loss: 0.6026 - dice_loss: 0.1700 - acc: 0.8896 - val_loss: 0.9729 - val_dice_loss: 0.1585 - val_acc: 0.8806\n",
      "\n",
      "Epoch 00020: val_loss did not improve from 0.73885\n",
      "Epoch 21/100\n",
      "86/86 [==============================] - ETA: 11s - loss: 0.5220 - dice_loss: 0.1452 - acc: 0.89 - ETA: 10s - loss: 0.5630 - dice_loss: 0.1521 - acc: 0.89 - ETA: 8s - loss: 0.5583 - dice_loss: 0.1567 - acc: 0.8953 - ETA: 7s - loss: 0.5653 - dice_loss: 0.1623 - acc: 0.894 - ETA: 6s - loss: 0.5424 - dice_loss: 0.1594 - acc: 0.896 - ETA: 5s - loss: 0.5275 - dice_loss: 0.1541 - acc: 0.897 - ETA: 4s - loss: 0.5339 - dice_loss: 0.1510 - acc: 0.898 - ETA: 3s - loss: 0.5167 - dice_loss: 0.1459 - acc: 0.902 - ETA: 2s - loss: 0.5510 - dice_loss: 0.1514 - acc: 0.897 - ETA: 0s - loss: 0.5695 - dice_loss: 0.1546 - acc: 0.893 - 13s 157ms/step - loss: 0.5677 - dice_loss: 0.1561 - acc: 0.8937 - val_loss: 0.6031 - val_dice_loss: 0.1468 - val_acc: 0.9115\n",
      "\n",
      "Epoch 00021: val_loss improved from 0.73885 to 0.60306, saving model to model-L-unet-aug.h5\n",
      "Epoch 22/100\n",
      "86/86 [==============================] - ETA: 10s - loss: 0.6113 - dice_loss: 0.1763 - acc: 0.88 - ETA: 9s - loss: 0.5905 - dice_loss: 0.1675 - acc: 0.8959 - ETA: 8s - loss: 0.5615 - dice_loss: 0.1628 - acc: 0.901 - ETA: 7s - loss: 0.5447 - dice_loss: 0.1584 - acc: 0.906 - ETA: 6s - loss: 0.5666 - dice_loss: 0.1620 - acc: 0.902 - ETA: 5s - loss: 0.5372 - dice_loss: 0.1563 - acc: 0.904 - ETA: 4s - loss: 0.5378 - dice_loss: 0.1554 - acc: 0.902 - ETA: 3s - loss: 0.5351 - dice_loss: 0.1551 - acc: 0.900 - ETA: 1s - loss: 0.5308 - dice_loss: 0.1541 - acc: 0.899 - ETA: 0s - loss: 0.5279 - dice_loss: 0.1524 - acc: 0.899 - 13s 154ms/step - loss: 0.5236 - dice_loss: 0.1509 - acc: 0.8999 - val_loss: 0.9019 - val_dice_loss: 0.1446 - val_acc: 0.8985\n",
      "\n",
      "Epoch 00022: val_loss did not improve from 0.60306\n",
      "Epoch 23/100\n",
      "86/86 [==============================] - ETA: 10s - loss: 0.4355 - dice_loss: 0.1184 - acc: 0.92 - ETA: 9s - loss: 0.4805 - dice_loss: 0.1311 - acc: 0.9096 - ETA: 8s - loss: 0.4926 - dice_loss: 0.1442 - acc: 0.901 - ETA: 7s - loss: 0.4826 - dice_loss: 0.1388 - acc: 0.905 - ETA: 6s - loss: 0.4884 - dice_loss: 0.1345 - acc: 0.909 - ETA: 5s - loss: 0.4855 - dice_loss: 0.1326 - acc: 0.910 - ETA: 4s - loss: 0.4919 - dice_loss: 0.1359 - acc: 0.908 - ETA: 3s - loss: 0.4885 - dice_loss: 0.1377 - acc: 0.909 - ETA: 1s - loss: 0.4971 - dice_loss: 0.1405 - acc: 0.906 - ETA: 0s - loss: 0.4992 - dice_loss: 0.1413 - acc: 0.905 - 13s 152ms/step - loss: 0.4978 - dice_loss: 0.1408 - acc: 0.9043 - val_loss: 0.5541 - val_dice_loss: 0.1229 - val_acc: 0.9086\n",
      "\n",
      "Epoch 00023: val_loss improved from 0.60306 to 0.55409, saving model to model-L-unet-aug.h5\n",
      "Epoch 24/100\n",
      "86/86 [==============================] - ETA: 11s - loss: 0.4924 - dice_loss: 0.1361 - acc: 0.89 - ETA: 9s - loss: 0.4894 - dice_loss: 0.1329 - acc: 0.8995 - ETA: 8s - loss: 0.4702 - dice_loss: 0.1288 - acc: 0.903 - ETA: 7s - loss: 0.4515 - dice_loss: 0.1223 - acc: 0.909 - ETA: 6s - loss: 0.4476 - dice_loss: 0.1199 - acc: 0.914 - ETA: 5s - loss: 0.4536 - dice_loss: 0.1216 - acc: 0.912 - ETA: 4s - loss: 0.4585 - dice_loss: 0.1250 - acc: 0.911 - ETA: 3s - loss: 0.4560 - dice_loss: 0.1259 - acc: 0.909 - ETA: 1s - loss: 0.4536 - dice_loss: 0.1251 - acc: 0.909 - ETA: 0s - loss: 0.4580 - dice_loss: 0.1256 - acc: 0.908 - 13s 152ms/step - loss: 0.4538 - dice_loss: 0.1248 - acc: 0.9097 - val_loss: 0.5256 - val_dice_loss: 0.1215 - val_acc: 0.9190\n",
      "\n",
      "Epoch 00024: val_loss improved from 0.55409 to 0.52561, saving model to model-L-unet-aug.h5\n",
      "Epoch 25/100\n",
      "86/86 [==============================] - ETA: 12s - loss: 0.4921 - dice_loss: 0.1400 - acc: 0.90 - ETA: 10s - loss: 0.4594 - dice_loss: 0.1331 - acc: 0.91 - ETA: 9s - loss: 0.4624 - dice_loss: 0.1333 - acc: 0.9072 - ETA: 8s - loss: 0.4709 - dice_loss: 0.1336 - acc: 0.903 - ETA: 6s - loss: 0.4647 - dice_loss: 0.1292 - acc: 0.907 - ETA: 5s - loss: 0.4576 - dice_loss: 0.1262 - acc: 0.909 - ETA: 4s - loss: 0.4466 - dice_loss: 0.1232 - acc: 0.912 - ETA: 3s - loss: 0.4493 - dice_loss: 0.1225 - acc: 0.912 - ETA: 2s - loss: 0.4366 - dice_loss: 0.1196 - acc: 0.915 - ETA: 0s - loss: 0.4329 - dice_loss: 0.1196 - acc: 0.915 - 13s 155ms/step - loss: 0.4293 - dice_loss: 0.1194 - acc: 0.9157 - val_loss: 0.6556 - val_dice_loss: 0.1194 - val_acc: 0.9052\n",
      "\n",
      "Epoch 00025: val_loss did not improve from 0.52561\n",
      "Epoch 26/100\n",
      "86/86 [==============================] - ETA: 11s - loss: 0.3740 - dice_loss: 0.0926 - acc: 0.92 - ETA: 10s - loss: 0.4353 - dice_loss: 0.1064 - acc: 0.91 - ETA: 8s - loss: 0.4440 - dice_loss: 0.1118 - acc: 0.9141 - ETA: 7s - loss: 0.4454 - dice_loss: 0.1189 - acc: 0.909 - ETA: 6s - loss: 0.4306 - dice_loss: 0.1169 - acc: 0.913 - ETA: 5s - loss: 0.4318 - dice_loss: 0.1177 - acc: 0.915 - ETA: 4s - loss: 0.4433 - dice_loss: 0.1199 - acc: 0.914 - ETA: 3s - loss: 0.4413 - dice_loss: 0.1203 - acc: 0.914 - ETA: 2s - loss: 0.4452 - dice_loss: 0.1218 - acc: 0.913 - ETA: 0s - loss: 0.4429 - dice_loss: 0.1223 - acc: 0.912 - 14s 159ms/step - loss: 0.4398 - dice_loss: 0.1214 - acc: 0.9131 - val_loss: 0.5079 - val_dice_loss: 0.1111 - val_acc: 0.9214\n",
      "\n",
      "Epoch 00026: val_loss improved from 0.52561 to 0.50788, saving model to model-L-unet-aug.h5\n",
      "Epoch 27/100\n",
      "86/86 [==============================] - ETA: 11s - loss: 0.3714 - dice_loss: 0.1050 - acc: 0.92 - ETA: 10s - loss: 0.4078 - dice_loss: 0.1108 - acc: 0.92 - ETA: 8s - loss: 0.4218 - dice_loss: 0.1141 - acc: 0.9191 - ETA: 7s - loss: 0.4091 - dice_loss: 0.1121 - acc: 0.922 - ETA: 6s - loss: 0.4070 - dice_loss: 0.1110 - acc: 0.921 - ETA: 5s - loss: 0.4070 - dice_loss: 0.1106 - acc: 0.919 - ETA: 4s - loss: 0.4033 - dice_loss: 0.1107 - acc: 0.920 - ETA: 3s - loss: 0.4077 - dice_loss: 0.1105 - acc: 0.920 - ETA: 1s - loss: 0.4018 - dice_loss: 0.1094 - acc: 0.922 - ETA: 0s - loss: 0.3974 - dice_loss: 0.1085 - acc: 0.923 - 13s 154ms/step - loss: 0.4009 - dice_loss: 0.1093 - acc: 0.9222 - val_loss: 0.5011 - val_dice_loss: 0.1076 - val_acc: 0.9197\n",
      "\n",
      "Epoch 00027: val_loss improved from 0.50788 to 0.50109, saving model to model-L-unet-aug.h5\n",
      "Epoch 28/100\n",
      "86/86 [==============================] - ETA: 10s - loss: 0.3779 - dice_loss: 0.1073 - acc: 0.92 - ETA: 9s - loss: 0.4092 - dice_loss: 0.1177 - acc: 0.9226 - ETA: 8s - loss: 0.4172 - dice_loss: 0.1167 - acc: 0.918 - ETA: 7s - loss: 0.4083 - dice_loss: 0.1120 - acc: 0.920 - ETA: 6s - loss: 0.4090 - dice_loss: 0.1115 - acc: 0.918 - ETA: 5s - loss: 0.3923 - dice_loss: 0.1073 - acc: 0.921 - ETA: 4s - loss: 0.3787 - dice_loss: 0.1036 - acc: 0.925 - ETA: 3s - loss: 0.3851 - dice_loss: 0.1040 - acc: 0.926 - ETA: 1s - loss: 0.3879 - dice_loss: 0.1050 - acc: 0.926 - ETA: 0s - loss: 0.3823 - dice_loss: 0.1038 - acc: 0.927 - 13s 149ms/step - loss: 0.3824 - dice_loss: 0.1039 - acc: 0.9267 - val_loss: 0.4712 - val_dice_loss: 0.0995 - val_acc: 0.9208\n",
      "\n",
      "Epoch 00028: val_loss improved from 0.50109 to 0.47118, saving model to model-L-unet-aug.h5\n",
      "Epoch 29/100\n"
     ]
    },
    {
     "name": "stdout",
     "output_type": "stream",
     "text": [
      "86/86 [==============================] - ETA: 10s - loss: 0.3470 - dice_loss: 0.0958 - acc: 0.92 - ETA: 9s - loss: 0.3922 - dice_loss: 0.1105 - acc: 0.9194 - ETA: 8s - loss: 0.3884 - dice_loss: 0.1109 - acc: 0.919 - ETA: 7s - loss: 0.3980 - dice_loss: 0.1125 - acc: 0.920 - ETA: 6s - loss: 0.3824 - dice_loss: 0.1070 - acc: 0.924 - ETA: 5s - loss: 0.3824 - dice_loss: 0.1057 - acc: 0.925 - ETA: 4s - loss: 0.3680 - dice_loss: 0.1020 - acc: 0.929 - ETA: 3s - loss: 0.3715 - dice_loss: 0.1015 - acc: 0.929 - ETA: 1s - loss: 0.3733 - dice_loss: 0.1018 - acc: 0.927 - ETA: 0s - loss: 0.3735 - dice_loss: 0.1026 - acc: 0.925 - 13s 148ms/step - loss: 0.3725 - dice_loss: 0.1023 - acc: 0.9251 - val_loss: 0.5751 - val_dice_loss: 0.1035 - val_acc: 0.9194\n",
      "\n",
      "Epoch 00029: val_loss did not improve from 0.47118\n",
      "Epoch 30/100\n",
      "86/86 [==============================] - ETA: 11s - loss: 0.4525 - dice_loss: 0.1186 - acc: 0.92 - ETA: 9s - loss: 0.4400 - dice_loss: 0.1151 - acc: 0.9205 - ETA: 8s - loss: 0.4176 - dice_loss: 0.1106 - acc: 0.921 - ETA: 7s - loss: 0.3916 - dice_loss: 0.1049 - acc: 0.926 - ETA: 6s - loss: 0.3992 - dice_loss: 0.1083 - acc: 0.921 - ETA: 5s - loss: 0.3979 - dice_loss: 0.1078 - acc: 0.922 - ETA: 4s - loss: 0.3925 - dice_loss: 0.1056 - acc: 0.923 - ETA: 3s - loss: 0.3851 - dice_loss: 0.1034 - acc: 0.924 - ETA: 1s - loss: 0.3791 - dice_loss: 0.1018 - acc: 0.925 - ETA: 0s - loss: 0.3752 - dice_loss: 0.1000 - acc: 0.926 - 13s 153ms/step - loss: 0.3696 - dice_loss: 0.0989 - acc: 0.9276 - val_loss: 0.4649 - val_dice_loss: 0.0967 - val_acc: 0.9190\n",
      "\n",
      "Epoch 00030: val_loss improved from 0.47118 to 0.46492, saving model to model-L-unet-aug.h5\n",
      "Epoch 31/100\n",
      "86/86 [==============================] - ETA: 11s - loss: 0.3234 - dice_loss: 0.0937 - acc: 0.92 - ETA: 10s - loss: 0.3524 - dice_loss: 0.0968 - acc: 0.92 - ETA: 8s - loss: 0.3711 - dice_loss: 0.1006 - acc: 0.9274 - ETA: 7s - loss: 0.3639 - dice_loss: 0.0991 - acc: 0.930 - ETA: 6s - loss: 0.3513 - dice_loss: 0.0964 - acc: 0.933 - ETA: 5s - loss: 0.3534 - dice_loss: 0.0972 - acc: 0.932 - ETA: 4s - loss: 0.3542 - dice_loss: 0.0976 - acc: 0.931 - ETA: 3s - loss: 0.3497 - dice_loss: 0.0971 - acc: 0.933 - ETA: 2s - loss: 0.3529 - dice_loss: 0.0967 - acc: 0.933 - ETA: 0s - loss: 0.3513 - dice_loss: 0.0960 - acc: 0.933 - 13s 155ms/step - loss: 0.3544 - dice_loss: 0.0966 - acc: 0.9328 - val_loss: 0.4828 - val_dice_loss: 0.0941 - val_acc: 0.9246\n",
      "\n",
      "Epoch 00031: val_loss did not improve from 0.46492\n",
      "Epoch 32/100\n",
      "86/86 [==============================] - ETA: 10s - loss: 0.3574 - dice_loss: 0.0946 - acc: 0.92 - ETA: 10s - loss: 0.3357 - dice_loss: 0.0942 - acc: 0.93 - ETA: 8s - loss: 0.3371 - dice_loss: 0.0932 - acc: 0.9365 - ETA: 7s - loss: 0.3401 - dice_loss: 0.0936 - acc: 0.937 - ETA: 6s - loss: 0.3494 - dice_loss: 0.0943 - acc: 0.936 - ETA: 5s - loss: 0.3509 - dice_loss: 0.0944 - acc: 0.933 - ETA: 4s - loss: 0.3586 - dice_loss: 0.0966 - acc: 0.930 - ETA: 3s - loss: 0.3469 - dice_loss: 0.0938 - acc: 0.932 - ETA: 1s - loss: 0.3503 - dice_loss: 0.0946 - acc: 0.932 - ETA: 0s - loss: 0.3554 - dice_loss: 0.0958 - acc: 0.931 - 13s 150ms/step - loss: 0.3569 - dice_loss: 0.0956 - acc: 0.9318 - val_loss: 0.4888 - val_dice_loss: 0.0940 - val_acc: 0.9230\n",
      "\n",
      "Epoch 00032: val_loss did not improve from 0.46492\n",
      "Epoch 33/100\n",
      "86/86 [==============================] - ETA: 10s - loss: 0.2999 - dice_loss: 0.0841 - acc: 0.93 - ETA: 9s - loss: 0.3007 - dice_loss: 0.0833 - acc: 0.9362 - ETA: 8s - loss: 0.2993 - dice_loss: 0.0831 - acc: 0.937 - ETA: 7s - loss: 0.3088 - dice_loss: 0.0853 - acc: 0.936 - ETA: 6s - loss: 0.3153 - dice_loss: 0.0873 - acc: 0.935 - ETA: 5s - loss: 0.3303 - dice_loss: 0.0909 - acc: 0.932 - ETA: 4s - loss: 0.3249 - dice_loss: 0.0889 - acc: 0.933 - ETA: 3s - loss: 0.3282 - dice_loss: 0.0886 - acc: 0.933 - ETA: 1s - loss: 0.3317 - dice_loss: 0.0888 - acc: 0.933 - ETA: 0s - loss: 0.3353 - dice_loss: 0.0898 - acc: 0.933 - 13s 149ms/step - loss: 0.3379 - dice_loss: 0.0910 - acc: 0.9328 - val_loss: 0.4523 - val_dice_loss: 0.0912 - val_acc: 0.9248\n",
      "\n",
      "Epoch 00033: val_loss improved from 0.46492 to 0.45228, saving model to model-L-unet-aug.h5\n",
      "Epoch 34/100\n",
      "86/86 [==============================] - ETA: 10s - loss: 0.3428 - dice_loss: 0.0989 - acc: 0.93 - ETA: 9s - loss: 0.3301 - dice_loss: 0.0941 - acc: 0.9421 - ETA: 8s - loss: 0.3424 - dice_loss: 0.0961 - acc: 0.939 - ETA: 7s - loss: 0.3561 - dice_loss: 0.0974 - acc: 0.937 - ETA: 6s - loss: 0.3536 - dice_loss: 0.0971 - acc: 0.935 - ETA: 5s - loss: 0.3479 - dice_loss: 0.0946 - acc: 0.934 - ETA: 4s - loss: 0.3502 - dice_loss: 0.0942 - acc: 0.933 - ETA: 3s - loss: 0.3499 - dice_loss: 0.0934 - acc: 0.932 - ETA: 1s - loss: 0.3478 - dice_loss: 0.0932 - acc: 0.932 - ETA: 0s - loss: 0.3501 - dice_loss: 0.0939 - acc: 0.932 - 13s 148ms/step - loss: 0.3421 - dice_loss: 0.0922 - acc: 0.9342 - val_loss: 0.5222 - val_dice_loss: 0.0958 - val_acc: 0.9294\n",
      "\n",
      "Epoch 00034: val_loss did not improve from 0.45228\n",
      "Epoch 35/100\n",
      "86/86 [==============================] - ETA: 10s - loss: 0.3761 - dice_loss: 0.1008 - acc: 0.92 - ETA: 9s - loss: 0.3510 - dice_loss: 0.0941 - acc: 0.9358 - ETA: 8s - loss: 0.3436 - dice_loss: 0.0938 - acc: 0.935 - ETA: 7s - loss: 0.3486 - dice_loss: 0.0966 - acc: 0.932 - ETA: 6s - loss: 0.3405 - dice_loss: 0.0939 - acc: 0.931 - ETA: 5s - loss: 0.3332 - dice_loss: 0.0907 - acc: 0.933 - ETA: 4s - loss: 0.3386 - dice_loss: 0.0911 - acc: 0.931 - ETA: 3s - loss: 0.3331 - dice_loss: 0.0902 - acc: 0.932 - ETA: 1s - loss: 0.3362 - dice_loss: 0.0916 - acc: 0.931 - ETA: 0s - loss: 0.3385 - dice_loss: 0.0912 - acc: 0.931 - 13s 150ms/step - loss: 0.3413 - dice_loss: 0.0922 - acc: 0.9308 - val_loss: 0.4609 - val_dice_loss: 0.0925 - val_acc: 0.9239\n",
      "\n",
      "Epoch 00035: val_loss did not improve from 0.45228\n",
      "Epoch 36/100\n",
      "86/86 [==============================] - ETA: 12s - loss: 0.3547 - dice_loss: 0.1003 - acc: 0.93 - ETA: 10s - loss: 0.3039 - dice_loss: 0.0852 - acc: 0.94 - ETA: 8s - loss: 0.3129 - dice_loss: 0.0860 - acc: 0.9399 - ETA: 7s - loss: 0.3129 - dice_loss: 0.0874 - acc: 0.939 - ETA: 6s - loss: 0.3349 - dice_loss: 0.0926 - acc: 0.933 - ETA: 5s - loss: 0.3273 - dice_loss: 0.0900 - acc: 0.935 - ETA: 4s - loss: 0.3239 - dice_loss: 0.0879 - acc: 0.937 - ETA: 3s - loss: 0.3314 - dice_loss: 0.0886 - acc: 0.937 - ETA: 1s - loss: 0.3342 - dice_loss: 0.0895 - acc: 0.935 - ETA: 0s - loss: 0.3361 - dice_loss: 0.0900 - acc: 0.934 - 13s 151ms/step - loss: 0.3345 - dice_loss: 0.0897 - acc: 0.9337 - val_loss: 0.4708 - val_dice_loss: 0.0909 - val_acc: 0.9193\n",
      "\n",
      "Epoch 00036: val_loss did not improve from 0.45228\n",
      "Epoch 37/100\n",
      "86/86 [==============================] - ETA: 10s - loss: 0.3190 - dice_loss: 0.0849 - acc: 0.93 - ETA: 9s - loss: 0.3301 - dice_loss: 0.0892 - acc: 0.9324 - ETA: 8s - loss: 0.3339 - dice_loss: 0.0911 - acc: 0.932 - ETA: 7s - loss: 0.3279 - dice_loss: 0.0885 - acc: 0.933 - ETA: 6s - loss: 0.3140 - dice_loss: 0.0851 - acc: 0.936 - ETA: 5s - loss: 0.3201 - dice_loss: 0.0853 - acc: 0.936 - ETA: 4s - loss: 0.3147 - dice_loss: 0.0840 - acc: 0.937 - ETA: 3s - loss: 0.3185 - dice_loss: 0.0849 - acc: 0.937 - ETA: 2s - loss: 0.3254 - dice_loss: 0.0869 - acc: 0.937 - ETA: 0s - loss: 0.3313 - dice_loss: 0.0886 - acc: 0.937 - 14s 159ms/step - loss: 0.3273 - dice_loss: 0.0879 - acc: 0.9384 - val_loss: 0.4647 - val_dice_loss: 0.0887 - val_acc: 0.9261\n",
      "\n",
      "Epoch 00037: val_loss did not improve from 0.45228\n",
      "Epoch 38/100\n",
      "86/86 [==============================] - ETA: 12s - loss: 0.3211 - dice_loss: 0.0871 - acc: 0.93 - ETA: 11s - loss: 0.3259 - dice_loss: 0.0860 - acc: 0.93 - ETA: 9s - loss: 0.3240 - dice_loss: 0.0847 - acc: 0.9323 - ETA: 8s - loss: 0.3239 - dice_loss: 0.0857 - acc: 0.932 - ETA: 6s - loss: 0.3155 - dice_loss: 0.0826 - acc: 0.934 - ETA: 5s - loss: 0.3275 - dice_loss: 0.0854 - acc: 0.934 - ETA: 4s - loss: 0.3294 - dice_loss: 0.0873 - acc: 0.934 - ETA: 3s - loss: 0.3272 - dice_loss: 0.0875 - acc: 0.936 - ETA: 2s - loss: 0.3251 - dice_loss: 0.0881 - acc: 0.937 - ETA: 0s - loss: 0.3255 - dice_loss: 0.0882 - acc: 0.937 - 14s 159ms/step - loss: 0.3270 - dice_loss: 0.0883 - acc: 0.9368 - val_loss: 0.5112 - val_dice_loss: 0.0888 - val_acc: 0.9255\n",
      "\n",
      "Epoch 00038: val_loss did not improve from 0.45228\n"
     ]
    },
    {
     "name": "stdout",
     "output_type": "stream",
     "text": [
      "Epoch 39/100\n",
      "86/86 [==============================] - ETA: 11s - loss: 0.2985 - dice_loss: 0.0786 - acc: 0.94 - ETA: 9s - loss: 0.3219 - dice_loss: 0.0839 - acc: 0.9347 - ETA: 8s - loss: 0.3461 - dice_loss: 0.0876 - acc: 0.929 - ETA: 7s - loss: 0.3286 - dice_loss: 0.0822 - acc: 0.934 - ETA: 6s - loss: 0.3176 - dice_loss: 0.0807 - acc: 0.937 - ETA: 5s - loss: 0.3200 - dice_loss: 0.0832 - acc: 0.937 - ETA: 4s - loss: 0.3196 - dice_loss: 0.0841 - acc: 0.938 - ETA: 3s - loss: 0.3237 - dice_loss: 0.0853 - acc: 0.937 - ETA: 1s - loss: 0.3191 - dice_loss: 0.0839 - acc: 0.938 - ETA: 0s - loss: 0.3173 - dice_loss: 0.0838 - acc: 0.937 - 13s 150ms/step - loss: 0.3147 - dice_loss: 0.0833 - acc: 0.9379 - val_loss: 0.4604 - val_dice_loss: 0.0891 - val_acc: 0.9159\n",
      "\n",
      "Epoch 00039: val_loss did not improve from 0.45228\n",
      "Epoch 40/100\n",
      "86/86 [==============================] - ETA: 10s - loss: 0.3622 - dice_loss: 0.0950 - acc: 0.92 - ETA: 9s - loss: 0.3846 - dice_loss: 0.1010 - acc: 0.9100 - ETA: 8s - loss: 0.3533 - dice_loss: 0.0917 - acc: 0.923 - ETA: 7s - loss: 0.3379 - dice_loss: 0.0900 - acc: 0.930 - ETA: 6s - loss: 0.3278 - dice_loss: 0.0867 - acc: 0.934 - ETA: 5s - loss: 0.3259 - dice_loss: 0.0860 - acc: 0.936 - ETA: 4s - loss: 0.3259 - dice_loss: 0.0868 - acc: 0.937 - ETA: 3s - loss: 0.3212 - dice_loss: 0.0861 - acc: 0.939 - ETA: 1s - loss: 0.3254 - dice_loss: 0.0870 - acc: 0.937 - ETA: 0s - loss: 0.3195 - dice_loss: 0.0852 - acc: 0.937 - 13s 153ms/step - loss: 0.3157 - dice_loss: 0.0848 - acc: 0.9378 - val_loss: 0.4962 - val_dice_loss: 0.0893 - val_acc: 0.9191\n",
      "\n",
      "Epoch 00040: val_loss did not improve from 0.45228\n",
      "Epoch 41/100\n",
      "86/86 [==============================] - ETA: 11s - loss: 0.3111 - dice_loss: 0.0842 - acc: 0.93 - ETA: 10s - loss: 0.3580 - dice_loss: 0.0870 - acc: 0.92 - ETA: 9s - loss: 0.3369 - dice_loss: 0.0850 - acc: 0.9340 - ETA: 8s - loss: 0.3424 - dice_loss: 0.0869 - acc: 0.931 - ETA: 6s - loss: 0.3369 - dice_loss: 0.0868 - acc: 0.932 - ETA: 5s - loss: 0.3378 - dice_loss: 0.0883 - acc: 0.931 - ETA: 4s - loss: 0.3396 - dice_loss: 0.0901 - acc: 0.933 - ETA: 3s - loss: 0.3400 - dice_loss: 0.0898 - acc: 0.934 - ETA: 2s - loss: 0.3392 - dice_loss: 0.0897 - acc: 0.936 - ETA: 0s - loss: 0.3380 - dice_loss: 0.0899 - acc: 0.936 - 14s 163ms/step - loss: 0.3343 - dice_loss: 0.0895 - acc: 0.9375 - val_loss: 0.4915 - val_dice_loss: 0.0939 - val_acc: 0.9238\n",
      "\n",
      "Epoch 00041: val_loss did not improve from 0.45228\n",
      "Epoch 42/100\n",
      "86/86 [==============================] - ETA: 11s - loss: 0.3218 - dice_loss: 0.0924 - acc: 0.93 - ETA: 10s - loss: 0.3238 - dice_loss: 0.0882 - acc: 0.93 - ETA: 9s - loss: 0.3125 - dice_loss: 0.0827 - acc: 0.9349 - ETA: 7s - loss: 0.3177 - dice_loss: 0.0821 - acc: 0.935 - ETA: 6s - loss: 0.3169 - dice_loss: 0.0805 - acc: 0.934 - ETA: 5s - loss: 0.3137 - dice_loss: 0.0808 - acc: 0.936 - ETA: 4s - loss: 0.3070 - dice_loss: 0.0797 - acc: 0.937 - ETA: 3s - loss: 0.3143 - dice_loss: 0.0815 - acc: 0.936 - ETA: 2s - loss: 0.3231 - dice_loss: 0.0858 - acc: 0.934 - ETA: 0s - loss: 0.3267 - dice_loss: 0.0877 - acc: 0.933 - 13s 155ms/step - loss: 0.3318 - dice_loss: 0.0895 - acc: 0.9328 - val_loss: 0.4355 - val_dice_loss: 0.0892 - val_acc: 0.9288\n",
      "\n",
      "Epoch 00042: val_loss improved from 0.45228 to 0.43550, saving model to model-L-unet-aug.h5\n",
      "Epoch 43/100\n",
      "86/86 [==============================] - ETA: 10s - loss: 0.3514 - dice_loss: 0.0964 - acc: 0.92 - ETA: 10s - loss: 0.3534 - dice_loss: 0.0935 - acc: 0.93 - ETA: 8s - loss: 0.3460 - dice_loss: 0.0889 - acc: 0.9351 - ETA: 7s - loss: 0.3321 - dice_loss: 0.0846 - acc: 0.938 - ETA: 6s - loss: 0.3345 - dice_loss: 0.0841 - acc: 0.938 - ETA: 5s - loss: 0.3321 - dice_loss: 0.0832 - acc: 0.938 - ETA: 4s - loss: 0.3235 - dice_loss: 0.0808 - acc: 0.939 - ETA: 3s - loss: 0.3214 - dice_loss: 0.0800 - acc: 0.940 - ETA: 2s - loss: 0.3225 - dice_loss: 0.0811 - acc: 0.940 - ETA: 0s - loss: 0.3193 - dice_loss: 0.0821 - acc: 0.941 - 14s 157ms/step - loss: 0.3217 - dice_loss: 0.0834 - acc: 0.9404 - val_loss: 0.4346 - val_dice_loss: 0.0912 - val_acc: 0.9242\n",
      "\n",
      "Epoch 00043: val_loss improved from 0.43550 to 0.43458, saving model to model-L-unet-aug.h5\n",
      "Epoch 44/100\n",
      "86/86 [==============================] - ETA: 11s - loss: 0.2690 - dice_loss: 0.0736 - acc: 0.95 - ETA: 10s - loss: 0.3024 - dice_loss: 0.0807 - acc: 0.94 - ETA: 9s - loss: 0.3133 - dice_loss: 0.0839 - acc: 0.9368 - ETA: 7s - loss: 0.3223 - dice_loss: 0.0869 - acc: 0.934 - ETA: 6s - loss: 0.3110 - dice_loss: 0.0838 - acc: 0.937 - ETA: 5s - loss: 0.3185 - dice_loss: 0.0852 - acc: 0.937 - ETA: 4s - loss: 0.3160 - dice_loss: 0.0852 - acc: 0.938 - ETA: 3s - loss: 0.3126 - dice_loss: 0.0845 - acc: 0.939 - ETA: 1s - loss: 0.3129 - dice_loss: 0.0850 - acc: 0.939 - ETA: 0s - loss: 0.3167 - dice_loss: 0.0864 - acc: 0.938 - 13s 155ms/step - loss: 0.3138 - dice_loss: 0.0852 - acc: 0.9394 - val_loss: 0.4647 - val_dice_loss: 0.0869 - val_acc: 0.9231\n",
      "\n",
      "Epoch 00044: val_loss did not improve from 0.43458\n",
      "Epoch 45/100\n",
      "86/86 [==============================] - ETA: 10s - loss: 0.3485 - dice_loss: 0.0888 - acc: 0.91 - ETA: 10s - loss: 0.3097 - dice_loss: 0.0788 - acc: 0.93 - ETA: 8s - loss: 0.3055 - dice_loss: 0.0786 - acc: 0.9345 - ETA: 7s - loss: 0.3007 - dice_loss: 0.0781 - acc: 0.938 - ETA: 6s - loss: 0.3129 - dice_loss: 0.0813 - acc: 0.937 - ETA: 5s - loss: 0.3050 - dice_loss: 0.0797 - acc: 0.938 - ETA: 4s - loss: 0.3156 - dice_loss: 0.0828 - acc: 0.936 - ETA: 3s - loss: 0.3066 - dice_loss: 0.0813 - acc: 0.938 - ETA: 1s - loss: 0.3092 - dice_loss: 0.0821 - acc: 0.937 - ETA: 0s - loss: 0.3077 - dice_loss: 0.0821 - acc: 0.937 - 13s 151ms/step - loss: 0.3093 - dice_loss: 0.0823 - acc: 0.9369 - val_loss: 0.4769 - val_dice_loss: 0.0895 - val_acc: 0.9211\n",
      "\n",
      "Epoch 00045: val_loss did not improve from 0.43458\n",
      "Epoch 46/100\n",
      "86/86 [==============================] - ETA: 10s - loss: 0.3140 - dice_loss: 0.0867 - acc: 0.92 - ETA: 9s - loss: 0.3085 - dice_loss: 0.0824 - acc: 0.9329 - ETA: 8s - loss: 0.2933 - dice_loss: 0.0787 - acc: 0.938 - ETA: 7s - loss: 0.2911 - dice_loss: 0.0769 - acc: 0.941 - ETA: 6s - loss: 0.2846 - dice_loss: 0.0747 - acc: 0.944 - ETA: 5s - loss: 0.2951 - dice_loss: 0.0778 - acc: 0.943 - ETA: 4s - loss: 0.2964 - dice_loss: 0.0785 - acc: 0.944 - ETA: 3s - loss: 0.3013 - dice_loss: 0.0799 - acc: 0.942 - ETA: 1s - loss: 0.3030 - dice_loss: 0.0811 - acc: 0.941 - ETA: 0s - loss: 0.3045 - dice_loss: 0.0814 - acc: 0.940 - 13s 152ms/step - loss: 0.3086 - dice_loss: 0.0823 - acc: 0.9392 - val_loss: 0.4785 - val_dice_loss: 0.0876 - val_acc: 0.9266\n",
      "\n",
      "Epoch 00046: val_loss did not improve from 0.43458\n",
      "Epoch 47/100\n",
      "86/86 [==============================] - ETA: 10s - loss: 0.2954 - dice_loss: 0.0800 - acc: 0.94 - ETA: 9s - loss: 0.2971 - dice_loss: 0.0811 - acc: 0.9455 - ETA: 8s - loss: 0.3064 - dice_loss: 0.0824 - acc: 0.942 - ETA: 7s - loss: 0.3048 - dice_loss: 0.0819 - acc: 0.943 - ETA: 6s - loss: 0.3018 - dice_loss: 0.0806 - acc: 0.944 - ETA: 5s - loss: 0.3092 - dice_loss: 0.0823 - acc: 0.942 - ETA: 4s - loss: 0.3054 - dice_loss: 0.0815 - acc: 0.942 - ETA: 3s - loss: 0.3015 - dice_loss: 0.0804 - acc: 0.942 - ETA: 1s - loss: 0.3027 - dice_loss: 0.0815 - acc: 0.942 - ETA: 0s - loss: 0.3031 - dice_loss: 0.0812 - acc: 0.942 - 13s 151ms/step - loss: 0.2989 - dice_loss: 0.0801 - acc: 0.9432 - val_loss: 0.4467 - val_dice_loss: 0.0856 - val_acc: 0.9301\n",
      "\n",
      "Epoch 00047: val_loss did not improve from 0.43458\n",
      "Epoch 48/100\n",
      "86/86 [==============================] - ETA: 11s - loss: 0.2327 - dice_loss: 0.0604 - acc: 0.95 - ETA: 10s - loss: 0.2834 - dice_loss: 0.0737 - acc: 0.94 - ETA: 8s - loss: 0.2796 - dice_loss: 0.0732 - acc: 0.9453 - ETA: 7s - loss: 0.2699 - dice_loss: 0.0705 - acc: 0.948 - ETA: 6s - loss: 0.2822 - dice_loss: 0.0729 - acc: 0.946 - ETA: 5s - loss: 0.2837 - dice_loss: 0.0731 - acc: 0.944 - ETA: 4s - loss: 0.2821 - dice_loss: 0.0733 - acc: 0.944 - ETA: 3s - loss: 0.2880 - dice_loss: 0.0759 - acc: 0.943 - ETA: 1s - loss: 0.2958 - dice_loss: 0.0783 - acc: 0.941 - ETA: 0s - loss: 0.2981 - dice_loss: 0.0796 - acc: 0.940 - 13s 156ms/step - loss: 0.2938 - dice_loss: 0.0782 - acc: 0.9407 - val_loss: 0.4732 - val_dice_loss: 0.0857 - val_acc: 0.9230\n",
      "\n"
     ]
    },
    {
     "name": "stdout",
     "output_type": "stream",
     "text": [
      "Epoch 00048: val_loss did not improve from 0.43458\n",
      "Epoch 49/100\n",
      "86/86 [==============================] - ETA: 11s - loss: 0.3300 - dice_loss: 0.0816 - acc: 0.93 - ETA: 10s - loss: 0.3211 - dice_loss: 0.0811 - acc: 0.93 - ETA: 9s - loss: 0.3181 - dice_loss: 0.0823 - acc: 0.9338 - ETA: 7s - loss: 0.3148 - dice_loss: 0.0822 - acc: 0.935 - ETA: 6s - loss: 0.3104 - dice_loss: 0.0827 - acc: 0.936 - ETA: 5s - loss: 0.3013 - dice_loss: 0.0814 - acc: 0.938 - ETA: 4s - loss: 0.3011 - dice_loss: 0.0821 - acc: 0.938 - ETA: 3s - loss: 0.3048 - dice_loss: 0.0832 - acc: 0.938 - ETA: 2s - loss: 0.3099 - dice_loss: 0.0840 - acc: 0.938 - ETA: 0s - loss: 0.3016 - dice_loss: 0.0819 - acc: 0.940 - 13s 155ms/step - loss: 0.3021 - dice_loss: 0.0818 - acc: 0.9410 - val_loss: 0.5340 - val_dice_loss: 0.0856 - val_acc: 0.9289\n",
      "\n",
      "Epoch 00049: val_loss did not improve from 0.43458\n",
      "Epoch 50/100\n",
      "86/86 [==============================] - ETA: 10s - loss: 0.3286 - dice_loss: 0.0795 - acc: 0.94 - ETA: 9s - loss: 0.2892 - dice_loss: 0.0732 - acc: 0.9455 - ETA: 8s - loss: 0.2840 - dice_loss: 0.0711 - acc: 0.943 - ETA: 7s - loss: 0.2827 - dice_loss: 0.0704 - acc: 0.942 - ETA: 6s - loss: 0.2942 - dice_loss: 0.0739 - acc: 0.938 - ETA: 5s - loss: 0.2833 - dice_loss: 0.0717 - acc: 0.940 - ETA: 4s - loss: 0.2886 - dice_loss: 0.0749 - acc: 0.940 - ETA: 3s - loss: 0.2954 - dice_loss: 0.0776 - acc: 0.939 - ETA: 1s - loss: 0.2986 - dice_loss: 0.0787 - acc: 0.939 - ETA: 0s - loss: 0.2990 - dice_loss: 0.0791 - acc: 0.939 - 13s 153ms/step - loss: 0.2997 - dice_loss: 0.0796 - acc: 0.9402 - val_loss: 0.4383 - val_dice_loss: 0.0869 - val_acc: 0.9327\n",
      "\n",
      "Epoch 00050: val_loss did not improve from 0.43458\n",
      "Epoch 51/100\n",
      "86/86 [==============================] - ETA: 11s - loss: 0.2904 - dice_loss: 0.0821 - acc: 0.94 - ETA: 10s - loss: 0.3098 - dice_loss: 0.0852 - acc: 0.94 - ETA: 8s - loss: 0.3092 - dice_loss: 0.0834 - acc: 0.9439 - ETA: 7s - loss: 0.3175 - dice_loss: 0.0851 - acc: 0.939 - ETA: 6s - loss: 0.3172 - dice_loss: 0.0846 - acc: 0.938 - ETA: 5s - loss: 0.3084 - dice_loss: 0.0823 - acc: 0.939 - ETA: 4s - loss: 0.3075 - dice_loss: 0.0817 - acc: 0.940 - ETA: 3s - loss: 0.2997 - dice_loss: 0.0801 - acc: 0.941 - ETA: 2s - loss: 0.2976 - dice_loss: 0.0797 - acc: 0.941 - ETA: 0s - loss: 0.2897 - dice_loss: 0.0772 - acc: 0.943 - 13s 156ms/step - loss: 0.2966 - dice_loss: 0.0786 - acc: 0.9423 - val_loss: 0.4510 - val_dice_loss: 0.0856 - val_acc: 0.9247\n",
      "\n",
      "Epoch 00051: val_loss did not improve from 0.43458\n",
      "Epoch 52/100\n",
      "86/86 [==============================] - ETA: 11s - loss: 0.2181 - dice_loss: 0.0571 - acc: 0.95 - ETA: 10s - loss: 0.2547 - dice_loss: 0.0671 - acc: 0.94 - ETA: 9s - loss: 0.2608 - dice_loss: 0.0701 - acc: 0.9443 - ETA: 7s - loss: 0.2593 - dice_loss: 0.0689 - acc: 0.946 - ETA: 6s - loss: 0.2761 - dice_loss: 0.0738 - acc: 0.943 - ETA: 5s - loss: 0.2850 - dice_loss: 0.0759 - acc: 0.942 - ETA: 4s - loss: 0.2820 - dice_loss: 0.0746 - acc: 0.942 - ETA: 3s - loss: 0.2863 - dice_loss: 0.0764 - acc: 0.941 - ETA: 2s - loss: 0.2922 - dice_loss: 0.0782 - acc: 0.939 - ETA: 0s - loss: 0.2954 - dice_loss: 0.0790 - acc: 0.938 - 14s 157ms/step - loss: 0.2949 - dice_loss: 0.0794 - acc: 0.9390 - val_loss: 0.4600 - val_dice_loss: 0.0868 - val_acc: 0.9305\n",
      "\n",
      "Epoch 00052: val_loss did not improve from 0.43458\n",
      "Epoch 53/100\n",
      "86/86 [==============================] - ETA: 11s - loss: 0.2886 - dice_loss: 0.0737 - acc: 0.93 - ETA: 10s - loss: 0.2886 - dice_loss: 0.0736 - acc: 0.94 - ETA: 8s - loss: 0.2970 - dice_loss: 0.0791 - acc: 0.9433 - ETA: 7s - loss: 0.3059 - dice_loss: 0.0801 - acc: 0.942 - ETA: 6s - loss: 0.3123 - dice_loss: 0.0798 - acc: 0.942 - ETA: 5s - loss: 0.3083 - dice_loss: 0.0795 - acc: 0.941 - ETA: 4s - loss: 0.3053 - dice_loss: 0.0791 - acc: 0.940 - ETA: 3s - loss: 0.3033 - dice_loss: 0.0801 - acc: 0.940 - ETA: 2s - loss: 0.3043 - dice_loss: 0.0808 - acc: 0.939 - ETA: 0s - loss: 0.2947 - dice_loss: 0.0787 - acc: 0.941 - 13s 156ms/step - loss: 0.2971 - dice_loss: 0.0794 - acc: 0.9419 - val_loss: 0.4450 - val_dice_loss: 0.0871 - val_acc: 0.9332\n",
      "\n",
      "Epoch 00053: val_loss did not improve from 0.43458\n",
      "Epoch 54/100\n",
      "86/86 [==============================] - ETA: 11s - loss: 0.3265 - dice_loss: 0.0914 - acc: 0.94 - ETA: 9s - loss: 0.3178 - dice_loss: 0.0853 - acc: 0.9388 - ETA: 8s - loss: 0.2990 - dice_loss: 0.0794 - acc: 0.943 - ETA: 7s - loss: 0.3085 - dice_loss: 0.0807 - acc: 0.941 - ETA: 6s - loss: 0.3066 - dice_loss: 0.0793 - acc: 0.941 - ETA: 5s - loss: 0.3022 - dice_loss: 0.0789 - acc: 0.941 - ETA: 4s - loss: 0.3024 - dice_loss: 0.0794 - acc: 0.942 - ETA: 3s - loss: 0.2989 - dice_loss: 0.0791 - acc: 0.942 - ETA: 2s - loss: 0.2970 - dice_loss: 0.0785 - acc: 0.943 - ETA: 0s - loss: 0.2935 - dice_loss: 0.0776 - acc: 0.943 - 14s 160ms/step - loss: 0.2905 - dice_loss: 0.0770 - acc: 0.9441 - val_loss: 0.4407 - val_dice_loss: 0.0872 - val_acc: 0.9245\n",
      "\n",
      "Epoch 00054: val_loss did not improve from 0.43458\n",
      "Epoch 55/100\n",
      "86/86 [==============================] - ETA: 12s - loss: 0.2626 - dice_loss: 0.0727 - acc: 0.94 - ETA: 10s - loss: 0.2643 - dice_loss: 0.0731 - acc: 0.94 - ETA: 9s - loss: 0.2417 - dice_loss: 0.0667 - acc: 0.9479 - ETA: 8s - loss: 0.2587 - dice_loss: 0.0702 - acc: 0.944 - ETA: 7s - loss: 0.2720 - dice_loss: 0.0744 - acc: 0.943 - ETA: 5s - loss: 0.2813 - dice_loss: 0.0766 - acc: 0.943 - ETA: 4s - loss: 0.2800 - dice_loss: 0.0764 - acc: 0.944 - ETA: 3s - loss: 0.2850 - dice_loss: 0.0773 - acc: 0.944 - ETA: 2s - loss: 0.2899 - dice_loss: 0.0779 - acc: 0.942 - ETA: 0s - loss: 0.2881 - dice_loss: 0.0770 - acc: 0.942 - 15s 172ms/step - loss: 0.2875 - dice_loss: 0.0768 - acc: 0.9419 - val_loss: 0.4441 - val_dice_loss: 0.0859 - val_acc: 0.9258\n",
      "\n",
      "Epoch 00055: val_loss did not improve from 0.43458\n",
      "Epoch 56/100\n",
      "86/86 [==============================] - ETA: 11s - loss: 0.2954 - dice_loss: 0.0825 - acc: 0.93 - ETA: 10s - loss: 0.2999 - dice_loss: 0.0814 - acc: 0.93 - ETA: 9s - loss: 0.2829 - dice_loss: 0.0768 - acc: 0.9417 - ETA: 8s - loss: 0.2873 - dice_loss: 0.0769 - acc: 0.941 - ETA: 6s - loss: 0.2952 - dice_loss: 0.0801 - acc: 0.939 - ETA: 5s - loss: 0.2992 - dice_loss: 0.0799 - acc: 0.939 - ETA: 4s - loss: 0.2947 - dice_loss: 0.0796 - acc: 0.940 - ETA: 3s - loss: 0.2916 - dice_loss: 0.0786 - acc: 0.941 - ETA: 2s - loss: 0.2860 - dice_loss: 0.0773 - acc: 0.942 - ETA: 0s - loss: 0.2854 - dice_loss: 0.0766 - acc: 0.943 - 14s 162ms/step - loss: 0.2858 - dice_loss: 0.0767 - acc: 0.9425 - val_loss: 0.4701 - val_dice_loss: 0.0846 - val_acc: 0.9249\n",
      "\n",
      "Epoch 00056: val_loss did not improve from 0.43458\n",
      "Epoch 57/100\n",
      "86/86 [==============================] - ETA: 11s - loss: 0.3640 - dice_loss: 0.0920 - acc: 0.91 - ETA: 10s - loss: 0.3051 - dice_loss: 0.0779 - acc: 0.92 - ETA: 8s - loss: 0.2886 - dice_loss: 0.0762 - acc: 0.9351 - ETA: 7s - loss: 0.2863 - dice_loss: 0.0758 - acc: 0.937 - ETA: 6s - loss: 0.2898 - dice_loss: 0.0766 - acc: 0.937 - ETA: 5s - loss: 0.2869 - dice_loss: 0.0757 - acc: 0.939 - ETA: 4s - loss: 0.2862 - dice_loss: 0.0757 - acc: 0.940 - ETA: 3s - loss: 0.2900 - dice_loss: 0.0767 - acc: 0.940 - ETA: 2s - loss: 0.2890 - dice_loss: 0.0772 - acc: 0.940 - ETA: 0s - loss: 0.2898 - dice_loss: 0.0774 - acc: 0.940 - 14s 159ms/step - loss: 0.2839 - dice_loss: 0.0757 - acc: 0.9417 - val_loss: 0.4586 - val_dice_loss: 0.0865 - val_acc: 0.9246\n",
      "\n",
      "Epoch 00057: val_loss did not improve from 0.43458\n",
      "Epoch 58/100\n",
      "86/86 [==============================] - ETA: 10s - loss: 0.2696 - dice_loss: 0.0766 - acc: 0.94 - ETA: 9s - loss: 0.3036 - dice_loss: 0.0835 - acc: 0.9343 - ETA: 8s - loss: 0.3070 - dice_loss: 0.0826 - acc: 0.933 - ETA: 7s - loss: 0.2901 - dice_loss: 0.0782 - acc: 0.939 - ETA: 6s - loss: 0.2793 - dice_loss: 0.0752 - acc: 0.943 - ETA: 5s - loss: 0.2749 - dice_loss: 0.0741 - acc: 0.944 - ETA: 4s - loss: 0.2778 - dice_loss: 0.0744 - acc: 0.944 - ETA: 3s - loss: 0.2807 - dice_loss: 0.0746 - acc: 0.945 - ETA: 2s - loss: 0.2777 - dice_loss: 0.0741 - acc: 0.945 - ETA: 0s - loss: 0.2816 - dice_loss: 0.0749 - acc: 0.944 - 14s 158ms/step - loss: 0.2841 - dice_loss: 0.0757 - acc: 0.9437 - val_loss: 0.4785 - val_dice_loss: 0.0848 - val_acc: 0.9257\n",
      "\n",
      "Epoch 00058: val_loss did not improve from 0.43458\n",
      "Epoch 59/100\n"
     ]
    },
    {
     "name": "stdout",
     "output_type": "stream",
     "text": [
      "86/86 [==============================] - ETA: 11s - loss: 0.2707 - dice_loss: 0.0737 - acc: 0.94 - ETA: 11s - loss: 0.2792 - dice_loss: 0.0729 - acc: 0.93 - ETA: 10s - loss: 0.3095 - dice_loss: 0.0808 - acc: 0.93 - ETA: 8s - loss: 0.3157 - dice_loss: 0.0838 - acc: 0.9329 - ETA: 7s - loss: 0.3051 - dice_loss: 0.0805 - acc: 0.934 - ETA: 6s - loss: 0.3012 - dice_loss: 0.0795 - acc: 0.934 - ETA: 4s - loss: 0.2927 - dice_loss: 0.0779 - acc: 0.936 - ETA: 3s - loss: 0.2912 - dice_loss: 0.0775 - acc: 0.937 - ETA: 2s - loss: 0.2897 - dice_loss: 0.0775 - acc: 0.938 - ETA: 0s - loss: 0.2842 - dice_loss: 0.0759 - acc: 0.940 - 14s 165ms/step - loss: 0.2824 - dice_loss: 0.0760 - acc: 0.9419 - val_loss: 0.4729 - val_dice_loss: 0.0846 - val_acc: 0.9346\n",
      "\n",
      "Epoch 00059: val_loss did not improve from 0.43458\n",
      "Epoch 60/100\n",
      "86/86 [==============================] - ETA: 12s - loss: 0.3127 - dice_loss: 0.0800 - acc: 0.94 - ETA: 10s - loss: 0.2829 - dice_loss: 0.0740 - acc: 0.94 - ETA: 9s - loss: 0.2969 - dice_loss: 0.0770 - acc: 0.9403 - ETA: 8s - loss: 0.2857 - dice_loss: 0.0738 - acc: 0.941 - ETA: 6s - loss: 0.2874 - dice_loss: 0.0742 - acc: 0.939 - ETA: 5s - loss: 0.2839 - dice_loss: 0.0742 - acc: 0.939 - ETA: 4s - loss: 0.2839 - dice_loss: 0.0754 - acc: 0.939 - ETA: 3s - loss: 0.2828 - dice_loss: 0.0752 - acc: 0.940 - ETA: 2s - loss: 0.2791 - dice_loss: 0.0739 - acc: 0.941 - ETA: 0s - loss: 0.2807 - dice_loss: 0.0745 - acc: 0.942 - 14s 160ms/step - loss: 0.2827 - dice_loss: 0.0751 - acc: 0.9432 - val_loss: 0.4622 - val_dice_loss: 0.0842 - val_acc: 0.9331\n",
      "\n",
      "Epoch 00060: val_loss did not improve from 0.43458\n",
      "Epoch 61/100\n",
      "86/86 [==============================] - ETA: 11s - loss: 0.2924 - dice_loss: 0.0837 - acc: 0.94 - ETA: 10s - loss: 0.2628 - dice_loss: 0.0736 - acc: 0.94 - ETA: 9s - loss: 0.2771 - dice_loss: 0.0756 - acc: 0.9424 - ETA: 7s - loss: 0.2835 - dice_loss: 0.0769 - acc: 0.939 - ETA: 6s - loss: 0.2800 - dice_loss: 0.0749 - acc: 0.939 - ETA: 5s - loss: 0.2849 - dice_loss: 0.0772 - acc: 0.938 - ETA: 4s - loss: 0.2849 - dice_loss: 0.0769 - acc: 0.938 - ETA: 3s - loss: 0.2848 - dice_loss: 0.0766 - acc: 0.938 - ETA: 2s - loss: 0.2856 - dice_loss: 0.0766 - acc: 0.938 - ETA: 0s - loss: 0.2843 - dice_loss: 0.0762 - acc: 0.940 - 13s 154ms/step - loss: 0.2828 - dice_loss: 0.0756 - acc: 0.9406 - val_loss: 0.4850 - val_dice_loss: 0.0862 - val_acc: 0.9295\n",
      "\n",
      "Epoch 00061: val_loss did not improve from 0.43458\n",
      "Epoch 62/100\n",
      "86/86 [==============================] - ETA: 10s - loss: 0.3022 - dice_loss: 0.0797 - acc: 0.93 - ETA: 9s - loss: 0.3044 - dice_loss: 0.0811 - acc: 0.9380 - ETA: 8s - loss: 0.2750 - dice_loss: 0.0744 - acc: 0.944 - ETA: 7s - loss: 0.2584 - dice_loss: 0.0700 - acc: 0.947 - ETA: 6s - loss: 0.2664 - dice_loss: 0.0715 - acc: 0.943 - ETA: 5s - loss: 0.2643 - dice_loss: 0.0709 - acc: 0.943 - ETA: 4s - loss: 0.2755 - dice_loss: 0.0731 - acc: 0.941 - ETA: 3s - loss: 0.2750 - dice_loss: 0.0725 - acc: 0.943 - ETA: 2s - loss: 0.2776 - dice_loss: 0.0737 - acc: 0.943 - ETA: 0s - loss: 0.2762 - dice_loss: 0.0730 - acc: 0.944 - 14s 159ms/step - loss: 0.2785 - dice_loss: 0.0737 - acc: 0.9445 - val_loss: 0.4436 - val_dice_loss: 0.0855 - val_acc: 0.9305\n",
      "\n",
      "Epoch 00062: val_loss did not improve from 0.43458\n",
      "Epoch 63/100\n",
      "86/86 [==============================] - ETA: 11s - loss: 0.2807 - dice_loss: 0.0798 - acc: 0.94 - ETA: 10s - loss: 0.2744 - dice_loss: 0.0766 - acc: 0.94 - ETA: 8s - loss: 0.2768 - dice_loss: 0.0771 - acc: 0.9435 - ETA: 7s - loss: 0.2812 - dice_loss: 0.0774 - acc: 0.941 - ETA: 6s - loss: 0.2859 - dice_loss: 0.0770 - acc: 0.939 - ETA: 5s - loss: 0.2814 - dice_loss: 0.0760 - acc: 0.940 - ETA: 4s - loss: 0.2860 - dice_loss: 0.0776 - acc: 0.940 - ETA: 3s - loss: 0.2886 - dice_loss: 0.0779 - acc: 0.940 - ETA: 1s - loss: 0.2845 - dice_loss: 0.0772 - acc: 0.941 - ETA: 0s - loss: 0.2820 - dice_loss: 0.0763 - acc: 0.942 - 13s 153ms/step - loss: 0.2821 - dice_loss: 0.0761 - acc: 0.9432 - val_loss: 0.4670 - val_dice_loss: 0.0843 - val_acc: 0.9302\n",
      "\n",
      "Epoch 00063: val_loss did not improve from 0.43458\n",
      "Epoch 64/100\n",
      "86/86 [==============================] - ETA: 10s - loss: 0.2626 - dice_loss: 0.0718 - acc: 0.94 - ETA: 9s - loss: 0.2741 - dice_loss: 0.0733 - acc: 0.9481 - ETA: 8s - loss: 0.2836 - dice_loss: 0.0743 - acc: 0.943 - ETA: 7s - loss: 0.2918 - dice_loss: 0.0776 - acc: 0.940 - ETA: 6s - loss: 0.2912 - dice_loss: 0.0777 - acc: 0.940 - ETA: 5s - loss: 0.2849 - dice_loss: 0.0762 - acc: 0.942 - ETA: 4s - loss: 0.2871 - dice_loss: 0.0761 - acc: 0.942 - ETA: 3s - loss: 0.2841 - dice_loss: 0.0754 - acc: 0.943 - ETA: 1s - loss: 0.2851 - dice_loss: 0.0758 - acc: 0.943 - ETA: 0s - loss: 0.2831 - dice_loss: 0.0750 - acc: 0.944 - 13s 150ms/step - loss: 0.2801 - dice_loss: 0.0741 - acc: 0.9446 - val_loss: 0.4301 - val_dice_loss: 0.0864 - val_acc: 0.9231\n",
      "\n",
      "Epoch 00064: val_loss improved from 0.43458 to 0.43013, saving model to model-L-unet-aug.h5\n",
      "Epoch 65/100\n",
      "86/86 [==============================] - ETA: 10s - loss: 0.2989 - dice_loss: 0.0798 - acc: 0.93 - ETA: 9s - loss: 0.2968 - dice_loss: 0.0799 - acc: 0.9321 - ETA: 8s - loss: 0.3106 - dice_loss: 0.0836 - acc: 0.927 - ETA: 7s - loss: 0.3073 - dice_loss: 0.0816 - acc: 0.930 - ETA: 6s - loss: 0.2931 - dice_loss: 0.0775 - acc: 0.935 - ETA: 5s - loss: 0.2852 - dice_loss: 0.0759 - acc: 0.938 - ETA: 4s - loss: 0.2850 - dice_loss: 0.0751 - acc: 0.940 - ETA: 3s - loss: 0.2761 - dice_loss: 0.0732 - acc: 0.943 - ETA: 1s - loss: 0.2797 - dice_loss: 0.0744 - acc: 0.943 - ETA: 0s - loss: 0.2800 - dice_loss: 0.0750 - acc: 0.943 - 13s 150ms/step - loss: 0.2821 - dice_loss: 0.0757 - acc: 0.9422 - val_loss: 0.4462 - val_dice_loss: 0.0852 - val_acc: 0.9260\n",
      "\n",
      "Epoch 00065: val_loss did not improve from 0.43013\n",
      "Epoch 66/100\n",
      "86/86 [==============================] - ETA: 10s - loss: 0.2901 - dice_loss: 0.0758 - acc: 0.93 - ETA: 9s - loss: 0.2807 - dice_loss: 0.0735 - acc: 0.9419 - ETA: 8s - loss: 0.2849 - dice_loss: 0.0758 - acc: 0.942 - ETA: 7s - loss: 0.2850 - dice_loss: 0.0773 - acc: 0.943 - ETA: 6s - loss: 0.2800 - dice_loss: 0.0752 - acc: 0.944 - ETA: 5s - loss: 0.2734 - dice_loss: 0.0730 - acc: 0.946 - ETA: 4s - loss: 0.2695 - dice_loss: 0.0718 - acc: 0.947 - ETA: 3s - loss: 0.2761 - dice_loss: 0.0729 - acc: 0.946 - ETA: 1s - loss: 0.2783 - dice_loss: 0.0740 - acc: 0.946 - ETA: 0s - loss: 0.2781 - dice_loss: 0.0737 - acc: 0.945 - 13s 149ms/step - loss: 0.2767 - dice_loss: 0.0735 - acc: 0.9452 - val_loss: 0.4472 - val_dice_loss: 0.0859 - val_acc: 0.9257\n",
      "\n",
      "Epoch 00066: val_loss did not improve from 0.43013\n",
      "Epoch 67/100\n",
      "86/86 [==============================] - ETA: 10s - loss: 0.3091 - dice_loss: 0.0806 - acc: 0.93 - ETA: 9s - loss: 0.3192 - dice_loss: 0.0833 - acc: 0.9276 - ETA: 8s - loss: 0.3063 - dice_loss: 0.0802 - acc: 0.930 - ETA: 7s - loss: 0.3008 - dice_loss: 0.0797 - acc: 0.934 - ETA: 6s - loss: 0.2939 - dice_loss: 0.0780 - acc: 0.937 - ETA: 5s - loss: 0.2828 - dice_loss: 0.0752 - acc: 0.941 - ETA: 4s - loss: 0.2823 - dice_loss: 0.0754 - acc: 0.941 - ETA: 3s - loss: 0.2733 - dice_loss: 0.0735 - acc: 0.943 - ETA: 1s - loss: 0.2730 - dice_loss: 0.0733 - acc: 0.944 - ETA: 0s - loss: 0.2747 - dice_loss: 0.0734 - acc: 0.944 - 13s 152ms/step - loss: 0.2753 - dice_loss: 0.0737 - acc: 0.9443 - val_loss: 0.4710 - val_dice_loss: 0.0842 - val_acc: 0.9332\n",
      "\n",
      "Epoch 00067: val_loss did not improve from 0.43013\n",
      "Epoch 68/100\n",
      "86/86 [==============================] - ETA: 10s - loss: 0.2897 - dice_loss: 0.0716 - acc: 0.94 - ETA: 9s - loss: 0.2713 - dice_loss: 0.0685 - acc: 0.9460 - ETA: 8s - loss: 0.2892 - dice_loss: 0.0750 - acc: 0.941 - ETA: 7s - loss: 0.2965 - dice_loss: 0.0779 - acc: 0.940 - ETA: 6s - loss: 0.2890 - dice_loss: 0.0764 - acc: 0.941 - ETA: 5s - loss: 0.2794 - dice_loss: 0.0737 - acc: 0.943 - ETA: 4s - loss: 0.2743 - dice_loss: 0.0728 - acc: 0.944 - ETA: 3s - loss: 0.2805 - dice_loss: 0.0743 - acc: 0.942 - ETA: 2s - loss: 0.2747 - dice_loss: 0.0726 - acc: 0.942 - ETA: 0s - loss: 0.2733 - dice_loss: 0.0723 - acc: 0.942 - 13s 157ms/step - loss: 0.2728 - dice_loss: 0.0727 - acc: 0.9430 - val_loss: 0.4885 - val_dice_loss: 0.0854 - val_acc: 0.9305\n",
      "\n",
      "Epoch 00068: val_loss did not improve from 0.43013\n",
      "Epoch 69/100\n"
     ]
    },
    {
     "name": "stdout",
     "output_type": "stream",
     "text": [
      "86/86 [==============================] - ETA: 10s - loss: 0.2391 - dice_loss: 0.0651 - acc: 0.95 - ETA: 9s - loss: 0.2478 - dice_loss: 0.0665 - acc: 0.9523 - ETA: 8s - loss: 0.2402 - dice_loss: 0.0639 - acc: 0.953 - ETA: 7s - loss: 0.2484 - dice_loss: 0.0664 - acc: 0.951 - ETA: 6s - loss: 0.2559 - dice_loss: 0.0688 - acc: 0.950 - ETA: 5s - loss: 0.2632 - dice_loss: 0.0711 - acc: 0.948 - ETA: 4s - loss: 0.2716 - dice_loss: 0.0733 - acc: 0.945 - ETA: 3s - loss: 0.2715 - dice_loss: 0.0729 - acc: 0.945 - ETA: 1s - loss: 0.2710 - dice_loss: 0.0730 - acc: 0.945 - ETA: 0s - loss: 0.2745 - dice_loss: 0.0736 - acc: 0.943 - 13s 152ms/step - loss: 0.2713 - dice_loss: 0.0726 - acc: 0.9444 - val_loss: 0.4604 - val_dice_loss: 0.0834 - val_acc: 0.9306\n",
      "\n",
      "Epoch 00069: val_loss did not improve from 0.43013\n",
      "Epoch 70/100\n",
      "86/86 [==============================] - ETA: 11s - loss: 0.3327 - dice_loss: 0.0829 - acc: 0.92 - ETA: 9s - loss: 0.3055 - dice_loss: 0.0803 - acc: 0.9356 - ETA: 8s - loss: 0.2817 - dice_loss: 0.0748 - acc: 0.942 - ETA: 7s - loss: 0.2854 - dice_loss: 0.0755 - acc: 0.942 - ETA: 6s - loss: 0.2780 - dice_loss: 0.0730 - acc: 0.944 - ETA: 5s - loss: 0.2765 - dice_loss: 0.0737 - acc: 0.944 - ETA: 4s - loss: 0.2731 - dice_loss: 0.0732 - acc: 0.944 - ETA: 3s - loss: 0.2738 - dice_loss: 0.0730 - acc: 0.944 - ETA: 1s - loss: 0.2726 - dice_loss: 0.0727 - acc: 0.945 - ETA: 0s - loss: 0.2705 - dice_loss: 0.0719 - acc: 0.945 - 13s 153ms/step - loss: 0.2712 - dice_loss: 0.0724 - acc: 0.9450 - val_loss: 0.5081 - val_dice_loss: 0.0842 - val_acc: 0.9301\n",
      "\n",
      "Epoch 00070: val_loss did not improve from 0.43013\n",
      "Epoch 71/100\n",
      "86/86 [==============================] - ETA: 11s - loss: 0.2858 - dice_loss: 0.0743 - acc: 0.93 - ETA: 10s - loss: 0.3050 - dice_loss: 0.0812 - acc: 0.93 - ETA: 8s - loss: 0.2852 - dice_loss: 0.0745 - acc: 0.9403 - ETA: 7s - loss: 0.2816 - dice_loss: 0.0733 - acc: 0.940 - ETA: 6s - loss: 0.2729 - dice_loss: 0.0715 - acc: 0.941 - ETA: 5s - loss: 0.2777 - dice_loss: 0.0734 - acc: 0.940 - ETA: 4s - loss: 0.2778 - dice_loss: 0.0739 - acc: 0.939 - ETA: 3s - loss: 0.2782 - dice_loss: 0.0742 - acc: 0.939 - ETA: 1s - loss: 0.2742 - dice_loss: 0.0732 - acc: 0.940 - ETA: 0s - loss: 0.2738 - dice_loss: 0.0737 - acc: 0.941 - 13s 153ms/step - loss: 0.2717 - dice_loss: 0.0729 - acc: 0.9423 - val_loss: 0.4571 - val_dice_loss: 0.0844 - val_acc: 0.9362\n",
      "\n",
      "Epoch 00071: val_loss did not improve from 0.43013\n",
      "Epoch 72/100\n",
      "86/86 [==============================] - ETA: 11s - loss: 0.2015 - dice_loss: 0.0553 - acc: 0.96 - ETA: 9s - loss: 0.2570 - dice_loss: 0.0686 - acc: 0.9501 - ETA: 8s - loss: 0.2567 - dice_loss: 0.0683 - acc: 0.952 - ETA: 7s - loss: 0.2595 - dice_loss: 0.0685 - acc: 0.952 - ETA: 6s - loss: 0.2565 - dice_loss: 0.0672 - acc: 0.953 - ETA: 5s - loss: 0.2713 - dice_loss: 0.0708 - acc: 0.950 - ETA: 4s - loss: 0.2678 - dice_loss: 0.0717 - acc: 0.950 - ETA: 3s - loss: 0.2661 - dice_loss: 0.0710 - acc: 0.948 - ETA: 1s - loss: 0.2692 - dice_loss: 0.0712 - acc: 0.945 - ETA: 0s - loss: 0.2680 - dice_loss: 0.0714 - acc: 0.945 - 13s 151ms/step - loss: 0.2717 - dice_loss: 0.0723 - acc: 0.9441 - val_loss: 0.4722 - val_dice_loss: 0.0866 - val_acc: 0.9335\n",
      "\n",
      "Epoch 00072: val_loss did not improve from 0.43013\n",
      "Epoch 73/100\n",
      "86/86 [==============================] - ETA: 10s - loss: 0.3005 - dice_loss: 0.0801 - acc: 0.94 - ETA: 9s - loss: 0.2786 - dice_loss: 0.0762 - acc: 0.9515 - ETA: 8s - loss: 0.2808 - dice_loss: 0.0757 - acc: 0.952 - ETA: 7s - loss: 0.2733 - dice_loss: 0.0736 - acc: 0.953 - ETA: 6s - loss: 0.2640 - dice_loss: 0.0704 - acc: 0.954 - ETA: 5s - loss: 0.2629 - dice_loss: 0.0697 - acc: 0.952 - ETA: 4s - loss: 0.2740 - dice_loss: 0.0717 - acc: 0.947 - ETA: 3s - loss: 0.2759 - dice_loss: 0.0733 - acc: 0.946 - ETA: 1s - loss: 0.2770 - dice_loss: 0.0738 - acc: 0.945 - ETA: 0s - loss: 0.2730 - dice_loss: 0.0730 - acc: 0.945 - 13s 154ms/step - loss: 0.2723 - dice_loss: 0.0726 - acc: 0.9447 - val_loss: 0.4367 - val_dice_loss: 0.0869 - val_acc: 0.9298\n",
      "\n",
      "Epoch 00073: val_loss did not improve from 0.43013\n",
      "Epoch 74/100\n",
      "86/86 [==============================] - ETA: 10s - loss: 0.3534 - dice_loss: 0.0898 - acc: 0.93 - ETA: 9s - loss: 0.3120 - dice_loss: 0.0812 - acc: 0.9392 - ETA: 8s - loss: 0.2953 - dice_loss: 0.0778 - acc: 0.942 - ETA: 7s - loss: 0.2725 - dice_loss: 0.0725 - acc: 0.948 - ETA: 6s - loss: 0.2746 - dice_loss: 0.0723 - acc: 0.948 - ETA: 5s - loss: 0.2827 - dice_loss: 0.0745 - acc: 0.947 - ETA: 4s - loss: 0.2830 - dice_loss: 0.0746 - acc: 0.946 - ETA: 3s - loss: 0.2806 - dice_loss: 0.0740 - acc: 0.946 - ETA: 1s - loss: 0.2783 - dice_loss: 0.0739 - acc: 0.945 - ETA: 0s - loss: 0.2767 - dice_loss: 0.0734 - acc: 0.944 - 13s 149ms/step - loss: 0.2720 - dice_loss: 0.0725 - acc: 0.9450 - val_loss: 0.4865 - val_dice_loss: 0.0853 - val_acc: 0.9277\n",
      "\n",
      "Epoch 00074: val_loss did not improve from 0.43013\n",
      "Epoch 75/100\n",
      "86/86 [==============================] - ETA: 10s - loss: 0.2404 - dice_loss: 0.0681 - acc: 0.95 - ETA: 9s - loss: 0.2519 - dice_loss: 0.0696 - acc: 0.9498 - ETA: 8s - loss: 0.2510 - dice_loss: 0.0690 - acc: 0.950 - ETA: 7s - loss: 0.2536 - dice_loss: 0.0700 - acc: 0.952 - ETA: 6s - loss: 0.2585 - dice_loss: 0.0709 - acc: 0.952 - ETA: 5s - loss: 0.2708 - dice_loss: 0.0735 - acc: 0.949 - ETA: 4s - loss: 0.2702 - dice_loss: 0.0734 - acc: 0.948 - ETA: 3s - loss: 0.2749 - dice_loss: 0.0737 - acc: 0.946 - ETA: 1s - loss: 0.2767 - dice_loss: 0.0748 - acc: 0.946 - ETA: 0s - loss: 0.2745 - dice_loss: 0.0742 - acc: 0.945 - 13s 153ms/step - loss: 0.2728 - dice_loss: 0.0735 - acc: 0.9457 - val_loss: 0.4502 - val_dice_loss: 0.0843 - val_acc: 0.9292\n",
      "\n",
      "Epoch 00075: val_loss did not improve from 0.43013\n",
      "Epoch 76/100\n",
      "86/86 [==============================] - ETA: 10s - loss: 0.2643 - dice_loss: 0.0769 - acc: 0.94 - ETA: 9s - loss: 0.2956 - dice_loss: 0.0824 - acc: 0.9441 - ETA: 8s - loss: 0.2774 - dice_loss: 0.0771 - acc: 0.946 - ETA: 7s - loss: 0.2699 - dice_loss: 0.0760 - acc: 0.949 - ETA: 6s - loss: 0.2678 - dice_loss: 0.0750 - acc: 0.950 - ETA: 5s - loss: 0.2695 - dice_loss: 0.0743 - acc: 0.948 - ETA: 4s - loss: 0.2783 - dice_loss: 0.0754 - acc: 0.944 - ETA: 3s - loss: 0.2728 - dice_loss: 0.0736 - acc: 0.944 - ETA: 1s - loss: 0.2739 - dice_loss: 0.0732 - acc: 0.944 - ETA: 0s - loss: 0.2759 - dice_loss: 0.0735 - acc: 0.942 - 13s 153ms/step - loss: 0.2722 - dice_loss: 0.0723 - acc: 0.9433 - val_loss: 0.4442 - val_dice_loss: 0.0864 - val_acc: 0.9280\n",
      "\n",
      "Epoch 00076: val_loss did not improve from 0.43013\n",
      "Epoch 77/100\n",
      "86/86 [==============================] - ETA: 11s - loss: 0.2752 - dice_loss: 0.0752 - acc: 0.93 - ETA: 10s - loss: 0.2706 - dice_loss: 0.0735 - acc: 0.94 - ETA: 9s - loss: 0.2681 - dice_loss: 0.0739 - acc: 0.9439 - ETA: 8s - loss: 0.2666 - dice_loss: 0.0724 - acc: 0.945 - ETA: 7s - loss: 0.2584 - dice_loss: 0.0714 - acc: 0.947 - ETA: 5s - loss: 0.2556 - dice_loss: 0.0700 - acc: 0.949 - ETA: 4s - loss: 0.2581 - dice_loss: 0.0703 - acc: 0.948 - ETA: 3s - loss: 0.2676 - dice_loss: 0.0721 - acc: 0.946 - ETA: 2s - loss: 0.2652 - dice_loss: 0.0713 - acc: 0.946 - ETA: 0s - loss: 0.2643 - dice_loss: 0.0712 - acc: 0.947 - 14s 164ms/step - loss: 0.2695 - dice_loss: 0.0725 - acc: 0.9456 - val_loss: 0.4739 - val_dice_loss: 0.0833 - val_acc: 0.9233\n",
      "\n",
      "Epoch 00077: val_loss did not improve from 0.43013\n",
      "Epoch 78/100\n",
      "86/86 [==============================] - ETA: 11s - loss: 0.2323 - dice_loss: 0.0597 - acc: 0.94 - ETA: 10s - loss: 0.2636 - dice_loss: 0.0679 - acc: 0.93 - ETA: 9s - loss: 0.2723 - dice_loss: 0.0718 - acc: 0.9369 - ETA: 7s - loss: 0.2695 - dice_loss: 0.0722 - acc: 0.938 - ETA: 6s - loss: 0.2630 - dice_loss: 0.0699 - acc: 0.942 - ETA: 5s - loss: 0.2658 - dice_loss: 0.0699 - acc: 0.943 - ETA: 4s - loss: 0.2628 - dice_loss: 0.0701 - acc: 0.946 - ETA: 3s - loss: 0.2682 - dice_loss: 0.0718 - acc: 0.945 - ETA: 1s - loss: 0.2684 - dice_loss: 0.0719 - acc: 0.945 - ETA: 0s - loss: 0.2705 - dice_loss: 0.0725 - acc: 0.945 - 13s 152ms/step - loss: 0.2692 - dice_loss: 0.0721 - acc: 0.9451 - val_loss: 0.4950 - val_dice_loss: 0.0853 - val_acc: 0.9295\n",
      "\n",
      "Epoch 00078: val_loss did not improve from 0.43013\n",
      "Epoch 79/100\n"
     ]
    },
    {
     "name": "stdout",
     "output_type": "stream",
     "text": [
      "86/86 [==============================] - ETA: 10s - loss: 0.3064 - dice_loss: 0.0778 - acc: 0.93 - ETA: 9s - loss: 0.2895 - dice_loss: 0.0741 - acc: 0.9414 - ETA: 8s - loss: 0.2794 - dice_loss: 0.0730 - acc: 0.943 - ETA: 7s - loss: 0.2687 - dice_loss: 0.0700 - acc: 0.945 - ETA: 6s - loss: 0.2680 - dice_loss: 0.0707 - acc: 0.947 - ETA: 5s - loss: 0.2633 - dice_loss: 0.0704 - acc: 0.948 - ETA: 4s - loss: 0.2672 - dice_loss: 0.0707 - acc: 0.946 - ETA: 3s - loss: 0.2646 - dice_loss: 0.0703 - acc: 0.947 - ETA: 2s - loss: 0.2640 - dice_loss: 0.0699 - acc: 0.947 - ETA: 0s - loss: 0.2629 - dice_loss: 0.0699 - acc: 0.947 - 13s 155ms/step - loss: 0.2677 - dice_loss: 0.0710 - acc: 0.9461 - val_loss: 0.4909 - val_dice_loss: 0.0844 - val_acc: 0.9269\n",
      "\n",
      "Epoch 00079: val_loss did not improve from 0.43013\n",
      "Epoch 80/100\n",
      "86/86 [==============================] - ETA: 10s - loss: 0.2442 - dice_loss: 0.0672 - acc: 0.94 - ETA: 9s - loss: 0.2518 - dice_loss: 0.0674 - acc: 0.9430 - ETA: 8s - loss: 0.2503 - dice_loss: 0.0679 - acc: 0.942 - ETA: 7s - loss: 0.2587 - dice_loss: 0.0697 - acc: 0.943 - ETA: 6s - loss: 0.2646 - dice_loss: 0.0712 - acc: 0.943 - ETA: 5s - loss: 0.2735 - dice_loss: 0.0734 - acc: 0.942 - ETA: 4s - loss: 0.2728 - dice_loss: 0.0739 - acc: 0.943 - ETA: 3s - loss: 0.2750 - dice_loss: 0.0744 - acc: 0.943 - ETA: 2s - loss: 0.2706 - dice_loss: 0.0728 - acc: 0.944 - ETA: 0s - loss: 0.2674 - dice_loss: 0.0718 - acc: 0.945 - 13s 153ms/step - loss: 0.2682 - dice_loss: 0.0720 - acc: 0.9451 - val_loss: 0.4857 - val_dice_loss: 0.0834 - val_acc: 0.9308\n",
      "\n",
      "Epoch 00080: val_loss did not improve from 0.43013\n",
      "Epoch 81/100\n",
      "86/86 [==============================] - ETA: 10s - loss: 0.2689 - dice_loss: 0.0726 - acc: 0.94 - ETA: 9s - loss: 0.2630 - dice_loss: 0.0701 - acc: 0.9453 - ETA: 8s - loss: 0.2562 - dice_loss: 0.0687 - acc: 0.946 - ETA: 7s - loss: 0.2567 - dice_loss: 0.0695 - acc: 0.945 - ETA: 6s - loss: 0.2616 - dice_loss: 0.0704 - acc: 0.944 - ETA: 5s - loss: 0.2664 - dice_loss: 0.0721 - acc: 0.943 - ETA: 4s - loss: 0.2721 - dice_loss: 0.0732 - acc: 0.941 - ETA: 3s - loss: 0.2701 - dice_loss: 0.0722 - acc: 0.942 - ETA: 1s - loss: 0.2625 - dice_loss: 0.0704 - acc: 0.944 - ETA: 0s - loss: 0.2667 - dice_loss: 0.0718 - acc: 0.942 - 13s 151ms/step - loss: 0.2677 - dice_loss: 0.0718 - acc: 0.9428 - val_loss: 0.4766 - val_dice_loss: 0.0845 - val_acc: 0.9272\n",
      "\n",
      "Epoch 00081: val_loss did not improve from 0.43013\n",
      "Epoch 82/100\n",
      "86/86 [==============================] - ETA: 11s - loss: 0.2665 - dice_loss: 0.0698 - acc: 0.94 - ETA: 10s - loss: 0.2648 - dice_loss: 0.0699 - acc: 0.94 - ETA: 9s - loss: 0.2586 - dice_loss: 0.0680 - acc: 0.9456 - ETA: 8s - loss: 0.2585 - dice_loss: 0.0687 - acc: 0.945 - ETA: 6s - loss: 0.2547 - dice_loss: 0.0681 - acc: 0.947 - ETA: 5s - loss: 0.2631 - dice_loss: 0.0706 - acc: 0.945 - ETA: 4s - loss: 0.2563 - dice_loss: 0.0685 - acc: 0.946 - ETA: 3s - loss: 0.2599 - dice_loss: 0.0699 - acc: 0.945 - ETA: 2s - loss: 0.2614 - dice_loss: 0.0707 - acc: 0.945 - ETA: 0s - loss: 0.2653 - dice_loss: 0.0713 - acc: 0.944 - 13s 156ms/step - loss: 0.2681 - dice_loss: 0.0717 - acc: 0.9441 - val_loss: 0.5085 - val_dice_loss: 0.0839 - val_acc: 0.9357\n",
      "\n",
      "Epoch 00082: val_loss did not improve from 0.43013\n",
      "Epoch 83/100\n",
      "86/86 [==============================] - ETA: 11s - loss: 0.2495 - dice_loss: 0.0699 - acc: 0.95 - ETA: 9s - loss: 0.2588 - dice_loss: 0.0691 - acc: 0.9532 - ETA: 8s - loss: 0.2559 - dice_loss: 0.0694 - acc: 0.952 - ETA: 7s - loss: 0.2564 - dice_loss: 0.0690 - acc: 0.951 - ETA: 6s - loss: 0.2734 - dice_loss: 0.0734 - acc: 0.946 - ETA: 5s - loss: 0.2690 - dice_loss: 0.0722 - acc: 0.945 - ETA: 4s - loss: 0.2736 - dice_loss: 0.0732 - acc: 0.943 - ETA: 3s - loss: 0.2687 - dice_loss: 0.0718 - acc: 0.943 - ETA: 2s - loss: 0.2669 - dice_loss: 0.0716 - acc: 0.944 - ETA: 0s - loss: 0.2687 - dice_loss: 0.0720 - acc: 0.943 - 13s 156ms/step - loss: 0.2675 - dice_loss: 0.0718 - acc: 0.9447 - val_loss: 0.4657 - val_dice_loss: 0.0837 - val_acc: 0.9374\n",
      "\n",
      "Epoch 00083: val_loss did not improve from 0.43013\n",
      "Epoch 84/100\n",
      "86/86 [==============================] - ETA: 11s - loss: 0.2593 - dice_loss: 0.0775 - acc: 0.95 - ETA: 10s - loss: 0.2753 - dice_loss: 0.0757 - acc: 0.94 - ETA: 8s - loss: 0.2719 - dice_loss: 0.0740 - acc: 0.9479 - ETA: 7s - loss: 0.2798 - dice_loss: 0.0749 - acc: 0.945 - ETA: 6s - loss: 0.2666 - dice_loss: 0.0724 - acc: 0.947 - ETA: 5s - loss: 0.2625 - dice_loss: 0.0709 - acc: 0.948 - ETA: 4s - loss: 0.2610 - dice_loss: 0.0699 - acc: 0.948 - ETA: 3s - loss: 0.2684 - dice_loss: 0.0716 - acc: 0.947 - ETA: 2s - loss: 0.2657 - dice_loss: 0.0706 - acc: 0.948 - ETA: 0s - loss: 0.2645 - dice_loss: 0.0701 - acc: 0.948 - 13s 156ms/step - loss: 0.2667 - dice_loss: 0.0709 - acc: 0.9478 - val_loss: 0.4784 - val_dice_loss: 0.0833 - val_acc: 0.9337\n",
      "\n",
      "Epoch 00084: val_loss did not improve from 0.43013\n",
      "Epoch 85/100\n",
      "86/86 [==============================] - ETA: 10s - loss: 0.2321 - dice_loss: 0.0670 - acc: 0.95 - ETA: 9s - loss: 0.2207 - dice_loss: 0.0638 - acc: 0.9571 - ETA: 8s - loss: 0.2443 - dice_loss: 0.0675 - acc: 0.950 - ETA: 7s - loss: 0.2500 - dice_loss: 0.0690 - acc: 0.948 - ETA: 6s - loss: 0.2591 - dice_loss: 0.0709 - acc: 0.945 - ETA: 5s - loss: 0.2578 - dice_loss: 0.0702 - acc: 0.945 - ETA: 4s - loss: 0.2607 - dice_loss: 0.0713 - acc: 0.945 - ETA: 3s - loss: 0.2660 - dice_loss: 0.0723 - acc: 0.945 - ETA: 2s - loss: 0.2667 - dice_loss: 0.0721 - acc: 0.945 - ETA: 0s - loss: 0.2680 - dice_loss: 0.0726 - acc: 0.945 - 13s 156ms/step - loss: 0.2720 - dice_loss: 0.0733 - acc: 0.9454 - val_loss: 0.4379 - val_dice_loss: 0.0820 - val_acc: 0.9344\n",
      "\n",
      "Epoch 00085: val_loss did not improve from 0.43013\n",
      "Epoch 86/100\n",
      "86/86 [==============================] - ETA: 10s - loss: 0.2344 - dice_loss: 0.0640 - acc: 0.94 - ETA: 9s - loss: 0.2467 - dice_loss: 0.0662 - acc: 0.9473 - ETA: 8s - loss: 0.2625 - dice_loss: 0.0712 - acc: 0.945 - ETA: 7s - loss: 0.2571 - dice_loss: 0.0687 - acc: 0.945 - ETA: 6s - loss: 0.2567 - dice_loss: 0.0690 - acc: 0.946 - ETA: 5s - loss: 0.2713 - dice_loss: 0.0720 - acc: 0.942 - ETA: 4s - loss: 0.2684 - dice_loss: 0.0719 - acc: 0.942 - ETA: 3s - loss: 0.2735 - dice_loss: 0.0736 - acc: 0.943 - ETA: 2s - loss: 0.2703 - dice_loss: 0.0730 - acc: 0.943 - ETA: 0s - loss: 0.2694 - dice_loss: 0.0725 - acc: 0.944 - 13s 157ms/step - loss: 0.2669 - dice_loss: 0.0716 - acc: 0.9442 - val_loss: 0.4755 - val_dice_loss: 0.0839 - val_acc: 0.9314\n",
      "\n",
      "Epoch 00086: val_loss did not improve from 0.43013\n",
      "Epoch 87/100\n",
      "86/86 [==============================] - ETA: 12s - loss: 0.2981 - dice_loss: 0.0827 - acc: 0.94 - ETA: 10s - loss: 0.3192 - dice_loss: 0.0850 - acc: 0.93 - ETA: 9s - loss: 0.2898 - dice_loss: 0.0776 - acc: 0.9397 - ETA: 8s - loss: 0.2843 - dice_loss: 0.0760 - acc: 0.942 - ETA: 6s - loss: 0.2712 - dice_loss: 0.0722 - acc: 0.944 - ETA: 5s - loss: 0.2685 - dice_loss: 0.0716 - acc: 0.945 - ETA: 4s - loss: 0.2739 - dice_loss: 0.0726 - acc: 0.945 - ETA: 3s - loss: 0.2710 - dice_loss: 0.0722 - acc: 0.945 - ETA: 2s - loss: 0.2673 - dice_loss: 0.0710 - acc: 0.945 - ETA: 0s - loss: 0.2692 - dice_loss: 0.0714 - acc: 0.944 - 14s 160ms/step - loss: 0.2686 - dice_loss: 0.0714 - acc: 0.9439 - val_loss: 0.4698 - val_dice_loss: 0.0865 - val_acc: 0.9348\n",
      "\n",
      "Epoch 00087: val_loss did not improve from 0.43013\n",
      "Epoch 88/100\n",
      "86/86 [==============================] - ETA: 10s - loss: 0.2581 - dice_loss: 0.0701 - acc: 0.95 - ETA: 9s - loss: 0.2287 - dice_loss: 0.0620 - acc: 0.9583 - ETA: 8s - loss: 0.2333 - dice_loss: 0.0626 - acc: 0.959 - ETA: 7s - loss: 0.2560 - dice_loss: 0.0686 - acc: 0.957 - ETA: 6s - loss: 0.2538 - dice_loss: 0.0679 - acc: 0.956 - ETA: 5s - loss: 0.2559 - dice_loss: 0.0680 - acc: 0.954 - ETA: 4s - loss: 0.2653 - dice_loss: 0.0709 - acc: 0.950 - ETA: 3s - loss: 0.2628 - dice_loss: 0.0703 - acc: 0.950 - ETA: 2s - loss: 0.2653 - dice_loss: 0.0707 - acc: 0.948 - ETA: 0s - loss: 0.2716 - dice_loss: 0.0724 - acc: 0.946 - 13s 154ms/step - loss: 0.2656 - dice_loss: 0.0710 - acc: 0.9474 - val_loss: 0.4717 - val_dice_loss: 0.0847 - val_acc: 0.9299\n",
      "\n",
      "Epoch 00088: val_loss did not improve from 0.43013\n",
      "Epoch 89/100\n"
     ]
    },
    {
     "name": "stdout",
     "output_type": "stream",
     "text": [
      "86/86 [==============================] - ETA: 11s - loss: 0.2981 - dice_loss: 0.0771 - acc: 0.93 - ETA: 9s - loss: 0.2613 - dice_loss: 0.0686 - acc: 0.9454 - ETA: 8s - loss: 0.2487 - dice_loss: 0.0673 - acc: 0.949 - ETA: 7s - loss: 0.2514 - dice_loss: 0.0691 - acc: 0.949 - ETA: 6s - loss: 0.2492 - dice_loss: 0.0690 - acc: 0.950 - ETA: 5s - loss: 0.2523 - dice_loss: 0.0686 - acc: 0.949 - ETA: 4s - loss: 0.2549 - dice_loss: 0.0691 - acc: 0.947 - ETA: 3s - loss: 0.2528 - dice_loss: 0.0686 - acc: 0.947 - ETA: 2s - loss: 0.2535 - dice_loss: 0.0687 - acc: 0.946 - ETA: 0s - loss: 0.2613 - dice_loss: 0.0702 - acc: 0.944 - 13s 156ms/step - loss: 0.2645 - dice_loss: 0.0709 - acc: 0.9440 - val_loss: 0.4818 - val_dice_loss: 0.0837 - val_acc: 0.9304\n",
      "\n",
      "Epoch 00089: val_loss did not improve from 0.43013\n",
      "Epoch 90/100\n",
      "86/86 [==============================] - ETA: 11s - loss: 0.2765 - dice_loss: 0.0732 - acc: 0.94 - ETA: 9s - loss: 0.2795 - dice_loss: 0.0744 - acc: 0.9418 - ETA: 8s - loss: 0.2690 - dice_loss: 0.0715 - acc: 0.944 - ETA: 7s - loss: 0.2710 - dice_loss: 0.0728 - acc: 0.944 - ETA: 6s - loss: 0.2730 - dice_loss: 0.0737 - acc: 0.943 - ETA: 5s - loss: 0.2727 - dice_loss: 0.0734 - acc: 0.943 - ETA: 4s - loss: 0.2712 - dice_loss: 0.0727 - acc: 0.944 - ETA: 3s - loss: 0.2693 - dice_loss: 0.0719 - acc: 0.944 - ETA: 1s - loss: 0.2657 - dice_loss: 0.0711 - acc: 0.945 - ETA: 0s - loss: 0.2639 - dice_loss: 0.0711 - acc: 0.945 - 13s 152ms/step - loss: 0.2634 - dice_loss: 0.0708 - acc: 0.9459 - val_loss: 0.4636 - val_dice_loss: 0.0818 - val_acc: 0.9348\n",
      "\n",
      "Epoch 00090: val_loss did not improve from 0.43013\n",
      "Epoch 91/100\n",
      "86/86 [==============================] - ETA: 10s - loss: 0.2282 - dice_loss: 0.0583 - acc: 0.95 - ETA: 9s - loss: 0.2285 - dice_loss: 0.0598 - acc: 0.9537 - ETA: 8s - loss: 0.2586 - dice_loss: 0.0675 - acc: 0.948 - ETA: 7s - loss: 0.2645 - dice_loss: 0.0695 - acc: 0.947 - ETA: 6s - loss: 0.2590 - dice_loss: 0.0686 - acc: 0.947 - ETA: 5s - loss: 0.2593 - dice_loss: 0.0693 - acc: 0.948 - ETA: 4s - loss: 0.2594 - dice_loss: 0.0693 - acc: 0.948 - ETA: 3s - loss: 0.2655 - dice_loss: 0.0708 - acc: 0.947 - ETA: 1s - loss: 0.2642 - dice_loss: 0.0702 - acc: 0.947 - ETA: 0s - loss: 0.2626 - dice_loss: 0.0698 - acc: 0.947 - 13s 151ms/step - loss: 0.2623 - dice_loss: 0.0702 - acc: 0.9474 - val_loss: 0.4605 - val_dice_loss: 0.0837 - val_acc: 0.9292\n",
      "\n",
      "Epoch 00091: val_loss did not improve from 0.43013\n",
      "Epoch 92/100\n",
      "86/86 [==============================] - ETA: 10s - loss: 0.2781 - dice_loss: 0.0715 - acc: 0.93 - ETA: 9s - loss: 0.2643 - dice_loss: 0.0713 - acc: 0.9432 - ETA: 8s - loss: 0.2798 - dice_loss: 0.0751 - acc: 0.940 - ETA: 7s - loss: 0.2767 - dice_loss: 0.0735 - acc: 0.941 - ETA: 6s - loss: 0.2741 - dice_loss: 0.0733 - acc: 0.942 - ETA: 5s - loss: 0.2721 - dice_loss: 0.0735 - acc: 0.943 - ETA: 4s - loss: 0.2669 - dice_loss: 0.0720 - acc: 0.943 - ETA: 3s - loss: 0.2633 - dice_loss: 0.0707 - acc: 0.944 - ETA: 1s - loss: 0.2554 - dice_loss: 0.0683 - acc: 0.945 - ETA: 0s - loss: 0.2579 - dice_loss: 0.0692 - acc: 0.945 - 13s 153ms/step - loss: 0.2618 - dice_loss: 0.0700 - acc: 0.9442 - val_loss: 0.4827 - val_dice_loss: 0.0838 - val_acc: 0.9302\n",
      "\n",
      "Epoch 00092: val_loss did not improve from 0.43013\n",
      "Epoch 93/100\n",
      "86/86 [==============================] - ETA: 11s - loss: 0.2723 - dice_loss: 0.0740 - acc: 0.94 - ETA: 9s - loss: 0.2529 - dice_loss: 0.0670 - acc: 0.9470 - ETA: 8s - loss: 0.2598 - dice_loss: 0.0689 - acc: 0.943 - ETA: 7s - loss: 0.2652 - dice_loss: 0.0704 - acc: 0.942 - ETA: 6s - loss: 0.2679 - dice_loss: 0.0717 - acc: 0.941 - ETA: 5s - loss: 0.2626 - dice_loss: 0.0705 - acc: 0.943 - ETA: 4s - loss: 0.2671 - dice_loss: 0.0717 - acc: 0.942 - ETA: 3s - loss: 0.2654 - dice_loss: 0.0716 - acc: 0.942 - ETA: 1s - loss: 0.2621 - dice_loss: 0.0706 - acc: 0.943 - ETA: 0s - loss: 0.2616 - dice_loss: 0.0701 - acc: 0.943 - 13s 154ms/step - loss: 0.2611 - dice_loss: 0.0700 - acc: 0.9432 - val_loss: 0.4731 - val_dice_loss: 0.0829 - val_acc: 0.9352\n",
      "\n",
      "Epoch 00093: val_loss did not improve from 0.43013\n",
      "Epoch 94/100\n",
      "86/86 [==============================] - ETA: 10s - loss: 0.2911 - dice_loss: 0.0775 - acc: 0.94 - ETA: 9s - loss: 0.2499 - dice_loss: 0.0680 - acc: 0.9516 - ETA: 8s - loss: 0.2614 - dice_loss: 0.0695 - acc: 0.949 - ETA: 7s - loss: 0.2534 - dice_loss: 0.0669 - acc: 0.950 - ETA: 6s - loss: 0.2627 - dice_loss: 0.0697 - acc: 0.948 - ETA: 5s - loss: 0.2607 - dice_loss: 0.0696 - acc: 0.947 - ETA: 4s - loss: 0.2532 - dice_loss: 0.0678 - acc: 0.948 - ETA: 3s - loss: 0.2553 - dice_loss: 0.0686 - acc: 0.948 - ETA: 1s - loss: 0.2555 - dice_loss: 0.0682 - acc: 0.947 - ETA: 0s - loss: 0.2557 - dice_loss: 0.0689 - acc: 0.947 - 13s 152ms/step - loss: 0.2611 - dice_loss: 0.0699 - acc: 0.9466 - val_loss: 0.4961 - val_dice_loss: 0.0832 - val_acc: 0.9349\n",
      "\n",
      "Epoch 00094: val_loss did not improve from 0.43013\n",
      "Epoch 95/100\n",
      "86/86 [==============================] - ETA: 11s - loss: 0.3030 - dice_loss: 0.0794 - acc: 0.94 - ETA: 10s - loss: 0.2942 - dice_loss: 0.0789 - acc: 0.94 - ETA: 8s - loss: 0.2735 - dice_loss: 0.0737 - acc: 0.9454 - ETA: 7s - loss: 0.2799 - dice_loss: 0.0765 - acc: 0.944 - ETA: 6s - loss: 0.2741 - dice_loss: 0.0757 - acc: 0.946 - ETA: 5s - loss: 0.2738 - dice_loss: 0.0754 - acc: 0.945 - ETA: 4s - loss: 0.2748 - dice_loss: 0.0753 - acc: 0.943 - ETA: 3s - loss: 0.2705 - dice_loss: 0.0735 - acc: 0.944 - ETA: 1s - loss: 0.2647 - dice_loss: 0.0716 - acc: 0.944 - ETA: 0s - loss: 0.2608 - dice_loss: 0.0702 - acc: 0.945 - 13s 155ms/step - loss: 0.2606 - dice_loss: 0.0700 - acc: 0.9450 - val_loss: 0.4863 - val_dice_loss: 0.0841 - val_acc: 0.9349\n",
      "\n",
      "Epoch 00095: val_loss did not improve from 0.43013\n",
      "Epoch 96/100\n",
      "86/86 [==============================] - ETA: 11s - loss: 0.3035 - dice_loss: 0.0840 - acc: 0.93 - ETA: 10s - loss: 0.2798 - dice_loss: 0.0766 - acc: 0.94 - ETA: 9s - loss: 0.2714 - dice_loss: 0.0734 - acc: 0.9457 - ETA: 7s - loss: 0.2661 - dice_loss: 0.0717 - acc: 0.948 - ETA: 6s - loss: 0.2637 - dice_loss: 0.0720 - acc: 0.949 - ETA: 5s - loss: 0.2567 - dice_loss: 0.0694 - acc: 0.950 - ETA: 4s - loss: 0.2560 - dice_loss: 0.0687 - acc: 0.949 - ETA: 3s - loss: 0.2559 - dice_loss: 0.0694 - acc: 0.948 - ETA: 2s - loss: 0.2572 - dice_loss: 0.0691 - acc: 0.947 - ETA: 0s - loss: 0.2601 - dice_loss: 0.0697 - acc: 0.946 - 13s 155ms/step - loss: 0.2603 - dice_loss: 0.0697 - acc: 0.9461 - val_loss: 0.4829 - val_dice_loss: 0.0830 - val_acc: 0.9326\n",
      "\n",
      "Epoch 00096: val_loss did not improve from 0.43013\n",
      "Epoch 97/100\n",
      "86/86 [==============================] - ETA: 11s - loss: 0.3098 - dice_loss: 0.0861 - acc: 0.93 - ETA: 10s - loss: 0.2562 - dice_loss: 0.0709 - acc: 0.95 - ETA: 9s - loss: 0.2566 - dice_loss: 0.0704 - acc: 0.9482 - ETA: 7s - loss: 0.2658 - dice_loss: 0.0723 - acc: 0.946 - ETA: 6s - loss: 0.2605 - dice_loss: 0.0706 - acc: 0.947 - ETA: 5s - loss: 0.2576 - dice_loss: 0.0696 - acc: 0.947 - ETA: 4s - loss: 0.2615 - dice_loss: 0.0704 - acc: 0.946 - ETA: 3s - loss: 0.2621 - dice_loss: 0.0704 - acc: 0.945 - ETA: 1s - loss: 0.2594 - dice_loss: 0.0697 - acc: 0.944 - ETA: 0s - loss: 0.2604 - dice_loss: 0.0700 - acc: 0.944 - 13s 153ms/step - loss: 0.2603 - dice_loss: 0.0700 - acc: 0.9443 - val_loss: 0.4902 - val_dice_loss: 0.0829 - val_acc: 0.9370\n",
      "\n",
      "Epoch 00097: val_loss did not improve from 0.43013\n",
      "Epoch 98/100\n",
      "86/86 [==============================] - ETA: 10s - loss: 0.2645 - dice_loss: 0.0695 - acc: 0.94 - ETA: 9s - loss: 0.2718 - dice_loss: 0.0705 - acc: 0.9451 - ETA: 8s - loss: 0.2744 - dice_loss: 0.0720 - acc: 0.946 - ETA: 7s - loss: 0.2679 - dice_loss: 0.0707 - acc: 0.949 - ETA: 6s - loss: 0.2608 - dice_loss: 0.0692 - acc: 0.950 - ETA: 5s - loss: 0.2560 - dice_loss: 0.0684 - acc: 0.950 - ETA: 4s - loss: 0.2525 - dice_loss: 0.0684 - acc: 0.950 - ETA: 3s - loss: 0.2527 - dice_loss: 0.0681 - acc: 0.949 - ETA: 1s - loss: 0.2591 - dice_loss: 0.0695 - acc: 0.946 - ETA: 0s - loss: 0.2586 - dice_loss: 0.0695 - acc: 0.945 - 13s 149ms/step - loss: 0.2595 - dice_loss: 0.0694 - acc: 0.9457 - val_loss: 0.4911 - val_dice_loss: 0.0830 - val_acc: 0.9326\n",
      "\n",
      "Epoch 00098: val_loss did not improve from 0.43013\n",
      "Epoch 99/100\n"
     ]
    },
    {
     "name": "stdout",
     "output_type": "stream",
     "text": [
      "86/86 [==============================] - ETA: 10s - loss: 0.2594 - dice_loss: 0.0707 - acc: 0.94 - ETA: 9s - loss: 0.2416 - dice_loss: 0.0639 - acc: 0.9510 - ETA: 8s - loss: 0.2563 - dice_loss: 0.0672 - acc: 0.947 - ETA: 7s - loss: 0.2683 - dice_loss: 0.0702 - acc: 0.946 - ETA: 6s - loss: 0.2633 - dice_loss: 0.0706 - acc: 0.948 - ETA: 5s - loss: 0.2616 - dice_loss: 0.0701 - acc: 0.949 - ETA: 4s - loss: 0.2641 - dice_loss: 0.0702 - acc: 0.947 - ETA: 3s - loss: 0.2563 - dice_loss: 0.0691 - acc: 0.949 - ETA: 2s - loss: 0.2619 - dice_loss: 0.0704 - acc: 0.947 - ETA: 0s - loss: 0.2610 - dice_loss: 0.0700 - acc: 0.947 - 14s 159ms/step - loss: 0.2595 - dice_loss: 0.0697 - acc: 0.9475 - val_loss: 0.4811 - val_dice_loss: 0.0832 - val_acc: 0.9308\n",
      "\n",
      "Epoch 00099: val_loss did not improve from 0.43013\n",
      "Epoch 100/100\n",
      "86/86 [==============================] - ETA: 11s - loss: 0.2685 - dice_loss: 0.0766 - acc: 0.94 - ETA: 10s - loss: 0.2670 - dice_loss: 0.0737 - acc: 0.94 - ETA: 8s - loss: 0.2776 - dice_loss: 0.0758 - acc: 0.9419 - ETA: 7s - loss: 0.2646 - dice_loss: 0.0716 - acc: 0.944 - ETA: 6s - loss: 0.2598 - dice_loss: 0.0699 - acc: 0.945 - ETA: 5s - loss: 0.2558 - dice_loss: 0.0687 - acc: 0.946 - ETA: 4s - loss: 0.2601 - dice_loss: 0.0697 - acc: 0.945 - ETA: 3s - loss: 0.2563 - dice_loss: 0.0693 - acc: 0.946 - ETA: 1s - loss: 0.2527 - dice_loss: 0.0680 - acc: 0.946 - ETA: 0s - loss: 0.2560 - dice_loss: 0.0686 - acc: 0.945 - 13s 154ms/step - loss: 0.2584 - dice_loss: 0.0692 - acc: 0.9449 - val_loss: 0.4884 - val_dice_loss: 0.0832 - val_acc: 0.9309\n",
      "\n",
      "Epoch 00100: val_loss did not improve from 0.43013\n"
     ]
    }
   ],
   "source": [
    "# Fit model\n",
    "earlystopper = EarlyStopping(patience=5, verbose=1)\n",
    "checkpointer = ModelCheckpoint('model-L-unet-aug.h5', verbose=1, save_best_only=True)\n",
    "history = model.fit(X_train, Y_train, validation_data=[X_val, Y_val], batch_size=8, epochs=100, \n",
    "                    callbacks=[checkpointer])"
   ]
  },
  {
   "cell_type": "code",
   "execution_count": 14,
   "metadata": {},
   "outputs": [
    {
     "name": "stdout",
     "output_type": "stream",
     "text": [
      "[0.2827524226538989, 0.05833956295130204, 0.948572285321294]\n"
     ]
    }
   ],
   "source": [
    "# evaluate the model\n",
    "train_loss = model.evaluate(X_train, Y_train, verbose=0)\n",
    "test_loss = model.evaluate(X_test, Y_test, verbose=0)\n",
    "\n",
    "#print(train_loss)\n",
    "print(test_loss)"
   ]
  },
  {
   "cell_type": "code",
   "execution_count": 15,
   "metadata": {},
   "outputs": [
    {
     "data": {
      "image/png": "[encoded data removed]",
      "text/plain": [
       "<Figure size 432x288 with 1 Axes>"
      ]
     },
     "metadata": {
      "needs_background": "light"
     },
     "output_type": "display_data"
    },
    {
     "data": {
      "image/png": "[encoded data removed]",
      "text/plain": [
       "<Figure size 432x288 with 1 Axes>"
      ]
     },
     "metadata": {
      "needs_background": "light"
     },
     "output_type": "display_data"
    }
   ],
   "source": [
    "# plot loss during training\n",
    "plt.title('Loss')\n",
    "#train_loss = history.history['loss']\n",
    "#test_loss = history.history['val_loss']\n",
    "plt.plot(history.history['loss'], label='train')\n",
    "plt.plot(history.history['val_loss'], label='validation')\n",
    "plt.xlabel('epoch')\n",
    "plt.legend()\n",
    "#plt.show()\n",
    "plt.savefig('result_loss.png')\n",
    "\n",
    "# plot dice_loss during training\n",
    "plt.figure()\n",
    "plt.title('dice_loss')\n",
    "plt.plot(history.history['dice_loss'], label='train')\n",
    "plt.plot(history.history['val_dice_loss'], label='validation')\n",
    "plt.xlabel('epoch')\n",
    "plt.legend()\n",
    "#plt.show()\n",
    "plt.savefig('result_dice.png')\n",
    "\n",
    "#plt.savefig('result.png')"
   ]
  },
  {
   "cell_type": "code",
   "execution_count": null,
   "metadata": {},
   "outputs": [],
   "source": []
  }
 ],
 "metadata": {
  "kernelspec": {
   "display_name": "Python 3",
   "language": "python",
   "name": "python3"
  },
  "language_info": {
   "codemirror_mode": {
    "name": "ipython",
    "version": 3
   },
   "file_extension": ".py",
   "mimetype": "text/x-python",
   "name": "python",
   "nbconvert_exporter": "python",
   "pygments_lexer": "ipython3",
   "version": "3.7.3"
  }
 },
 "nbformat": 4,
 "nbformat_minor": 2
}
