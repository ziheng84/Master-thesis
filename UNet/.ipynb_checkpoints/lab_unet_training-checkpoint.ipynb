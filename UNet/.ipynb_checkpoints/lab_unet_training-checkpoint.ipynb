{
 "cells": [
  {
   "cell_type": "code",
   "execution_count": 1,
   "metadata": {},
   "outputs": [
    {
     "name": "stderr",
     "output_type": "stream",
     "text": [
      "Using TensorFlow backend.\n"
     ]
    }
   ],
   "source": [
    "import os\n",
    "import sys\n",
    "import random\n",
    "import warnings\n",
    "\n",
    "import numpy as np\n",
    "import pandas as pd\n",
    "\n",
    "import matplotlib.pyplot as plt\n",
    "\n",
    "from tqdm import tqdm\n",
    "from skimage.io import imread, imshow, imread_collection, concatenate_images\n",
    "from sklearn.model_selection import train_test_split\n",
    "\n",
    "from keras.models import Model, load_model\n",
    "from keras.layers import Input\n",
    "from keras.layers.core import Dropout, Lambda\n",
    "from keras.layers.convolutional import Conv2D, Conv2DTranspose\n",
    "from keras.layers.pooling import MaxPooling2D\n",
    "from keras.layers.merge import concatenate\n",
    "from keras.callbacks import EarlyStopping, ModelCheckpoint\n",
    "from keras import backend as K\n",
    "\n",
    "from keras.layers import Cropping2D, UpSampling2D\n",
    "from keras.utils import to_categorical\n",
    "#from keras.utils import np_utils\n",
    "\n",
    "# Required for loss function\n",
    "import math\n",
    "#from tensorflow.python.keras import losses\n",
    "\n",
    "#from tensorflow.contrib.keras.layers import Cropping2D\n",
    "\n",
    "import tensorflow as tf\n",
    "\n",
    "from unet_utilz import *\n",
    "from data_augmentation import *"
   ]
  },
  {
   "cell_type": "code",
   "execution_count": 2,
   "metadata": {},
   "outputs": [],
   "source": [
    "# Set some parameters\n",
    "IMG_WIDTH = 128\n",
    "IMG_HEIGHT = 128\n",
    "# Original size = 572*572\n",
    "LABEL_CLASS = 3\n",
    "\n",
    "warnings.filterwarnings('ignore', category=UserWarning, module='skimage')\n",
    "seed = 42\n",
    "random.seed = seed\n",
    "np.random.seed = seed"
   ]
  },
  {
   "cell_type": "code",
   "execution_count": 15,
   "metadata": {},
   "outputs": [
    {
     "ename": "StopIteration",
     "evalue": "",
     "output_type": "error",
     "traceback": [
      "\u001b[1;31m---------------------------------------------------------------------------\u001b[0m",
      "\u001b[1;31mStopIteration\u001b[0m                             Traceback (most recent call last)",
      "\u001b[1;32m<ipython-input-15-011162ace02c>\u001b[0m in \u001b[0;36m<module>\u001b[1;34m\u001b[0m\n\u001b[0;32m     11\u001b[0m \u001b[1;33m\u001b[0m\u001b[0m\n\u001b[0;32m     12\u001b[0m \u001b[1;31m# Get train and test IDs\u001b[0m\u001b[1;33m\u001b[0m\u001b[1;33m\u001b[0m\u001b[1;33m\u001b[0m\u001b[0m\n\u001b[1;32m---> 13\u001b[1;33m \u001b[0mX_train_ids\u001b[0m \u001b[1;33m=\u001b[0m \u001b[0mnext\u001b[0m\u001b[1;33m(\u001b[0m\u001b[0mos\u001b[0m\u001b[1;33m.\u001b[0m\u001b[0mwalk\u001b[0m\u001b[1;33m(\u001b[0m\u001b[0mTRAIN_PATH\u001b[0m \u001b[1;33m+\u001b[0m \u001b[1;34m'in\\\\'\u001b[0m\u001b[1;33m)\u001b[0m\u001b[1;33m)\u001b[0m\u001b[1;33m[\u001b[0m\u001b[1;36m2\u001b[0m\u001b[1;33m]\u001b[0m\u001b[1;33m\u001b[0m\u001b[1;33m\u001b[0m\u001b[0m\n\u001b[0m\u001b[0;32m     14\u001b[0m \u001b[0mY_train_ids\u001b[0m \u001b[1;33m=\u001b[0m \u001b[0mnext\u001b[0m\u001b[1;33m(\u001b[0m\u001b[0mos\u001b[0m\u001b[1;33m.\u001b[0m\u001b[0mwalk\u001b[0m\u001b[1;33m(\u001b[0m\u001b[0mTRAIN_PATH\u001b[0m \u001b[1;33m+\u001b[0m \u001b[1;34m'out-cell/'\u001b[0m\u001b[1;33m)\u001b[0m\u001b[1;33m)\u001b[0m\u001b[1;33m[\u001b[0m\u001b[1;36m2\u001b[0m\u001b[1;33m]\u001b[0m\u001b[1;33m\u001b[0m\u001b[1;33m\u001b[0m\u001b[0m\n\u001b[0;32m     15\u001b[0m \u001b[1;33m\u001b[0m\u001b[0m\n",
      "\u001b[1;31mStopIteration\u001b[0m: "
     ]
    }
   ],
   "source": [
    "# Import the data\n",
    "\n",
    "# Path for Linux\n",
    "#TRAIN_PATH = '/home/ziheng/UNet/dataset_lab/train/'\n",
    "#TEST_PATH = '/home/ziheng/UNet/dataset_lab/test/'\n",
    "\n",
    "# Path for Windows\n",
    "TRAIN_PATH = 'F:\\\\MA\\\\data\\\\Swain_lab\\\\DISCO_result\\\\str515_GFP_006\\\\\\train\\\\'\n",
    "TEST_PATH = 'F:\\\\MA\\\\data\\\\Swain_lab\\\\DISCO_result\\\\str515_GFP_006\\\\\\test\\\\'\n",
    "\n",
    "\n",
    "# Get train and test IDs\n",
    "X_train_ids = next(os.walk(TRAIN_PATH + 'in\\\\'))[2]\n",
    "Y_train_ids = next(os.walk(TRAIN_PATH + 'out-cell\\\\'))[2]\n",
    "\n",
    "X_test_ids = next(os.walk(TEST_PATH + 'in\\\\'))[2]\n",
    "Y_test_ids = next(os.walk(TEST_PATH + 'out\\\\'))[2]"
   ]
  },
  {
   "cell_type": "code",
   "execution_count": 4,
   "metadata": {},
   "outputs": [
    {
     "name": "stdout",
     "output_type": "stream",
     "text": [
      "Getting and resizing train images ... \n"
     ]
    },
    {
     "name": "stderr",
     "output_type": "stream",
     "text": [
      "100%|██████████████████████████████████████████████████████████████████████████████████| 54/54 [00:01<00:00, 35.65it/s]\n"
     ]
    },
    {
     "name": "stdout",
     "output_type": "stream",
     "text": [
      "Getting and resizing train masks ... \n"
     ]
    },
    {
     "name": "stderr",
     "output_type": "stream",
     "text": [
      "100%|██████████████████████████████████████████████████████████████████████████████████| 54/54 [00:01<00:00, 39.84it/s]\n"
     ]
    },
    {
     "name": "stdout",
     "output_type": "stream",
     "text": [
      "Getting and resizing test images ... \n"
     ]
    },
    {
     "name": "stderr",
     "output_type": "stream",
     "text": [
      "100%|██████████████████████████████████████████████████████████████████████████████████| 49/49 [00:01<00:00, 40.14it/s]\n"
     ]
    },
    {
     "name": "stdout",
     "output_type": "stream",
     "text": [
      "Getting and resizing test masks ... \n"
     ]
    },
    {
     "name": "stderr",
     "output_type": "stream",
     "text": [
      "100%|██████████████████████████████████████████████████████████████████████████████████| 49/49 [00:01<00:00, 39.68it/s]\n"
     ]
    },
    {
     "name": "stdout",
     "output_type": "stream",
     "text": [
      "Done!\n"
     ]
    }
   ],
   "source": [
    "# Get and resize train images and masks\n",
    "\n",
    "# X: original images, Y: masks\n",
    "X_train = np.zeros((len(X_train_ids), IMG_HEIGHT, IMG_WIDTH, 1), dtype=np.float32)\n",
    "Y_train = np.zeros((len(Y_train_ids), IMG_HEIGHT, IMG_WIDTH, LABEL_CLASS), dtype=np.bool)\n",
    "\n",
    "X_test = np.zeros((len(X_test_ids), IMG_HEIGHT, IMG_WIDTH, 1), dtype=np.float32)\n",
    "Y_test = np.zeros((len(Y_test_ids), IMG_HEIGHT, IMG_WIDTH, LABEL_CLASS), dtype=np.bool)\n",
    "\n",
    "print('Getting and resizing train images ... ')\n",
    "sys.stdout.flush()\n",
    "\n",
    "for n, id_ in tqdm(enumerate(X_train_ids), total=len(X_train_ids)):\n",
    "    \n",
    "    img = imread(TRAIN_PATH + 'in/' + id_)\n",
    "    X_train[n] = pre_process(img, IMG_HEIGHT, IMG_WIDTH, norm = False, rescale = True)\n",
    "    \n",
    "    \n",
    "print('Getting and resizing train masks ... ')\n",
    "\n",
    "for n, id_ in tqdm(enumerate(Y_train_ids), total=len(Y_train_ids)):\n",
    "    \n",
    "    mask = imread(TRAIN_PATH + 'out-cell/' + id_)\n",
    "    mask = to_categorical(mask, LABEL_CLASS) # Generate binary masks (one hot encoding)\n",
    "    mask = pre_process(mask, IMG_HEIGHT, IMG_WIDTH, mask = True)\n",
    "    Y_train[n] = mask\n",
    "    \n",
    "    \n",
    "# Get and resize test images\n",
    "#sizes_test = []\n",
    "print('Getting and resizing test images ... ')\n",
    "sys.stdout.flush()\n",
    "\n",
    "for n, id_ in tqdm(enumerate(X_test_ids), total=len(X_test_ids)):\n",
    "\n",
    "    img = imread(TEST_PATH + 'in/' + id_)\n",
    "    X_test[n] = pre_process(img, IMG_HEIGHT, IMG_WIDTH, norm = False, rescale = True)\n",
    "    \n",
    "print('Getting and resizing test masks ... ')\n",
    "\n",
    "for n, id_ in tqdm(enumerate(Y_test_ids), total=len(Y_test_ids)):\n",
    "    \n",
    "    mask = imread(TEST_PATH + 'out-cell/' + id_)\n",
    "    mask = to_categorical(mask, LABEL_CLASS) # Generate binary masks (one hot encoding)\n",
    "    # Resizing need to be done AFTER one-hot encoding!!!!!!!\n",
    "    mask = pre_process(mask, IMG_HEIGHT, IMG_WIDTH, mask = True)\n",
    "    Y_test[n] = mask\n",
    "        \n",
    "print('Done!')"
   ]
  },
  {
   "cell_type": "code",
   "execution_count": 5,
   "metadata": {},
   "outputs": [],
   "source": [
    "# Data augmentation: training data will be doubled\n",
    "X_train_aug, Y_train_aug = augmentation(X_train, Y_train) #default flip is horizontal, vertical only for Swain lab\n",
    "Y_train_aug = Y_train_aug.astype(bool)"
   ]
  },
  {
   "cell_type": "code",
   "execution_count": 6,
   "metadata": {},
   "outputs": [
    {
     "name": "stdout",
     "output_type": "stream",
     "text": [
      "(108, 128, 128, 1)\n",
      "(108, 128, 128, 3)\n"
     ]
    }
   ],
   "source": [
    "print(X_train_aug.shape)\n",
    "print(Y_train_aug.shape)"
   ]
  },
  {
   "cell_type": "code",
   "execution_count": 7,
   "metadata": {
    "scrolled": false
   },
   "outputs": [
    {
     "name": "stdout",
     "output_type": "stream",
     "text": [
      "106\n"
     ]
    },
    {
     "data": {
      "image/png": "[encoded data removed]",
      "text/plain": [
       "<Figure size 432x288 with 1 Axes>"
      ]
     },
     "metadata": {
      "needs_background": "light"
     },
     "output_type": "display_data"
    },
    {
     "data": {
      "image/png": "[encoded data removed]",
      "text/plain": [
       "<Figure size 432x288 with 1 Axes>"
      ]
     },
     "metadata": {
      "needs_background": "light"
     },
     "output_type": "display_data"
    }
   ],
   "source": [
    "# Check if training data looks all right\n",
    "ix = random.randint(0, len(X_train_aug)-1)\n",
    "print(ix)\n",
    "mask_category = 2 # Choose the mask nummer 0,1,2\n",
    "imshow(np.reshape(X_train_aug[ix], (IMG_WIDTH, IMG_HEIGHT)))\n",
    "plt.show()\n",
    "imshow(Y_train_aug[ix,:,:,mask_category])\n",
    "plt.show()"
   ]
  },
  {
   "cell_type": "code",
   "execution_count": 5,
   "metadata": {},
   "outputs": [
    {
     "name": "stdout",
     "output_type": "stream",
     "text": [
      "38\n"
     ]
    },
    {
     "data": {
      "image/png": "[encoded data removed]",
      "text/plain": [
       "<Figure size 432x288 with 1 Axes>"
      ]
     },
     "metadata": {
      "needs_background": "light"
     },
     "output_type": "display_data"
    },
    {
     "data": {
      "image/png": "[encoded data removed]",
      "text/plain": [
       "<Figure size 432x288 with 1 Axes>"
      ]
     },
     "metadata": {
      "needs_background": "light"
     },
     "output_type": "display_data"
    }
   ],
   "source": [
    "# Check if test data looks all right\n",
    "ix = random.randint(0, len(X_test_ids)-1)\n",
    "print(ix)\n",
    "mask_category = 2 # Choose the mask nummer 0,1,2\n",
    "imshow(np.reshape(X_test[ix], (IMG_WIDTH, IMG_HEIGHT)))\n",
    "plt.show()\n",
    "imshow(Y_test[ix,:,:,mask_category]) \n",
    "plt.show()"
   ]
  },
  {
   "cell_type": "code",
   "execution_count": null,
   "metadata": {},
   "outputs": [],
   "source": []
  },
  {
   "cell_type": "code",
   "execution_count": 9,
   "metadata": {},
   "outputs": [],
   "source": [
    "# Random validation split 20%\n",
    "X_train, X_val, Y_train, Y_val = train_test_split(X_train_aug, Y_train_aug, test_size=0.2, random_state=42)"
   ]
  },
  {
   "cell_type": "code",
   "execution_count": 6,
   "metadata": {},
   "outputs": [],
   "source": [
    "# Validation without data augmentation\n",
    "X_train, X_val, Y_train, Y_val = train_test_split(X_train, Y_train, test_size=0.2, random_state=42)"
   ]
  },
  {
   "cell_type": "code",
   "execution_count": 7,
   "metadata": {},
   "outputs": [
    {
     "data": {
      "text/plain": [
       "(43, 128, 128, 1)"
      ]
     },
     "execution_count": 7,
     "metadata": {},
     "output_type": "execute_result"
    }
   ],
   "source": [
    "X_train.shape"
   ]
  },
  {
   "cell_type": "code",
   "execution_count": 8,
   "metadata": {},
   "outputs": [
    {
     "data": {
      "text/plain": [
       "(11, 128, 128, 1)"
      ]
     },
     "execution_count": 8,
     "metadata": {},
     "output_type": "execute_result"
    }
   ],
   "source": [
    "X_val.shape"
   ]
  },
  {
   "cell_type": "code",
   "execution_count": 9,
   "metadata": {
    "scrolled": true
   },
   "outputs": [
    {
     "name": "stdout",
     "output_type": "stream",
     "text": [
      "WARNING:tensorflow:From C:\\Anaconda\\envs\\deep-learning\\lib\\site-packages\\tensorflow\\python\\framework\\op_def_library.py:263: colocate_with (from tensorflow.python.framework.ops) is deprecated and will be removed in a future version.\n",
      "Instructions for updating:\n",
      "Colocations handled automatically by placer.\n",
      "WARNING:tensorflow:From C:\\Anaconda\\envs\\deep-learning\\lib\\site-packages\\keras\\backend\\tensorflow_backend.py:3445: calling dropout (from tensorflow.python.ops.nn_ops) with keep_prob is deprecated and will be removed in a future version.\n",
      "Instructions for updating:\n",
      "Please use `rate` instead of `keep_prob`. Rate should be set to `rate = 1 - keep_prob`.\n",
      "__________________________________________________________________________________________________\n",
      "Layer (type)                    Output Shape         Param #     Connected to                     \n",
      "==================================================================================================\n",
      "input_1 (InputLayer)            (None, 128, 128, 1)  0                                            \n",
      "__________________________________________________________________________________________________\n",
      "conv2d_1 (Conv2D)               (None, 128, 128, 16) 160         input_1[0][0]                    \n",
      "__________________________________________________________________________________________________\n",
      "dropout_1 (Dropout)             (None, 128, 128, 16) 0           conv2d_1[0][0]                   \n",
      "__________________________________________________________________________________________________\n",
      "conv2d_2 (Conv2D)               (None, 128, 128, 16) 2320        dropout_1[0][0]                  \n",
      "__________________________________________________________________________________________________\n",
      "max_pooling2d_1 (MaxPooling2D)  (None, 64, 64, 16)   0           conv2d_2[0][0]                   \n",
      "__________________________________________________________________________________________________\n",
      "conv2d_3 (Conv2D)               (None, 64, 64, 32)   4640        max_pooling2d_1[0][0]            \n",
      "__________________________________________________________________________________________________\n",
      "dropout_2 (Dropout)             (None, 64, 64, 32)   0           conv2d_3[0][0]                   \n",
      "__________________________________________________________________________________________________\n",
      "conv2d_4 (Conv2D)               (None, 64, 64, 32)   9248        dropout_2[0][0]                  \n",
      "__________________________________________________________________________________________________\n",
      "max_pooling2d_2 (MaxPooling2D)  (None, 32, 32, 32)   0           conv2d_4[0][0]                   \n",
      "__________________________________________________________________________________________________\n",
      "conv2d_5 (Conv2D)               (None, 32, 32, 64)   18496       max_pooling2d_2[0][0]            \n",
      "__________________________________________________________________________________________________\n",
      "dropout_3 (Dropout)             (None, 32, 32, 64)   0           conv2d_5[0][0]                   \n",
      "__________________________________________________________________________________________________\n",
      "conv2d_6 (Conv2D)               (None, 32, 32, 64)   36928       dropout_3[0][0]                  \n",
      "__________________________________________________________________________________________________\n",
      "max_pooling2d_3 (MaxPooling2D)  (None, 16, 16, 64)   0           conv2d_6[0][0]                   \n",
      "__________________________________________________________________________________________________\n",
      "conv2d_7 (Conv2D)               (None, 16, 16, 128)  73856       max_pooling2d_3[0][0]            \n",
      "__________________________________________________________________________________________________\n",
      "dropout_4 (Dropout)             (None, 16, 16, 128)  0           conv2d_7[0][0]                   \n",
      "__________________________________________________________________________________________________\n",
      "conv2d_8 (Conv2D)               (None, 16, 16, 128)  147584      dropout_4[0][0]                  \n",
      "__________________________________________________________________________________________________\n",
      "max_pooling2d_4 (MaxPooling2D)  (None, 8, 8, 128)    0           conv2d_8[0][0]                   \n",
      "__________________________________________________________________________________________________\n",
      "conv2d_9 (Conv2D)               (None, 8, 8, 256)    295168      max_pooling2d_4[0][0]            \n",
      "__________________________________________________________________________________________________\n",
      "dropout_5 (Dropout)             (None, 8, 8, 256)    0           conv2d_9[0][0]                   \n",
      "__________________________________________________________________________________________________\n",
      "conv2d_10 (Conv2D)              (None, 8, 8, 256)    590080      dropout_5[0][0]                  \n",
      "__________________________________________________________________________________________________\n",
      "up_sampling2d_1 (UpSampling2D)  (None, 16, 16, 256)  0           conv2d_10[0][0]                  \n",
      "__________________________________________________________________________________________________\n",
      "cropping2d_1 (Cropping2D)       (None, 16, 16, 128)  0           conv2d_8[0][0]                   \n",
      "__________________________________________________________________________________________________\n",
      "concatenate_1 (Concatenate)     (None, 16, 16, 384)  0           up_sampling2d_1[0][0]            \n",
      "                                                                 cropping2d_1[0][0]               \n",
      "__________________________________________________________________________________________________\n",
      "conv2d_11 (Conv2D)              (None, 16, 16, 128)  442496      concatenate_1[0][0]              \n",
      "__________________________________________________________________________________________________\n",
      "dropout_6 (Dropout)             (None, 16, 16, 128)  0           conv2d_11[0][0]                  \n",
      "__________________________________________________________________________________________________\n",
      "conv2d_12 (Conv2D)              (None, 16, 16, 128)  147584      dropout_6[0][0]                  \n",
      "__________________________________________________________________________________________________\n",
      "up_sampling2d_2 (UpSampling2D)  (None, 32, 32, 128)  0           conv2d_12[0][0]                  \n",
      "__________________________________________________________________________________________________\n",
      "cropping2d_2 (Cropping2D)       (None, 32, 32, 64)   0           conv2d_6[0][0]                   \n",
      "__________________________________________________________________________________________________\n",
      "concatenate_2 (Concatenate)     (None, 32, 32, 192)  0           up_sampling2d_2[0][0]            \n",
      "                                                                 cropping2d_2[0][0]               \n",
      "__________________________________________________________________________________________________\n",
      "conv2d_13 (Conv2D)              (None, 32, 32, 64)   110656      concatenate_2[0][0]              \n",
      "__________________________________________________________________________________________________\n",
      "dropout_7 (Dropout)             (None, 32, 32, 64)   0           conv2d_13[0][0]                  \n",
      "__________________________________________________________________________________________________\n",
      "conv2d_14 (Conv2D)              (None, 32, 32, 64)   36928       dropout_7[0][0]                  \n",
      "__________________________________________________________________________________________________\n",
      "up_sampling2d_3 (UpSampling2D)  (None, 64, 64, 64)   0           conv2d_14[0][0]                  \n",
      "__________________________________________________________________________________________________\n",
      "cropping2d_3 (Cropping2D)       (None, 64, 64, 32)   0           conv2d_4[0][0]                   \n",
      "__________________________________________________________________________________________________\n",
      "concatenate_3 (Concatenate)     (None, 64, 64, 96)   0           up_sampling2d_3[0][0]            \n",
      "                                                                 cropping2d_3[0][0]               \n",
      "__________________________________________________________________________________________________\n"
     ]
    },
    {
     "name": "stdout",
     "output_type": "stream",
     "text": [
      "conv2d_15 (Conv2D)              (None, 64, 64, 32)   27680       concatenate_3[0][0]              \n",
      "__________________________________________________________________________________________________\n",
      "dropout_8 (Dropout)             (None, 64, 64, 32)   0           conv2d_15[0][0]                  \n",
      "__________________________________________________________________________________________________\n",
      "conv2d_16 (Conv2D)              (None, 64, 64, 32)   9248        dropout_8[0][0]                  \n",
      "__________________________________________________________________________________________________\n",
      "up_sampling2d_4 (UpSampling2D)  (None, 128, 128, 32) 0           conv2d_16[0][0]                  \n",
      "__________________________________________________________________________________________________\n",
      "cropping2d_4 (Cropping2D)       (None, 128, 128, 16) 0           conv2d_2[0][0]                   \n",
      "__________________________________________________________________________________________________\n",
      "concatenate_4 (Concatenate)     (None, 128, 128, 48) 0           up_sampling2d_4[0][0]            \n",
      "                                                                 cropping2d_4[0][0]               \n",
      "__________________________________________________________________________________________________\n",
      "conv2d_17 (Conv2D)              (None, 128, 128, 16) 6928        concatenate_4[0][0]              \n",
      "__________________________________________________________________________________________________\n",
      "dropout_9 (Dropout)             (None, 128, 128, 16) 0           conv2d_17[0][0]                  \n",
      "__________________________________________________________________________________________________\n",
      "conv2d_18 (Conv2D)              (None, 128, 128, 16) 2320        dropout_9[0][0]                  \n",
      "__________________________________________________________________________________________________\n",
      "conv2d_19 (Conv2D)              (None, 128, 128, 3)  51          conv2d_18[0][0]                  \n",
      "==================================================================================================\n",
      "Total params: 1,962,371\n",
      "Trainable params: 1,962,371\n",
      "Non-trainable params: 0\n",
      "__________________________________________________________________________________________________\n"
     ]
    }
   ],
   "source": [
    "# Build U-Net model\n",
    "\n",
    "inputs = Input((IMG_HEIGHT, IMG_WIDTH, 1))\n",
    "\n",
    "# Preprocess is conducted directly in dataset\n",
    "#s = Lambda(lambda x: x / 255) (inputs)\n",
    "s = inputs\n",
    "\n",
    "c1 = Conv2D(16, (3, 3), activation='elu', kernel_initializer='he_normal', padding='same') (s)\n",
    "c1 = Dropout(0.1) (c1)\n",
    "c1 = Conv2D(16, (3, 3), activation='elu', kernel_initializer='he_normal', padding='same') (c1)\n",
    "p1 = MaxPooling2D((2, 2)) (c1)\n",
    "\n",
    "c2 = Conv2D(32, (3, 3), activation='elu', kernel_initializer='he_normal', padding='same') (p1)\n",
    "c2 = Dropout(0.1) (c2)\n",
    "c2 = Conv2D(32, (3, 3), activation='elu', kernel_initializer='he_normal', padding='same') (c2)\n",
    "p2 = MaxPooling2D((2, 2)) (c2)\n",
    "\n",
    "c3 = Conv2D(64, (3, 3), activation='elu', kernel_initializer='he_normal', padding='same') (p2)\n",
    "c3 = Dropout(0.2) (c3)\n",
    "c3 = Conv2D(64, (3, 3), activation='elu', kernel_initializer='he_normal', padding='same') (c3)\n",
    "p3 = MaxPooling2D((2, 2)) (c3)\n",
    "\n",
    "c4 = Conv2D(128, (3, 3), activation='elu', kernel_initializer='he_normal', padding='same') (p3)\n",
    "c4 = Dropout(0.2) (c4)\n",
    "c4 = Conv2D(128, (3, 3), activation='elu', kernel_initializer='he_normal', padding='same') (c4)\n",
    "p4 = MaxPooling2D(pool_size=(2, 2)) (c4)\n",
    "\n",
    "c5 = Conv2D(256, (3, 3), activation='elu', kernel_initializer='he_normal', padding='same') (p4)\n",
    "c5 = Dropout(0.3) (c5)\n",
    "c5 = Conv2D(256, (3, 3), activation='elu', kernel_initializer='he_normal', padding='same') (c5)\n",
    "\n",
    "###################\n",
    "\n",
    "#u6 = Conv2DTranspose(512, (2, 2), strides=(2, 2), padding='same') (c5)\n",
    "u6 = UpSampling2D(size=(2, 2))(c5)\n",
    "\n",
    "ch, cw = get_crop_shape(c4, u6)\n",
    "crop_c4 = Cropping2D(cropping=(ch,cw))(c4)\n",
    "\n",
    "u6 = concatenate([u6, crop_c4]) # Need to crop c4 from 64 to 56\n",
    "c6 = Conv2D(128, (3, 3), activation='elu', kernel_initializer='he_normal', padding='same') (u6)\n",
    "c6 = Dropout(0.2) (c6)\n",
    "c6 = Conv2D(128, (3, 3), activation='elu', kernel_initializer='he_normal', padding='same') (c6)\n",
    "\n",
    "\n",
    "#u7 = Conv2DTranspose(256, (2, 2), strides=(2, 2), padding='same') (c6)\n",
    "u7 = UpSampling2D(size=(2, 2))(c6)\n",
    "\n",
    "ch, cw = get_crop_shape(c3, u7)\n",
    "crop_c3 = Cropping2D(cropping=(ch,cw))(c3)\n",
    "\n",
    "u7 = concatenate([u7, crop_c3])\n",
    "c7 = Conv2D(64, (3, 3), activation='elu', kernel_initializer='he_normal', padding='same') (u7)\n",
    "c7 = Dropout(0.2) (c7)\n",
    "c7 = Conv2D(64, (3, 3), activation='elu', kernel_initializer='he_normal', padding='same') (c7)\n",
    "\n",
    "\n",
    "#u8 = Conv2DTranspose(128, (2, 2), strides=(2, 2), padding='same') (c7)\n",
    "u8 = UpSampling2D(size=(2, 2))(c7)\n",
    "\n",
    "ch, cw = get_crop_shape(c2, u8)\n",
    "crop_c2 = Cropping2D(cropping=(ch,cw))(c2)\n",
    "\n",
    "u8 = concatenate([u8, crop_c2])\n",
    "c8 = Conv2D(32, (3, 3), activation='elu', kernel_initializer='he_normal', padding='same') (u8)\n",
    "c8 = Dropout(0.1) (c8)\n",
    "c8 = Conv2D(32, (3, 3), activation='elu', kernel_initializer='he_normal', padding='same') (c8)\n",
    "\n",
    "\n",
    "#u9 = Conv2DTranspose(64, (2, 2), strides=(2, 2), padding='same') (c8)\n",
    "u9 = UpSampling2D(size=(2, 2))(c8)\n",
    "\n",
    "ch, cw = get_crop_shape(c1, u9)\n",
    "crop_c1 = Cropping2D(cropping=(ch,cw))(c1)\n",
    "\n",
    "u9 = concatenate([u9, crop_c1], axis=3)\n",
    "c9 = Conv2D(16, (3, 3), activation='elu', kernel_initializer='he_normal', padding='same') (u9)\n",
    "c9 = Dropout(0.1) (c9)\n",
    "c9 = Conv2D(16, (3, 3), activation='elu', kernel_initializer='he_normal', padding='same') (c9)\n",
    "\n",
    "outputs = Conv2D(filters=LABEL_CLASS, kernel_size=(1, 1), activation='softmax') (c9)\n",
    "\n",
    "model = Model(inputs=[inputs], outputs=[outputs])\n",
    "#model.compile(optimizer='adam', loss ='binary_crossentropy', metrics = [dice_loss, 'accuracy', IoU])\n",
    "model.compile(optimizer='adam', loss = bce_dice_loss, metrics = [dice_loss, 'accuracy'])\n",
    "#model.compile(optimizer='adam', loss = IoU_loss, metrics = [IoU, dice_loss, 'accuracy'])\n",
    "model.summary()"
   ]
  },
  {
   "cell_type": "code",
   "execution_count": 10,
   "metadata": {},
   "outputs": [
    {
     "name": "stdout",
     "output_type": "stream",
     "text": [
      "WARNING:tensorflow:From C:\\Anaconda\\envs\\deep-learning\\lib\\site-packages\\tensorflow\\python\\ops\\math_ops.py:3066: to_int32 (from tensorflow.python.ops.math_ops) is deprecated and will be removed in a future version.\n",
      "Instructions for updating:\n",
      "Use tf.cast instead.\n",
      "WARNING:tensorflow:From C:\\Anaconda\\envs\\deep-learning\\lib\\site-packages\\tensorflow\\python\\ops\\math_grad.py:102: div (from tensorflow.python.ops.math_ops) is deprecated and will be removed in a future version.\n",
      "Instructions for updating:\n",
      "Deprecated in favor of operator or tf.math.divide.\n",
      "Train on 43 samples, validate on 11 samples\n",
      "Epoch 1/50\n",
      "43/43 [==============================] - ETA: 18s - loss: 2.2420 - dice_loss: 0.6151 - acc: 0.39 - ETA: 9s - loss: 3.3418 - dice_loss: 0.4234 - acc: 0.6038 - ETA: 5s - loss: 3.0528 - dice_loss: 0.3768 - acc: 0.663 - ETA: 2s - loss: 2.7681 - dice_loss: 0.3582 - acc: 0.695 - ETA: 0s - loss: 2.6695 - dice_loss: 0.3913 - acc: 0.659 - 10s 230ms/step - loss: 2.6668 - dice_loss: 0.3818 - acc: 0.6697 - val_loss: 1.5739 - val_dice_loss: 0.5368 - val_acc: 0.6370\n",
      "\n",
      "Epoch 00001: val_loss improved from inf to 1.57395, saving model to model-L-unet.h5\n",
      "Epoch 2/50\n",
      "43/43 [==============================] - ETA: 4s - loss: 1.4498 - dice_loss: 0.4373 - acc: 0.688 - ETA: 3s - loss: 1.4893 - dice_loss: 0.4163 - acc: 0.708 - ETA: 2s - loss: 1.4660 - dice_loss: 0.4012 - acc: 0.730 - ETA: 1s - loss: 1.3903 - dice_loss: 0.3849 - acc: 0.754 - ETA: 0s - loss: 1.3637 - dice_loss: 0.3784 - acc: 0.764 - 6s 148ms/step - loss: 1.3703 - dice_loss: 0.3784 - acc: 0.7645 - val_loss: 1.3313 - val_dice_loss: 0.2695 - val_acc: 0.8261\n",
      "\n",
      "Epoch 00002: val_loss improved from 1.57395 to 1.33128, saving model to model-L-unet.h5\n",
      "Epoch 3/50\n",
      "43/43 [==============================] - ETA: 4s - loss: 1.1658 - dice_loss: 0.3575 - acc: 0.801 - ETA: 3s - loss: 1.1874 - dice_loss: 0.3227 - acc: 0.814 - ETA: 2s - loss: 1.1932 - dice_loss: 0.3381 - acc: 0.805 - ETA: 1s - loss: 1.1941 - dice_loss: 0.3412 - acc: 0.802 - ETA: 0s - loss: 1.1433 - dice_loss: 0.3250 - acc: 0.811 - 6s 146ms/step - loss: 1.1352 - dice_loss: 0.3187 - acc: 0.8139 - val_loss: 0.9875 - val_dice_loss: 0.2992 - val_acc: 0.8263\n",
      "\n",
      "Epoch 00003: val_loss improved from 1.33128 to 0.98754, saving model to model-L-unet.h5\n",
      "Epoch 4/50\n",
      "43/43 [==============================] - ETA: 4s - loss: 1.0924 - dice_loss: 0.3206 - acc: 0.798 - ETA: 3s - loss: 1.0648 - dice_loss: 0.3054 - acc: 0.806 - ETA: 2s - loss: 1.0591 - dice_loss: 0.2722 - acc: 0.823 - ETA: 1s - loss: 1.0452 - dice_loss: 0.2880 - acc: 0.810 - ETA: 0s - loss: 1.0565 - dice_loss: 0.2978 - acc: 0.803 - 6s 147ms/step - loss: 1.0781 - dice_loss: 0.2995 - acc: 0.8001 - val_loss: 1.0449 - val_dice_loss: 0.2400 - val_acc: 0.8262\n",
      "\n",
      "Epoch 00004: val_loss did not improve from 0.98754\n",
      "Epoch 5/50\n",
      "43/43 [==============================] - ETA: 4s - loss: 0.8958 - dice_loss: 0.2362 - acc: 0.841 - ETA: 3s - loss: 0.8994 - dice_loss: 0.2377 - acc: 0.839 - ETA: 2s - loss: 0.9078 - dice_loss: 0.2464 - acc: 0.833 - ETA: 1s - loss: 0.9230 - dice_loss: 0.2474 - acc: 0.831 - ETA: 0s - loss: 0.9160 - dice_loss: 0.2520 - acc: 0.828 - 6s 149ms/step - loss: 0.9250 - dice_loss: 0.2515 - acc: 0.8275 - val_loss: 0.9593 - val_dice_loss: 0.2937 - val_acc: 0.8301\n",
      "\n",
      "Epoch 00005: val_loss improved from 0.98754 to 0.95926, saving model to model-L-unet.h5\n",
      "Epoch 6/50\n",
      "43/43 [==============================] - ETA: 4s - loss: 1.0537 - dice_loss: 0.3419 - acc: 0.720 - ETA: 3s - loss: 0.9513 - dice_loss: 0.3213 - acc: 0.754 - ETA: 2s - loss: 1.0131 - dice_loss: 0.3081 - acc: 0.768 - ETA: 1s - loss: 0.9995 - dice_loss: 0.2878 - acc: 0.783 - ETA: 0s - loss: 0.9822 - dice_loss: 0.2842 - acc: 0.793 - 6s 148ms/step - loss: 0.9880 - dice_loss: 0.2860 - acc: 0.7942 - val_loss: 0.9654 - val_dice_loss: 0.2895 - val_acc: 0.8263\n",
      "\n",
      "Epoch 00006: val_loss did not improve from 0.95926\n",
      "Epoch 7/50\n",
      "43/43 [==============================] - ETA: 4s - loss: 0.9937 - dice_loss: 0.3101 - acc: 0.813 - ETA: 3s - loss: 0.9554 - dice_loss: 0.3006 - acc: 0.819 - ETA: 2s - loss: 0.9353 - dice_loss: 0.2873 - acc: 0.822 - ETA: 1s - loss: 0.9498 - dice_loss: 0.2732 - acc: 0.825 - ETA: 0s - loss: 0.9349 - dice_loss: 0.2680 - acc: 0.826 - 6s 148ms/step - loss: 0.9206 - dice_loss: 0.2656 - acc: 0.8282 - val_loss: 0.9003 - val_dice_loss: 0.2339 - val_acc: 0.8312\n",
      "\n",
      "Epoch 00007: val_loss improved from 0.95926 to 0.90034, saving model to model-L-unet.h5\n",
      "Epoch 8/50\n",
      "43/43 [==============================] - ETA: 4s - loss: 0.8642 - dice_loss: 0.2470 - acc: 0.831 - ETA: 3s - loss: 0.8250 - dice_loss: 0.2338 - acc: 0.841 - ETA: 2s - loss: 0.8064 - dice_loss: 0.2254 - acc: 0.847 - ETA: 1s - loss: 0.8237 - dice_loss: 0.2271 - acc: 0.844 - ETA: 0s - loss: 0.8174 - dice_loss: 0.2255 - acc: 0.843 - 6s 148ms/step - loss: 0.8147 - dice_loss: 0.2235 - acc: 0.8454 - val_loss: 1.0277 - val_dice_loss: 0.2237 - val_acc: 0.8347\n",
      "\n",
      "Epoch 00008: val_loss did not improve from 0.90034\n",
      "Epoch 9/50\n",
      "43/43 [==============================] - ETA: 4s - loss: 0.8542 - dice_loss: 0.2216 - acc: 0.838 - ETA: 3s - loss: 0.7607 - dice_loss: 0.2104 - acc: 0.849 - ETA: 2s - loss: 0.7693 - dice_loss: 0.2114 - acc: 0.851 - ETA: 1s - loss: 0.8024 - dice_loss: 0.2159 - acc: 0.848 - ETA: 0s - loss: 0.7885 - dice_loss: 0.2157 - acc: 0.851 - 6s 146ms/step - loss: 0.7758 - dice_loss: 0.2146 - acc: 0.8534 - val_loss: 0.9875 - val_dice_loss: 0.2339 - val_acc: 0.8333\n",
      "\n",
      "Epoch 00009: val_loss did not improve from 0.90034\n",
      "Epoch 10/50\n",
      "43/43 [==============================] - ETA: 5s - loss: 0.7535 - dice_loss: 0.2106 - acc: 0.867 - ETA: 3s - loss: 0.6700 - dice_loss: 0.1920 - acc: 0.883 - ETA: 2s - loss: 0.6842 - dice_loss: 0.1943 - acc: 0.872 - ETA: 1s - loss: 0.7086 - dice_loss: 0.1947 - acc: 0.869 - ETA: 0s - loss: 0.7284 - dice_loss: 0.1956 - acc: 0.868 - 7s 163ms/step - loss: 0.7480 - dice_loss: 0.1991 - acc: 0.8644 - val_loss: 0.9597 - val_dice_loss: 0.2438 - val_acc: 0.8423\n",
      "\n",
      "Epoch 00010: val_loss did not improve from 0.90034\n",
      "Epoch 11/50\n",
      "43/43 [==============================] - ETA: 5s - loss: 0.6896 - dice_loss: 0.2091 - acc: 0.868 - ETA: 4s - loss: 0.7295 - dice_loss: 0.2206 - acc: 0.864 - ETA: 3s - loss: 0.7460 - dice_loss: 0.2257 - acc: 0.865 - ETA: 1s - loss: 0.7250 - dice_loss: 0.2219 - acc: 0.868 - ETA: 0s - loss: 0.7346 - dice_loss: 0.2202 - acc: 0.870 - 8s 186ms/step - loss: 0.7269 - dice_loss: 0.2178 - acc: 0.8708 - val_loss: 0.9812 - val_dice_loss: 0.2232 - val_acc: 0.8524\n",
      "\n",
      "Epoch 00011: val_loss did not improve from 0.90034\n",
      "Epoch 12/50\n",
      "43/43 [==============================] - ETA: 5s - loss: 0.6438 - dice_loss: 0.1806 - acc: 0.886 - ETA: 4s - loss: 0.6395 - dice_loss: 0.1771 - acc: 0.886 - ETA: 3s - loss: 0.6889 - dice_loss: 0.1835 - acc: 0.871 - ETA: 1s - loss: 0.6901 - dice_loss: 0.1828 - acc: 0.874 - ETA: 0s - loss: 0.7051 - dice_loss: 0.1838 - acc: 0.876 - 7s 173ms/step - loss: 0.7095 - dice_loss: 0.1849 - acc: 0.8732 - val_loss: 0.8982 - val_dice_loss: 0.2202 - val_acc: 0.8619\n",
      "\n",
      "Epoch 00012: val_loss improved from 0.90034 to 0.89819, saving model to model-L-unet.h5\n",
      "Epoch 13/50\n",
      "43/43 [==============================] - ETA: 5s - loss: 0.6089 - dice_loss: 0.1727 - acc: 0.893 - ETA: 3s - loss: 0.6620 - dice_loss: 0.1856 - acc: 0.887 - ETA: 2s - loss: 0.6779 - dice_loss: 0.1918 - acc: 0.881 - ETA: 1s - loss: 0.6796 - dice_loss: 0.1951 - acc: 0.873 - ETA: 0s - loss: 0.6805 - dice_loss: 0.1966 - acc: 0.874 - 7s 152ms/step - loss: 0.6806 - dice_loss: 0.1965 - acc: 0.8750 - val_loss: 0.8041 - val_dice_loss: 0.2054 - val_acc: 0.8730\n",
      "\n",
      "Epoch 00013: val_loss improved from 0.89819 to 0.80412, saving model to model-L-unet.h5\n",
      "Epoch 14/50\n",
      "43/43 [==============================] - ETA: 4s - loss: 0.6761 - dice_loss: 0.1829 - acc: 0.884 - ETA: 3s - loss: 0.6110 - dice_loss: 0.1698 - acc: 0.889 - ETA: 2s - loss: 0.6425 - dice_loss: 0.1717 - acc: 0.885 - ETA: 1s - loss: 0.6399 - dice_loss: 0.1714 - acc: 0.886 - ETA: 0s - loss: 0.6263 - dice_loss: 0.1717 - acc: 0.887 - 6s 148ms/step - loss: 0.6396 - dice_loss: 0.1746 - acc: 0.8850 - val_loss: 0.7597 - val_dice_loss: 0.2133 - val_acc: 0.8706\n",
      "\n",
      "Epoch 00014: val_loss improved from 0.80412 to 0.75974, saving model to model-L-unet.h5\n",
      "Epoch 15/50\n"
     ]
    },
    {
     "name": "stdout",
     "output_type": "stream",
     "text": [
      "43/43 [==============================] - ETA: 5s - loss: 0.5652 - dice_loss: 0.1752 - acc: 0.902 - ETA: 3s - loss: 0.5831 - dice_loss: 0.1758 - acc: 0.900 - ETA: 2s - loss: 0.5723 - dice_loss: 0.1706 - acc: 0.901 - ETA: 1s - loss: 0.6003 - dice_loss: 0.1711 - acc: 0.897 - ETA: 0s - loss: 0.6045 - dice_loss: 0.1697 - acc: 0.896 - 6s 149ms/step - loss: 0.6228 - dice_loss: 0.1723 - acc: 0.8931 - val_loss: 0.7164 - val_dice_loss: 0.2020 - val_acc: 0.8672\n",
      "\n",
      "Epoch 00015: val_loss improved from 0.75974 to 0.71640, saving model to model-L-unet.h5\n",
      "Epoch 16/50\n",
      "43/43 [==============================] - ETA: 4s - loss: 0.5995 - dice_loss: 0.1752 - acc: 0.885 - ETA: 3s - loss: 0.6058 - dice_loss: 0.1793 - acc: 0.881 - ETA: 2s - loss: 0.6144 - dice_loss: 0.1809 - acc: 0.879 - ETA: 1s - loss: 0.6049 - dice_loss: 0.1796 - acc: 0.883 - ETA: 0s - loss: 0.6222 - dice_loss: 0.1821 - acc: 0.881 - 6s 147ms/step - loss: 0.6108 - dice_loss: 0.1796 - acc: 0.8843 - val_loss: 0.7521 - val_dice_loss: 0.2021 - val_acc: 0.8683\n",
      "\n",
      "Epoch 00016: val_loss did not improve from 0.71640\n",
      "Epoch 17/50\n",
      "43/43 [==============================] - ETA: 4s - loss: 0.4989 - dice_loss: 0.1454 - acc: 0.915 - ETA: 3s - loss: 0.5798 - dice_loss: 0.1527 - acc: 0.899 - ETA: 2s - loss: 0.6058 - dice_loss: 0.1539 - acc: 0.896 - ETA: 1s - loss: 0.6356 - dice_loss: 0.1583 - acc: 0.891 - ETA: 0s - loss: 0.6119 - dice_loss: 0.1582 - acc: 0.894 - 6s 148ms/step - loss: 0.6076 - dice_loss: 0.1588 - acc: 0.8944 - val_loss: 0.6944 - val_dice_loss: 0.1846 - val_acc: 0.8759\n",
      "\n",
      "Epoch 00017: val_loss improved from 0.71640 to 0.69435, saving model to model-L-unet.h5\n",
      "Epoch 18/50\n",
      "43/43 [==============================] - ETA: 4s - loss: 0.5650 - dice_loss: 0.1666 - acc: 0.894 - ETA: 3s - loss: 0.6352 - dice_loss: 0.1740 - acc: 0.881 - ETA: 2s - loss: 0.5861 - dice_loss: 0.1652 - acc: 0.892 - ETA: 1s - loss: 0.6145 - dice_loss: 0.1704 - acc: 0.886 - ETA: 0s - loss: 0.5953 - dice_loss: 0.1677 - acc: 0.890 - 6s 148ms/step - loss: 0.5834 - dice_loss: 0.1655 - acc: 0.8919 - val_loss: 0.6931 - val_dice_loss: 0.1700 - val_acc: 0.8788\n",
      "\n",
      "Epoch 00018: val_loss improved from 0.69435 to 0.69307, saving model to model-L-unet.h5\n",
      "Epoch 19/50\n",
      "43/43 [==============================] - ETA: 4s - loss: 0.7502 - dice_loss: 0.1806 - acc: 0.860 - ETA: 3s - loss: 0.6493 - dice_loss: 0.1632 - acc: 0.883 - ETA: 2s - loss: 0.6545 - dice_loss: 0.1648 - acc: 0.886 - ETA: 1s - loss: 0.6128 - dice_loss: 0.1599 - acc: 0.895 - ETA: 0s - loss: 0.5954 - dice_loss: 0.1575 - acc: 0.897 - 6s 149ms/step - loss: 0.5925 - dice_loss: 0.1571 - acc: 0.8967 - val_loss: 0.7110 - val_dice_loss: 0.1710 - val_acc: 0.8748\n",
      "\n",
      "Epoch 00019: val_loss did not improve from 0.69307\n",
      "Epoch 20/50\n",
      "43/43 [==============================] - ETA: 4s - loss: 0.6827 - dice_loss: 0.1715 - acc: 0.867 - ETA: 3s - loss: 0.6229 - dice_loss: 0.1658 - acc: 0.881 - ETA: 2s - loss: 0.6006 - dice_loss: 0.1650 - acc: 0.886 - ETA: 1s - loss: 0.5648 - dice_loss: 0.1590 - acc: 0.891 - ETA: 0s - loss: 0.5866 - dice_loss: 0.1607 - acc: 0.885 - 6s 147ms/step - loss: 0.5854 - dice_loss: 0.1595 - acc: 0.8865 - val_loss: 0.6854 - val_dice_loss: 0.1672 - val_acc: 0.8923\n",
      "\n",
      "Epoch 00020: val_loss improved from 0.69307 to 0.68544, saving model to model-L-unet.h5\n",
      "Epoch 21/50\n",
      "43/43 [==============================] - ETA: 4s - loss: 0.5291 - dice_loss: 0.1424 - acc: 0.899 - ETA: 3s - loss: 0.6278 - dice_loss: 0.1593 - acc: 0.886 - ETA: 2s - loss: 0.5802 - dice_loss: 0.1541 - acc: 0.898 - ETA: 1s - loss: 0.6095 - dice_loss: 0.1607 - acc: 0.894 - ETA: 0s - loss: 0.6043 - dice_loss: 0.1620 - acc: 0.894 - 6s 149ms/step - loss: 0.5909 - dice_loss: 0.1604 - acc: 0.8961 - val_loss: 0.7089 - val_dice_loss: 0.1870 - val_acc: 0.8769\n",
      "\n",
      "Epoch 00021: val_loss did not improve from 0.68544\n",
      "Epoch 22/50\n",
      "43/43 [==============================] - ETA: 4s - loss: 0.4548 - dice_loss: 0.1402 - acc: 0.913 - ETA: 3s - loss: 0.5417 - dice_loss: 0.1518 - acc: 0.899 - ETA: 2s - loss: 0.6232 - dice_loss: 0.1629 - acc: 0.889 - ETA: 1s - loss: 0.5926 - dice_loss: 0.1585 - acc: 0.896 - ETA: 0s - loss: 0.5819 - dice_loss: 0.1584 - acc: 0.898 - 6s 148ms/step - loss: 0.5786 - dice_loss: 0.1587 - acc: 0.8990 - val_loss: 0.6672 - val_dice_loss: 0.1797 - val_acc: 0.8797\n",
      "\n",
      "Epoch 00022: val_loss improved from 0.68544 to 0.66722, saving model to model-L-unet.h5\n",
      "Epoch 23/50\n",
      "43/43 [==============================] - ETA: 4s - loss: 0.5605 - dice_loss: 0.1677 - acc: 0.893 - ETA: 3s - loss: 0.5998 - dice_loss: 0.1724 - acc: 0.884 - ETA: 2s - loss: 0.5820 - dice_loss: 0.1673 - acc: 0.888 - ETA: 1s - loss: 0.5588 - dice_loss: 0.1613 - acc: 0.894 - ETA: 0s - loss: 0.5625 - dice_loss: 0.1595 - acc: 0.894 - 6s 150ms/step - loss: 0.5641 - dice_loss: 0.1587 - acc: 0.8941 - val_loss: 0.6882 - val_dice_loss: 0.1592 - val_acc: 0.8864\n",
      "\n",
      "Epoch 00023: val_loss did not improve from 0.66722\n",
      "Epoch 24/50\n",
      "43/43 [==============================] - ETA: 4s - loss: 0.6266 - dice_loss: 0.1520 - acc: 0.886 - ETA: 3s - loss: 0.6528 - dice_loss: 0.1569 - acc: 0.882 - ETA: 2s - loss: 0.5662 - dice_loss: 0.1460 - acc: 0.899 - ETA: 1s - loss: 0.5699 - dice_loss: 0.1494 - acc: 0.900 - ETA: 0s - loss: 0.5608 - dice_loss: 0.1507 - acc: 0.901 - 6s 147ms/step - loss: 0.5574 - dice_loss: 0.1509 - acc: 0.9023 - val_loss: 0.6549 - val_dice_loss: 0.1763 - val_acc: 0.8827\n",
      "\n",
      "Epoch 00024: val_loss improved from 0.66722 to 0.65493, saving model to model-L-unet.h5\n",
      "Epoch 25/50\n",
      "43/43 [==============================] - ETA: 4s - loss: 0.5423 - dice_loss: 0.1571 - acc: 0.900 - ETA: 3s - loss: 0.5037 - dice_loss: 0.1507 - acc: 0.901 - ETA: 2s - loss: 0.5505 - dice_loss: 0.1565 - acc: 0.891 - ETA: 1s - loss: 0.5453 - dice_loss: 0.1539 - acc: 0.894 - ETA: 0s - loss: 0.5483 - dice_loss: 0.1528 - acc: 0.895 - 6s 146ms/step - loss: 0.5478 - dice_loss: 0.1524 - acc: 0.8960 - val_loss: 0.6880 - val_dice_loss: 0.1649 - val_acc: 0.8966\n",
      "\n",
      "Epoch 00025: val_loss did not improve from 0.65493\n",
      "Epoch 26/50\n",
      "43/43 [==============================] - ETA: 4s - loss: 0.4740 - dice_loss: 0.1378 - acc: 0.919 - ETA: 3s - loss: 0.5196 - dice_loss: 0.1459 - acc: 0.908 - ETA: 2s - loss: 0.5134 - dice_loss: 0.1442 - acc: 0.909 - ETA: 1s - loss: 0.5201 - dice_loss: 0.1449 - acc: 0.905 - ETA: 0s - loss: 0.5319 - dice_loss: 0.1469 - acc: 0.901 - 6s 146ms/step - loss: 0.5452 - dice_loss: 0.1489 - acc: 0.8996 - val_loss: 0.6603 - val_dice_loss: 0.1682 - val_acc: 0.8970\n",
      "\n",
      "Epoch 00026: val_loss did not improve from 0.65493\n",
      "Epoch 27/50\n",
      "43/43 [==============================] - ETA: 4s - loss: 0.6731 - dice_loss: 0.1793 - acc: 0.873 - ETA: 3s - loss: 0.6001 - dice_loss: 0.1719 - acc: 0.891 - ETA: 2s - loss: 0.5678 - dice_loss: 0.1686 - acc: 0.895 - ETA: 1s - loss: 0.5780 - dice_loss: 0.1690 - acc: 0.893 - ETA: 0s - loss: 0.5605 - dice_loss: 0.1636 - acc: 0.896 - 6s 148ms/step - loss: 0.5584 - dice_loss: 0.1624 - acc: 0.8967 - val_loss: 0.6649 - val_dice_loss: 0.1597 - val_acc: 0.8961\n",
      "\n",
      "Epoch 00027: val_loss did not improve from 0.65493\n",
      "Epoch 28/50\n",
      "43/43 [==============================] - ETA: 5s - loss: 0.6823 - dice_loss: 0.1716 - acc: 0.873 - ETA: 3s - loss: 0.6098 - dice_loss: 0.1604 - acc: 0.892 - ETA: 2s - loss: 0.5624 - dice_loss: 0.1558 - acc: 0.897 - ETA: 1s - loss: 0.5407 - dice_loss: 0.1527 - acc: 0.900 - ETA: 0s - loss: 0.5344 - dice_loss: 0.1510 - acc: 0.901 - 7s 151ms/step - loss: 0.5392 - dice_loss: 0.1513 - acc: 0.9006 - val_loss: 0.6739 - val_dice_loss: 0.1544 - val_acc: 0.8897\n",
      "\n",
      "Epoch 00028: val_loss did not improve from 0.65493\n",
      "Epoch 29/50\n",
      "43/43 [==============================] - ETA: 4s - loss: 0.5331 - dice_loss: 0.1399 - acc: 0.901 - ETA: 3s - loss: 0.4848 - dice_loss: 0.1327 - acc: 0.909 - ETA: 2s - loss: 0.5268 - dice_loss: 0.1398 - acc: 0.903 - ETA: 1s - loss: 0.5440 - dice_loss: 0.1428 - acc: 0.901 - ETA: 0s - loss: 0.5264 - dice_loss: 0.1422 - acc: 0.903 - 6s 149ms/step - loss: 0.5290 - dice_loss: 0.1434 - acc: 0.9030 - val_loss: 0.6182 - val_dice_loss: 0.1625 - val_acc: 0.8896\n",
      "\n",
      "Epoch 00029: val_loss improved from 0.65493 to 0.61817, saving model to model-L-unet.h5\n",
      "Epoch 30/50\n"
     ]
    },
    {
     "name": "stdout",
     "output_type": "stream",
     "text": [
      "43/43 [==============================] - ETA: 4s - loss: 0.5056 - dice_loss: 0.1569 - acc: 0.896 - ETA: 3s - loss: 0.5141 - dice_loss: 0.1565 - acc: 0.897 - ETA: 2s - loss: 0.5069 - dice_loss: 0.1522 - acc: 0.901 - ETA: 1s - loss: 0.5023 - dice_loss: 0.1480 - acc: 0.905 - ETA: 0s - loss: 0.5158 - dice_loss: 0.1477 - acc: 0.903 - 6s 148ms/step - loss: 0.5344 - dice_loss: 0.1499 - acc: 0.8999 - val_loss: 0.6261 - val_dice_loss: 0.1504 - val_acc: 0.9026\n",
      "\n",
      "Epoch 00030: val_loss did not improve from 0.61817\n",
      "Epoch 31/50\n",
      "43/43 [==============================] - ETA: 4s - loss: 0.4881 - dice_loss: 0.1380 - acc: 0.905 - ETA: 3s - loss: 0.4821 - dice_loss: 0.1388 - acc: 0.909 - ETA: 2s - loss: 0.5028 - dice_loss: 0.1456 - acc: 0.904 - ETA: 1s - loss: 0.4998 - dice_loss: 0.1459 - acc: 0.906 - ETA: 0s - loss: 0.5118 - dice_loss: 0.1489 - acc: 0.902 - 6s 145ms/step - loss: 0.5093 - dice_loss: 0.1485 - acc: 0.9028 - val_loss: 0.5979 - val_dice_loss: 0.1434 - val_acc: 0.9069\n",
      "\n",
      "Epoch 00031: val_loss improved from 0.61817 to 0.59790, saving model to model-L-unet.h5\n",
      "Epoch 32/50\n",
      "43/43 [==============================] - ETA: 4s - loss: 0.5183 - dice_loss: 0.1449 - acc: 0.901 - ETA: 3s - loss: 0.4773 - dice_loss: 0.1377 - acc: 0.904 - ETA: 2s - loss: 0.4934 - dice_loss: 0.1387 - acc: 0.902 - ETA: 1s - loss: 0.4974 - dice_loss: 0.1395 - acc: 0.901 - ETA: 0s - loss: 0.4900 - dice_loss: 0.1381 - acc: 0.902 - 6s 149ms/step - loss: 0.4884 - dice_loss: 0.1382 - acc: 0.9025 - val_loss: 0.6618 - val_dice_loss: 0.1305 - val_acc: 0.9112\n",
      "\n",
      "Epoch 00032: val_loss did not improve from 0.59790\n",
      "Epoch 33/50\n",
      "43/43 [==============================] - ETA: 4s - loss: 0.4881 - dice_loss: 0.1380 - acc: 0.896 - ETA: 3s - loss: 0.5080 - dice_loss: 0.1496 - acc: 0.891 - ETA: 2s - loss: 0.5275 - dice_loss: 0.1386 - acc: 0.903 - ETA: 1s - loss: 0.5563 - dice_loss: 0.1403 - acc: 0.900 - ETA: 0s - loss: 0.5447 - dice_loss: 0.1431 - acc: 0.898 - 6s 150ms/step - loss: 0.5425 - dice_loss: 0.1455 - acc: 0.8972 - val_loss: 0.6249 - val_dice_loss: 0.1661 - val_acc: 0.9020\n",
      "\n",
      "Epoch 00033: val_loss did not improve from 0.59790\n",
      "Epoch 34/50\n",
      "43/43 [==============================] - ETA: 4s - loss: 0.4786 - dice_loss: 0.1420 - acc: 0.906 - ETA: 3s - loss: 0.4937 - dice_loss: 0.1383 - acc: 0.910 - ETA: 2s - loss: 0.5129 - dice_loss: 0.1407 - acc: 0.907 - ETA: 1s - loss: 0.5181 - dice_loss: 0.1411 - acc: 0.907 - ETA: 0s - loss: 0.5042 - dice_loss: 0.1423 - acc: 0.909 - 6s 149ms/step - loss: 0.5045 - dice_loss: 0.1430 - acc: 0.9085 - val_loss: 0.6241 - val_dice_loss: 0.1555 - val_acc: 0.8980\n",
      "\n",
      "Epoch 00034: val_loss did not improve from 0.59790\n",
      "Epoch 35/50\n",
      "43/43 [==============================] - ETA: 4s - loss: 0.5441 - dice_loss: 0.1463 - acc: 0.893 - ETA: 3s - loss: 0.4704 - dice_loss: 0.1304 - acc: 0.910 - ETA: 2s - loss: 0.4505 - dice_loss: 0.1257 - acc: 0.915 - ETA: 1s - loss: 0.4497 - dice_loss: 0.1246 - acc: 0.916 - ETA: 0s - loss: 0.4739 - dice_loss: 0.1281 - acc: 0.912 - 6s 148ms/step - loss: 0.4833 - dice_loss: 0.1303 - acc: 0.9105 - val_loss: 0.5497 - val_dice_loss: 0.1478 - val_acc: 0.8991\n",
      "\n",
      "Epoch 00035: val_loss improved from 0.59790 to 0.54974, saving model to model-L-unet.h5\n",
      "Epoch 36/50\n",
      "43/43 [==============================] - ETA: 5s - loss: 0.4692 - dice_loss: 0.1522 - acc: 0.902 - ETA: 3s - loss: 0.5069 - dice_loss: 0.1541 - acc: 0.890 - ETA: 2s - loss: 0.5399 - dice_loss: 0.1566 - acc: 0.887 - ETA: 1s - loss: 0.5018 - dice_loss: 0.1476 - acc: 0.897 - ETA: 0s - loss: 0.4918 - dice_loss: 0.1439 - acc: 0.902 - 7s 153ms/step - loss: 0.4834 - dice_loss: 0.1415 - acc: 0.9055 - val_loss: 0.6108 - val_dice_loss: 0.1370 - val_acc: 0.9078\n",
      "\n",
      "Epoch 00036: val_loss did not improve from 0.54974\n",
      "Epoch 37/50\n",
      "43/43 [==============================] - ETA: 4s - loss: 0.4989 - dice_loss: 0.1361 - acc: 0.902 - ETA: 3s - loss: 0.4495 - dice_loss: 0.1257 - acc: 0.909 - ETA: 2s - loss: 0.4541 - dice_loss: 0.1267 - acc: 0.904 - ETA: 1s - loss: 0.4485 - dice_loss: 0.1251 - acc: 0.904 - ETA: 0s - loss: 0.4526 - dice_loss: 0.1264 - acc: 0.902 - 6s 148ms/step - loss: 0.4512 - dice_loss: 0.1258 - acc: 0.9028 - val_loss: 0.5631 - val_dice_loss: 0.1195 - val_acc: 0.9056\n",
      "\n",
      "Epoch 00037: val_loss did not improve from 0.54974\n",
      "Epoch 38/50\n",
      "43/43 [==============================] - ETA: 4s - loss: 0.4349 - dice_loss: 0.1250 - acc: 0.906 - ETA: 3s - loss: 0.4703 - dice_loss: 0.1259 - acc: 0.905 - ETA: 2s - loss: 0.4400 - dice_loss: 0.1202 - acc: 0.911 - ETA: 1s - loss: 0.4270 - dice_loss: 0.1165 - acc: 0.914 - ETA: 0s - loss: 0.4214 - dice_loss: 0.1167 - acc: 0.912 - 6s 147ms/step - loss: 0.4227 - dice_loss: 0.1166 - acc: 0.9130 - val_loss: 0.5236 - val_dice_loss: 0.1179 - val_acc: 0.9066\n",
      "\n",
      "Epoch 00038: val_loss improved from 0.54974 to 0.52359, saving model to model-L-unet.h5\n",
      "Epoch 39/50\n",
      "43/43 [==============================] - ETA: 4s - loss: 0.3836 - dice_loss: 0.1143 - acc: 0.924 - ETA: 3s - loss: 0.3800 - dice_loss: 0.1119 - acc: 0.926 - ETA: 2s - loss: 0.3682 - dice_loss: 0.1056 - acc: 0.930 - ETA: 1s - loss: 0.3738 - dice_loss: 0.1061 - acc: 0.930 - ETA: 0s - loss: 0.4132 - dice_loss: 0.1143 - acc: 0.923 - 6s 149ms/step - loss: 0.4131 - dice_loss: 0.1146 - acc: 0.9224 - val_loss: 0.5367 - val_dice_loss: 0.1134 - val_acc: 0.9093\n",
      "\n",
      "Epoch 00039: val_loss did not improve from 0.52359\n",
      "Epoch 40/50\n",
      "43/43 [==============================] - ETA: 4s - loss: 0.3607 - dice_loss: 0.1024 - acc: 0.926 - ETA: 3s - loss: 0.4059 - dice_loss: 0.1123 - acc: 0.919 - ETA: 2s - loss: 0.4128 - dice_loss: 0.1105 - acc: 0.914 - ETA: 1s - loss: 0.4168 - dice_loss: 0.1109 - acc: 0.913 - ETA: 0s - loss: 0.4026 - dice_loss: 0.1082 - acc: 0.916 - 6s 148ms/step - loss: 0.3962 - dice_loss: 0.1070 - acc: 0.9182 - val_loss: 0.6151 - val_dice_loss: 0.1158 - val_acc: 0.9114\n",
      "\n",
      "Epoch 00040: val_loss did not improve from 0.52359\n",
      "Epoch 41/50\n",
      "43/43 [==============================] - ETA: 4s - loss: 0.3063 - dice_loss: 0.0873 - acc: 0.939 - ETA: 3s - loss: 0.3320 - dice_loss: 0.0934 - acc: 0.938 - ETA: 2s - loss: 0.3964 - dice_loss: 0.1062 - acc: 0.926 - ETA: 1s - loss: 0.4033 - dice_loss: 0.1094 - acc: 0.924 - ETA: 0s - loss: 0.3925 - dice_loss: 0.1081 - acc: 0.924 - 6s 149ms/step - loss: 0.3931 - dice_loss: 0.1084 - acc: 0.9244 - val_loss: 0.6570 - val_dice_loss: 0.1172 - val_acc: 0.9042\n",
      "\n",
      "Epoch 00041: val_loss did not improve from 0.52359\n",
      "Epoch 42/50\n",
      "43/43 [==============================] - ETA: 4s - loss: 0.4031 - dice_loss: 0.1080 - acc: 0.920 - ETA: 3s - loss: 0.4114 - dice_loss: 0.1080 - acc: 0.917 - ETA: 2s - loss: 0.3721 - dice_loss: 0.0990 - acc: 0.925 - ETA: 1s - loss: 0.3819 - dice_loss: 0.1007 - acc: 0.925 - ETA: 0s - loss: 0.3804 - dice_loss: 0.0999 - acc: 0.926 - 6s 148ms/step - loss: 0.3832 - dice_loss: 0.1009 - acc: 0.9256 - val_loss: 0.6128 - val_dice_loss: 0.1133 - val_acc: 0.9068\n",
      "\n",
      "Epoch 00042: val_loss did not improve from 0.52359\n",
      "Epoch 43/50\n",
      "43/43 [==============================] - ETA: 4s - loss: 0.3893 - dice_loss: 0.1013 - acc: 0.926 - ETA: 3s - loss: 0.3938 - dice_loss: 0.1047 - acc: 0.925 - ETA: 2s - loss: 0.3953 - dice_loss: 0.1066 - acc: 0.920 - ETA: 1s - loss: 0.3820 - dice_loss: 0.1034 - acc: 0.923 - ETA: 0s - loss: 0.3751 - dice_loss: 0.1017 - acc: 0.923 - 7s 158ms/step - loss: 0.3731 - dice_loss: 0.1016 - acc: 0.9238 - val_loss: 0.6895 - val_dice_loss: 0.1159 - val_acc: 0.9116\n",
      "\n",
      "Epoch 00043: val_loss did not improve from 0.52359\n",
      "Epoch 44/50\n",
      "43/43 [==============================] - ETA: 5s - loss: 0.3931 - dice_loss: 0.0966 - acc: 0.930 - ETA: 4s - loss: 0.3825 - dice_loss: 0.0978 - acc: 0.932 - ETA: 2s - loss: 0.3808 - dice_loss: 0.1014 - acc: 0.930 - ETA: 1s - loss: 0.3688 - dice_loss: 0.1009 - acc: 0.928 - ETA: 0s - loss: 0.3653 - dice_loss: 0.1005 - acc: 0.929 - 7s 153ms/step - loss: 0.3693 - dice_loss: 0.1015 - acc: 0.9289 - val_loss: 0.6568 - val_dice_loss: 0.1137 - val_acc: 0.9113\n",
      "\n",
      "Epoch 00044: val_loss did not improve from 0.52359\n",
      "Epoch 45/50\n"
     ]
    },
    {
     "name": "stdout",
     "output_type": "stream",
     "text": [
      "43/43 [==============================] - ETA: 4s - loss: 0.3288 - dice_loss: 0.0891 - acc: 0.941 - ETA: 3s - loss: 0.3491 - dice_loss: 0.0964 - acc: 0.929 - ETA: 2s - loss: 0.3414 - dice_loss: 0.0928 - acc: 0.931 - ETA: 1s - loss: 0.3585 - dice_loss: 0.0960 - acc: 0.928 - ETA: 0s - loss: 0.3521 - dice_loss: 0.0939 - acc: 0.928 - 7s 153ms/step - loss: 0.3485 - dice_loss: 0.0932 - acc: 0.9290 - val_loss: 0.7083 - val_dice_loss: 0.1122 - val_acc: 0.9077\n",
      "\n",
      "Epoch 00045: val_loss did not improve from 0.52359\n",
      "Epoch 46/50\n",
      "43/43 [==============================] - ETA: 4s - loss: 0.3067 - dice_loss: 0.0809 - acc: 0.936 - ETA: 3s - loss: 0.2881 - dice_loss: 0.0767 - acc: 0.942 - ETA: 2s - loss: 0.3090 - dice_loss: 0.0807 - acc: 0.940 - ETA: 1s - loss: 0.3301 - dice_loss: 0.0856 - acc: 0.937 - ETA: 0s - loss: 0.3375 - dice_loss: 0.0876 - acc: 0.936 - 7s 152ms/step - loss: 0.3414 - dice_loss: 0.0887 - acc: 0.9354 - val_loss: 0.6784 - val_dice_loss: 0.1107 - val_acc: 0.9124\n",
      "\n",
      "Epoch 00046: val_loss did not improve from 0.52359\n",
      "Epoch 47/50\n",
      "43/43 [==============================] - ETA: 4s - loss: 0.3483 - dice_loss: 0.0937 - acc: 0.934 - ETA: 3s - loss: 0.3542 - dice_loss: 0.0941 - acc: 0.930 - ETA: 2s - loss: 0.3491 - dice_loss: 0.0930 - acc: 0.930 - ETA: 1s - loss: 0.3476 - dice_loss: 0.0924 - acc: 0.932 - ETA: 0s - loss: 0.3366 - dice_loss: 0.0897 - acc: 0.934 - 6s 151ms/step - loss: 0.3342 - dice_loss: 0.0893 - acc: 0.9353 - val_loss: 0.8116 - val_dice_loss: 0.1183 - val_acc: 0.9040\n",
      "\n",
      "Epoch 00047: val_loss did not improve from 0.52359\n",
      "Epoch 48/50\n",
      "43/43 [==============================] - ETA: 4s - loss: 0.3056 - dice_loss: 0.0795 - acc: 0.945 - ETA: 3s - loss: 0.3055 - dice_loss: 0.0801 - acc: 0.942 - ETA: 2s - loss: 0.3388 - dice_loss: 0.0899 - acc: 0.931 - ETA: 1s - loss: 0.3180 - dice_loss: 0.0847 - acc: 0.935 - ETA: 0s - loss: 0.3316 - dice_loss: 0.0869 - acc: 0.933 - 6s 147ms/step - loss: 0.3379 - dice_loss: 0.0876 - acc: 0.9328 - val_loss: 0.5532 - val_dice_loss: 0.1005 - val_acc: 0.9162\n",
      "\n",
      "Epoch 00048: val_loss did not improve from 0.52359\n",
      "Epoch 49/50\n",
      "43/43 [==============================] - ETA: 4s - loss: 0.3532 - dice_loss: 0.0947 - acc: 0.918 - ETA: 3s - loss: 0.3601 - dice_loss: 0.0989 - acc: 0.918 - ETA: 2s - loss: 0.3466 - dice_loss: 0.0937 - acc: 0.927 - ETA: 1s - loss: 0.3460 - dice_loss: 0.0940 - acc: 0.930 - ETA: 0s - loss: 0.3563 - dice_loss: 0.0962 - acc: 0.928 - 6s 147ms/step - loss: 0.3536 - dice_loss: 0.0956 - acc: 0.9286 - val_loss: 0.6316 - val_dice_loss: 0.1063 - val_acc: 0.9109\n",
      "\n",
      "Epoch 00049: val_loss did not improve from 0.52359\n",
      "Epoch 50/50\n",
      "43/43 [==============================] - ETA: 4s - loss: 0.3501 - dice_loss: 0.0933 - acc: 0.926 - ETA: 3s - loss: 0.3449 - dice_loss: 0.0899 - acc: 0.928 - ETA: 2s - loss: 0.3293 - dice_loss: 0.0871 - acc: 0.930 - ETA: 1s - loss: 0.3230 - dice_loss: 0.0849 - acc: 0.931 - ETA: 0s - loss: 0.3372 - dice_loss: 0.0877 - acc: 0.929 - 7s 152ms/step - loss: 0.3415 - dice_loss: 0.0887 - acc: 0.9296 - val_loss: 0.5714 - val_dice_loss: 0.1031 - val_acc: 0.9115\n",
      "\n",
      "Epoch 00050: val_loss did not improve from 0.52359\n"
     ]
    }
   ],
   "source": [
    "# Fit model\n",
    "earlystopper = EarlyStopping(patience=5, verbose=1)\n",
    "checkpointer = ModelCheckpoint('model-L-unet.h5', verbose=1, save_best_only=True)\n",
    "history = model.fit(X_train, Y_train, validation_data=[X_val, Y_val], batch_size=8, epochs=50, \n",
    "                    callbacks=[checkpointer])"
   ]
  },
  {
   "cell_type": "code",
   "execution_count": 11,
   "metadata": {},
   "outputs": [
    {
     "name": "stdout",
     "output_type": "stream",
     "text": [
      "[0.30805372887728166, 0.0773392915725708, 0.9340832719997484]\n"
     ]
    }
   ],
   "source": [
    "# evaluate the model\n",
    "train_loss = model.evaluate(X_train, Y_train, verbose=0)\n",
    "test_loss = model.evaluate(X_test, Y_test, verbose=0)\n",
    "\n",
    "#print(train_loss)\n",
    "print(test_loss)"
   ]
  },
  {
   "cell_type": "code",
   "execution_count": 12,
   "metadata": {},
   "outputs": [
    {
     "data": {
      "image/png": "[encoded data removed]",
      "text/plain": [
       "<Figure size 432x288 with 1 Axes>"
      ]
     },
     "metadata": {
      "needs_background": "light"
     },
     "output_type": "display_data"
    },
    {
     "data": {
      "image/png": "[encoded data removed]",
      "text/plain": [
       "<Figure size 432x288 with 1 Axes>"
      ]
     },
     "metadata": {
      "needs_background": "light"
     },
     "output_type": "display_data"
    }
   ],
   "source": [
    "# plot loss during training\n",
    "plt.title('Loss')\n",
    "#train_loss = history.history['loss']\n",
    "#test_loss = history.history['val_loss']\n",
    "plt.plot(history.history['loss'], label='train')\n",
    "plt.plot(history.history['val_loss'], label='validation')\n",
    "plt.xlabel('epoch')\n",
    "plt.legend()\n",
    "#plt.show()\n",
    "plt.savefig('result_loss.png')\n",
    "\n",
    "# plot dice_loss during training\n",
    "plt.figure()\n",
    "plt.title('dice_loss')\n",
    "plt.plot(history.history['dice_loss'], label='train')\n",
    "plt.plot(history.history['val_dice_loss'], label='validation')\n",
    "plt.xlabel('epoch')\n",
    "plt.legend()\n",
    "#plt.show()\n",
    "plt.savefig('result_dice.png')\n",
    "\n",
    "#plt.savefig('result.png')"
   ]
  },
  {
   "cell_type": "code",
   "execution_count": null,
   "metadata": {},
   "outputs": [],
   "source": []
  }
 ],
 "metadata": {
  "kernelspec": {
   "display_name": "Python 3",
   "language": "python",
   "name": "python3"
  },
  "language_info": {
   "codemirror_mode": {
    "name": "ipython",
    "version": 3
   },
   "file_extension": ".py",
   "mimetype": "text/x-python",
   "name": "python",
   "nbconvert_exporter": "python",
   "pygments_lexer": "ipython3",
   "version": "3.7.3"
  }
 },
 "nbformat": 4,
 "nbformat_minor": 2
}
