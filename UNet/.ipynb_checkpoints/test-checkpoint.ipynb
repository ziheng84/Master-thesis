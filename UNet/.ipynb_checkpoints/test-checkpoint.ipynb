{
 "cells": [
  {
   "cell_type": "code",
   "execution_count": 2,
   "metadata": {},
   "outputs": [],
   "source": [
    "import os\n",
    "import sys\n",
    "import random\n",
    "import warnings\n",
    "\n",
    "import numpy as np\n",
    "import pandas as pd\n",
    "\n",
    "import matplotlib.pyplot as plt\n",
    "\n",
    "# from tqdm import tqdm\n",
    "# from itertools import chain\n",
    "from skimage.io import imread, imshow, imread_collection, concatenate_images\n",
    "from skimage.transform import resize\n",
    "# from skimage.morphology import label\n",
    "\n",
    "# Set someparameters\n",
    "IMG_WIDTH = 128\n",
    "IMG_HEIGHT = 128\n",
    "IMG_CHANNELS = 3\n",
    "path = '../UNet/kaggle/dummy/'\n",
    "\n",
    "# warnings.filterwarnings('ignore', category=UserWarning, module='skimage')\n",
    "# seed = 42\n",
    "# random.seed = seed\n",
    "# np.random.seed = seed"
   ]
  },
  {
   "cell_type": "code",
   "execution_count": 2,
   "metadata": {},
   "outputs": [],
   "source": [
    "img_lab = imread(path + 'z_c000_p009_t0_z0_trap_8.png')\n",
    "img_kaggle = imread(path + '472b1c5ff988dadc209faea92499bc07f305208dbda29d16262b3d543ac91c71.png')"
   ]
  },
  {
   "cell_type": "code",
   "execution_count": 3,
   "metadata": {},
   "outputs": [
    {
     "name": "stdout",
     "output_type": "stream",
     "text": [
      "Image from the lab: \n",
      " Length:\n",
      "572\n",
      "[[38 38 38 ... 35 35 35]\n",
      " [38 38 38 ... 35 35 35]\n",
      " [38 38 38 ... 35 35 35]\n",
      " ...\n",
      " [37 37 37 ... 37 37 37]\n",
      " [37 37 37 ... 37 37 37]\n",
      " [37 37 37 ... 37 37 37]]\n",
      "Image from the kaggle: \n",
      " Length:\n",
      "512\n",
      "[[[209 202 221]\n",
      "  [220 201 201]\n",
      "  [222 187 179]\n",
      "  ...\n",
      "  [209 166 206]\n",
      "  [211 170 211]\n",
      "  [215 174 206]]\n",
      "\n",
      " [[220 207 216]\n",
      "  [230 205 201]\n",
      "  [228 189 179]\n",
      "  ...\n",
      "  [211 173 211]\n",
      "  [213 173 213]\n",
      "  [217 173 208]]\n",
      "\n",
      " [[232 214 213]\n",
      "  [236 207 196]\n",
      "  [234 191 184]\n",
      "  ...\n",
      "  [217 181 218]\n",
      "  [217 178 213]\n",
      "  [215 173 206]]\n",
      "\n",
      " ...\n",
      "\n",
      " [[217 168 201]\n",
      "  [213 166 201]\n",
      "  [211 165 201]\n",
      "  ...\n",
      "  [127  58 106]\n",
      "  [125  55  99]\n",
      "  [123  50  99]]\n",
      "\n",
      " [[209 160 196]\n",
      "  [205 160 199]\n",
      "  [203 161 201]\n",
      "  ...\n",
      "  [127  58 106]\n",
      "  [121  57  99]\n",
      "  [117  52 102]]\n",
      "\n",
      " [[207 156 189]\n",
      "  [203 156 194]\n",
      "  [203 158 199]\n",
      "  ...\n",
      "  [127  55 109]\n",
      "  [121  53 106]\n",
      "  [115  52 104]]]\n"
     ]
    }
   ],
   "source": [
    "print('Image from the lab: \\n Length:')\n",
    "print(len(img_lab))\n",
    "print(img_lab)\n",
    "print('Image from the kaggle: \\n Length:')\n",
    "print(len(img_kaggle))\n",
    "print(img_kaggle)"
   ]
  },
  {
   "cell_type": "code",
   "execution_count": 4,
   "metadata": {},
   "outputs": [
    {
     "name": "stdout",
     "output_type": "stream",
     "text": [
      "3\n",
      "[222 168 218]\n"
     ]
    }
   ],
   "source": [
    "x1 = img_kaggle[4][4]\n",
    "print(len(x1))\n",
    "print(x1)"
   ]
  },
  {
   "cell_type": "code",
   "execution_count": 5,
   "metadata": {},
   "outputs": [
    {
     "data": {
      "text/plain": [
       "(512, 680, 3)"
      ]
     },
     "execution_count": 5,
     "metadata": {},
     "output_type": "execute_result"
    }
   ],
   "source": [
    "img_kaggle.shape"
   ]
  },
  {
   "cell_type": "code",
   "execution_count": 6,
   "metadata": {},
   "outputs": [
    {
     "data": {
      "text/plain": [
       "(572, 572)"
      ]
     },
     "execution_count": 6,
     "metadata": {},
     "output_type": "execute_result"
    }
   ],
   "source": [
    "img_lab.shape"
   ]
  },
  {
   "cell_type": "code",
   "execution_count": 9,
   "metadata": {},
   "outputs": [
    {
     "name": "stderr",
     "output_type": "stream",
     "text": [
      "/home/ziheng/anaconda3/lib/python3.7/site-packages/skimage/transform/_warps.py:105: UserWarning: The default mode, 'constant', will be changed to 'reflect' in skimage 0.15.\n",
      "  warn(\"The default mode, 'constant', will be changed to 'reflect' in \"\n",
      "/home/ziheng/anaconda3/lib/python3.7/site-packages/skimage/transform/_warps.py:110: UserWarning: Anti-aliasing will be enabled by default in skimage 0.15 to avoid aliasing artifacts when down-sampling images.\n",
      "  warn(\"Anti-aliasing will be enabled by default in skimage 0.15 to \"\n"
     ]
    }
   ],
   "source": [
    "img_resize = resize(img_lab, (572, 572, 1))"
   ]
  },
  {
   "cell_type": "code",
   "execution_count": 11,
   "metadata": {},
   "outputs": [
    {
     "data": {
      "text/plain": [
       "(572, 572, 1)"
      ]
     },
     "execution_count": 11,
     "metadata": {},
     "output_type": "execute_result"
    }
   ],
   "source": [
    "img_resize.shape"
   ]
  },
  {
   "cell_type": "code",
   "execution_count": 15,
   "metadata": {},
   "outputs": [
    {
     "data": {
      "text/plain": [
       "numpy.ndarray"
      ]
     },
     "execution_count": 15,
     "metadata": {},
     "output_type": "execute_result"
    }
   ],
   "source": [
    "type(img_lab)"
   ]
  },
  {
   "cell_type": "code",
   "execution_count": 16,
   "metadata": {},
   "outputs": [
    {
     "data": {
      "text/plain": [
       "array([[38, 38, 38, ..., 35, 35, 35],\n",
       "       [38, 38, 38, ..., 35, 35, 35],\n",
       "       [38, 38, 38, ..., 35, 35, 35],\n",
       "       ...,\n",
       "       [37, 37, 37, ..., 37, 37, 37],\n",
       "       [37, 37, 37, ..., 37, 37, 37],\n",
       "       [37, 37, 37, ..., 37, 37, 37]], dtype=uint8)"
      ]
     },
     "execution_count": 16,
     "metadata": {},
     "output_type": "execute_result"
    }
   ],
   "source": [
    "img_lab"
   ]
  },
  {
   "cell_type": "code",
   "execution_count": 17,
   "metadata": {},
   "outputs": [],
   "source": [
    "img_new = img_lab[:,:,np.newaxis]"
   ]
  },
  {
   "cell_type": "code",
   "execution_count": 19,
   "metadata": {},
   "outputs": [
    {
     "data": {
      "text/plain": [
       "(572, 572, 1)"
      ]
     },
     "execution_count": 19,
     "metadata": {},
     "output_type": "execute_result"
    }
   ],
   "source": [
    "img_new.shape"
   ]
  },
  {
   "cell_type": "code",
   "execution_count": 20,
   "metadata": {},
   "outputs": [],
   "source": [
    "img_revert = np.reshape(img_new, (572,572))"
   ]
  },
  {
   "cell_type": "code",
   "execution_count": 21,
   "metadata": {},
   "outputs": [
    {
     "data": {
      "text/plain": [
       "array([[38, 38, 38, ..., 35, 35, 35],\n",
       "       [38, 38, 38, ..., 35, 35, 35],\n",
       "       [38, 38, 38, ..., 35, 35, 35],\n",
       "       ...,\n",
       "       [37, 37, 37, ..., 37, 37, 37],\n",
       "       [37, 37, 37, ..., 37, 37, 37],\n",
       "       [37, 37, 37, ..., 37, 37, 37]], dtype=uint8)"
      ]
     },
     "execution_count": 21,
     "metadata": {},
     "output_type": "execute_result"
    }
   ],
   "source": [
    "img_revert"
   ]
  },
  {
   "cell_type": "code",
   "execution_count": 22,
   "metadata": {},
   "outputs": [
    {
     "data": {
      "text/plain": [
       "<matplotlib.image.AxesImage at 0x7fd840cab978>"
      ]
     },
     "execution_count": 22,
     "metadata": {},
     "output_type": "execute_result"
    },
    {
     "data": {
      "image/png": "[encoded data removed]",
      "text/plain": [
       "<Figure size 432x288 with 1 Axes>"
      ]
     },
     "metadata": {
      "needs_background": "light"
     },
     "output_type": "display_data"
    }
   ],
   "source": [
    "imshow(img_revert)"
   ]
  },
  {
   "cell_type": "code",
   "execution_count": 3,
   "metadata": {},
   "outputs": [
    {
     "name": "stderr",
     "output_type": "stream",
     "text": [
      "No handles with labels found to put in legend.\n"
     ]
    },
    {
     "data": {
      "image/png": "[encoded data removed]",
      "text/plain": [
       "<Figure size 432x288 with 1 Axes>"
      ]
     },
     "metadata": {
      "needs_background": "light"
     },
     "output_type": "display_data"
    }
   ],
   "source": [
    "from matplotlib import pyplot\n",
    "\n",
    "# plot loss during training\n",
    "pyplot.title('Loss')\n",
    "pyplot.plot([0,1,2], )\n",
    "pyplot.legend()\n",
    "pyplot.show()"
   ]
  },
  {
   "cell_type": "code",
   "execution_count": 8,
   "metadata": {},
   "outputs": [],
   "source": [
    "a = np.zeros(shape=(5,2))"
   ]
  },
  {
   "cell_type": "code",
   "execution_count": 9,
   "metadata": {},
   "outputs": [
    {
     "data": {
      "text/plain": [
       "(5, 2)"
      ]
     },
     "execution_count": 9,
     "metadata": {},
     "output_type": "execute_result"
    }
   ],
   "source": [
    "a.shape"
   ]
  },
  {
   "cell_type": "code",
   "execution_count": 10,
   "metadata": {},
   "outputs": [
    {
     "data": {
      "text/plain": [
       "numpy.ndarray"
      ]
     },
     "execution_count": 10,
     "metadata": {},
     "output_type": "execute_result"
    }
   ],
   "source": [
    "type(a)"
   ]
  },
  {
   "cell_type": "code",
   "execution_count": 4,
   "metadata": {},
   "outputs": [
    {
     "data": {
      "text/plain": [
       "True"
      ]
     },
     "execution_count": 4,
     "metadata": {},
     "output_type": "execute_result"
    }
   ],
   "source": [
    "np.logical_and(1.0,1.0)"
   ]
  },
  {
   "cell_type": "code",
   "execution_count": null,
   "metadata": {},
   "outputs": [],
   "source": []
  }
 ],
 "metadata": {
  "kernelspec": {
   "display_name": "Python 3",
   "language": "python",
   "name": "python3"
  },
  "language_info": {
   "codemirror_mode": {
    "name": "ipython",
    "version": 3
   },
   "file_extension": ".py",
   "mimetype": "text/x-python",
   "name": "python",
   "nbconvert_exporter": "python",
   "pygments_lexer": "ipython3",
   "version": "3.7.3"
  }
 },
 "nbformat": 4,
 "nbformat_minor": 2
}
