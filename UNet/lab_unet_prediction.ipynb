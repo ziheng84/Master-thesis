{
 "cells": [
  {
   "cell_type": "code",
   "execution_count": 1,
   "metadata": {},
   "outputs": [
    {
     "name": "stderr",
     "output_type": "stream",
     "text": [
      "Using TensorFlow backend.\n"
     ]
    }
   ],
   "source": [
    "# Initialization\n",
    "import os\n",
    "import sys\n",
    "import random\n",
    "import warnings\n",
    "\n",
    "import numpy as np\n",
    "import pandas as pd\n",
    "\n",
    "import matplotlib.pyplot as plt\n",
    "import seaborn as sns\n",
    "\n",
    "from tqdm import tqdm\n",
    "from itertools import chain\n",
    "from skimage.io import imread, imshow, imsave, imread_collection, concatenate_images\n",
    "from skimage.transform import resize\n",
    "from skimage.morphology import label\n",
    "from sklearn.utils.class_weight import compute_class_weight\n",
    "\n",
    "from keras.models import Model, load_model\n",
    "from keras.utils import to_categorical # one-hot-encoding\n",
    "\n",
    "# Required for loss function\n",
    "import math\n",
    "from tensorflow.python.keras import losses\n",
    "\n",
    "import tensorflow as tf\n",
    "\n",
    "from unet_utilz import *"
   ]
  },
  {
   "cell_type": "code",
   "execution_count": 2,
   "metadata": {},
   "outputs": [],
   "source": [
    "# Set someparameters\n",
    "IMG_WIDTH = 128\n",
    "IMG_HEIGHT = 128\n",
    "# Original size = 572*572\n",
    "LABEL_CLASS = 3\n",
    "\n",
    "MODEL_NAME = 'model-swain-unet.h5'\n",
    "\n",
    "warnings.filterwarnings('ignore', category=UserWarning, module='skimage')\n",
    "seed = 42\n",
    "random.seed = seed\n",
    "np.random.seed = seed"
   ]
  },
  {
   "cell_type": "code",
   "execution_count": 3,
   "metadata": {},
   "outputs": [
    {
     "name": "stdout",
     "output_type": "stream",
     "text": [
      "Getting and resizing test images ... \n"
     ]
    },
    {
     "name": "stderr",
     "output_type": "stream",
     "text": [
      "100%|███████████████████████████████████████████████████████████████████████████████| 173/173 [00:00<00:00, 227.73it/s]\n"
     ]
    },
    {
     "name": "stdout",
     "output_type": "stream",
     "text": [
      "Getting and resizing test masks ... \n"
     ]
    },
    {
     "name": "stderr",
     "output_type": "stream",
     "text": [
      "100%|███████████████████████████████████████████████████████████████████████████████| 173/173 [00:00<00:00, 243.96it/s]\n"
     ]
    },
    {
     "name": "stdout",
     "output_type": "stream",
     "text": [
      "Done!\n"
     ]
    }
   ],
   "source": [
    "# Importing data...\n",
    "\n",
    "# Path for Linux\n",
    "#TRAIN_PATH = '/home/ziheng/UNet/dataset_lab/train/'\n",
    "#TEST_PATH = '/home/ziheng/UNet/dataset_lab/test/'\n",
    "\n",
    "# Path for Windows\n",
    "#TRAIN_PATH = 'F:\\\\MA\\\\data\\\\NIH\\\\Ls\\\\20180717_161620(new_Ls)\\\\train\\\\'\n",
    "TEST_PATH = 'F:\\\\MA\\\\data\\\\Swain_lab\\\\DISCO_result\\\\str515_GFP_006\\\\test\\\\'\n",
    "\n",
    "\n",
    "# original lab dataset\n",
    "# 'F:\\\\MA\\\\data\\\\dataset_lab\\\\train\\\\'\n",
    "# L-shape dataset\n",
    "# 'F:\\\\MA\\\\data\\\\NIH\\\\Ls\\\\20180717_161620(new_Ls)\\\\train\\\\'\n",
    "# DISCO dataset\n",
    "# 'F:\\\\MA\\\\data\\\\Swain_lab\\\\DISCO_result\\\\str515_GFP_006\\\\test\\\\'\n",
    "\n",
    "# Get train and test IDs\n",
    "#train_ids = next(os.walk(TRAIN_PATH + 'in/'))[2]\n",
    "test_ids = next(os.walk(TEST_PATH + 'in/'))[2]\n",
    "mask_ids = next(os.walk(TEST_PATH + 'out-cell/'))[2]\n",
    "\n",
    "# X_test: original images\n",
    "X_test = np.zeros((len(test_ids), IMG_HEIGHT, IMG_WIDTH, 1), dtype=np.float32)\n",
    "# Y_test: masks\n",
    "Y_test = np.zeros((len(test_ids), IMG_HEIGHT, IMG_WIDTH, LABEL_CLASS), dtype=np.bool)\n",
    "# Y_orig: original mask without one-hot encoding\n",
    "#Y_orig = np.zeros((len(test_ids), 64, 64), dtype=np.uint8)\n",
    "    \n",
    "    \n",
    "# Get and resize test images\n",
    "print('Getting and resizing test images ... ')\n",
    "sys.stdout.flush()\n",
    "\n",
    "for n, id_ in tqdm(enumerate(test_ids), total=len(test_ids)):\n",
    "    \n",
    "    img = imread(TEST_PATH + 'in/' + id_)\n",
    "    X_test[n] = pre_process(img, IMG_HEIGHT, IMG_WIDTH, norm = False, rescale = True)\n",
    "\n",
    "    \n",
    "print('Getting and resizing test masks ... ')    \n",
    "\n",
    "for n, id_ in tqdm(enumerate(mask_ids), total=len(mask_ids)):\n",
    "    \n",
    "    mask = imread(TEST_PATH + 'out-cell/' + id_)\n",
    "    #Y_orig[n] = mask\n",
    "    mask = to_categorical(mask, LABEL_CLASS) # Generate binary masks (one hot encoding)\n",
    "    # Resizing need to be done AFTER one-hot encoding!!!!!!!\n",
    "    mask = pre_process(mask, IMG_HEIGHT, IMG_WIDTH, mask = True)\n",
    "    Y_test[n] = mask\n",
    "    \n",
    "    \n",
    "print('Done!')"
   ]
  },
  {
   "cell_type": "code",
   "execution_count": 4,
   "metadata": {},
   "outputs": [
    {
     "ename": "OSError",
     "evalue": "Unable to open file (unable to open file: name = '.\\model-swain-unet.h5', errno = 2, error message = 'No such file or directory', flags = 0, o_flags = 0)",
     "output_type": "error",
     "traceback": [
      "\u001b[1;31m---------------------------------------------------------------------------\u001b[0m",
      "\u001b[1;31mOSError\u001b[0m                                   Traceback (most recent call last)",
      "\u001b[1;32m<ipython-input-4-4cfc5e50b957>\u001b[0m in \u001b[0;36m<module>\u001b[1;34m\u001b[0m\n\u001b[0;32m      1\u001b[0m \u001b[1;31m# Predict on test data via UNet\u001b[0m\u001b[1;33m\u001b[0m\u001b[1;33m\u001b[0m\u001b[1;33m\u001b[0m\u001b[0m\n\u001b[1;32m----> 2\u001b[1;33m \u001b[0mmodel\u001b[0m \u001b[1;33m=\u001b[0m \u001b[0mload_model\u001b[0m\u001b[1;33m(\u001b[0m\u001b[1;34m'.\\\\'\u001b[0m \u001b[1;33m+\u001b[0m \u001b[0mMODEL_NAME\u001b[0m\u001b[1;33m,\u001b[0m \u001b[0mcustom_objects\u001b[0m\u001b[1;33m=\u001b[0m\u001b[1;33m{\u001b[0m\u001b[1;34m'bce_dice_loss'\u001b[0m\u001b[1;33m:\u001b[0m \u001b[0mbce_dice_loss\u001b[0m\u001b[1;33m,\u001b[0m \u001b[1;34m'IoU'\u001b[0m\u001b[1;33m:\u001b[0m \u001b[0mIoU\u001b[0m\u001b[1;33m,\u001b[0m \u001b[1;34m'dice_loss'\u001b[0m\u001b[1;33m:\u001b[0m \u001b[0mdice_loss\u001b[0m\u001b[1;33m}\u001b[0m\u001b[1;33m)\u001b[0m\u001b[1;33m\u001b[0m\u001b[1;33m\u001b[0m\u001b[0m\n\u001b[0m\u001b[0;32m      3\u001b[0m \u001b[0mpreds_test\u001b[0m \u001b[1;33m=\u001b[0m \u001b[0mmodel\u001b[0m\u001b[1;33m.\u001b[0m\u001b[0mpredict\u001b[0m\u001b[1;33m(\u001b[0m\u001b[0mX_test\u001b[0m\u001b[1;33m,\u001b[0m \u001b[0mverbose\u001b[0m\u001b[1;33m=\u001b[0m\u001b[1;36m1\u001b[0m\u001b[1;33m)\u001b[0m\u001b[1;33m\u001b[0m\u001b[1;33m\u001b[0m\u001b[0m\n\u001b[0;32m      4\u001b[0m \u001b[1;33m\u001b[0m\u001b[0m\n\u001b[0;32m      5\u001b[0m \u001b[1;31m# Threshold predictions\u001b[0m\u001b[1;33m\u001b[0m\u001b[1;33m\u001b[0m\u001b[1;33m\u001b[0m\u001b[0m\n",
      "\u001b[1;32mC:\\Anaconda\\envs\\deep-learning\\lib\\site-packages\\keras\\engine\\saving.py\u001b[0m in \u001b[0;36mload_model\u001b[1;34m(filepath, custom_objects, compile)\u001b[0m\n\u001b[0;32m    415\u001b[0m     \u001b[0mmodel\u001b[0m \u001b[1;33m=\u001b[0m \u001b[1;32mNone\u001b[0m\u001b[1;33m\u001b[0m\u001b[1;33m\u001b[0m\u001b[0m\n\u001b[0;32m    416\u001b[0m     \u001b[0mopened_new_file\u001b[0m \u001b[1;33m=\u001b[0m \u001b[1;32mnot\u001b[0m \u001b[0misinstance\u001b[0m\u001b[1;33m(\u001b[0m\u001b[0mfilepath\u001b[0m\u001b[1;33m,\u001b[0m \u001b[0mh5py\u001b[0m\u001b[1;33m.\u001b[0m\u001b[0mGroup\u001b[0m\u001b[1;33m)\u001b[0m\u001b[1;33m\u001b[0m\u001b[1;33m\u001b[0m\u001b[0m\n\u001b[1;32m--> 417\u001b[1;33m     \u001b[0mf\u001b[0m \u001b[1;33m=\u001b[0m \u001b[0mh5dict\u001b[0m\u001b[1;33m(\u001b[0m\u001b[0mfilepath\u001b[0m\u001b[1;33m,\u001b[0m \u001b[1;34m'r'\u001b[0m\u001b[1;33m)\u001b[0m\u001b[1;33m\u001b[0m\u001b[1;33m\u001b[0m\u001b[0m\n\u001b[0m\u001b[0;32m    418\u001b[0m     \u001b[1;32mtry\u001b[0m\u001b[1;33m:\u001b[0m\u001b[1;33m\u001b[0m\u001b[1;33m\u001b[0m\u001b[0m\n\u001b[0;32m    419\u001b[0m         \u001b[0mmodel\u001b[0m \u001b[1;33m=\u001b[0m \u001b[0m_deserialize_model\u001b[0m\u001b[1;33m(\u001b[0m\u001b[0mf\u001b[0m\u001b[1;33m,\u001b[0m \u001b[0mcustom_objects\u001b[0m\u001b[1;33m,\u001b[0m \u001b[0mcompile\u001b[0m\u001b[1;33m)\u001b[0m\u001b[1;33m\u001b[0m\u001b[1;33m\u001b[0m\u001b[0m\n",
      "\u001b[1;32mC:\\Anaconda\\envs\\deep-learning\\lib\\site-packages\\keras\\utils\\io_utils.py\u001b[0m in \u001b[0;36m__init__\u001b[1;34m(self, path, mode)\u001b[0m\n\u001b[0;32m    184\u001b[0m             \u001b[0mself\u001b[0m\u001b[1;33m.\u001b[0m\u001b[0m_is_file\u001b[0m \u001b[1;33m=\u001b[0m \u001b[1;32mFalse\u001b[0m\u001b[1;33m\u001b[0m\u001b[1;33m\u001b[0m\u001b[0m\n\u001b[0;32m    185\u001b[0m         \u001b[1;32melif\u001b[0m \u001b[0misinstance\u001b[0m\u001b[1;33m(\u001b[0m\u001b[0mpath\u001b[0m\u001b[1;33m,\u001b[0m \u001b[0mstr\u001b[0m\u001b[1;33m)\u001b[0m\u001b[1;33m:\u001b[0m\u001b[1;33m\u001b[0m\u001b[1;33m\u001b[0m\u001b[0m\n\u001b[1;32m--> 186\u001b[1;33m             \u001b[0mself\u001b[0m\u001b[1;33m.\u001b[0m\u001b[0mdata\u001b[0m \u001b[1;33m=\u001b[0m \u001b[0mh5py\u001b[0m\u001b[1;33m.\u001b[0m\u001b[0mFile\u001b[0m\u001b[1;33m(\u001b[0m\u001b[0mpath\u001b[0m\u001b[1;33m,\u001b[0m \u001b[0mmode\u001b[0m\u001b[1;33m=\u001b[0m\u001b[0mmode\u001b[0m\u001b[1;33m)\u001b[0m\u001b[1;33m\u001b[0m\u001b[1;33m\u001b[0m\u001b[0m\n\u001b[0m\u001b[0;32m    187\u001b[0m             \u001b[0mself\u001b[0m\u001b[1;33m.\u001b[0m\u001b[0m_is_file\u001b[0m \u001b[1;33m=\u001b[0m \u001b[1;32mTrue\u001b[0m\u001b[1;33m\u001b[0m\u001b[1;33m\u001b[0m\u001b[0m\n\u001b[0;32m    188\u001b[0m         \u001b[1;32melif\u001b[0m \u001b[0misinstance\u001b[0m\u001b[1;33m(\u001b[0m\u001b[0mpath\u001b[0m\u001b[1;33m,\u001b[0m \u001b[0mdict\u001b[0m\u001b[1;33m)\u001b[0m\u001b[1;33m:\u001b[0m\u001b[1;33m\u001b[0m\u001b[1;33m\u001b[0m\u001b[0m\n",
      "\u001b[1;32mC:\\Anaconda\\envs\\deep-learning\\lib\\site-packages\\h5py\\_hl\\files.py\u001b[0m in \u001b[0;36m__init__\u001b[1;34m(self, name, mode, driver, libver, userblock_size, swmr, **kwds)\u001b[0m\n\u001b[0;32m    310\u001b[0m             \u001b[1;32mwith\u001b[0m \u001b[0mphil\u001b[0m\u001b[1;33m:\u001b[0m\u001b[1;33m\u001b[0m\u001b[1;33m\u001b[0m\u001b[0m\n\u001b[0;32m    311\u001b[0m                 \u001b[0mfapl\u001b[0m \u001b[1;33m=\u001b[0m \u001b[0mmake_fapl\u001b[0m\u001b[1;33m(\u001b[0m\u001b[0mdriver\u001b[0m\u001b[1;33m,\u001b[0m \u001b[0mlibver\u001b[0m\u001b[1;33m,\u001b[0m \u001b[1;33m**\u001b[0m\u001b[0mkwds\u001b[0m\u001b[1;33m)\u001b[0m\u001b[1;33m\u001b[0m\u001b[1;33m\u001b[0m\u001b[0m\n\u001b[1;32m--> 312\u001b[1;33m                 \u001b[0mfid\u001b[0m \u001b[1;33m=\u001b[0m \u001b[0mmake_fid\u001b[0m\u001b[1;33m(\u001b[0m\u001b[0mname\u001b[0m\u001b[1;33m,\u001b[0m \u001b[0mmode\u001b[0m\u001b[1;33m,\u001b[0m \u001b[0muserblock_size\u001b[0m\u001b[1;33m,\u001b[0m \u001b[0mfapl\u001b[0m\u001b[1;33m,\u001b[0m \u001b[0mswmr\u001b[0m\u001b[1;33m=\u001b[0m\u001b[0mswmr\u001b[0m\u001b[1;33m)\u001b[0m\u001b[1;33m\u001b[0m\u001b[1;33m\u001b[0m\u001b[0m\n\u001b[0m\u001b[0;32m    313\u001b[0m \u001b[1;33m\u001b[0m\u001b[0m\n\u001b[0;32m    314\u001b[0m                 \u001b[1;32mif\u001b[0m \u001b[0mswmr_support\u001b[0m\u001b[1;33m:\u001b[0m\u001b[1;33m\u001b[0m\u001b[1;33m\u001b[0m\u001b[0m\n",
      "\u001b[1;32mC:\\Anaconda\\envs\\deep-learning\\lib\\site-packages\\h5py\\_hl\\files.py\u001b[0m in \u001b[0;36mmake_fid\u001b[1;34m(name, mode, userblock_size, fapl, fcpl, swmr)\u001b[0m\n\u001b[0;32m    140\u001b[0m         \u001b[1;32mif\u001b[0m \u001b[0mswmr\u001b[0m \u001b[1;32mand\u001b[0m \u001b[0mswmr_support\u001b[0m\u001b[1;33m:\u001b[0m\u001b[1;33m\u001b[0m\u001b[1;33m\u001b[0m\u001b[0m\n\u001b[0;32m    141\u001b[0m             \u001b[0mflags\u001b[0m \u001b[1;33m|=\u001b[0m \u001b[0mh5f\u001b[0m\u001b[1;33m.\u001b[0m\u001b[0mACC_SWMR_READ\u001b[0m\u001b[1;33m\u001b[0m\u001b[1;33m\u001b[0m\u001b[0m\n\u001b[1;32m--> 142\u001b[1;33m         \u001b[0mfid\u001b[0m \u001b[1;33m=\u001b[0m \u001b[0mh5f\u001b[0m\u001b[1;33m.\u001b[0m\u001b[0mopen\u001b[0m\u001b[1;33m(\u001b[0m\u001b[0mname\u001b[0m\u001b[1;33m,\u001b[0m \u001b[0mflags\u001b[0m\u001b[1;33m,\u001b[0m \u001b[0mfapl\u001b[0m\u001b[1;33m=\u001b[0m\u001b[0mfapl\u001b[0m\u001b[1;33m)\u001b[0m\u001b[1;33m\u001b[0m\u001b[1;33m\u001b[0m\u001b[0m\n\u001b[0m\u001b[0;32m    143\u001b[0m     \u001b[1;32melif\u001b[0m \u001b[0mmode\u001b[0m \u001b[1;33m==\u001b[0m \u001b[1;34m'r+'\u001b[0m\u001b[1;33m:\u001b[0m\u001b[1;33m\u001b[0m\u001b[1;33m\u001b[0m\u001b[0m\n\u001b[0;32m    144\u001b[0m         \u001b[0mfid\u001b[0m \u001b[1;33m=\u001b[0m \u001b[0mh5f\u001b[0m\u001b[1;33m.\u001b[0m\u001b[0mopen\u001b[0m\u001b[1;33m(\u001b[0m\u001b[0mname\u001b[0m\u001b[1;33m,\u001b[0m \u001b[0mh5f\u001b[0m\u001b[1;33m.\u001b[0m\u001b[0mACC_RDWR\u001b[0m\u001b[1;33m,\u001b[0m \u001b[0mfapl\u001b[0m\u001b[1;33m=\u001b[0m\u001b[0mfapl\u001b[0m\u001b[1;33m)\u001b[0m\u001b[1;33m\u001b[0m\u001b[1;33m\u001b[0m\u001b[0m\n",
      "\u001b[1;32mh5py\\_objects.pyx\u001b[0m in \u001b[0;36mh5py._objects.with_phil.wrapper\u001b[1;34m()\u001b[0m\n",
      "\u001b[1;32mh5py\\_objects.pyx\u001b[0m in \u001b[0;36mh5py._objects.with_phil.wrapper\u001b[1;34m()\u001b[0m\n",
      "\u001b[1;32mh5py\\h5f.pyx\u001b[0m in \u001b[0;36mh5py.h5f.open\u001b[1;34m()\u001b[0m\n",
      "\u001b[1;31mOSError\u001b[0m: Unable to open file (unable to open file: name = '.\\model-swain-unet.h5', errno = 2, error message = 'No such file or directory', flags = 0, o_flags = 0)"
     ]
    }
   ],
   "source": [
    "# Predict on test data via UNet\n",
    "model = load_model('.\\\\' + MODEL_NAME, custom_objects={'bce_dice_loss': bce_dice_loss, 'IoU': IoU, 'dice_loss': dice_loss})\n",
    "preds_test = model.predict(X_test, verbose=1)\n",
    "\n",
    "# Threshold predictions\n",
    "preds_test_t = (preds_test > 0.5).astype(np.uint8)"
   ]
  },
  {
   "cell_type": "code",
   "execution_count": null,
   "metadata": {},
   "outputs": [],
   "source": []
  },
  {
   "cell_type": "code",
   "execution_count": null,
   "metadata": {},
   "outputs": [],
   "source": [
    "#################################### Following blocks are used for generating result images #######################################"
   ]
  },
  {
   "cell_type": "code",
   "execution_count": 6,
   "metadata": {},
   "outputs": [
    {
     "data": {
      "image/png": "[encoded data removed]",
      "text/plain": [
       "<Figure size 576x288 with 3 Axes>"
      ]
     },
     "metadata": {
      "needs_background": "light"
     },
     "output_type": "display_data"
    }
   ],
   "source": [
    "plt.figure(figsize=(8,4))\n",
    "#plt.grid(None)\n",
    "plt.subplot(121)\n",
    "imshow(preds_test[1,:,:,2])\n",
    "\n",
    "plt.subplot(122)\n",
    "#plt.grid(None)\n",
    "imshow(preds_test_t[1,:,:,2])\n",
    "plt.show()"
   ]
  },
  {
   "cell_type": "code",
   "execution_count": 7,
   "metadata": {},
   "outputs": [],
   "source": [
    "# Generate the mask wihtout one-hot-encoding \n",
    "preds_test_mask = np.zeros(shape=(preds_test_t.shape[0], preds_test_t.shape[1], preds_test_t.shape[2]))\n",
    "\n",
    "for i in range(preds_test_t.shape[0]):\n",
    "    for y in range(preds_test_t.shape[1]):\n",
    "        for x in range(preds_test_t.shape[2]):\n",
    "            if preds_test_t[i, y, x, 1] == 1:\n",
    "                preds_test_mask[i, y, x] = 1\n",
    "            elif preds_test_t[i, y, x, 2] == 1:\n",
    "                preds_test_mask[i, y, x] = 2\n",
    "            else:\n",
    "                preds_test_mask[i, y, x] = 0"
   ]
  },
  {
   "cell_type": "code",
   "execution_count": 8,
   "metadata": {},
   "outputs": [
    {
     "name": "stdout",
     "output_type": "stream",
     "text": [
      "2\n"
     ]
    },
    {
     "data": {
      "image/png": "[encoded data removed]",
      "text/plain": [
       "<Figure size 576x288 with 3 Axes>"
      ]
     },
     "metadata": {
      "needs_background": "light"
     },
     "output_type": "display_data"
    }
   ],
   "source": [
    "# Visualize the test image + the prediction masks\n",
    "ix = random.randint(0, len(test_ids)-1)\n",
    "#ix = 1\n",
    "print(ix)\n",
    "\n",
    "plt.figure(figsize=(8,4))\n",
    "#plt.grid(None)\n",
    "plt.subplot(121)\n",
    "imshow(np.reshape(X_test[ix], (IMG_WIDTH, IMG_HEIGHT)))\n",
    "\n",
    "#plt.grid(None)\n",
    "#imshow(Y_orig[ix])\n",
    "#plt.show()\n",
    "\n",
    "plt.subplot(122)\n",
    "#plt.grid(None)\n",
    "imshow(np.squeeze(preds_test_mask[ix]))\n",
    "plt.show()"
   ]
  },
  {
   "cell_type": "code",
   "execution_count": 149,
   "metadata": {},
   "outputs": [],
   "source": [
    "# Generate the images to save\n",
    "preds_res = np.zeros(shape=(preds_test_t.shape[0], preds_test_t.shape[1], preds_test_t.shape[2]))\n",
    "\n",
    "for i in range(preds_test_t.shape[0]):\n",
    "    for y in range(preds_test_t.shape[1]):\n",
    "        for x in range(preds_test_t.shape[2]):\n",
    "            if preds_test_t[i, y, x, 1] == 1:\n",
    "                preds_res[i, y, x] = 128\n",
    "            elif preds_test_t[i, y, x, 2] == 1:\n",
    "                preds_res[i, y, x] = 255\n",
    "            else:\n",
    "                preds_res[i, y, x] = 0\n",
    "                \n",
    "preds_res = preds_res.astype('uint8')"
   ]
  },
  {
   "cell_type": "code",
   "execution_count": 150,
   "metadata": {},
   "outputs": [
    {
     "name": "stdout",
     "output_type": "stream",
     "text": [
      "11\n"
     ]
    },
    {
     "data": {
      "image/png": "[encoded data removed]",
      "text/plain": [
       "<Figure size 576x288 with 3 Axes>"
      ]
     },
     "metadata": {
      "needs_background": "light"
     },
     "output_type": "display_data"
    }
   ],
   "source": [
    "# Generate and save the test image + the prediction masks\n",
    "#ix = random.randint(0, len(test_ids))\n",
    "ix = 11\n",
    "print(ix)\n",
    "\n",
    "plt.figure(figsize=(8,4))\n",
    "plt.subplot(121)\n",
    "#plt.grid(None)\n",
    "imshow(np.resize(preds_test_mask[ix], (128, 128)))\n",
    "\n",
    "plt.subplot(122)\n",
    "#plt.grid(None)\n",
    "imshow(preds_res[ix])\n",
    "plt.show()"
   ]
  },
  {
   "cell_type": "code",
   "execution_count": 151,
   "metadata": {
    "scrolled": false
   },
   "outputs": [
    {
     "name": "stderr",
     "output_type": "stream",
     "text": [
      "100%|███████████████████████████████████████████████████████████████████████████████| 173/173 [00:00<00:00, 202.81it/s]\n"
     ]
    }
   ],
   "source": [
    "################### Don't run unless you want to generate images!!!!!!! ######################\n",
    "##############################################################################################\n",
    "# Generate and save the test image + the prediction masks\n",
    "\n",
    "for i, id_ in tqdm(enumerate(preds_res), total = len(preds_res)):\n",
    "    imsave('.\\\\prediction\\\\' + test_ids[i].replace('jpg','png'), preds_res[i])"
   ]
  },
  {
   "cell_type": "code",
   "execution_count": null,
   "metadata": {},
   "outputs": [],
   "source": []
  },
  {
   "cell_type": "code",
   "execution_count": null,
   "metadata": {},
   "outputs": [],
   "source": []
  },
  {
   "cell_type": "code",
   "execution_count": null,
   "metadata": {},
   "outputs": [],
   "source": [
    "#################################### Following blocks are used for generating stats and csv ###########################################"
   ]
  },
  {
   "cell_type": "code",
   "execution_count": 16,
   "metadata": {},
   "outputs": [],
   "source": [
    "IoU_score = []\n",
    "class_IoU_score = []\n",
    "class_f1_score = []\n",
    "class_precision_score = []\n",
    "class_recall_score =  []\n",
    "\n",
    "for d in range(Y_test.shape[3]):\n",
    "    class_IoU_score.append([])\n",
    "    class_f1_score.append([])\n",
    "    class_precision_score.append([])\n",
    "    class_recall_score.append([])\n",
    "\n",
    "for i in range(len(X_test)):\n",
    "    IoU_score.append(metric_IoU(Y_test[i], preds_test_t[i]))\n",
    "    for d in range(Y_test.shape[3]):\n",
    "        class_IoU_score[d].append(metric_IoU(Y_test[i,:,:,d], preds_test_t[i,:,:,d]))\n",
    "        class_f1_score[d].append(metric_f1(Y_test[i,:,:,d], preds_test_t[i,:,:,d]))\n",
    "        class_precision_score[d].append(metric_precision(Y_test[i,:,:,d], preds_test_t[i,:,:,d]))\n",
    "        class_recall_score[d].append(metric_recall(Y_test[i,:,:,d], preds_test_t[i,:,:,d]))\n",
    "        \n",
    "IoU_score = np.array(IoU_score)\n",
    "class_IoU_score = np.array(class_IoU_score)\n",
    "class_f1_score = np.array(class_f1_score)\n",
    "class_precision_score = np.array(class_precision_score)\n",
    "class_recall_score = np.array(class_recall_score)\n",
    "\n",
    "IoU_result = pd.DataFrame(data = class_IoU_score.transpose(), columns = ['IoU_Background', 'IoU_Trap', 'IoU_Cell'])\n",
    "f1_result = pd.DataFrame(data = class_f1_score.transpose(), columns = ['F1_Background', 'F1_Trap', 'F1_Cell'])\n",
    "precision_result = pd.DataFrame(data = class_precision_score.transpose(), columns = ['P_Background', 'P_Trap', 'P_Cell'])\n",
    "recall_result = pd.DataFrame(data = class_recall_score.transpose(), columns = ['R_Background', 'R_Trap', 'R_Cell'])\n",
    "\n",
    "res_stat = pd.concat([IoU_result, f1_result, precision_result, recall_result], axis=1)"
   ]
  },
  {
   "cell_type": "code",
   "execution_count": 17,
   "metadata": {},
   "outputs": [
    {
     "data": {
      "text/html": [
       "<div>\n",
       "<style scoped>\n",
       "    .dataframe tbody tr th:only-of-type {\n",
       "        vertical-align: middle;\n",
       "    }\n",
       "\n",
       "    .dataframe tbody tr th {\n",
       "        vertical-align: top;\n",
       "    }\n",
       "\n",
       "    .dataframe thead th {\n",
       "        text-align: right;\n",
       "    }\n",
       "</style>\n",
       "<table border=\"1\" class=\"dataframe\">\n",
       "  <thead>\n",
       "    <tr style=\"text-align: right;\">\n",
       "      <th></th>\n",
       "      <th>IoU_Background</th>\n",
       "      <th>IoU_Trap</th>\n",
       "      <th>IoU_Cell</th>\n",
       "      <th>F1_Background</th>\n",
       "      <th>F1_Trap</th>\n",
       "      <th>F1_Cell</th>\n",
       "      <th>P_Background</th>\n",
       "      <th>P_Trap</th>\n",
       "      <th>P_Cell</th>\n",
       "      <th>R_Background</th>\n",
       "      <th>R_Trap</th>\n",
       "      <th>R_Cell</th>\n",
       "    </tr>\n",
       "  </thead>\n",
       "  <tbody>\n",
       "    <tr>\n",
       "      <th>count</th>\n",
       "      <td>173.0000</td>\n",
       "      <td>173.0000</td>\n",
       "      <td>173.0000</td>\n",
       "      <td>173.0000</td>\n",
       "      <td>173.0000</td>\n",
       "      <td>173.0000</td>\n",
       "      <td>173.0000</td>\n",
       "      <td>173.0000</td>\n",
       "      <td>173.0000</td>\n",
       "      <td>173.0000</td>\n",
       "      <td>173.0000</td>\n",
       "      <td>173.0000</td>\n",
       "    </tr>\n",
       "    <tr>\n",
       "      <th>mean</th>\n",
       "      <td>0.9607</td>\n",
       "      <td>0.8247</td>\n",
       "      <td>0.7869</td>\n",
       "      <td>0.9798</td>\n",
       "      <td>0.9036</td>\n",
       "      <td>0.8733</td>\n",
       "      <td>0.9943</td>\n",
       "      <td>0.9909</td>\n",
       "      <td>0.9172</td>\n",
       "      <td>0.9658</td>\n",
       "      <td>0.8313</td>\n",
       "      <td>0.8537</td>\n",
       "    </tr>\n",
       "    <tr>\n",
       "      <th>std</th>\n",
       "      <td>0.0210</td>\n",
       "      <td>0.0330</td>\n",
       "      <td>0.1228</td>\n",
       "      <td>0.0112</td>\n",
       "      <td>0.0200</td>\n",
       "      <td>0.1117</td>\n",
       "      <td>0.0093</td>\n",
       "      <td>0.0080</td>\n",
       "      <td>0.1172</td>\n",
       "      <td>0.0150</td>\n",
       "      <td>0.0357</td>\n",
       "      <td>0.0957</td>\n",
       "    </tr>\n",
       "    <tr>\n",
       "      <th>min</th>\n",
       "      <td>0.8598</td>\n",
       "      <td>0.7304</td>\n",
       "      <td>0.0000</td>\n",
       "      <td>0.9246</td>\n",
       "      <td>0.8442</td>\n",
       "      <td>0.0000</td>\n",
       "      <td>0.9420</td>\n",
       "      <td>0.9467</td>\n",
       "      <td>0.0000</td>\n",
       "      <td>0.8966</td>\n",
       "      <td>0.7304</td>\n",
       "      <td>0.4567</td>\n",
       "    </tr>\n",
       "    <tr>\n",
       "      <th>25%</th>\n",
       "      <td>0.9572</td>\n",
       "      <td>0.8016</td>\n",
       "      <td>0.7491</td>\n",
       "      <td>0.9781</td>\n",
       "      <td>0.8899</td>\n",
       "      <td>0.8565</td>\n",
       "      <td>0.9946</td>\n",
       "      <td>0.9877</td>\n",
       "      <td>0.9118</td>\n",
       "      <td>0.9616</td>\n",
       "      <td>0.8080</td>\n",
       "      <td>0.8073</td>\n",
       "    </tr>\n",
       "    <tr>\n",
       "      <th>50%</th>\n",
       "      <td>0.9681</td>\n",
       "      <td>0.8276</td>\n",
       "      <td>0.8235</td>\n",
       "      <td>0.9838</td>\n",
       "      <td>0.9056</td>\n",
       "      <td>0.9032</td>\n",
       "      <td>0.9975</td>\n",
       "      <td>0.9924</td>\n",
       "      <td>0.9430</td>\n",
       "      <td>0.9703</td>\n",
       "      <td>0.8351</td>\n",
       "      <td>0.8854</td>\n",
       "    </tr>\n",
       "    <tr>\n",
       "      <th>75%</th>\n",
       "      <td>0.9726</td>\n",
       "      <td>0.8498</td>\n",
       "      <td>0.8612</td>\n",
       "      <td>0.9861</td>\n",
       "      <td>0.9188</td>\n",
       "      <td>0.9254</td>\n",
       "      <td>0.9989</td>\n",
       "      <td>0.9966</td>\n",
       "      <td>0.9680</td>\n",
       "      <td>0.9753</td>\n",
       "      <td>0.8602</td>\n",
       "      <td>0.9159</td>\n",
       "    </tr>\n",
       "    <tr>\n",
       "      <th>max</th>\n",
       "      <td>0.9835</td>\n",
       "      <td>0.8960</td>\n",
       "      <td>0.9096</td>\n",
       "      <td>0.9917</td>\n",
       "      <td>0.9451</td>\n",
       "      <td>0.9527</td>\n",
       "      <td>1.0000</td>\n",
       "      <td>1.0000</td>\n",
       "      <td>1.0000</td>\n",
       "      <td>0.9841</td>\n",
       "      <td>0.9027</td>\n",
       "      <td>1.0000</td>\n",
       "    </tr>\n",
       "  </tbody>\n",
       "</table>\n",
       "</div>"
      ],
      "text/plain": [
       "       IoU_Background  IoU_Trap  IoU_Cell  F1_Background   F1_Trap   F1_Cell  \\\n",
       "count        173.0000  173.0000  173.0000       173.0000  173.0000  173.0000   \n",
       "mean           0.9607    0.8247    0.7869         0.9798    0.9036    0.8733   \n",
       "std            0.0210    0.0330    0.1228         0.0112    0.0200    0.1117   \n",
       "min            0.8598    0.7304    0.0000         0.9246    0.8442    0.0000   \n",
       "25%            0.9572    0.8016    0.7491         0.9781    0.8899    0.8565   \n",
       "50%            0.9681    0.8276    0.8235         0.9838    0.9056    0.9032   \n",
       "75%            0.9726    0.8498    0.8612         0.9861    0.9188    0.9254   \n",
       "max            0.9835    0.8960    0.9096         0.9917    0.9451    0.9527   \n",
       "\n",
       "       P_Background    P_Trap    P_Cell  R_Background    R_Trap    R_Cell  \n",
       "count      173.0000  173.0000  173.0000      173.0000  173.0000  173.0000  \n",
       "mean         0.9943    0.9909    0.9172        0.9658    0.8313    0.8537  \n",
       "std          0.0093    0.0080    0.1172        0.0150    0.0357    0.0957  \n",
       "min          0.9420    0.9467    0.0000        0.8966    0.7304    0.4567  \n",
       "25%          0.9946    0.9877    0.9118        0.9616    0.8080    0.8073  \n",
       "50%          0.9975    0.9924    0.9430        0.9703    0.8351    0.8854  \n",
       "75%          0.9989    0.9966    0.9680        0.9753    0.8602    0.9159  \n",
       "max          1.0000    1.0000    1.0000        0.9841    0.9027    1.0000  "
      ]
     },
     "execution_count": 17,
     "metadata": {},
     "output_type": "execute_result"
    }
   ],
   "source": [
    "res_stat.describe().round(4)"
   ]
  },
  {
   "cell_type": "code",
   "execution_count": 18,
   "metadata": {},
   "outputs": [],
   "source": [
    "res_stat.to_csv(path_or_buf='.\\\\res_stat.csv')"
   ]
  },
  {
   "cell_type": "code",
   "execution_count": null,
   "metadata": {},
   "outputs": [],
   "source": []
  },
  {
   "cell_type": "code",
   "execution_count": null,
   "metadata": {},
   "outputs": [],
   "source": []
  },
  {
   "cell_type": "code",
   "execution_count": 57,
   "metadata": {},
   "outputs": [
    {
     "data": {
      "image/png": "[encoded data removed]",
      "text/plain": [
       "<Figure size 360x720 with 1 Axes>"
      ]
     },
     "metadata": {},
     "output_type": "display_data"
    }
   ],
   "source": [
    "###################### Generate boxplot of scores ###########################\n",
    "\n",
    "sns.set(rc={'figure.figsize':(5, 10)})\n",
    "sns.boxplot(x=\"variable\", y=\"value\", data=pd.melt(IoU_result), width = 0.5)\n",
    "#sns.boxplot(IoU_result)\n",
    "\n",
    "#plt.show()\n",
    "plt.savefig('IoU.png')"
   ]
  },
  {
   "cell_type": "code",
   "execution_count": null,
   "metadata": {},
   "outputs": [],
   "source": [
    "########################### Following blocks are for evaluation of DISCO ####################################"
   ]
  },
  {
   "cell_type": "code",
   "execution_count": 98,
   "metadata": {},
   "outputs": [
    {
     "name": "stdout",
     "output_type": "stream",
     "text": [
      "Getting and resizing DIMs ... \n"
     ]
    },
    {
     "name": "stderr",
     "output_type": "stream",
     "text": [
      "100%|███████████████████████████████████████████████████████████████████████████████| 173/173 [00:00<00:00, 456.34it/s]\n"
     ]
    }
   ],
   "source": [
    "PATH = 'F:\\\\MA\\\\data\\\\Swain_lab\\\\DISCO_result\\\\str515_GFP_006\\\\'\n",
    "DIM_ids = next(os.walk(PATH + 'DIM_test\\\\'))[2]\n",
    "\n",
    "# Decision Image from DISCO\n",
    "DIM = np.zeros((len(DIM_ids), IMG_HEIGHT, IMG_WIDTH, 1), dtype=np.float32)\n",
    "\n",
    "print('Getting and resizing DIMs ... ')\n",
    "sys.stdout.flush()\n",
    "\n",
    "for n, id_ in tqdm(enumerate(DIM_ids), total=len(DIM_ids)):\n",
    "    \n",
    "    img = imread(PATH + 'DIM_test\\\\' + id_)\n",
    "    DIM[n] = pre_process(img, IMG_HEIGHT, IMG_WIDTH, rescale = True)\n",
    "    "
   ]
  },
  {
   "cell_type": "code",
   "execution_count": 85,
   "metadata": {},
   "outputs": [
    {
     "data": {
      "image/png": "[encoded data removed]",
      "text/plain": [
       "<Figure size 1440x720 with 4 Axes>"
      ]
     },
     "metadata": {
      "needs_background": "light"
     },
     "output_type": "display_data"
    }
   ],
   "source": [
    "#ix = random.randint(0, len(DIM_ids)-1)\n",
    "ix = 0\n",
    "\n",
    "plt.figure(figsize=(20,10))\n",
    "plt.subplot(141), plt.imshow(X_test[ix,:,:,0])\n",
    "plt.subplot(142), plt.imshow(Y_test[ix,:,:,2]) #, plt.axis('off')\n",
    "plt.subplot(143), plt.imshow(DIM[ix,:,:,0])\n",
    "plt.subplot(144), plt.imshow(preds_test_mask[ix]) #, plt.axis('off')\n",
    "plt.show()"
   ]
  },
  {
   "cell_type": "code",
   "execution_count": 199,
   "metadata": {},
   "outputs": [],
   "source": [
    "#################### Generating DISCO prediction result will cover UNet result in preds_test_t #######################\n",
    "#################### T_trap = 1, T_cell = 0.61 (Break-Even Point) #####################\n",
    "\n",
    "T_trap = 1\n",
    "T_cell = 0.375 #Break-Even Point\n",
    "\n",
    "preds_test_t_DISCO = np.zeros(shape=(preds_test_t.shape[0], preds_test_t.shape[1], preds_test_t.shape[2], preds_test_t.shape[3]))\n",
    "\n",
    "for i in range(preds_test_t_DISCO.shape[0]):\n",
    "    for y in range(preds_test_t_DISCO.shape[1]):\n",
    "        for x in range(preds_test_t_DISCO.shape[2]):\n",
    "            if DIM[i, y, x] == T_trap:\n",
    "                # Trap\n",
    "                #preds_test_t[i, y, x, 0] = 0\n",
    "                preds_test_t_DISCO[i, y, x, 1] = 1\n",
    "                #preds_test_t[i, y, x, 2] = 0\n",
    "            elif DIM[i, y, x] < T_cell:\n",
    "                # Cell\n",
    "                #preds_test_t[i, y, x, 0] = 0\n",
    "                #preds_test_t[i, y, x, 1] = 0\n",
    "                preds_test_t_DISCO[i, y, x, 2] = 1\n",
    "            else:\n",
    "                # Background\n",
    "                preds_test_t_DISCO[i, y, x, 0] = 1\n",
    "                #preds_test_t[i, y, x, 1] = 0\n",
    "                #preds_test_t[i, y, x, 2] = 0                "
   ]
  },
  {
   "cell_type": "code",
   "execution_count": 200,
   "metadata": {},
   "outputs": [],
   "source": [
    "preds_test_t = preds_test_t_DISCO"
   ]
  },
  {
   "cell_type": "code",
   "execution_count": 145,
   "metadata": {},
   "outputs": [
    {
     "data": {
      "text/plain": [
       "<matplotlib.image.AxesImage at 0x19329ae76d8>"
      ]
     },
     "execution_count": 145,
     "metadata": {},
     "output_type": "execute_result"
    },
    {
     "data": {
      "image/png": "[encoded data removed]",
      "text/plain": [
       "<Figure size 432x288 with 1 Axes>"
      ]
     },
     "metadata": {
      "needs_background": "light"
     },
     "output_type": "display_data"
    }
   ],
   "source": [
    "imshow(preds_test_t_DISCO[0,:,:,2])"
   ]
  },
  {
   "cell_type": "code",
   "execution_count": null,
   "metadata": {},
   "outputs": [],
   "source": []
  },
  {
   "cell_type": "code",
   "execution_count": null,
   "metadata": {},
   "outputs": [],
   "source": [
    "######################################### Following blocks are used for ROC #############################################"
   ]
  },
  {
   "cell_type": "code",
   "execution_count": 162,
   "metadata": {},
   "outputs": [
    {
     "name": "stdout",
     "output_type": "stream",
     "text": [
      "173/173 [==============================] - ETA:  - ETA:  - ETA:  - ETA:  - ETA:  - 8s 45ms/step\n"
     ]
    }
   ],
   "source": [
    "# Predict on test data via UNet\n",
    "model = load_model('.\\\\' + MODEL_NAME, custom_objects={'bce_dice_loss': bce_dice_loss, 'IoU': IoU, 'dice_loss': dice_loss})\n",
    "preds_test = model.predict(X_test, verbose=1)\n",
    "\n",
    "# Threshold predictions\n",
    "preds_test_t = (preds_test > 0.5).astype(np.uint8)"
   ]
  },
  {
   "cell_type": "code",
   "execution_count": 168,
   "metadata": {},
   "outputs": [],
   "source": [
    "from sklearn.metrics import roc_curve, auc # roc curve tools\n",
    "\n",
    "ground_truth_labels_cell = Y_test[:,:,:,2].ravel() # we want to make them into vectors\n",
    "ground_truth_labels_trap = Y_test[:,:,:,1].ravel()\n",
    "\n",
    "DISCO_score_trap = DIM.ravel()/255.0 \n",
    "DISCO_score_cell = 1 - DISCO_score_trap\n",
    "\n",
    "UNet_score_trap = preds_test[:,:,:,1].ravel()\n",
    "UNet_score_cell = preds_test[:,:,:,2].ravel()\n",
    "\n",
    "\n",
    "\n",
    "DISCO_fpr_cell, DISCO_tpr_cell, _ = roc_curve(ground_truth_labels_cell,DISCO_score_cell)\n",
    "DISCO_auc_cell = auc(DISCO_fpr_cell,DISCO_tpr_cell)\n",
    "DISCO_fpr_trap, DISCO_tpr_trap, _ = roc_curve(ground_truth_labels_trap,DISCO_score_trap)\n",
    "DISCO_auc_trap = auc(DISCO_fpr_trap,DISCO_tpr_trap)\n",
    "\n",
    "UNet_fpr_cell, UNet_tpr_cell, _ = roc_curve(ground_truth_labels_cell,UNet_score_cell)\n",
    "UNet_auc_cell = auc(UNet_fpr_cell,UNet_tpr_cell)\n",
    "UNet_fpr_trap, UNet_tpr_trap, _ = roc_curve(ground_truth_labels_trap,UNet_score_trap)\n",
    "UNet_auc_trap = auc(UNet_fpr_trap,UNet_tpr_trap)"
   ]
  },
  {
   "cell_type": "code",
   "execution_count": 178,
   "metadata": {},
   "outputs": [
    {
     "data": {
      "image/png": "[encoded data removed]",
      "text/plain": [
       "<Figure size 432x288 with 1 Axes>"
      ]
     },
     "metadata": {
      "needs_background": "light"
     },
     "output_type": "display_data"
    }
   ],
   "source": [
    "fig, ax = plt.subplots(1,1)\n",
    "ax.figsize=(50,30)\n",
    "\n",
    "ax.plot(DISCO_fpr_cell, DISCO_tpr_cell, label='DISCO ROC curve of Cell(area = %0.2f)' % DISCO_auc_cell)\n",
    "#ax.plot(DISCO_fpr_trap, DISCO_tpr_trap, label='DISCO ROC curve of Trap(area = %0.2f)' % DISCO_auc_trap)\n",
    "#ax.plot(UNet_fpr_cell, UNet_tpr_cell, label='UNet ROC curve of Cell(area = %0.2f)' % UNet_auc_cell)\n",
    "#ax.plot(UNet_fpr_trap, UNet_tpr_trap, label='UNet ROC curve of Trap(area = %0.2f)' % UNet_auc_trap)\n",
    "ax.plot([0, 1], [0, 1], 'k--')\n",
    "ax.set_xlim([0.0, 1.0])\n",
    "ax.set_ylim([0.0, 1.05])\n",
    "ax.set_xlabel('False Positive Rate')\n",
    "ax.set_ylabel('True Positive Rate')\n",
    "ax.set_title('Receiver Operating Characteristic Curve')\n",
    "ax.legend(loc=\"lower right\")\n",
    "\n",
    "plt.savefig('ROC.png')"
   ]
  },
  {
   "cell_type": "code",
   "execution_count": null,
   "metadata": {},
   "outputs": [],
   "source": []
  },
  {
   "cell_type": "code",
   "execution_count": null,
   "metadata": {},
   "outputs": [],
   "source": [
    "##################################### Following blocks are used for stat of CellSerpent ########################################"
   ]
  },
  {
   "cell_type": "code",
   "execution_count": 183,
   "metadata": {},
   "outputs": [],
   "source": [
    "def label_to_mask_DISCO(label):\n",
    "    mask = np.zeros([label.shape[0], label.shape[1]])\n",
    "    \n",
    "    for x in range(label.shape[0]):\n",
    "        for y in range(label.shape[1]):\n",
    "            if label[x,y] == 128:\n",
    "                mask[x,y] = 1\n",
    "            elif label[x,y] == 255:\n",
    "                mask[x,y] = 2\n",
    "                    \n",
    "    return mask.astype('uint8')"
   ]
  },
  {
   "cell_type": "code",
   "execution_count": 190,
   "metadata": {},
   "outputs": [
    {
     "name": "stdout",
     "output_type": "stream",
     "text": [
      "Getting and resizing results ... \n"
     ]
    },
    {
     "name": "stderr",
     "output_type": "stream",
     "text": [
      "100%|████████████████████████████████████████████████████████████████████████████████| 173/173 [00:05<00:00, 32.79it/s]\n"
     ]
    },
    {
     "name": "stdout",
     "output_type": "stream",
     "text": [
      "Done!\n"
     ]
    }
   ],
   "source": [
    "PATH = 'F:\\\\MA\\\\data\\\\Swain_lab\\\\DISCO_result\\\\str515_GFP_006\\\\cellserpent_res\\\\'\n",
    "\n",
    "\n",
    "# Get train and test IDs\n",
    "RES_ids = next(os.walk(PATH))[2]\n",
    "\n",
    "\n",
    "RES = np.zeros((len(RES_ids), IMG_HEIGHT, IMG_WIDTH, LABEL_CLASS), dtype=np.bool)\n",
    "\n",
    "\n",
    "print('Getting and resizing results ... ')\n",
    "sys.stdout.flush()\n",
    "\n",
    "for n, id_ in tqdm(enumerate(RES_ids), total=len(RES_ids)):\n",
    "    \n",
    "    mask = imread(PATH + id_)\n",
    "    mask = label_to_mask_DISCO(mask)\n",
    "    mask = to_categorical(mask, LABEL_CLASS) # Generate binary masks (one hot encoding)\n",
    "    # Resizing need to be done AFTER one-hot encoding!!!!!!!\n",
    "    mask = pre_process(mask, IMG_HEIGHT, IMG_WIDTH, mask = True)\n",
    "    RES[n] = mask\n",
    "    \n",
    "print('Done!')"
   ]
  },
  {
   "cell_type": "code",
   "execution_count": 195,
   "metadata": {},
   "outputs": [],
   "source": [
    "preds_test_t = RES"
   ]
  }
 ],
 "metadata": {
  "kernelspec": {
   "display_name": "Python 3",
   "language": "python",
   "name": "python3"
  },
  "language_info": {
   "codemirror_mode": {
    "name": "ipython",
    "version": 3
   },
   "file_extension": ".py",
   "mimetype": "text/x-python",
   "name": "python",
   "nbconvert_exporter": "python",
   "pygments_lexer": "ipython3",
   "version": "3.7.3"
  }
 },
 "nbformat": 4,
 "nbformat_minor": 2
}
