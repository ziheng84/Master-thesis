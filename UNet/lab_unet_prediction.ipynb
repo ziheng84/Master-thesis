{
 "cells": [
  {
   "cell_type": "code",
   "execution_count": 1,
   "metadata": {},
   "outputs": [
    {
     "name": "stderr",
     "output_type": "stream",
     "text": [
      "Using TensorFlow backend.\n"
     ]
    }
   ],
   "source": [
    "# Initialization\n",
    "import os\n",
    "import sys\n",
    "import random\n",
    "import warnings\n",
    "\n",
    "import numpy as np\n",
    "import pandas as pd\n",
    "\n",
    "import matplotlib.pyplot as plt\n",
    "import seaborn as sns\n",
    "\n",
    "from tqdm import tqdm\n",
    "from itertools import chain\n",
    "from skimage.io import imread, imshow, imread_collection, concatenate_images\n",
    "from skimage.transform import resize\n",
    "from skimage.morphology import label\n",
    "\n",
    "from keras.models import Model, load_model\n",
    "from keras.utils import to_categorical # one-hot-encoding\n",
    "\n",
    "# Required for loss function\n",
    "import math\n",
    "from tensorflow.python.keras import losses\n",
    "\n",
    "import tensorflow as tf"
   ]
  },
  {
   "cell_type": "code",
   "execution_count": 63,
   "metadata": {},
   "outputs": [],
   "source": [
    "# Set someparameters\n",
    "IMG_WIDTH = 128\n",
    "IMG_HEIGHT = 128\n",
    "# Original size = 572*572\n",
    "LABEL_CLASS = 3\n",
    "\n",
    "MODEL_NAME = 'model-lab-Ls-unet-epoch100.h5'\n",
    "\n",
    "warnings.filterwarnings('ignore', category=UserWarning, module='skimage')\n",
    "seed = 42\n",
    "random.seed = seed\n",
    "np.random.seed = seed"
   ]
  },
  {
   "cell_type": "code",
   "execution_count": 3,
   "metadata": {},
   "outputs": [],
   "source": [
    "# Define pre-process function\n",
    "\n",
    "from skimage.transform import resize\n",
    "\n",
    "def pre_process(img, img_height, img_width, norm = False, rescale = False, mask = False):\n",
    "    img = np.array(img)                 #list to array\n",
    "    proc_img = []\n",
    "    \n",
    "    #proc_img = resize(img, (img_height, img_width), mode='constant', preserve_range=True)\n",
    "        \n",
    "    if mask:\n",
    "        proc_img = resize(img, (img_height, img_width), mode='constant', preserve_range=True)\n",
    "    else:\n",
    "        proc_img = img[:,:,np.newaxis]\n",
    "        proc_img = resize(img, (img_height, img_width, 1), mode='constant', preserve_range=True)\n",
    "        \n",
    "    if rescale:\n",
    "        proc_img /= 255\n",
    "        \n",
    "    #image normalization\n",
    "    if norm:\n",
    "        #adjusted_std = max(np.std(proc_img), 1.0/np.sqrt(proc_img.size))\n",
    "        ipsilon = 0.0001\n",
    "        proc_img = (proc_img-np.mean(proc_img))/np.std(proc_img)+ipsilon\n",
    "        \n",
    "    return proc_img"
   ]
  },
  {
   "cell_type": "code",
   "execution_count": 5,
   "metadata": {},
   "outputs": [
    {
     "name": "stdout",
     "output_type": "stream",
     "text": [
      "Getting and resizing test images ... \n"
     ]
    },
    {
     "name": "stderr",
     "output_type": "stream",
     "text": [
      "100%|██████████████████████████████████████████████████████████████████████████████████| 11/11 [00:00<00:00, 19.98it/s]\n"
     ]
    },
    {
     "name": "stdout",
     "output_type": "stream",
     "text": [
      "Done!\n"
     ]
    }
   ],
   "source": [
    "# Importing data...\n",
    "\n",
    "# Path for Linux\n",
    "#TRAIN_PATH = '/home/ziheng/UNet/dataset_lab/train/'\n",
    "#TEST_PATH = '/home/ziheng/UNet/dataset_lab/test/'\n",
    "\n",
    "# Path for Windows\n",
    "TRAIN_PATH = 'F:\\\\MA\\\\data\\\\NIH\\\\Ls\\\\20180717_161620(new_Ls)\\\\train\\\\'\n",
    "TEST_PATH = 'F:\\\\MA\\\\data\\\\NIH\\\\Ls\\\\20180717_161620(new_Ls)\\\\test\\\\'\n",
    "\n",
    "\n",
    "# original lab dataset\n",
    "# 'F:\\\\MA\\\\data\\\\dataset_lab\\\\train\\\\'\n",
    "# L-shape dataset\n",
    "# 'F:\\\\MA\\\\data\\\\NIH\\\\20180831_173535_216\\\\train\\\\'\n",
    "# DISCO dataset\n",
    "# 'F:\\\\MA\\\\data\\\\Swain_lab\\\\train\\\\'\n",
    "\n",
    "# Get train and test IDs\n",
    "train_ids = next(os.walk(TRAIN_PATH + 'in/'))[2]\n",
    "test_ids = next(os.walk(TEST_PATH + 'in/'))[2]\n",
    "\n",
    "# X_test: original images\n",
    "X_test = np.zeros((len(test_ids), IMG_HEIGHT, IMG_WIDTH, 1), dtype=np.float32)\n",
    "# Y_test: masks\n",
    "Y_test = np.zeros((len(test_ids), IMG_HEIGHT, IMG_WIDTH, LABEL_CLASS), dtype=np.bool)\n",
    "    \n",
    "    \n",
    "# Get and resize test images\n",
    "print('Getting and resizing test images ... ')\n",
    "sys.stdout.flush()\n",
    "\n",
    "for n, id_ in tqdm(enumerate(test_ids), total=len(test_ids)):\n",
    "    \n",
    "    img = imread(TEST_PATH + 'in/' + id_)\n",
    "    X_test[n] = pre_process(img, IMG_HEIGHT, IMG_WIDTH, norm = False, rescale = True)\n",
    "    \n",
    "    mask = imread(TEST_PATH + 'out-cell/' + id_.replace('.jpg', '.png'))\n",
    "    mask = to_categorical(mask, LABEL_CLASS) # Generate binary masks (one hot encoding)\n",
    "    # Resizing need to be done AFTER one-hot encoding!!!!!!!\n",
    "    mask = pre_process(mask, IMG_HEIGHT, IMG_WIDTH, mask = True)\n",
    "    Y_test[n] = mask\n",
    "    \n",
    "    \n",
    "print('Done!')"
   ]
  },
  {
   "cell_type": "code",
   "execution_count": 6,
   "metadata": {},
   "outputs": [],
   "source": [
    "def IoU(y_true,y_pred):\n",
    "    y_true_f = tf.reshape(y_true,[-1])\n",
    "    y_pred_f = tf.reshape(y_pred,[-1])\n",
    "    intersection = tf.reduce_sum(y_true_f * y_pred_f)\n",
    "    score = intersection / (tf.reduce_sum(y_true_f) + tf.reduce_sum(y_pred_f))\n",
    "    return score\n",
    "\n",
    "def IoU_loss(y_true , y_pred):\n",
    "    loss = 1 - IoU(y_true, y_pred)\n",
    "    return loss"
   ]
  },
  {
   "cell_type": "code",
   "execution_count": 7,
   "metadata": {},
   "outputs": [],
   "source": [
    "# Define custom metrics and loss functions\n",
    "def dice_coeff(y_true,y_pred):\n",
    "    smooth = 1.\n",
    "    y_true_f = tf.reshape(y_true,[-1])\n",
    "    y_pred_f = tf.reshape(y_pred,[-1])\n",
    "    intersection = tf.reduce_sum(y_true_f * y_pred_f)\n",
    "    score = (2. * intersection + smooth) / (tf.reduce_sum(y_true_f) + tf.reduce_sum(y_pred_f) + smooth)\n",
    "    return score\n",
    "\n",
    "def dice_loss(y_true , y_pred):\n",
    "    loss = 1 - dice_coeff(y_true, y_pred)\n",
    "    return loss\n",
    "\n",
    "def bce_dice_loss (y_true, y_pred):\n",
    "    loss = losses.categorical_crossentropy(y_true,y_pred)+dice_loss(y_true,y_pred)\n",
    "    return loss\n",
    "\n",
    "# The same as log_loss\n",
    "def mlogloss(target, pred):\n",
    "    score = 0.0\n",
    "    for i in range(len(pred)):\n",
    "        pp = pred[i]\n",
    "        for j in range(len(pp)):\n",
    "            prob = pp[j]\n",
    "            if prob < 1e-15:\n",
    "                prob = 1e-15\n",
    "            score += target[i][j] * math.log(prob)\n",
    "    return -score/len(pred)"
   ]
  },
  {
   "cell_type": "code",
   "execution_count": 64,
   "metadata": {},
   "outputs": [
    {
     "name": "stdout",
     "output_type": "stream",
     "text": [
      "11/11 [==============================] - 1s 94ms/step\n"
     ]
    }
   ],
   "source": [
    "# Predict on train, val and test\n",
    "model = load_model('.\\\\model\\\\' + MODEL_NAME, custom_objects={'bce_dice_loss': bce_dice_loss, 'IoU': IoU, 'dice_loss': dice_loss})\n",
    "#preds_train = model.predict(X_train[:int(X_train.shape[0]*0.9)], verbose=1)\n",
    "#preds_val = model.predict(X_train[int(X_train.shape[0]*0.9):], verbose=1)\n",
    "preds_test = model.predict(X_test, verbose=1)\n",
    "\n",
    "# Threshold predictions\n",
    "#preds_train_t = (preds_train > 0.5).astype(np.uint8)\n",
    "#preds_val_t = (preds_val > 0.5).astype(np.uint8)\n",
    "preds_test_t = (preds_test > 0.5).astype(np.uint8)\n",
    "\n",
    "# Create list of upsampled test masks\n",
    "preds_test_upsampled = []\n",
    "#for i in range(len(preds_test)):\n",
    "#    preds_test_upsampled.append(resize(np.squeeze(preds_test[i]), \n",
    "#                                       (sizes_test[i][0], sizes_test[i][1]), \n",
    "#                                       mode='constant', preserve_range=True))"
   ]
  },
  {
   "cell_type": "code",
   "execution_count": 65,
   "metadata": {},
   "outputs": [
    {
     "name": "stdout",
     "output_type": "stream",
     "text": [
      "(11, 128, 128, 3)\n"
     ]
    }
   ],
   "source": [
    "print(preds_test_t.shape)"
   ]
  },
  {
   "cell_type": "code",
   "execution_count": 66,
   "metadata": {},
   "outputs": [
    {
     "name": "stdout",
     "output_type": "stream",
     "text": [
      "5\n"
     ]
    },
    {
     "data": {
      "image/png": "[encoded data removed]",
      "text/plain": [
       "<Figure size 360x720 with 1 Axes>"
      ]
     },
     "metadata": {},
     "output_type": "display_data"
    },
    {
     "data": {
      "image/png": "[encoded data removed]",
      "text/plain": [
       "<Figure size 360x720 with 1 Axes>"
      ]
     },
     "metadata": {},
     "output_type": "display_data"
    },
    {
     "data": {
      "image/png": "[encoded data removed]",
      "text/plain": [
       "<Figure size 360x720 with 2 Axes>"
      ]
     },
     "metadata": {},
     "output_type": "display_data"
    }
   ],
   "source": [
    "# Perform a test on prediction result\n",
    "ix = random.randint(0, len(test_ids)-1)\n",
    "#ix = 3\n",
    "print(ix)\n",
    "mask_category = 2 # Choose the mask nummer 0,1,2\n",
    "imshow(np.reshape(X_test[ix], (IMG_WIDTH, IMG_HEIGHT)))\n",
    "plt.show()\n",
    "imshow(Y_test[ix,:,:,mask_category]) \n",
    "plt.show()\n",
    "imshow(np.squeeze(preds_test_t[ix,:,:,mask_category]))\n",
    "plt.show()"
   ]
  },
  {
   "cell_type": "code",
   "execution_count": 67,
   "metadata": {},
   "outputs": [],
   "source": [
    "# Generate the mask wihtout one-hot-encoding \n",
    "preds_test_mask = np.zeros(shape=(preds_test_t.shape[0], preds_test_t.shape[1], preds_test_t.shape[2]))\n",
    "\n",
    "for i in range(preds_test_t.shape[0]):\n",
    "    for y in range(preds_test_t.shape[1]):\n",
    "        for x in range(preds_test_t.shape[2]):\n",
    "            if preds_test_t[i, y, x, 1] == 1:\n",
    "                preds_test_mask[i, y, x] = 1\n",
    "            elif preds_test_t[i, y, x, 2] == 1:\n",
    "                preds_test_mask[i, y, x] = 2\n",
    "            else:\n",
    "                preds_test_mask[i, y, x] = 0"
   ]
  },
  {
   "cell_type": "code",
   "execution_count": 68,
   "metadata": {},
   "outputs": [
    {
     "name": "stdout",
     "output_type": "stream",
     "text": [
      "4\n"
     ]
    },
    {
     "data": {
      "image/png": "[encoded data removed]",
      "text/plain": [
       "<Figure size 360x720 with 1 Axes>"
      ]
     },
     "metadata": {},
     "output_type": "display_data"
    },
    {
     "data": {
      "image/png": "[encoded data removed]",
      "text/plain": [
       "<Figure size 360x720 with 2 Axes>"
      ]
     },
     "metadata": {},
     "output_type": "display_data"
    }
   ],
   "source": [
    "# Generate and show the test image + the prediction masks\n",
    "ix = random.randint(0, len(test_ids)-1)\n",
    "#ix = 25\n",
    "print(ix)\n",
    "\n",
    "imshow(np.reshape(X_test[ix], (IMG_WIDTH, IMG_HEIGHT)))\n",
    "plt.show()\n",
    "\n",
    "imshow(np.squeeze(preds_test_mask[ix]))\n",
    "plt.show()"
   ]
  },
  {
   "cell_type": "code",
   "execution_count": 38,
   "metadata": {
    "scrolled": false
   },
   "outputs": [
    {
     "name": "stdout",
     "output_type": "stream",
     "text": [
      "12\n"
     ]
    },
    {
     "data": {
      "image/png": "[encoded data removed]",
      "text/plain": [
       "<Figure size 432x288 with 2 Axes>"
      ]
     },
     "metadata": {
      "needs_background": "light"
     },
     "output_type": "display_data"
    },
    {
     "data": {
      "image/png": "[encoded data removed]",
      "text/plain": [
       "<Figure size 432x288 with 2 Axes>"
      ]
     },
     "metadata": {
      "needs_background": "light"
     },
     "output_type": "display_data"
    }
   ],
   "source": [
    "################### Don't run unless you want to generate images!!!!!!! ######################\n",
    "##############################################################################################\n",
    "# Generate and save the test image + the prediction masks\n",
    "#ix = random.randint(0, len(test_ids))\n",
    "ix = 12\n",
    "print(ix)\n",
    "\n",
    "plt.figure()\n",
    "imshow(np.reshape(X_test[ix], (IMG_WIDTH, IMG_HEIGHT)))\n",
    "#plt.show()\n",
    "plt.savefig('test_img_' + str(ix) + '.png')\n",
    "\n",
    "#imshow(np.squeeze(Y_test[ix,:,:,mask_category])) \n",
    "#plt.show()\n",
    "\n",
    "plt.figure()\n",
    "imshow(np.squeeze(preds_test_mask[ix]))\n",
    "#plt.show()\n",
    "plt.savefig('preds_mask_' + str(ix) + '.png')"
   ]
  },
  {
   "cell_type": "code",
   "execution_count": 17,
   "metadata": {},
   "outputs": [],
   "source": [
    "# Define evaluation metrics\n",
    "def metric_IoU(target, prediction):\n",
    "    ipsilon = 0.0001\n",
    "    \n",
    "    intersection = np.logical_and(target, prediction)\n",
    "    union = np.logical_or(target, prediction)\n",
    "    return (np.sum(intersection)+ipsilon)/(np.sum(union)+ipsilon) \n",
    "\n",
    "def metric_precision(target, prediction):\n",
    "    ipsilon = 0.0001\n",
    "    \n",
    "    target_bool = np.array(target, dtype = 'bool')\n",
    "    prediction_bool = np.array(prediction, dtype = 'bool')\n",
    "    TP = np.logical_and(target_bool, prediction_bool)\n",
    "    FP = np.logical_and(~target_bool, prediction_bool)\n",
    "    return (np.sum(TP)+ipsilon)/(np.sum(TP)+np.sum(FP)+ipsilon)\n",
    "    \n",
    "def metric_recall(target, prediction):\n",
    "    ipsilon = 0.0001\n",
    "    \n",
    "    target_bool = np.array(target, dtype = 'bool')\n",
    "    prediction_bool = np.array(prediction, dtype = 'bool')\n",
    "    TP = np.logical_and(target_bool, prediction_bool)\n",
    "    FN = np.logical_and(target_bool, ~prediction_bool)\n",
    "    return (np.sum(TP)+ipsilon)/((np.sum(TP)+np.sum(FN))+ipsilon)\n",
    "    \n",
    "def metric_f1(target, prediction):\n",
    "    precision = metric_precision(target, prediction)\n",
    "    recall = metric_recall(target, prediction)\n",
    "    return 2*precision*recall/(precision+recall)"
   ]
  },
  {
   "cell_type": "code",
   "execution_count": 69,
   "metadata": {},
   "outputs": [],
   "source": [
    "IoU_score = []\n",
    "class_IoU_score = []\n",
    "class_f1_score = []\n",
    "class_precision_score = []\n",
    "class_recall_score =  []\n",
    "\n",
    "for d in range(Y_test.shape[3]):\n",
    "    class_IoU_score.append([])\n",
    "    class_f1_score.append([])\n",
    "    class_precision_score.append([])\n",
    "    class_recall_score.append([])\n",
    "\n",
    "for i in range(len(X_test)):\n",
    "    IoU_score.append(metric_IoU(Y_test[i], preds_test_t[i]))\n",
    "    for d in range(Y_test.shape[3]):\n",
    "        class_IoU_score[d].append(metric_IoU(Y_test[i,:,:,d], preds_test_t[i,:,:,d]))\n",
    "        class_f1_score[d].append(metric_f1(Y_test[i,:,:,d], preds_test_t[i,:,:,d]))\n",
    "        class_precision_score[d].append(metric_precision(Y_test[i,:,:,d], preds_test_t[i,:,:,d]))\n",
    "        class_recall_score[d].append(metric_recall(Y_test[i,:,:,d], preds_test_t[i,:,:,d]))\n",
    "        \n",
    "IoU_score = np.array(IoU_score)\n",
    "class_IoU_score = np.array(class_IoU_score)\n",
    "class_f1_score = np.array(class_f1_score)\n",
    "class_precision_score = np.array(class_precision_score)\n",
    "class_recall_score = np.array(class_recall_score)\n",
    "\n",
    "IoU_result = pd.DataFrame(data = class_IoU_score.transpose(), columns = ['Background', 'Trap', 'Cell'])\n",
    "f1_result = pd.DataFrame(data = class_f1_score.transpose(), columns = ['Background', 'Trap', 'Cell'])\n",
    "precision_result = pd.DataFrame(data = class_precision_score.transpose(), columns = ['Background', 'Trap', 'Cell'])\n",
    "recall_result = pd.DataFrame(data = class_recall_score.transpose(), columns = ['Background', 'Trap', 'Cell'])"
   ]
  },
  {
   "cell_type": "code",
   "execution_count": 70,
   "metadata": {},
   "outputs": [
    {
     "data": {
      "text/html": [
       "<div>\n",
       "<style scoped>\n",
       "    .dataframe tbody tr th:only-of-type {\n",
       "        vertical-align: middle;\n",
       "    }\n",
       "\n",
       "    .dataframe tbody tr th {\n",
       "        vertical-align: top;\n",
       "    }\n",
       "\n",
       "    .dataframe thead th {\n",
       "        text-align: right;\n",
       "    }\n",
       "</style>\n",
       "<table border=\"1\" class=\"dataframe\">\n",
       "  <thead>\n",
       "    <tr style=\"text-align: right;\">\n",
       "      <th></th>\n",
       "      <th>Background</th>\n",
       "      <th>Trap</th>\n",
       "      <th>Cell</th>\n",
       "    </tr>\n",
       "  </thead>\n",
       "  <tbody>\n",
       "    <tr>\n",
       "      <th>count</th>\n",
       "      <td>11.0000</td>\n",
       "      <td>11.0000</td>\n",
       "      <td>11.0000</td>\n",
       "    </tr>\n",
       "    <tr>\n",
       "      <th>mean</th>\n",
       "      <td>0.9143</td>\n",
       "      <td>0.9604</td>\n",
       "      <td>0.6990</td>\n",
       "    </tr>\n",
       "    <tr>\n",
       "      <th>std</th>\n",
       "      <td>0.0419</td>\n",
       "      <td>0.0129</td>\n",
       "      <td>0.2585</td>\n",
       "    </tr>\n",
       "    <tr>\n",
       "      <th>min</th>\n",
       "      <td>0.8516</td>\n",
       "      <td>0.9373</td>\n",
       "      <td>0.0000</td>\n",
       "    </tr>\n",
       "    <tr>\n",
       "      <th>25%</th>\n",
       "      <td>0.8907</td>\n",
       "      <td>0.9511</td>\n",
       "      <td>0.6606</td>\n",
       "    </tr>\n",
       "    <tr>\n",
       "      <th>50%</th>\n",
       "      <td>0.9239</td>\n",
       "      <td>0.9646</td>\n",
       "      <td>0.7286</td>\n",
       "    </tr>\n",
       "    <tr>\n",
       "      <th>75%</th>\n",
       "      <td>0.9349</td>\n",
       "      <td>0.9697</td>\n",
       "      <td>0.8577</td>\n",
       "    </tr>\n",
       "    <tr>\n",
       "      <th>max</th>\n",
       "      <td>0.9944</td>\n",
       "      <td>0.9738</td>\n",
       "      <td>0.9303</td>\n",
       "    </tr>\n",
       "  </tbody>\n",
       "</table>\n",
       "</div>"
      ],
      "text/plain": [
       "       Background     Trap     Cell\n",
       "count     11.0000  11.0000  11.0000\n",
       "mean       0.9143   0.9604   0.6990\n",
       "std        0.0419   0.0129   0.2585\n",
       "min        0.8516   0.9373   0.0000\n",
       "25%        0.8907   0.9511   0.6606\n",
       "50%        0.9239   0.9646   0.7286\n",
       "75%        0.9349   0.9697   0.8577\n",
       "max        0.9944   0.9738   0.9303"
      ]
     },
     "execution_count": 70,
     "metadata": {},
     "output_type": "execute_result"
    }
   ],
   "source": [
    "IoU_result.describe().round(4)"
   ]
  },
  {
   "cell_type": "code",
   "execution_count": 55,
   "metadata": {},
   "outputs": [
    {
     "data": {
      "image/png": "[encoded data removed]",
      "text/plain": [
       "<Figure size 360x720 with 1 Axes>"
      ]
     },
     "metadata": {},
     "output_type": "display_data"
    }
   ],
   "source": [
    "sns.set(rc={'figure.figsize':(5, 10)})\n",
    "sns.boxplot(x=\"variable\", y=\"value\", data=pd.melt(IoU_result), width = 0.5)\n",
    "#sns.boxplot(IoU_result)\n",
    "\n",
    "#plt.show()\n",
    "plt.savefig('IoU.png')"
   ]
  },
  {
   "cell_type": "code",
   "execution_count": 71,
   "metadata": {},
   "outputs": [
    {
     "data": {
      "text/html": [
       "<div>\n",
       "<style scoped>\n",
       "    .dataframe tbody tr th:only-of-type {\n",
       "        vertical-align: middle;\n",
       "    }\n",
       "\n",
       "    .dataframe tbody tr th {\n",
       "        vertical-align: top;\n",
       "    }\n",
       "\n",
       "    .dataframe thead th {\n",
       "        text-align: right;\n",
       "    }\n",
       "</style>\n",
       "<table border=\"1\" class=\"dataframe\">\n",
       "  <thead>\n",
       "    <tr style=\"text-align: right;\">\n",
       "      <th></th>\n",
       "      <th>Background</th>\n",
       "      <th>Trap</th>\n",
       "      <th>Cell</th>\n",
       "    </tr>\n",
       "  </thead>\n",
       "  <tbody>\n",
       "    <tr>\n",
       "      <th>0</th>\n",
       "      <td>0.9667</td>\n",
       "      <td>0.9785</td>\n",
       "      <td>0.8052</td>\n",
       "    </tr>\n",
       "    <tr>\n",
       "      <th>1</th>\n",
       "      <td>0.9638</td>\n",
       "      <td>0.9867</td>\n",
       "      <td>0.9201</td>\n",
       "    </tr>\n",
       "    <tr>\n",
       "      <th>2</th>\n",
       "      <td>0.9518</td>\n",
       "      <td>0.9826</td>\n",
       "      <td>0.9167</td>\n",
       "    </tr>\n",
       "    <tr>\n",
       "      <th>3</th>\n",
       "      <td>0.9537</td>\n",
       "      <td>0.9820</td>\n",
       "      <td>0.7126</td>\n",
       "    </tr>\n",
       "    <tr>\n",
       "      <th>4</th>\n",
       "      <td>0.9660</td>\n",
       "      <td>0.9831</td>\n",
       "      <td>0.9267</td>\n",
       "    </tr>\n",
       "  </tbody>\n",
       "</table>\n",
       "</div>"
      ],
      "text/plain": [
       "   Background    Trap    Cell\n",
       "0      0.9667  0.9785  0.8052\n",
       "1      0.9638  0.9867  0.9201\n",
       "2      0.9518  0.9826  0.9167\n",
       "3      0.9537  0.9820  0.7126\n",
       "4      0.9660  0.9831  0.9267"
      ]
     },
     "execution_count": 71,
     "metadata": {},
     "output_type": "execute_result"
    }
   ],
   "source": [
    "f1_result.head().round(4)"
   ]
  },
  {
   "cell_type": "code",
   "execution_count": 72,
   "metadata": {},
   "outputs": [
    {
     "data": {
      "text/html": [
       "<div>\n",
       "<style scoped>\n",
       "    .dataframe tbody tr th:only-of-type {\n",
       "        vertical-align: middle;\n",
       "    }\n",
       "\n",
       "    .dataframe tbody tr th {\n",
       "        vertical-align: top;\n",
       "    }\n",
       "\n",
       "    .dataframe thead th {\n",
       "        text-align: right;\n",
       "    }\n",
       "</style>\n",
       "<table border=\"1\" class=\"dataframe\">\n",
       "  <thead>\n",
       "    <tr style=\"text-align: right;\">\n",
       "      <th></th>\n",
       "      <th>Background</th>\n",
       "      <th>Trap</th>\n",
       "      <th>Cell</th>\n",
       "    </tr>\n",
       "  </thead>\n",
       "  <tbody>\n",
       "    <tr>\n",
       "      <th>count</th>\n",
       "      <td>11.0000</td>\n",
       "      <td>11.0000</td>\n",
       "      <td>11.0000</td>\n",
       "    </tr>\n",
       "    <tr>\n",
       "      <th>mean</th>\n",
       "      <td>0.9548</td>\n",
       "      <td>0.9797</td>\n",
       "      <td>0.7859</td>\n",
       "    </tr>\n",
       "    <tr>\n",
       "      <th>std</th>\n",
       "      <td>0.0229</td>\n",
       "      <td>0.0067</td>\n",
       "      <td>0.2714</td>\n",
       "    </tr>\n",
       "    <tr>\n",
       "      <th>min</th>\n",
       "      <td>0.9199</td>\n",
       "      <td>0.9676</td>\n",
       "      <td>0.0000</td>\n",
       "    </tr>\n",
       "    <tr>\n",
       "      <th>25%</th>\n",
       "      <td>0.9421</td>\n",
       "      <td>0.9749</td>\n",
       "      <td>0.7956</td>\n",
       "    </tr>\n",
       "    <tr>\n",
       "      <th>50%</th>\n",
       "      <td>0.9605</td>\n",
       "      <td>0.9820</td>\n",
       "      <td>0.8430</td>\n",
       "    </tr>\n",
       "    <tr>\n",
       "      <th>75%</th>\n",
       "      <td>0.9663</td>\n",
       "      <td>0.9846</td>\n",
       "      <td>0.9234</td>\n",
       "    </tr>\n",
       "    <tr>\n",
       "      <th>max</th>\n",
       "      <td>0.9972</td>\n",
       "      <td>0.9867</td>\n",
       "      <td>0.9639</td>\n",
       "    </tr>\n",
       "  </tbody>\n",
       "</table>\n",
       "</div>"
      ],
      "text/plain": [
       "       Background     Trap     Cell\n",
       "count     11.0000  11.0000  11.0000\n",
       "mean       0.9548   0.9797   0.7859\n",
       "std        0.0229   0.0067   0.2714\n",
       "min        0.9199   0.9676   0.0000\n",
       "25%        0.9421   0.9749   0.7956\n",
       "50%        0.9605   0.9820   0.8430\n",
       "75%        0.9663   0.9846   0.9234\n",
       "max        0.9972   0.9867   0.9639"
      ]
     },
     "execution_count": 72,
     "metadata": {},
     "output_type": "execute_result"
    }
   ],
   "source": [
    "f1_result.describe().round(4)"
   ]
  },
  {
   "cell_type": "code",
   "execution_count": 58,
   "metadata": {},
   "outputs": [
    {
     "data": {
      "image/png": "[encoded data removed]",
      "text/plain": [
       "<Figure size 360x720 with 1 Axes>"
      ]
     },
     "metadata": {},
     "output_type": "display_data"
    }
   ],
   "source": [
    "sns.set(rc={'figure.figsize':(5, 10)})\n",
    "sns.boxplot(x=\"variable\", y=\"value\", data=pd.melt(f1_result), width = 0.5)\n",
    "#sns.boxplot(IoU_result)\n",
    "\n",
    "#plt.show()\n",
    "plt.savefig('f1.png')"
   ]
  },
  {
   "cell_type": "code",
   "execution_count": 73,
   "metadata": {},
   "outputs": [
    {
     "data": {
      "text/html": [
       "<div>\n",
       "<style scoped>\n",
       "    .dataframe tbody tr th:only-of-type {\n",
       "        vertical-align: middle;\n",
       "    }\n",
       "\n",
       "    .dataframe tbody tr th {\n",
       "        vertical-align: top;\n",
       "    }\n",
       "\n",
       "    .dataframe thead th {\n",
       "        text-align: right;\n",
       "    }\n",
       "</style>\n",
       "<table border=\"1\" class=\"dataframe\">\n",
       "  <thead>\n",
       "    <tr style=\"text-align: right;\">\n",
       "      <th></th>\n",
       "      <th>Background</th>\n",
       "      <th>Trap</th>\n",
       "      <th>Cell</th>\n",
       "    </tr>\n",
       "  </thead>\n",
       "  <tbody>\n",
       "    <tr>\n",
       "      <th>count</th>\n",
       "      <td>11.0000</td>\n",
       "      <td>11.0000</td>\n",
       "      <td>11.0000</td>\n",
       "    </tr>\n",
       "    <tr>\n",
       "      <th>mean</th>\n",
       "      <td>0.9162</td>\n",
       "      <td>0.9878</td>\n",
       "      <td>0.8161</td>\n",
       "    </tr>\n",
       "    <tr>\n",
       "      <th>std</th>\n",
       "      <td>0.0417</td>\n",
       "      <td>0.0067</td>\n",
       "      <td>0.2858</td>\n",
       "    </tr>\n",
       "    <tr>\n",
       "      <th>min</th>\n",
       "      <td>0.8532</td>\n",
       "      <td>0.9763</td>\n",
       "      <td>0.0000</td>\n",
       "    </tr>\n",
       "    <tr>\n",
       "      <th>25%</th>\n",
       "      <td>0.8923</td>\n",
       "      <td>0.9850</td>\n",
       "      <td>0.8506</td>\n",
       "    </tr>\n",
       "    <tr>\n",
       "      <th>50%</th>\n",
       "      <td>0.9249</td>\n",
       "      <td>0.9883</td>\n",
       "      <td>0.8977</td>\n",
       "    </tr>\n",
       "    <tr>\n",
       "      <th>75%</th>\n",
       "      <td>0.9377</td>\n",
       "      <td>0.9942</td>\n",
       "      <td>0.9634</td>\n",
       "    </tr>\n",
       "    <tr>\n",
       "      <th>max</th>\n",
       "      <td>0.9960</td>\n",
       "      <td>0.9945</td>\n",
       "      <td>1.0000</td>\n",
       "    </tr>\n",
       "  </tbody>\n",
       "</table>\n",
       "</div>"
      ],
      "text/plain": [
       "       Background     Trap     Cell\n",
       "count     11.0000  11.0000  11.0000\n",
       "mean       0.9162   0.9878   0.8161\n",
       "std        0.0417   0.0067   0.2858\n",
       "min        0.8532   0.9763   0.0000\n",
       "25%        0.8923   0.9850   0.8506\n",
       "50%        0.9249   0.9883   0.8977\n",
       "75%        0.9377   0.9942   0.9634\n",
       "max        0.9960   0.9945   1.0000"
      ]
     },
     "execution_count": 73,
     "metadata": {},
     "output_type": "execute_result"
    }
   ],
   "source": [
    "precision_result.describe().round(4)"
   ]
  },
  {
   "cell_type": "code",
   "execution_count": 60,
   "metadata": {},
   "outputs": [
    {
     "data": {
      "image/png": "[encoded data removed]",
      "text/plain": [
       "<Figure size 360x720 with 1 Axes>"
      ]
     },
     "metadata": {},
     "output_type": "display_data"
    }
   ],
   "source": [
    "sns.set(rc={'figure.figsize':(5, 10)})\n",
    "sns.boxplot(x=\"variable\", y=\"value\", data=pd.melt(precision_result), width = 0.5)\n",
    "\n",
    "#plt.show()\n",
    "plt.savefig('precision.png')"
   ]
  },
  {
   "cell_type": "code",
   "execution_count": 61,
   "metadata": {},
   "outputs": [
    {
     "data": {
      "text/html": [
       "<div>\n",
       "<style scoped>\n",
       "    .dataframe tbody tr th:only-of-type {\n",
       "        vertical-align: middle;\n",
       "    }\n",
       "\n",
       "    .dataframe tbody tr th {\n",
       "        vertical-align: top;\n",
       "    }\n",
       "\n",
       "    .dataframe thead th {\n",
       "        text-align: right;\n",
       "    }\n",
       "</style>\n",
       "<table border=\"1\" class=\"dataframe\">\n",
       "  <thead>\n",
       "    <tr style=\"text-align: right;\">\n",
       "      <th></th>\n",
       "      <th>Background</th>\n",
       "      <th>Trap</th>\n",
       "      <th>Cell</th>\n",
       "    </tr>\n",
       "  </thead>\n",
       "  <tbody>\n",
       "    <tr>\n",
       "      <th>count</th>\n",
       "      <td>11.0000</td>\n",
       "      <td>11.0000</td>\n",
       "      <td>11.0000</td>\n",
       "    </tr>\n",
       "    <tr>\n",
       "      <th>mean</th>\n",
       "      <td>0.9979</td>\n",
       "      <td>0.9579</td>\n",
       "      <td>0.8253</td>\n",
       "    </tr>\n",
       "    <tr>\n",
       "      <th>std</th>\n",
       "      <td>0.0017</td>\n",
       "      <td>0.0176</td>\n",
       "      <td>0.1402</td>\n",
       "    </tr>\n",
       "    <tr>\n",
       "      <th>min</th>\n",
       "      <td>0.9933</td>\n",
       "      <td>0.9248</td>\n",
       "      <td>0.5454</td>\n",
       "    </tr>\n",
       "    <tr>\n",
       "      <th>25%</th>\n",
       "      <td>0.9975</td>\n",
       "      <td>0.9455</td>\n",
       "      <td>0.7143</td>\n",
       "    </tr>\n",
       "    <tr>\n",
       "      <th>50%</th>\n",
       "      <td>0.9987</td>\n",
       "      <td>0.9649</td>\n",
       "      <td>0.8723</td>\n",
       "    </tr>\n",
       "    <tr>\n",
       "      <th>75%</th>\n",
       "      <td>0.9988</td>\n",
       "      <td>0.9696</td>\n",
       "      <td>0.9205</td>\n",
       "    </tr>\n",
       "    <tr>\n",
       "      <th>max</th>\n",
       "      <td>0.9991</td>\n",
       "      <td>0.9785</td>\n",
       "      <td>1.0000</td>\n",
       "    </tr>\n",
       "  </tbody>\n",
       "</table>\n",
       "</div>"
      ],
      "text/plain": [
       "       Background     Trap     Cell\n",
       "count     11.0000  11.0000  11.0000\n",
       "mean       0.9979   0.9579   0.8253\n",
       "std        0.0017   0.0176   0.1402\n",
       "min        0.9933   0.9248   0.5454\n",
       "25%        0.9975   0.9455   0.7143\n",
       "50%        0.9987   0.9649   0.8723\n",
       "75%        0.9988   0.9696   0.9205\n",
       "max        0.9991   0.9785   1.0000"
      ]
     },
     "execution_count": 61,
     "metadata": {},
     "output_type": "execute_result"
    }
   ],
   "source": [
    "recall_result.describe().round(4)"
   ]
  },
  {
   "cell_type": "code",
   "execution_count": 62,
   "metadata": {},
   "outputs": [
    {
     "data": {
      "image/png": "[encoded data removed]",
      "text/plain": [
       "<Figure size 360x720 with 1 Axes>"
      ]
     },
     "metadata": {},
     "output_type": "display_data"
    }
   ],
   "source": [
    "sns.set(rc={'figure.figsize':(5, 10)})\n",
    "sns.boxplot(x=\"variable\", y=\"value\", data=pd.melt(recall_result), width = 0.5)\n",
    "\n",
    "#plt.show()\n",
    "plt.savefig('recall.png')"
   ]
  },
  {
   "cell_type": "code",
   "execution_count": null,
   "metadata": {},
   "outputs": [],
   "source": []
  }
 ],
 "metadata": {
  "kernelspec": {
   "display_name": "Python 3",
   "language": "python",
   "name": "python3"
  },
  "language_info": {
   "codemirror_mode": {
    "name": "ipython",
    "version": 3
   },
   "file_extension": ".py",
   "mimetype": "text/x-python",
   "name": "python",
   "nbconvert_exporter": "python",
   "pygments_lexer": "ipython3",
   "version": "3.7.3"
  }
 },
 "nbformat": 4,
 "nbformat_minor": 2
}
