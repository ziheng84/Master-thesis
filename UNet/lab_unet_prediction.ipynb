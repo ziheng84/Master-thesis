{
 "cells": [
  {
   "cell_type": "code",
   "execution_count": 1,
   "metadata": {},
   "outputs": [
    {
     "name": "stderr",
     "output_type": "stream",
     "text": [
      "Using TensorFlow backend.\n"
     ]
    }
   ],
   "source": [
    "# Initialization\n",
    "import os\n",
    "import sys\n",
    "import random\n",
    "import warnings\n",
    "\n",
    "import numpy as np\n",
    "import pandas as pd\n",
    "\n",
    "import matplotlib.pyplot as plt\n",
    "\n",
    "from tqdm import tqdm\n",
    "from itertools import chain\n",
    "from skimage.io import imread, imshow, imread_collection, concatenate_images\n",
    "from skimage.transform import resize\n",
    "from skimage.morphology import label\n",
    "\n",
    "from keras.models import Model, load_model\n",
    "from keras.utils import np_utils # one-hot-encoding\n",
    "\n",
    "# Required for loss function\n",
    "import math\n",
    "from tensorflow.python.keras import losses\n",
    "\n",
    "import tensorflow as tf"
   ]
  },
  {
   "cell_type": "code",
   "execution_count": 3,
   "metadata": {},
   "outputs": [],
   "source": [
    "# Set someparameters\n",
    "IMG_WIDTH = 128\n",
    "IMG_HEIGHT = 128\n",
    "# Original size = 572*572\n",
    "IMG_CHANNELS = 3\n",
    "\n",
    "MODEL_NAME = 'model-lab-unet-scratch.h5'\n",
    "\n",
    "warnings.filterwarnings('ignore', category=UserWarning, module='skimage')\n",
    "seed = 42\n",
    "random.seed = seed\n",
    "np.random.seed = seed"
   ]
  },
  {
   "cell_type": "code",
   "execution_count": 4,
   "metadata": {},
   "outputs": [
    {
     "name": "stdout",
     "output_type": "stream",
     "text": [
      "Getting and resizing test images ... \n"
     ]
    },
    {
     "name": "stderr",
     "output_type": "stream",
     "text": [
      "100%|██████████████████████████████████████████████████████████████████████████████████| 34/34 [00:01<00:00, 28.43it/s]\n"
     ]
    },
    {
     "name": "stdout",
     "output_type": "stream",
     "text": [
      "Done!\n"
     ]
    }
   ],
   "source": [
    "# Import the data\n",
    "# Path for Linux\n",
    "#TRAIN_PATH = '/home/ziheng/UNet/dataset_lab/train/'\n",
    "#TEST_PATH = '/home/ziheng/UNet/dataset_lab/test/'\n",
    "\n",
    "# Path for Windows\n",
    "#TRAIN_PATH = 'F:\\\\MA\\\\data\\\\dataset_lab\\\\train\\\\'\n",
    "TEST_PATH = 'F:\\MA\\\\data\\\\dataset_lab\\\\test\\\\'\n",
    "\n",
    "# Get train and test IDs\n",
    "#train_ids = next(os.walk(TRAIN_PATH + 'in/'))[2]\n",
    "test_ids = next(os.walk(TEST_PATH + 'in/'))[2]\n",
    "\n",
    "# Get and resize train images and masks\n",
    "# X_train: original images\n",
    "#X_train = np.zeros((len(train_ids), IMG_HEIGHT, IMG_WIDTH, 1), dtype=np.uint8)\n",
    "# Y_train: masks\n",
    "#Y_train = np.zeros((len(train_ids), IMG_HEIGHT, IMG_WIDTH, IMG_CHANNELS), dtype=np.uint8)\n",
    "\n",
    "# X_train: original images\n",
    "X_test = np.zeros((len(test_ids), IMG_HEIGHT, IMG_WIDTH, 1), dtype=np.uint8)\n",
    "# Y_train: masks\n",
    "Y_test = np.zeros((len(test_ids), IMG_HEIGHT, IMG_WIDTH, IMG_CHANNELS), dtype=np.uint8)\n",
    "\n",
    "\n",
    "'''\n",
    "print('Getting and resizing train images and masks ... ')\n",
    "\n",
    "sys.stdout.flush()\n",
    "\n",
    "\n",
    "for n, id_ in tqdm(enumerate(train_ids), total=len(train_ids)):\n",
    "    img = imread(TRAIN_PATH + 'in/' + id_)\n",
    "    img = img[:,:,np.newaxis]\n",
    "    img = resize(img, (IMG_HEIGHT, IMG_WIDTH, 1), mode='constant', preserve_range=True)\n",
    "    X_train[n] = img\n",
    "    #mask = np.zeros((IMG_HEIGHT, IMG_WIDTH), dtype=np.bool)\n",
    "    mask = imread(TRAIN_PATH + 'out-cell/' + id_.replace('.jpg', '.png'))\n",
    "    #mask = mask[:,:,np.newaxis]\n",
    "    mask = resize(mask, (IMG_HEIGHT, IMG_WIDTH), mode='constant', preserve_range=True)\n",
    "    mask = np_utils.to_categorical(mask, IMG_CHANNELS) # Generate binary masks (one hot encoding)\n",
    "    Y_train[n] = mask\n",
    "'''    \n",
    "    \n",
    "    \n",
    "# Get and resize test images\n",
    "#X_test = np.zeros((len(test_ids), IMG_HEIGHT, IMG_WIDTH), dtype=np.uint8)\n",
    "X_test = np.zeros((len(test_ids), IMG_HEIGHT, IMG_WIDTH, 1), dtype=np.uint8)\n",
    "sizes_test = []\n",
    "print('Getting and resizing test images ... ')\n",
    "sys.stdout.flush()\n",
    "\n",
    "for n, id_ in tqdm(enumerate(test_ids), total=len(test_ids)):\n",
    "#    path = TEST_PATH + id_\n",
    "    img = imread(TEST_PATH + 'in/' + id_)\n",
    "    img = img[:,:,np.newaxis]\n",
    "#    sizes_test.append([img.shape[0], img.shape[1]])\n",
    "    img = resize(img, (IMG_HEIGHT, IMG_WIDTH, 1), mode='constant', preserve_range=True)\n",
    "    X_test[n] = img\n",
    "    mask = imread(TEST_PATH + 'out-cell/' + id_.replace('.jpg', '.png'))\n",
    "    mask = mask[:,:,np.newaxis]\n",
    "    mask = resize(mask, (IMG_HEIGHT, IMG_WIDTH), mode='constant', preserve_range=True)\n",
    "    mask = np_utils.to_categorical(mask, IMG_CHANNELS) # Generate binary masks (one hot encoding)\n",
    "    Y_test[n] = mask\n",
    "    \n",
    "\n",
    "print('Done!')"
   ]
  },
  {
   "cell_type": "code",
   "execution_count": 5,
   "metadata": {},
   "outputs": [],
   "source": [
    "def IoU(y_true,y_pred):\n",
    "    y_true_f = tf.reshape(y_true,[-1])\n",
    "    y_pred_f = tf.reshape(y_pred,[-1])\n",
    "    intersection = tf.reduce_sum(y_true_f * y_pred_f)\n",
    "    score = intersection / (tf.reduce_sum(y_true_f) + tf.reduce_sum(y_pred_f))\n",
    "    return score\n",
    "\n",
    "def IoU_loss(y_true , y_pred):\n",
    "    loss = 1 - IoU(y_true, y_pred)\n",
    "    return loss"
   ]
  },
  {
   "cell_type": "code",
   "execution_count": 6,
   "metadata": {},
   "outputs": [],
   "source": [
    "# Define custom metrics and loss functions\n",
    "def dice_coeff(y_true,y_pred):\n",
    "    smooth = 1.\n",
    "    y_true_f = tf.reshape(y_true,[-1])\n",
    "    y_pred_f = tf.reshape(y_pred,[-1])\n",
    "    intersection = tf.reduce_sum(y_true_f * y_pred_f)\n",
    "    score = (2. * intersection + smooth) / (tf.reduce_sum(y_true_f) + tf.reduce_sum(y_pred_f) + smooth)\n",
    "    return score\n",
    "\n",
    "def dice_loss(y_true , y_pred):\n",
    "    loss = 1 - dice_coeff(y_true, y_pred)\n",
    "    return loss\n",
    "\n",
    "def bce_dice_loss (y_true, y_pred):\n",
    "    loss = losses.categorical_crossentropy(y_true,y_pred)+dice_loss(y_true,y_pred)\n",
    "    return loss\n",
    "\n",
    "# The same as log_loss\n",
    "def mlogloss(target, pred):\n",
    "    score = 0.0\n",
    "    for i in range(len(pred)):\n",
    "        pp = pred[i]\n",
    "        for j in range(len(pp)):\n",
    "            prob = pp[j]\n",
    "            if prob < 1e-15:\n",
    "                prob = 1e-15\n",
    "            score += target[i][j] * math.log(prob)\n",
    "    return -score/len(pred)"
   ]
  },
  {
   "cell_type": "code",
   "execution_count": 7,
   "metadata": {},
   "outputs": [
    {
     "data": {
      "text/plain": [
       "'\\nix = random.randint(0, len(train_ids))\\nmask_category = 0\\n\\nprint(type(Y_train[ix,1,1,mask_category]))\\nprint(type(preds_train_t[ix,1,1,mask_category]))\\n#print(dice_coeff(Y_train[ix,:,:,mask_category], preds_train_t[ix,:,:,mask_category]))\\nprint(dice_coeff(Y_train[ix], preds_train_t[ix]))\\n'"
      ]
     },
     "execution_count": 7,
     "metadata": {},
     "output_type": "execute_result"
    }
   ],
   "source": [
    "# Test\n",
    "'''\n",
    "ix = random.randint(0, len(train_ids))\n",
    "mask_category = 0\n",
    "\n",
    "print(type(Y_train[ix,1,1,mask_category]))\n",
    "print(type(preds_train_t[ix,1,1,mask_category]))\n",
    "#print(dice_coeff(Y_train[ix,:,:,mask_category], preds_train_t[ix,:,:,mask_category]))\n",
    "print(dice_coeff(Y_train[ix], preds_train_t[ix]))\n",
    "'''"
   ]
  },
  {
   "cell_type": "code",
   "execution_count": 10,
   "metadata": {},
   "outputs": [
    {
     "name": "stdout",
     "output_type": "stream",
     "text": [
      "WARNING:tensorflow:From C:\\Anaconda\\envs\\deep-learning\\lib\\site-packages\\tensorflow\\python\\framework\\op_def_library.py:263: colocate_with (from tensorflow.python.framework.ops) is deprecated and will be removed in a future version.\n",
      "Instructions for updating:\n",
      "Colocations handled automatically by placer.\n",
      "WARNING:tensorflow:From C:\\Anaconda\\envs\\deep-learning\\lib\\site-packages\\keras\\backend\\tensorflow_backend.py:3445: calling dropout (from tensorflow.python.ops.nn_ops) with keep_prob is deprecated and will be removed in a future version.\n",
      "Instructions for updating:\n",
      "Please use `rate` instead of `keep_prob`. Rate should be set to `rate = 1 - keep_prob`.\n",
      "34/34 [==============================] - ETA:  - 2s 58ms/step\n"
     ]
    }
   ],
   "source": [
    "# Predict on train, val and test\n",
    "model = load_model('.\\\\model\\\\' + MODEL_NAME, custom_objects={'bce_dice_loss': IoU_loss, 'IoU': IoU, 'dice_loss': dice_loss})\n",
    "#preds_train = model.predict(X_train[:int(X_train.shape[0]*0.9)], verbose=1)\n",
    "#preds_val = model.predict(X_train[int(X_train.shape[0]*0.9):], verbose=1)\n",
    "preds_test = model.predict(X_test, verbose=1)\n",
    "\n",
    "# Threshold predictions\n",
    "#preds_train_t = (preds_train > 0.5).astype(np.uint8)\n",
    "#preds_val_t = (preds_val > 0.5).astype(np.uint8)\n",
    "preds_test_t = (preds_test > 0.5).astype(np.uint8)\n",
    "\n",
    "# Create list of upsampled test masks\n",
    "preds_test_upsampled = []\n",
    "#for i in range(len(preds_test)):\n",
    "#    preds_test_upsampled.append(resize(np.squeeze(preds_test[i]), \n",
    "#                                       (sizes_test[i][0], sizes_test[i][1]), \n",
    "#                                       mode='constant', preserve_range=True))"
   ]
  },
  {
   "cell_type": "code",
   "execution_count": 11,
   "metadata": {},
   "outputs": [
    {
     "name": "stdout",
     "output_type": "stream",
     "text": [
      "(34, 128, 128, 3)\n"
     ]
    }
   ],
   "source": [
    "print(preds_test.shape)"
   ]
  },
  {
   "cell_type": "code",
   "execution_count": 12,
   "metadata": {},
   "outputs": [
    {
     "data": {
      "image/png": "[encoded data removed]",
      "text/plain": [
       "<Figure size 432x288 with 1 Axes>"
      ]
     },
     "metadata": {
      "needs_background": "light"
     },
     "output_type": "display_data"
    },
    {
     "data": {
      "image/png": "[encoded data removed]",
      "text/plain": [
       "<Figure size 432x288 with 2 Axes>"
      ]
     },
     "metadata": {
      "needs_background": "light"
     },
     "output_type": "display_data"
    },
    {
     "data": {
      "image/png": "[encoded data removed]",
      "text/plain": [
       "<Figure size 432x288 with 2 Axes>"
      ]
     },
     "metadata": {
      "needs_background": "light"
     },
     "output_type": "display_data"
    }
   ],
   "source": [
    "# Perform a test on prediction result\n",
    "ix = random.randint(0, len(test_ids))\n",
    "mask_category = 1 # Choose the mask nummer 0,1,2\n",
    "imshow(np.reshape(X_test[ix], (IMG_WIDTH, IMG_HEIGHT)))\n",
    "plt.show()\n",
    "imshow(np.squeeze(Y_test[ix,:,:,mask_category])) \n",
    "plt.show()\n",
    "imshow(np.squeeze(preds_test_t[ix,:,:,mask_category]))\n",
    "plt.show()"
   ]
  },
  {
   "cell_type": "code",
   "execution_count": 13,
   "metadata": {},
   "outputs": [],
   "source": [
    "# Generate the mask wihtout one-hot-encoding \n",
    "preds_test_mask = np.zeros(shape=(preds_test_t.shape[0], preds_test_t.shape[1], preds_test_t.shape[2]))\n",
    "\n",
    "for i in range(preds_test_t.shape[0]):\n",
    "    for y in range(preds_test_t.shape[1]):\n",
    "        for x in range(preds_test_t.shape[2]):\n",
    "            if preds_test_t[i, y, x, 1] == 1:\n",
    "                preds_test_mask[i, y, x] = 1\n",
    "            elif preds_test_t[i, y, x, 2] == 1:\n",
    "                preds_test_mask[i, y, x] = 2\n",
    "            else:\n",
    "                preds_test_mask[i, y, x] = 0"
   ]
  },
  {
   "cell_type": "code",
   "execution_count": 16,
   "metadata": {},
   "outputs": [
    {
     "name": "stdout",
     "output_type": "stream",
     "text": [
      "12\n"
     ]
    },
    {
     "data": {
      "image/png": "[encoded data removed]",
      "text/plain": [
       "<Figure size 432x288 with 1 Axes>"
      ]
     },
     "metadata": {
      "needs_background": "light"
     },
     "output_type": "display_data"
    },
    {
     "data": {
      "image/png": "[encoded data removed]",
      "text/plain": [
       "<Figure size 432x288 with 2 Axes>"
      ]
     },
     "metadata": {
      "needs_background": "light"
     },
     "output_type": "display_data"
    }
   ],
   "source": [
    "# Generate and show the test image + the prediction masks\n",
    "ix = random.randint(0, len(test_ids))\n",
    "#ix = 11\n",
    "print(ix)\n",
    "\n",
    "imshow(np.reshape(X_test[ix], (IMG_WIDTH, IMG_HEIGHT)))\n",
    "plt.show()\n",
    "\n",
    "imshow(np.squeeze(preds_test_mask[ix]))\n",
    "plt.show()"
   ]
  },
  {
   "cell_type": "code",
   "execution_count": 14,
   "metadata": {
    "scrolled": false
   },
   "outputs": [
    {
     "name": "stdout",
     "output_type": "stream",
     "text": [
      "11\n"
     ]
    },
    {
     "data": {
      "image/png": "[encoded data removed]",
      "text/plain": [
       "<Figure size 432x288 with 1 Axes>"
      ]
     },
     "metadata": {
      "needs_background": "light"
     },
     "output_type": "display_data"
    },
    {
     "data": {
      "image/png": "[encoded data removed]",
      "text/plain": [
       "<Figure size 432x288 with 2 Axes>"
      ]
     },
     "metadata": {
      "needs_background": "light"
     },
     "output_type": "display_data"
    }
   ],
   "source": [
    "# Generate and save the test image + the prediction masks\n",
    "#ix = random.randint(0, len(test_ids))\n",
    "ix = 11\n",
    "print(ix)\n",
    "plt.figure()\n",
    "imshow(np.reshape(X_test[ix], (IMG_WIDTH, IMG_HEIGHT)))\n",
    "#plt.show()\n",
    "plt.savefig('test_img_' + str(ix) + '.png')\n",
    "#imshow(np.squeeze(Y_test[ix,:,:,mask_category])) \n",
    "#plt.show()\n",
    "plt.figure()\n",
    "imshow(np.squeeze(preds_test_mask[ix]))\n",
    "#plt.show()\n",
    "plt.savefig('preds_mask_' + str(ix) + '.png')"
   ]
  },
  {
   "cell_type": "code",
   "execution_count": null,
   "metadata": {},
   "outputs": [],
   "source": []
  }
 ],
 "metadata": {
  "kernelspec": {
   "display_name": "Python 3",
   "language": "python",
   "name": "python3"
  },
  "language_info": {
   "codemirror_mode": {
    "name": "ipython",
    "version": 3
   },
   "file_extension": ".py",
   "mimetype": "text/x-python",
   "name": "python",
   "nbconvert_exporter": "python",
   "pygments_lexer": "ipython3",
   "version": "3.7.3"
  }
 },
 "nbformat": 4,
 "nbformat_minor": 2
}
