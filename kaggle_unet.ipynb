{
 "cells": [
  {
   "cell_type": "code",
   "execution_count": 1,
   "metadata": {},
   "outputs": [
    {
     "name": "stderr",
     "output_type": "stream",
     "text": [
      "Using TensorFlow backend.\n"
     ]
    }
   ],
   "source": [
    "import os\n",
    "import sys\n",
    "import random\n",
    "import warnings\n",
    "\n",
    "import numpy as np\n",
    "import pandas as pd\n",
    "\n",
    "import matplotlib.pyplot as plt\n",
    "\n",
    "from tqdm import tqdm\n",
    "from itertools import chain\n",
    "from skimage.io import imread, imshow, imread_collection, concatenate_images\n",
    "from skimage.transform import resize\n",
    "from skimage.morphology import label\n",
    "\n",
    "from keras.models import Model, load_model\n",
    "from keras.layers import Input\n",
    "from keras.layers.core import Dropout, Lambda\n",
    "from keras.layers.convolutional import Conv2D, Conv2DTranspose\n",
    "from keras.layers.pooling import MaxPooling2D\n",
    "from keras.layers.merge import concatenate\n",
    "from keras.callbacks import EarlyStopping, ModelCheckpoint\n",
    "from keras import backend as K\n",
    "\n",
    "import tensorflow as tf\n",
    "\n",
    "# Set someparameters\n",
    "IMG_WIDTH = 128\n",
    "IMG_HEIGHT = 128\n",
    "IMG_CHANNELS = 3\n",
    "TRAIN_PATH = './input/stage1_train/'\n",
    "TEST_PATH = './input/stage1_test/'\n",
    "\n",
    "warnings.filterwarnings('ignore', category=UserWarning, module='skimage')\n",
    "seed = 42\n",
    "random.seed = seed\n",
    "np.random.seed = seed"
   ]
  },
  {
   "cell_type": "code",
   "execution_count": 4,
   "metadata": {},
   "outputs": [],
   "source": [
    "# Get train and test IDs\n",
    "train_ids = next(os.walk(TRAIN_PATH))[1]\n",
    "test_ids = next(os.walk(TEST_PATH))[1]"
   ]
  },
  {
   "cell_type": "code",
   "execution_count": 8,
   "metadata": {},
   "outputs": [
    {
     "data": {
      "text/plain": [
       "['da6c593410340b19bb212b9f6d274f95b08c0fc8f2570cd66bc5ed42c560acab',\n",
       " 'd8d4bf68a76e4e4c5f21de7ac613451f7115a04db686151e78b8ec0b6a22022b',\n",
       " '648c8ffa496e1716017906d0bf135debfc93386ae86aa3d4adbda9a505985fd9',\n",
       " '7bdb668e6127b7eafc837a883f0648002bd063c736f55a4f673e787250a3fb04',\n",
       " '1879f4f4f05e2bada0ffeb46c128b8df7a79b14c84f38c3e216a69653495153b',\n",
       " 'e17b7aedd251a016c01ef9158e6e4aa940d9f1b35942d86028dc1222192a9258',\n",
       " '31f1fbe85b8899258ea5bcf5f93f7ac8238660c386aeab40649c715bd2e38a0a',\n",
       " '0f1f896d9ae5a04752d3239c690402c022db4d72c0d2c087d73380896f72c466',\n",
       " '17b9bf4356db24967c4677b8376ac38f826de73a88b93a8d73a8b452e399cdff',\n",
       " '43a71aeb641faa18742cb826772a8566c6c947d7050f9ab15459de6cc2b3b6af',\n",
       " '38f5cfb55fc8b048e82a5c895b25fefae7a70c71ab9990c535d1030637bf6a1f',\n",
       " '0114f484a16c152baa2d82fdd43740880a762c93f436c8988ac461c5c9dbe7d5',\n",
       " '0e132f71c8b4875c3c2dd7a22997468a3e842b46aa9bd47cf7b0e8b7d63f0925',\n",
       " '8b59819fbc92eefe45b1db95c0cc3a467ddcfc755684c7f2ba2f6ccb9ad740ab',\n",
       " '697a05c6fe4a07c601d46da80885645ad574ea19b47ee795ccff216c9f1f1808',\n",
       " '259b35151d4a7a5ffdd7ab7f171b142db8cfe40beeee67277fac6adca4d042c4',\n",
       " '0999dab07b11bc85fb8464fc36c947fbd8b5d6ec49817361cb780659ca805eac',\n",
       " 'bdc789019cee8ddfae20d5f769299993b4b330b2d38d1218646cf89e77fbbd4d',\n",
       " '0ed3555a4bd48046d3b63d8baf03a5aa97e523aa483aaa07459e7afa39fb96c6',\n",
       " '1747f62148a919c8feb6d607faeebdf504b5e2ad42b6b1710b1189c37ebcdb2c',\n",
       " 'f0d0ab13ff53adc3c4d57e95a5f83d80b06f2cbc0bf002b52cf7b496612e0ce4',\n",
       " 'ade080c6618cbbb0a25680cf847f312b5e19b22bfe1cafec0436987ebe5b1e7e',\n",
       " '3c4c675825f7509877bc10497f498c9a2e3433bf922bd870914a2eb21a54fd26',\n",
       " '53df5150ee56253fe5bc91a9230d377bb21f1300f443ba45a758bcb01a15c0e4',\n",
       " 'ab298b962a63e4be9582513aaa84a5e270adba5fd2b16a50e59540524f63c3b8',\n",
       " 'b83d1d77935b6cfd44105b54600ffc4b6bd82de57dec65571bcb117fa8398ba3',\n",
       " '9ab2d381f90b485a68b82bc07f94397a0373e3215ad20935a958738e55f3cfc2',\n",
       " 'a984e7fb886aa02e29d112766d3ce26a4f78eac540ce7bbdbd42af2761928f6d',\n",
       " '4727d94c6a57ed484270fdd8bbc6e3d5f2f15d5476794a4e37a40f2309a091e2',\n",
       " '519dc0d672d1c295fc69b629af8721ccb1a1f136d1976685a68487e62547ffe0',\n",
       " '4f949bd8d914bbfa06f40d6a0e2b5b75c38bf53dbcbafc48c97f105bee4f8fac',\n",
       " '5cee644e5ffbef1ba021c7f389b33bafd3b1841f04d3edd7922d5084c2c4e0c7',\n",
       " '432f367a4c5b5674de2e2977744d10289a064e5704b21af6607b4975be47c580',\n",
       " 'fac507fa4d1649e8b24c195d990f1fc3ca3633d917839e1751a9d412a14ab5e3',\n",
       " 'eea70a7948d25a9a791dbcb39228af4ea4049fe5ebdee9c04884be8cca3da835',\n",
       " '336d3e4105766f8ad328a7ee9571e743f376f8cbcf6a969ca7e353fe3235c523',\n",
       " '9f17aea854db13015d19b34cb2022cfdeda44133323fcd6bb3545f7b9404d8ab',\n",
       " 'z_c000_p009_t0_z0_trap_8',\n",
       " '78a981bd27ba0c65a9169548665a17bda9f49050d0d3893a6567d1eb92cd003d',\n",
       " 'a4816cc1fb76cb3c5e481186833fc0ae9cf426a1406a2607e974e65e9cddba4f',\n",
       " '472b1c5ff988dadc209faea92499bc07f305208dbda29d16262b3d543ac91c71',\n",
       " 'dab46d798d29aff2e99c23f47ed3064f5cafb1644629b015c95a2dd2ee593bb4',\n",
       " '1962d0c5faf3e85cda80e0578e0cb7aca50826d781620e5c1c4cc586bc69f81a',\n",
       " '52b267e20519174e3ce1e1994b5d677804b16bc670aa5f6ffb6344a0fdf63fde',\n",
       " '191b2b2205f2f5cc9da04702c5d422bc249faf8bca1107af792da63cccfba829',\n",
       " '550450e4bff4036fd671decdc5d42fec23578198d6a2fd79179c4368b9d6da18',\n",
       " '1cdbfee1951356e7b0a215073828695fe1ead5f8b1add119b6645d2fdc8d844e',\n",
       " '699f2992cd71e2e28cf45f81347ff22e76b37541ce88087742884cd0e9aadc68',\n",
       " '8922a6ac8fd0258ec27738ca101867169b20d90a60fc84f93df77acd5bf7c80b',\n",
       " 'f5effed21f671bbf4551ecebb7fe95f3be1cf09c16a60afe64d2f0b95be9d1eb',\n",
       " '4be73d68f433869188fe5e7f09c7f681ed51003da6aa5d19ce368726d8e271ee',\n",
       " '912a679e4b9b1d1a75170254fd675b8c24b664d80ad7ea7e460241a23535a406',\n",
       " '0a849e0eb15faa8a6d7329c3dd66aabe9a294cccb52ed30a90c8ca99092ae732',\n",
       " 'd616d323a9eeb9da1b66f8d5df671d63c092c9919cb2c0b223e29c63257c944d',\n",
       " 'ca20076870e8fb604e61802605a9ac45419c82dd3e23404c56c4869f9502a5ef',\n",
       " 'df40099c6306ca1f47fcc8a62e2fa39486d4e223177afdc51b2ad189691802d8',\n",
       " 'fe9adb627a6f45747c5a8223b671774791ededf9364f6544be487c540107fa4f',\n",
       " 'c8e79ff4ac55f4b772057de28e539727b7f4f2a3de73bf7a082a0ace86d609eb',\n",
       " '295682d9eb5acb5c1976a460c085734bfaf38482b0a3f02591c2bfdcd4128549',\n",
       " '44afae184c89e6ba55985b4d341acc1ae1e8b6ef96312064e0e6e630e022b078',\n",
       " '1ef68e93964c2d9230100c1347c328f6385a7bc027879dc3d4c055e6fe80cb3c',\n",
       " '7f4cbe0b36b5d09466476a7d4e01f4f976c67872d549f4ff47b3e1e3a2b403af',\n",
       " '51c70bb8a299943b27f8b354571272692d8f2705036a1a9562156c76da5f025b',\n",
       " 'd6eb7ce7723e2f6dc13b90b41a29ded27dbd815bad633fdf582447c686018896',\n",
       " '1d9eacb3161f1e2b45550389ecf7c535c7199c6b44b1c6a46303f7b965e508f1',\n",
       " '505bc0a3928d8aef5ce441c5a611fdd32e1e8eccdc15cc3a52b88030acb50f81']"
      ]
     },
     "execution_count": 8,
     "metadata": {},
     "output_type": "execute_result"
    }
   ],
   "source": [
    "#test_ids"
   ]
  },
  {
   "cell_type": "code",
   "execution_count": 7,
   "metadata": {},
   "outputs": [
    {
     "name": "stdout",
     "output_type": "stream",
     "text": [
      "Getting and resizing train images and masks ... \n"
     ]
    },
    {
     "name": "stderr",
     "output_type": "stream",
     "text": [
      "100%|██████████| 670/670 [01:18<00:00,  8.53it/s]"
     ]
    },
    {
     "name": "stdout",
     "output_type": "stream",
     "text": [
      "Getting and resizing test images ... \n"
     ]
    },
    {
     "name": "stderr",
     "output_type": "stream",
     "text": [
      "\n",
      " 56%|█████▌    | 37/66 [00:00<00:00, 82.27it/s]\n"
     ]
    },
    {
     "ename": "IndexError",
     "evalue": "too many indices for array",
     "output_type": "error",
     "traceback": [
      "\u001b[0;31m---------------------------------------------------------------------------\u001b[0m",
      "\u001b[0;31mIndexError\u001b[0m                                Traceback (most recent call last)",
      "\u001b[0;32m<ipython-input-7-1b87442f5ab1>\u001b[0m in \u001b[0;36m<module>\u001b[0;34m\u001b[0m\n\u001b[1;32m     29\u001b[0m \u001b[0;32mfor\u001b[0m \u001b[0mn\u001b[0m\u001b[0;34m,\u001b[0m \u001b[0mid_\u001b[0m \u001b[0;32min\u001b[0m \u001b[0mtqdm\u001b[0m\u001b[0;34m(\u001b[0m\u001b[0menumerate\u001b[0m\u001b[0;34m(\u001b[0m\u001b[0mtest_ids\u001b[0m\u001b[0;34m)\u001b[0m\u001b[0;34m,\u001b[0m \u001b[0mtotal\u001b[0m\u001b[0;34m=\u001b[0m\u001b[0mlen\u001b[0m\u001b[0;34m(\u001b[0m\u001b[0mtest_ids\u001b[0m\u001b[0;34m)\u001b[0m\u001b[0;34m)\u001b[0m\u001b[0;34m:\u001b[0m\u001b[0;34m\u001b[0m\u001b[0;34m\u001b[0m\u001b[0m\n\u001b[1;32m     30\u001b[0m     \u001b[0mpath\u001b[0m \u001b[0;34m=\u001b[0m \u001b[0mTEST_PATH\u001b[0m \u001b[0;34m+\u001b[0m \u001b[0mid_\u001b[0m\u001b[0;34m\u001b[0m\u001b[0;34m\u001b[0m\u001b[0m\n\u001b[0;32m---> 31\u001b[0;31m     \u001b[0mimg\u001b[0m \u001b[0;34m=\u001b[0m \u001b[0mimread\u001b[0m\u001b[0;34m(\u001b[0m\u001b[0mpath\u001b[0m \u001b[0;34m+\u001b[0m \u001b[0;34m'/images/'\u001b[0m \u001b[0;34m+\u001b[0m \u001b[0mid_\u001b[0m \u001b[0;34m+\u001b[0m \u001b[0;34m'.png'\u001b[0m\u001b[0;34m)\u001b[0m\u001b[0;34m[\u001b[0m\u001b[0;34m:\u001b[0m\u001b[0;34m,\u001b[0m\u001b[0;34m:\u001b[0m\u001b[0;34m,\u001b[0m\u001b[0;34m:\u001b[0m\u001b[0mIMG_CHANNELS\u001b[0m\u001b[0;34m]\u001b[0m\u001b[0;34m\u001b[0m\u001b[0;34m\u001b[0m\u001b[0m\n\u001b[0m\u001b[1;32m     32\u001b[0m     \u001b[0msizes_test\u001b[0m\u001b[0;34m.\u001b[0m\u001b[0mappend\u001b[0m\u001b[0;34m(\u001b[0m\u001b[0;34m[\u001b[0m\u001b[0mimg\u001b[0m\u001b[0;34m.\u001b[0m\u001b[0mshape\u001b[0m\u001b[0;34m[\u001b[0m\u001b[0;36m0\u001b[0m\u001b[0;34m]\u001b[0m\u001b[0;34m,\u001b[0m \u001b[0mimg\u001b[0m\u001b[0;34m.\u001b[0m\u001b[0mshape\u001b[0m\u001b[0;34m[\u001b[0m\u001b[0;36m1\u001b[0m\u001b[0;34m]\u001b[0m\u001b[0;34m]\u001b[0m\u001b[0;34m)\u001b[0m\u001b[0;34m\u001b[0m\u001b[0;34m\u001b[0m\u001b[0m\n\u001b[1;32m     33\u001b[0m     \u001b[0mimg\u001b[0m \u001b[0;34m=\u001b[0m \u001b[0mresize\u001b[0m\u001b[0;34m(\u001b[0m\u001b[0mimg\u001b[0m\u001b[0;34m,\u001b[0m \u001b[0;34m(\u001b[0m\u001b[0mIMG_HEIGHT\u001b[0m\u001b[0;34m,\u001b[0m \u001b[0mIMG_WIDTH\u001b[0m\u001b[0;34m)\u001b[0m\u001b[0;34m,\u001b[0m \u001b[0mmode\u001b[0m\u001b[0;34m=\u001b[0m\u001b[0;34m'constant'\u001b[0m\u001b[0;34m,\u001b[0m \u001b[0mpreserve_range\u001b[0m\u001b[0;34m=\u001b[0m\u001b[0;32mTrue\u001b[0m\u001b[0;34m)\u001b[0m\u001b[0;34m\u001b[0m\u001b[0;34m\u001b[0m\u001b[0m\n",
      "\u001b[0;31mIndexError\u001b[0m: too many indices for array"
     ]
    }
   ],
   "source": [
    "# Get and resize train images and masks\n",
    "# X_train: original images\n",
    "X_train = np.zeros((len(train_ids), IMG_HEIGHT, IMG_WIDTH, IMG_CHANNELS), dtype=np.uint8)\n",
    "# Y_train: masks\n",
    "Y_train = np.zeros((len(train_ids), IMG_HEIGHT, IMG_WIDTH, 1), dtype=np.bool)\n",
    "print('Getting and resizing train images and masks ... ')\n",
    "\n",
    "sys.stdout.flush()\n",
    "\n",
    "for n, id_ in tqdm(enumerate(train_ids), total=len(train_ids)):\n",
    "    path = TRAIN_PATH + id_\n",
    "    img = imread(path + '/images/' + id_ + '.png')[:,:,:IMG_CHANNELS]\n",
    "    img = resize(img, (IMG_HEIGHT, IMG_WIDTH), mode='constant', preserve_range=True)\n",
    "    X_train[n] = img\n",
    "    mask = np.zeros((IMG_HEIGHT, IMG_WIDTH, 1), dtype=np.bool)\n",
    "    for mask_file in next(os.walk(path + '/masks/'))[2]:\n",
    "        mask_ = imread(path + '/masks/' + mask_file)\n",
    "        mask_ = np.expand_dims(resize(mask_, (IMG_HEIGHT, IMG_WIDTH), mode='constant', \n",
    "                                      preserve_range=True), axis=-1)\n",
    "        mask = np.maximum(mask, mask_)\n",
    "    Y_train[n] = mask\n",
    "\n",
    "    \n",
    "# Get and resize test images\n",
    "X_test = np.zeros((len(test_ids), IMG_HEIGHT, IMG_WIDTH, IMG_CHANNELS), dtype=np.uint8)\n",
    "sizes_test = []\n",
    "print('Getting and resizing test images ... ')\n",
    "sys.stdout.flush()\n",
    "for n, id_ in tqdm(enumerate(test_ids), total=len(test_ids)):\n",
    "    path = TEST_PATH + id_\n",
    "    img = imread(path + '/images/' + id_ + '.png')[:,:,:IMG_CHANNELS]\n",
    "    sizes_test.append([img.shape[0], img.shape[1]])\n",
    "    img = resize(img, (IMG_HEIGHT, IMG_WIDTH), mode='constant', preserve_range=True)\n",
    "    X_test[n] = img\n",
    "\n",
    "print('Done!')"
   ]
  },
  {
   "cell_type": "code",
   "execution_count": 35,
   "metadata": {},
   "outputs": [
    {
     "data": {
      "image/png": "[encoded data removed]",
      "text/plain": [
       "<Figure size 432x288 with 1 Axes>"
      ]
     },
     "metadata": {
      "needs_background": "light"
     },
     "output_type": "display_data"
    },
    {
     "data": {
      "image/png": "[encoded data removed]",
      "text/plain": [
       "<Figure size 432x288 with 1 Axes>"
      ]
     },
     "metadata": {
      "needs_background": "light"
     },
     "output_type": "display_data"
    }
   ],
   "source": [
    "# Check if training data looks all right\n",
    "ix = random.randint(0, len(train_ids))\n",
    "imshow(X_train[ix])\n",
    "plt.show()\n",
    "imshow(np.squeeze(Y_train[ix]))\n",
    "plt.show()"
   ]
  },
  {
   "cell_type": "code",
   "execution_count": 6,
   "metadata": {},
   "outputs": [],
   "source": [
    "# Define IoU metric\n",
    "def mean_iou(y_true, y_pred):\n",
    "    prec = []\n",
    "    for t in np.arange(0.5, 1.0, 0.05):\n",
    "        y_pred_ = tf.to_int32(y_pred > t)\n",
    "        score, up_opt = tf.metrics.mean_iou(y_true, y_pred_, 2)\n",
    "        K.get_session().run(tf.local_variables_initializer())\n",
    "        with tf.control_dependencies([up_opt]):\n",
    "            score = tf.identity(score)\n",
    "        prec.append(score)\n",
    "    return K.mean(K.stack(prec), axis=0)"
   ]
  },
  {
   "cell_type": "code",
   "execution_count": 24,
   "metadata": {},
   "outputs": [
    {
     "name": "stderr",
     "output_type": "stream",
     "text": [
      "WARNING: Logging before flag parsing goes to stderr.\n",
      "W0721 16:37:54.772384 139959090697984 deprecation_wrapper.py:119] From /home/ziheng/anaconda3/lib/python3.7/site-packages/keras/backend/tensorflow_backend.py:74: The name tf.get_default_graph is deprecated. Please use tf.compat.v1.get_default_graph instead.\n",
      "\n",
      "W0721 16:37:54.784852 139959090697984 deprecation_wrapper.py:119] From /home/ziheng/anaconda3/lib/python3.7/site-packages/keras/backend/tensorflow_backend.py:517: The name tf.placeholder is deprecated. Please use tf.compat.v1.placeholder instead.\n",
      "\n",
      "W0721 16:37:54.811270 139959090697984 deprecation_wrapper.py:119] From /home/ziheng/anaconda3/lib/python3.7/site-packages/keras/backend/tensorflow_backend.py:4185: The name tf.truncated_normal is deprecated. Please use tf.random.truncated_normal instead.\n",
      "\n",
      "W0721 16:37:54.824201 139959090697984 deprecation_wrapper.py:119] From /home/ziheng/anaconda3/lib/python3.7/site-packages/keras/backend/tensorflow_backend.py:133: The name tf.placeholder_with_default is deprecated. Please use tf.compat.v1.placeholder_with_default instead.\n",
      "\n",
      "W0721 16:37:54.831776 139959090697984 deprecation.py:506] From /home/ziheng/anaconda3/lib/python3.7/site-packages/keras/backend/tensorflow_backend.py:3445: calling dropout (from tensorflow.python.ops.nn_ops) with keep_prob is deprecated and will be removed in a future version.\n",
      "Instructions for updating:\n",
      "Please use `rate` instead of `keep_prob`. Rate should be set to `rate = 1 - keep_prob`.\n",
      "W0721 16:37:54.862896 139959090697984 deprecation_wrapper.py:119] From /home/ziheng/anaconda3/lib/python3.7/site-packages/keras/backend/tensorflow_backend.py:3976: The name tf.nn.max_pool is deprecated. Please use tf.nn.max_pool2d instead.\n",
      "\n",
      "W0721 16:37:55.067312 139959090697984 deprecation_wrapper.py:119] From /home/ziheng/anaconda3/lib/python3.7/site-packages/keras/backend/tensorflow_backend.py:4138: The name tf.random_uniform is deprecated. Please use tf.random.uniform instead.\n",
      "\n",
      "W0721 16:37:55.290881 139959090697984 deprecation_wrapper.py:119] From /home/ziheng/anaconda3/lib/python3.7/site-packages/keras/optimizers.py:790: The name tf.train.Optimizer is deprecated. Please use tf.compat.v1.train.Optimizer instead.\n",
      "\n",
      "W0721 16:37:55.314631 139959090697984 deprecation.py:323] From /home/ziheng/anaconda3/lib/python3.7/site-packages/tensorflow/python/ops/nn_impl.py:180: add_dispatch_support.<locals>.wrapper (from tensorflow.python.ops.array_ops) is deprecated and will be removed in a future version.\n",
      "Instructions for updating:\n",
      "Use tf.where in 2.0, which has the same broadcast rule as np.where\n",
      "W0721 16:37:55.328529 139959090697984 deprecation.py:323] From <ipython-input-23-06be6bdbb4c6>:5: to_int32 (from tensorflow.python.ops.math_ops) is deprecated and will be removed in a future version.\n",
      "Instructions for updating:\n",
      "Use `tf.cast` instead.\n",
      "W0721 16:37:55.409538 139959090697984 deprecation.py:323] From /home/ziheng/anaconda3/lib/python3.7/site-packages/tensorflow/python/ops/metrics_impl.py:1179: div (from tensorflow.python.ops.math_ops) is deprecated and will be removed in a future version.\n",
      "Instructions for updating:\n",
      "Deprecated in favor of operator or tf.math.divide.\n"
     ]
    },
    {
     "name": "stdout",
     "output_type": "stream",
     "text": [
      "__________________________________________________________________________________________________\n",
      "Layer (type)                    Output Shape         Param #     Connected to                     \n",
      "==================================================================================================\n",
      "input_1 (InputLayer)            (None, 128, 128, 3)  0                                            \n",
      "__________________________________________________________________________________________________\n",
      "lambda_1 (Lambda)               (None, 128, 128, 3)  0           input_1[0][0]                    \n",
      "__________________________________________________________________________________________________\n",
      "conv2d_1 (Conv2D)               (None, 128, 128, 16) 448         lambda_1[0][0]                   \n",
      "__________________________________________________________________________________________________\n",
      "dropout_1 (Dropout)             (None, 128, 128, 16) 0           conv2d_1[0][0]                   \n",
      "__________________________________________________________________________________________________\n",
      "conv2d_2 (Conv2D)               (None, 128, 128, 16) 2320        dropout_1[0][0]                  \n",
      "__________________________________________________________________________________________________\n",
      "max_pooling2d_1 (MaxPooling2D)  (None, 64, 64, 16)   0           conv2d_2[0][0]                   \n",
      "__________________________________________________________________________________________________\n",
      "conv2d_3 (Conv2D)               (None, 64, 64, 32)   4640        max_pooling2d_1[0][0]            \n",
      "__________________________________________________________________________________________________\n",
      "dropout_2 (Dropout)             (None, 64, 64, 32)   0           conv2d_3[0][0]                   \n",
      "__________________________________________________________________________________________________\n",
      "conv2d_4 (Conv2D)               (None, 64, 64, 32)   9248        dropout_2[0][0]                  \n",
      "__________________________________________________________________________________________________\n",
      "max_pooling2d_2 (MaxPooling2D)  (None, 32, 32, 32)   0           conv2d_4[0][0]                   \n",
      "__________________________________________________________________________________________________\n",
      "conv2d_5 (Conv2D)               (None, 32, 32, 64)   18496       max_pooling2d_2[0][0]            \n",
      "__________________________________________________________________________________________________\n",
      "dropout_3 (Dropout)             (None, 32, 32, 64)   0           conv2d_5[0][0]                   \n",
      "__________________________________________________________________________________________________\n",
      "conv2d_6 (Conv2D)               (None, 32, 32, 64)   36928       dropout_3[0][0]                  \n",
      "__________________________________________________________________________________________________\n",
      "max_pooling2d_3 (MaxPooling2D)  (None, 16, 16, 64)   0           conv2d_6[0][0]                   \n",
      "__________________________________________________________________________________________________\n",
      "conv2d_7 (Conv2D)               (None, 16, 16, 128)  73856       max_pooling2d_3[0][0]            \n",
      "__________________________________________________________________________________________________\n",
      "dropout_4 (Dropout)             (None, 16, 16, 128)  0           conv2d_7[0][0]                   \n",
      "__________________________________________________________________________________________________\n",
      "conv2d_8 (Conv2D)               (None, 16, 16, 128)  147584      dropout_4[0][0]                  \n",
      "__________________________________________________________________________________________________\n",
      "max_pooling2d_4 (MaxPooling2D)  (None, 8, 8, 128)    0           conv2d_8[0][0]                   \n",
      "__________________________________________________________________________________________________\n",
      "conv2d_9 (Conv2D)               (None, 8, 8, 256)    295168      max_pooling2d_4[0][0]            \n",
      "__________________________________________________________________________________________________\n",
      "dropout_5 (Dropout)             (None, 8, 8, 256)    0           conv2d_9[0][0]                   \n",
      "__________________________________________________________________________________________________\n",
      "conv2d_10 (Conv2D)              (None, 8, 8, 256)    590080      dropout_5[0][0]                  \n",
      "__________________________________________________________________________________________________\n",
      "conv2d_transpose_1 (Conv2DTrans (None, 16, 16, 128)  131200      conv2d_10[0][0]                  \n",
      "__________________________________________________________________________________________________\n",
      "concatenate_1 (Concatenate)     (None, 16, 16, 256)  0           conv2d_transpose_1[0][0]         \n",
      "                                                                 conv2d_8[0][0]                   \n",
      "__________________________________________________________________________________________________\n",
      "conv2d_11 (Conv2D)              (None, 16, 16, 128)  295040      concatenate_1[0][0]              \n",
      "__________________________________________________________________________________________________\n",
      "dropout_6 (Dropout)             (None, 16, 16, 128)  0           conv2d_11[0][0]                  \n",
      "__________________________________________________________________________________________________\n",
      "conv2d_12 (Conv2D)              (None, 16, 16, 128)  147584      dropout_6[0][0]                  \n",
      "__________________________________________________________________________________________________\n",
      "conv2d_transpose_2 (Conv2DTrans (None, 32, 32, 64)   32832       conv2d_12[0][0]                  \n",
      "__________________________________________________________________________________________________\n",
      "concatenate_2 (Concatenate)     (None, 32, 32, 128)  0           conv2d_transpose_2[0][0]         \n",
      "                                                                 conv2d_6[0][0]                   \n",
      "__________________________________________________________________________________________________\n",
      "conv2d_13 (Conv2D)              (None, 32, 32, 64)   73792       concatenate_2[0][0]              \n",
      "__________________________________________________________________________________________________\n",
      "dropout_7 (Dropout)             (None, 32, 32, 64)   0           conv2d_13[0][0]                  \n",
      "__________________________________________________________________________________________________\n",
      "conv2d_14 (Conv2D)              (None, 32, 32, 64)   36928       dropout_7[0][0]                  \n",
      "__________________________________________________________________________________________________\n",
      "conv2d_transpose_3 (Conv2DTrans (None, 64, 64, 32)   8224        conv2d_14[0][0]                  \n",
      "__________________________________________________________________________________________________\n",
      "concatenate_3 (Concatenate)     (None, 64, 64, 64)   0           conv2d_transpose_3[0][0]         \n",
      "                                                                 conv2d_4[0][0]                   \n",
      "__________________________________________________________________________________________________\n",
      "conv2d_15 (Conv2D)              (None, 64, 64, 32)   18464       concatenate_3[0][0]              \n",
      "__________________________________________________________________________________________________\n",
      "dropout_8 (Dropout)             (None, 64, 64, 32)   0           conv2d_15[0][0]                  \n",
      "__________________________________________________________________________________________________\n",
      "conv2d_16 (Conv2D)              (None, 64, 64, 32)   9248        dropout_8[0][0]                  \n",
      "__________________________________________________________________________________________________\n",
      "conv2d_transpose_4 (Conv2DTrans (None, 128, 128, 16) 2064        conv2d_16[0][0]                  \n",
      "__________________________________________________________________________________________________\n",
      "concatenate_4 (Concatenate)     (None, 128, 128, 32) 0           conv2d_transpose_4[0][0]         \n",
      "                                                                 conv2d_2[0][0]                   \n",
      "__________________________________________________________________________________________________\n",
      "conv2d_17 (Conv2D)              (None, 128, 128, 16) 4624        concatenate_4[0][0]              \n",
      "__________________________________________________________________________________________________\n",
      "dropout_9 (Dropout)             (None, 128, 128, 16) 0           conv2d_17[0][0]                  \n",
      "__________________________________________________________________________________________________\n",
      "conv2d_18 (Conv2D)              (None, 128, 128, 16) 2320        dropout_9[0][0]                  \n",
      "__________________________________________________________________________________________________\n",
      "conv2d_19 (Conv2D)              (None, 128, 128, 1)  17          conv2d_18[0][0]                  \n",
      "==================================================================================================\n",
      "Total params: 1,941,105\n",
      "Trainable params: 1,941,105\n",
      "Non-trainable params: 0\n",
      "__________________________________________________________________________________________________\n"
     ]
    }
   ],
   "source": [
    "# Build U-Net model\n",
    "inputs = Input((IMG_HEIGHT, IMG_WIDTH, IMG_CHANNELS))\n",
    "s = Lambda(lambda x: x / 255) (inputs)\n",
    "\n",
    "c1 = Conv2D(16, (3, 3), activation='elu', kernel_initializer='he_normal', padding='same') (s)\n",
    "c1 = Dropout(0.1) (c1)\n",
    "c1 = Conv2D(16, (3, 3), activation='elu', kernel_initializer='he_normal', padding='same') (c1)\n",
    "p1 = MaxPooling2D((2, 2)) (c1)\n",
    "\n",
    "c2 = Conv2D(32, (3, 3), activation='elu', kernel_initializer='he_normal', padding='same') (p1)\n",
    "c2 = Dropout(0.1) (c2)\n",
    "c2 = Conv2D(32, (3, 3), activation='elu', kernel_initializer='he_normal', padding='same') (c2)\n",
    "p2 = MaxPooling2D((2, 2)) (c2)\n",
    "\n",
    "c3 = Conv2D(64, (3, 3), activation='elu', kernel_initializer='he_normal', padding='same') (p2)\n",
    "c3 = Dropout(0.2) (c3)\n",
    "c3 = Conv2D(64, (3, 3), activation='elu', kernel_initializer='he_normal', padding='same') (c3)\n",
    "p3 = MaxPooling2D((2, 2)) (c3)\n",
    "\n",
    "c4 = Conv2D(128, (3, 3), activation='elu', kernel_initializer='he_normal', padding='same') (p3)\n",
    "c4 = Dropout(0.2) (c4)\n",
    "c4 = Conv2D(128, (3, 3), activation='elu', kernel_initializer='he_normal', padding='same') (c4)\n",
    "p4 = MaxPooling2D(pool_size=(2, 2)) (c4)\n",
    "\n",
    "c5 = Conv2D(256, (3, 3), activation='elu', kernel_initializer='he_normal', padding='same') (p4)\n",
    "c5 = Dropout(0.3) (c5)\n",
    "c5 = Conv2D(256, (3, 3), activation='elu', kernel_initializer='he_normal', padding='same') (c5)\n",
    "\n",
    "u6 = Conv2DTranspose(128, (2, 2), strides=(2, 2), padding='same') (c5)\n",
    "u6 = concatenate([u6, c4])\n",
    "c6 = Conv2D(128, (3, 3), activation='elu', kernel_initializer='he_normal', padding='same') (u6)\n",
    "c6 = Dropout(0.2) (c6)\n",
    "c6 = Conv2D(128, (3, 3), activation='elu', kernel_initializer='he_normal', padding='same') (c6)\n",
    "\n",
    "u7 = Conv2DTranspose(64, (2, 2), strides=(2, 2), padding='same') (c6)\n",
    "u7 = concatenate([u7, c3])\n",
    "c7 = Conv2D(64, (3, 3), activation='elu', kernel_initializer='he_normal', padding='same') (u7)\n",
    "c7 = Dropout(0.2) (c7)\n",
    "c7 = Conv2D(64, (3, 3), activation='elu', kernel_initializer='he_normal', padding='same') (c7)\n",
    "\n",
    "u8 = Conv2DTranspose(32, (2, 2), strides=(2, 2), padding='same') (c7)\n",
    "u8 = concatenate([u8, c2])\n",
    "c8 = Conv2D(32, (3, 3), activation='elu', kernel_initializer='he_normal', padding='same') (u8)\n",
    "c8 = Dropout(0.1) (c8)\n",
    "c8 = Conv2D(32, (3, 3), activation='elu', kernel_initializer='he_normal', padding='same') (c8)\n",
    "\n",
    "u9 = Conv2DTranspose(16, (2, 2), strides=(2, 2), padding='same') (c8)\n",
    "u9 = concatenate([u9, c1], axis=3)\n",
    "c9 = Conv2D(16, (3, 3), activation='elu', kernel_initializer='he_normal', padding='same') (u9)\n",
    "c9 = Dropout(0.1) (c9)\n",
    "c9 = Conv2D(16, (3, 3), activation='elu', kernel_initializer='he_normal', padding='same') (c9)\n",
    "\n",
    "outputs = Conv2D(1, (1, 1), activation='sigmoid') (c9)\n",
    "\n",
    "model = Model(inputs=[inputs], outputs=[outputs])\n",
    "model.compile(optimizer='adam', loss='binary_crossentropy', metrics=[mean_iou])\n",
    "model.summary()"
   ]
  },
  {
   "cell_type": "code",
   "execution_count": 25,
   "metadata": {},
   "outputs": [
    {
     "name": "stdout",
     "output_type": "stream",
     "text": [
      "Train on 603 samples, validate on 67 samples\n",
      "Epoch 1/50\n",
      "603/603 [==============================] - 54s 89ms/step - loss: 0.4374 - mean_iou: 0.4160 - val_loss: 0.2915 - val_mean_iou: 0.4385\n",
      "\n",
      "Epoch 00001: val_loss improved from inf to 0.29148, saving model to model-dsbowl2018-1.h5\n",
      "Epoch 2/50\n",
      "603/603 [==============================] - 46s 76ms/step - loss: 0.2549 - mean_iou: 0.4712 - val_loss: 0.1628 - val_mean_iou: 0.5096\n",
      "\n",
      "Epoch 00002: val_loss improved from 0.29148 to 0.16279, saving model to model-dsbowl2018-1.h5\n",
      "Epoch 3/50\n",
      "603/603 [==============================] - 46s 76ms/step - loss: 0.1698 - mean_iou: 0.5457 - val_loss: 0.1168 - val_mean_iou: 0.5773\n",
      "\n",
      "Epoch 00003: val_loss improved from 0.16279 to 0.11680, saving model to model-dsbowl2018-1.h5\n",
      "Epoch 4/50\n",
      "603/603 [==============================] - 46s 76ms/step - loss: 0.1491 - mean_iou: 0.6015 - val_loss: 0.1140 - val_mean_iou: 0.6209\n",
      "\n",
      "Epoch 00004: val_loss improved from 0.11680 to 0.11403, saving model to model-dsbowl2018-1.h5\n",
      "Epoch 5/50\n",
      "603/603 [==============================] - 46s 76ms/step - loss: 0.1282 - mean_iou: 0.6374 - val_loss: 0.1012 - val_mean_iou: 0.6529\n",
      "\n",
      "Epoch 00005: val_loss improved from 0.11403 to 0.10121, saving model to model-dsbowl2018-1.h5\n",
      "Epoch 6/50\n",
      "603/603 [==============================] - 46s 76ms/step - loss: 0.1153 - mean_iou: 0.6650 - val_loss: 0.1056 - val_mean_iou: 0.6765\n",
      "\n",
      "Epoch 00006: val_loss did not improve from 0.10121\n",
      "Epoch 7/50\n",
      "603/603 [==============================] - 45s 75ms/step - loss: 0.1062 - mean_iou: 0.6870 - val_loss: 0.0864 - val_mean_iou: 0.6963\n",
      "\n",
      "Epoch 00007: val_loss improved from 0.10121 to 0.08644, saving model to model-dsbowl2018-1.h5\n",
      "Epoch 8/50\n",
      "603/603 [==============================] - 45s 75ms/step - loss: 0.0983 - mean_iou: 0.7043 - val_loss: 0.0813 - val_mean_iou: 0.7121\n",
      "\n",
      "Epoch 00008: val_loss improved from 0.08644 to 0.08130, saving model to model-dsbowl2018-1.h5\n",
      "Epoch 9/50\n",
      "603/603 [==============================] - 46s 75ms/step - loss: 0.0995 - mean_iou: 0.7185 - val_loss: 0.0740 - val_mean_iou: 0.7245\n",
      "\n",
      "Epoch 00009: val_loss improved from 0.08130 to 0.07405, saving model to model-dsbowl2018-1.h5\n",
      "Epoch 10/50\n",
      "603/603 [==============================] - 46s 76ms/step - loss: 0.0945 - mean_iou: 0.7301 - val_loss: 0.0680 - val_mean_iou: 0.7352\n",
      "\n",
      "Epoch 00010: val_loss improved from 0.07405 to 0.06795, saving model to model-dsbowl2018-1.h5\n",
      "Epoch 11/50\n",
      "603/603 [==============================] - 46s 76ms/step - loss: 0.0875 - mean_iou: 0.7401 - val_loss: 0.0676 - val_mean_iou: 0.7448\n",
      "\n",
      "Epoch 00011: val_loss improved from 0.06795 to 0.06762, saving model to model-dsbowl2018-1.h5\n",
      "Epoch 12/50\n",
      "603/603 [==============================] - 46s 76ms/step - loss: 0.0873 - mean_iou: 0.7489 - val_loss: 0.0814 - val_mean_iou: 0.7529\n",
      "\n",
      "Epoch 00012: val_loss did not improve from 0.06762\n",
      "Epoch 13/50\n",
      "603/603 [==============================] - 46s 76ms/step - loss: 0.0895 - mean_iou: 0.7561 - val_loss: 0.0679 - val_mean_iou: 0.7595\n",
      "\n",
      "Epoch 00013: val_loss did not improve from 0.06762\n",
      "Epoch 14/50\n",
      "603/603 [==============================] - 48s 79ms/step - loss: 0.0835 - mean_iou: 0.7626 - val_loss: 0.0640 - val_mean_iou: 0.7657\n",
      "\n",
      "Epoch 00014: val_loss improved from 0.06762 to 0.06403, saving model to model-dsbowl2018-1.h5\n",
      "Epoch 15/50\n",
      "603/603 [==============================] - 46s 76ms/step - loss: 0.0822 - mean_iou: 0.7686 - val_loss: 0.0700 - val_mean_iou: 0.7713\n",
      "\n",
      "Epoch 00015: val_loss did not improve from 0.06403\n",
      "Epoch 16/50\n",
      "603/603 [==============================] - 45s 75ms/step - loss: 0.0837 - mean_iou: 0.7737 - val_loss: 0.0647 - val_mean_iou: 0.7760\n",
      "\n",
      "Epoch 00016: val_loss did not improve from 0.06403\n",
      "Epoch 17/50\n",
      "603/603 [==============================] - 46s 76ms/step - loss: 0.0791 - mean_iou: 0.7782 - val_loss: 0.0601 - val_mean_iou: 0.7806\n",
      "\n",
      "Epoch 00017: val_loss improved from 0.06403 to 0.06006, saving model to model-dsbowl2018-1.h5\n",
      "Epoch 18/50\n",
      "603/603 [==============================] - 46s 76ms/step - loss: 0.0783 - mean_iou: 0.7827 - val_loss: 0.0623 - val_mean_iou: 0.7847\n",
      "\n",
      "Epoch 00018: val_loss did not improve from 0.06006\n",
      "Epoch 19/50\n",
      "603/603 [==============================] - 46s 76ms/step - loss: 0.0774 - mean_iou: 0.7866 - val_loss: 0.0592 - val_mean_iou: 0.7885\n",
      "\n",
      "Epoch 00019: val_loss improved from 0.06006 to 0.05925, saving model to model-dsbowl2018-1.h5\n",
      "Epoch 20/50\n",
      "603/603 [==============================] - 46s 76ms/step - loss: 0.0753 - mean_iou: 0.7904 - val_loss: 0.0574 - val_mean_iou: 0.7921\n",
      "\n",
      "Epoch 00020: val_loss improved from 0.05925 to 0.05741, saving model to model-dsbowl2018-1.h5\n",
      "Epoch 21/50\n",
      "603/603 [==============================] - 46s 76ms/step - loss: 0.0751 - mean_iou: 0.7937 - val_loss: 0.0529 - val_mean_iou: 0.7954\n",
      "\n",
      "Epoch 00021: val_loss improved from 0.05741 to 0.05290, saving model to model-dsbowl2018-1.h5\n",
      "Epoch 22/50\n",
      "603/603 [==============================] - 46s 76ms/step - loss: 0.0744 - mean_iou: 0.7969 - val_loss: 0.0569 - val_mean_iou: 0.7984\n",
      "\n",
      "Epoch 00022: val_loss did not improve from 0.05290\n",
      "Epoch 23/50\n",
      "603/603 [==============================] - 45s 75ms/step - loss: 0.0735 - mean_iou: 0.7998 - val_loss: 0.0575 - val_mean_iou: 0.8012\n",
      "\n",
      "Epoch 00023: val_loss did not improve from 0.05290\n",
      "Epoch 24/50\n",
      "603/603 [==============================] - 46s 76ms/step - loss: 0.0734 - mean_iou: 0.8024 - val_loss: 0.0550 - val_mean_iou: 0.8037\n",
      "\n",
      "Epoch 00024: val_loss did not improve from 0.05290\n",
      "Epoch 25/50\n",
      "603/603 [==============================] - 46s 76ms/step - loss: 0.0722 - mean_iou: 0.8050 - val_loss: 0.0534 - val_mean_iou: 0.8062\n",
      "\n",
      "Epoch 00025: val_loss did not improve from 0.05290\n",
      "Epoch 26/50\n",
      "603/603 [==============================] - 46s 76ms/step - loss: 0.0729 - mean_iou: 0.8074 - val_loss: 0.0537 - val_mean_iou: 0.8085\n",
      "\n",
      "Epoch 00026: val_loss did not improve from 0.05290\n",
      "Epoch 00026: early stopping\n"
     ]
    }
   ],
   "source": [
    "# Fit model\n",
    "earlystopper = EarlyStopping(patience=5, verbose=1)\n",
    "checkpointer = ModelCheckpoint('model-dsbowl2018-1.h5', verbose=1, save_best_only=True)\n",
    "results = model.fit(X_train, Y_train, validation_split=0.1, batch_size=16, epochs=50, \n",
    "                    callbacks=[earlystopper, checkpointer])"
   ]
  },
  {
   "cell_type": "code",
   "execution_count": 7,
   "metadata": {},
   "outputs": [
    {
     "name": "stderr",
     "output_type": "stream",
     "text": [
      "WARNING: Logging before flag parsing goes to stderr.\n",
      "W0723 13:15:52.235008 139993253197568 deprecation_wrapper.py:119] From /home/ziheng/anaconda3/lib/python3.7/site-packages/keras/backend/tensorflow_backend.py:517: The name tf.placeholder is deprecated. Please use tf.compat.v1.placeholder instead.\n",
      "\n",
      "W0723 13:15:52.548094 139993253197568 deprecation_wrapper.py:119] From /home/ziheng/anaconda3/lib/python3.7/site-packages/keras/backend/tensorflow_backend.py:4185: The name tf.truncated_normal is deprecated. Please use tf.random.truncated_normal instead.\n",
      "\n",
      "W0723 13:15:52.585907 139993253197568 deprecation_wrapper.py:119] From /home/ziheng/anaconda3/lib/python3.7/site-packages/keras/backend/tensorflow_backend.py:131: The name tf.get_default_graph is deprecated. Please use tf.compat.v1.get_default_graph instead.\n",
      "\n",
      "W0723 13:15:52.586747 139993253197568 deprecation_wrapper.py:119] From /home/ziheng/anaconda3/lib/python3.7/site-packages/keras/backend/tensorflow_backend.py:133: The name tf.placeholder_with_default is deprecated. Please use tf.compat.v1.placeholder_with_default instead.\n",
      "\n",
      "W0723 13:15:52.596046 139993253197568 deprecation.py:506] From /home/ziheng/anaconda3/lib/python3.7/site-packages/keras/backend/tensorflow_backend.py:3445: calling dropout (from tensorflow.python.ops.nn_ops) with keep_prob is deprecated and will be removed in a future version.\n",
      "Instructions for updating:\n",
      "Please use `rate` instead of `keep_prob`. Rate should be set to `rate = 1 - keep_prob`.\n",
      "W0723 13:15:52.625765 139993253197568 deprecation_wrapper.py:119] From /home/ziheng/anaconda3/lib/python3.7/site-packages/keras/backend/tensorflow_backend.py:3976: The name tf.nn.max_pool is deprecated. Please use tf.nn.max_pool2d instead.\n",
      "\n",
      "W0723 13:15:52.822445 139993253197568 deprecation_wrapper.py:119] From /home/ziheng/anaconda3/lib/python3.7/site-packages/keras/backend/tensorflow_backend.py:4138: The name tf.random_uniform is deprecated. Please use tf.random.uniform instead.\n",
      "\n",
      "W0723 13:15:54.514938 139993253197568 deprecation_wrapper.py:119] From /home/ziheng/anaconda3/lib/python3.7/site-packages/keras/optimizers.py:790: The name tf.train.Optimizer is deprecated. Please use tf.compat.v1.train.Optimizer instead.\n",
      "\n",
      "W0723 13:15:54.522529 139993253197568 deprecation.py:323] From /home/ziheng/anaconda3/lib/python3.7/site-packages/tensorflow/python/ops/nn_impl.py:180: add_dispatch_support.<locals>.wrapper (from tensorflow.python.ops.array_ops) is deprecated and will be removed in a future version.\n",
      "Instructions for updating:\n",
      "Use tf.where in 2.0, which has the same broadcast rule as np.where\n",
      "W0723 13:15:54.552022 139993253197568 deprecation.py:323] From <ipython-input-6-06be6bdbb4c6>:5: to_int32 (from tensorflow.python.ops.math_ops) is deprecated and will be removed in a future version.\n",
      "Instructions for updating:\n",
      "Use `tf.cast` instead.\n",
      "W0723 13:15:54.667021 139993253197568 deprecation.py:323] From /home/ziheng/anaconda3/lib/python3.7/site-packages/tensorflow/python/ops/metrics_impl.py:1179: div (from tensorflow.python.ops.math_ops) is deprecated and will be removed in a future version.\n",
      "Instructions for updating:\n",
      "Deprecated in favor of operator or tf.math.divide.\n"
     ]
    },
    {
     "name": "stdout",
     "output_type": "stream",
     "text": [
      "603/603 [==============================] - 18s 30ms/step\n",
      "67/67 [==============================] - 2s 30ms/step\n",
      "65/65 [==============================] - 2s 26ms/step\n"
     ]
    }
   ],
   "source": [
    "# Predict on train, val and test\n",
    "model = load_model('model-dsbowl2018-1.h5', custom_objects={'mean_iou': mean_iou})\n",
    "preds_train = model.predict(X_train[:int(X_train.shape[0]*0.9)], verbose=1)\n",
    "preds_val = model.predict(X_train[int(X_train.shape[0]*0.9):], verbose=1)\n",
    "preds_test = model.predict(X_test, verbose=1)\n",
    "\n",
    "# Threshold predictions\n",
    "preds_train_t = (preds_train > 0.5).astype(np.uint8)\n",
    "preds_val_t = (preds_val > 0.5).astype(np.uint8)\n",
    "preds_test_t = (preds_test > 0.5).astype(np.uint8)\n",
    "\n",
    "# Create list of upsampled test masks\n",
    "preds_test_upsampled = []\n",
    "for i in range(len(preds_test)):\n",
    "    preds_test_upsampled.append(resize(np.squeeze(preds_test[i]), \n",
    "                                       (sizes_test[i][0], sizes_test[i][1]), \n",
    "                                       mode='constant', preserve_range=True))"
   ]
  },
  {
   "cell_type": "code",
   "execution_count": 21,
   "metadata": {},
   "outputs": [
    {
     "data": {
      "image/png": "[encoded data removed]",
      "text/plain": [
       "<Figure size 432x288 with 1 Axes>"
      ]
     },
     "metadata": {
      "needs_background": "light"
     },
     "output_type": "display_data"
    },
    {
     "data": {
      "image/png": "[encoded data removed]",
      "text/plain": [
       "<Figure size 432x288 with 1 Axes>"
      ]
     },
     "metadata": {
      "needs_background": "light"
     },
     "output_type": "display_data"
    },
    {
     "data": {
      "image/png": "[encoded data removed]",
      "text/plain": [
       "<Figure size 432x288 with 2 Axes>"
      ]
     },
     "metadata": {
      "needs_background": "light"
     },
     "output_type": "display_data"
    }
   ],
   "source": [
    "# Perform a sanity check on some random training samples\n",
    "ix = random.randint(0, len(preds_train_t))\n",
    "imshow(X_train[ix])\n",
    "plt.show()\n",
    "imshow(np.squeeze(Y_train[ix]))\n",
    "plt.show()\n",
    "imshow(np.squeeze(preds_train_t[ix]))\n",
    "plt.show()"
   ]
  },
  {
   "cell_type": "code",
   "execution_count": 23,
   "metadata": {},
   "outputs": [
    {
     "data": {
      "image/png": "[encoded data removed]",
      "text/plain": [
       "<Figure size 432x288 with 1 Axes>"
      ]
     },
     "metadata": {
      "needs_background": "light"
     },
     "output_type": "display_data"
    },
    {
     "data": {
      "image/png": "[encoded data removed]",
      "text/plain": [
       "<Figure size 432x288 with 1 Axes>"
      ]
     },
     "metadata": {
      "needs_background": "light"
     },
     "output_type": "display_data"
    },
    {
     "data": {
      "image/png": "[encoded data removed]",
      "text/plain": [
       "<Figure size 432x288 with 2 Axes>"
      ]
     },
     "metadata": {
      "needs_background": "light"
     },
     "output_type": "display_data"
    }
   ],
   "source": [
    "# Perform a sanity check on some random validation samples\n",
    "ix = random.randint(0, len(preds_val_t))\n",
    "imshow(X_train[int(X_train.shape[0]*0.9):][ix])\n",
    "plt.show()\n",
    "imshow(np.squeeze(Y_train[int(Y_train.shape[0]*0.9):][ix]))\n",
    "plt.show()\n",
    "imshow(np.squeeze(preds_val_t[ix]))\n",
    "plt.show()"
   ]
  },
  {
   "cell_type": "code",
   "execution_count": 31,
   "metadata": {},
   "outputs": [
    {
     "data": {
      "image/png": "[encoded data removed]",
      "text/plain": [
       "<Figure size 432x288 with 1 Axes>"
      ]
     },
     "metadata": {
      "needs_background": "light"
     },
     "output_type": "display_data"
    },
    {
     "data": {
      "image/png": "[encoded data removed]",
      "text/plain": [
       "<Figure size 432x288 with 1 Axes>"
      ]
     },
     "metadata": {
      "needs_background": "light"
     },
     "output_type": "display_data"
    },
    {
     "data": {
      "image/png": "[encoded data removed]",
      "text/plain": [
       "<Figure size 432x288 with 2 Axes>"
      ]
     },
     "metadata": {
      "needs_background": "light"
     },
     "output_type": "display_data"
    }
   ],
   "source": [
    "# Perform a check on some random test samples\n",
    "#ix = random.randint(0, len(preds_test_t))\n",
    "ix = -1\n",
    "imshow(X_train[int(X_train.shape[0]*0.9):][ix])\n",
    "plt.show()\n",
    "imshow(np.squeeze(Y_train[int(Y_train.shape[0]*0.9):][ix]))\n",
    "plt.show()\n",
    "imshow(np.squeeze(preds_test_t[ix]))\n",
    "plt.show()"
   ]
  },
  {
   "cell_type": "code",
   "execution_count": 30,
   "metadata": {},
   "outputs": [
    {
     "data": {
      "text/plain": [
       "array([[[[166, 167, 205],\n",
       "         [224, 225, 220],\n",
       "         [236, 237, 210],\n",
       "         ...,\n",
       "         [ 95,  59, 142],\n",
       "         [ 75,  39, 126],\n",
       "         [ 68,  35, 131]],\n",
       "\n",
       "        [[207, 205, 215],\n",
       "         [230, 229, 209],\n",
       "         [234, 232, 192],\n",
       "         ...,\n",
       "         [ 38,  35, 102],\n",
       "         [ 83,  62, 153],\n",
       "         [ 86,  92, 150]],\n",
       "\n",
       "        [[223, 226, 224],\n",
       "         [231, 240, 223],\n",
       "         [247, 238, 224],\n",
       "         ...,\n",
       "         [154, 152, 201],\n",
       "         [190, 174, 205],\n",
       "         [209, 184, 232]],\n",
       "\n",
       "        ...,\n",
       "\n",
       "        [[175, 158, 133],\n",
       "         [119,  84, 177],\n",
       "         [189, 204, 205],\n",
       "         ...,\n",
       "         [230, 232, 196],\n",
       "         [228, 226, 191],\n",
       "         [232, 230, 210]],\n",
       "\n",
       "        [[159, 117, 142],\n",
       "         [105,  82, 161],\n",
       "         [200, 210, 201],\n",
       "         ...,\n",
       "         [240, 240, 222],\n",
       "         [237, 237, 224],\n",
       "         [246, 244, 232]],\n",
       "\n",
       "        [[132,  81, 161],\n",
       "         [127, 118, 184],\n",
       "         [200, 199, 162],\n",
       "         ...,\n",
       "         [240, 243, 221],\n",
       "         [236, 236, 212],\n",
       "         [242, 243, 225]]],\n",
       "\n",
       "\n",
       "       [[[ 12,  12,  12],\n",
       "         [ 12,  12,  12],\n",
       "         [ 11,  11,  11],\n",
       "         ...,\n",
       "         [ 10,  10,  10],\n",
       "         [ 11,  11,  11],\n",
       "         [ 11,  11,  11]],\n",
       "\n",
       "        [[ 12,  12,  12],\n",
       "         [ 13,  13,  13],\n",
       "         [ 11,  11,  11],\n",
       "         ...,\n",
       "         [ 11,  11,  11],\n",
       "         [ 11,  11,  11],\n",
       "         [ 11,  11,  11]],\n",
       "\n",
       "        [[ 12,  12,  12],\n",
       "         [ 11,  11,  11],\n",
       "         [ 12,  12,  12],\n",
       "         ...,\n",
       "         [ 10,  10,  10],\n",
       "         [ 11,  11,  11],\n",
       "         [ 11,  11,  11]],\n",
       "\n",
       "        ...,\n",
       "\n",
       "        [[ 13,  13,  13],\n",
       "         [ 13,  13,  13],\n",
       "         [ 12,  12,  12],\n",
       "         ...,\n",
       "         [ 12,  12,  12],\n",
       "         [ 12,  12,  12],\n",
       "         [ 12,  12,  12]],\n",
       "\n",
       "        [[ 14,  14,  14],\n",
       "         [ 13,  13,  13],\n",
       "         [ 13,  13,  13],\n",
       "         ...,\n",
       "         [ 14,  14,  14],\n",
       "         [ 13,  13,  13],\n",
       "         [ 13,  13,  13]],\n",
       "\n",
       "        [[ 13,  13,  13],\n",
       "         [ 13,  13,  13],\n",
       "         [ 13,  13,  13],\n",
       "         ...,\n",
       "         [ 24,  24,  24],\n",
       "         [ 20,  20,  20],\n",
       "         [ 15,  15,  15]]],\n",
       "\n",
       "\n",
       "       [[[ 13,  13,  13],\n",
       "         [ 13,  13,  13],\n",
       "         [ 12,  12,  12],\n",
       "         ...,\n",
       "         [ 12,  12,  12],\n",
       "         [ 11,  11,  11],\n",
       "         [ 12,  12,  12]],\n",
       "\n",
       "        [[ 13,  13,  13],\n",
       "         [ 13,  13,  13],\n",
       "         [ 12,  12,  12],\n",
       "         ...,\n",
       "         [ 11,  11,  11],\n",
       "         [ 13,  13,  13],\n",
       "         [ 11,  11,  11]],\n",
       "\n",
       "        [[ 13,  13,  13],\n",
       "         [ 13,  13,  13],\n",
       "         [ 14,  14,  14],\n",
       "         ...,\n",
       "         [ 12,  12,  12],\n",
       "         [ 11,  11,  11],\n",
       "         [ 11,  11,  11]],\n",
       "\n",
       "        ...,\n",
       "\n",
       "        [[ 13,  13,  13],\n",
       "         [ 12,  12,  12],\n",
       "         [ 13,  13,  13],\n",
       "         ...,\n",
       "         [ 11,  11,  11],\n",
       "         [ 11,  11,  11],\n",
       "         [ 11,  11,  11]],\n",
       "\n",
       "        [[ 12,  12,  12],\n",
       "         [ 13,  13,  13],\n",
       "         [ 14,  14,  14],\n",
       "         ...,\n",
       "         [ 11,  11,  11],\n",
       "         [ 11,  11,  11],\n",
       "         [ 10,  10,  10]],\n",
       "\n",
       "        [[ 13,  13,  13],\n",
       "         [ 13,  13,  13],\n",
       "         [ 13,  13,  13],\n",
       "         ...,\n",
       "         [ 11,  11,  11],\n",
       "         [ 11,  11,  11],\n",
       "         [ 11,  11,  11]]],\n",
       "\n",
       "\n",
       "       ...,\n",
       "\n",
       "\n",
       "       [[[ 10,  10,  10],\n",
       "         [ 17,  17,  17],\n",
       "         [ 31,  31,  31],\n",
       "         ...,\n",
       "         [ 74,  74,  74],\n",
       "         [ 72,  72,  72],\n",
       "         [ 53,  53,  53]],\n",
       "\n",
       "        [[  9,   9,   9],\n",
       "         [ 12,  12,  12],\n",
       "         [ 20,  20,  20],\n",
       "         ...,\n",
       "         [ 65,  65,  65],\n",
       "         [ 62,  62,  62],\n",
       "         [ 37,  37,  37]],\n",
       "\n",
       "        [[ 11,  11,  11],\n",
       "         [ 10,  10,  10],\n",
       "         [ 13,  13,  13],\n",
       "         ...,\n",
       "         [ 70,  70,  70],\n",
       "         [ 55,  55,  55],\n",
       "         [ 28,  28,  28]],\n",
       "\n",
       "        ...,\n",
       "\n",
       "        [[ 15,  15,  15],\n",
       "         [ 19,  19,  19],\n",
       "         [ 32,  32,  32],\n",
       "         ...,\n",
       "         [  6,   6,   6],\n",
       "         [  7,   7,   7],\n",
       "         [  8,   8,   8]],\n",
       "\n",
       "        [[ 14,  14,  14],\n",
       "         [ 12,  12,  12],\n",
       "         [ 13,  13,  13],\n",
       "         ...,\n",
       "         [  7,   7,   7],\n",
       "         [ 11,  11,  11],\n",
       "         [ 28,  28,  28]],\n",
       "\n",
       "        [[ 38,  38,  38],\n",
       "         [ 38,  38,  38],\n",
       "         [ 28,  28,  28],\n",
       "         ...,\n",
       "         [ 10,  10,  10],\n",
       "         [ 26,  26,  26],\n",
       "         [ 42,  42,  42]]],\n",
       "\n",
       "\n",
       "       [[[228, 237, 212],\n",
       "         [229, 232, 216],\n",
       "         [227, 228, 209],\n",
       "         ...,\n",
       "         [244, 242, 238],\n",
       "         [240, 244, 230],\n",
       "         [237, 234, 243]],\n",
       "\n",
       "        [[238, 241, 228],\n",
       "         [234, 240, 222],\n",
       "         [237, 242, 216],\n",
       "         ...,\n",
       "         [157, 156, 201],\n",
       "         [ 80,  69, 127],\n",
       "         [ 51,  39, 117]],\n",
       "\n",
       "        [[239, 244, 236],\n",
       "         [242, 244, 230],\n",
       "         [238, 244, 226],\n",
       "         ...,\n",
       "         [ 63,  29, 146],\n",
       "         [ 34,  11, 127],\n",
       "         [ 25,   5,  95]],\n",
       "\n",
       "        ...,\n",
       "\n",
       "        [[222, 226, 186],\n",
       "         [237, 239, 212],\n",
       "         [243, 248, 232],\n",
       "         ...,\n",
       "         [238, 242, 229],\n",
       "         [234, 241, 219],\n",
       "         [236, 243, 211]],\n",
       "\n",
       "        [[238, 242, 234],\n",
       "         [231, 243, 221],\n",
       "         [236, 241, 224],\n",
       "         ...,\n",
       "         [242, 244, 227],\n",
       "         [243, 241, 235],\n",
       "         [237, 241, 230]],\n",
       "\n",
       "        [[227, 238, 207],\n",
       "         [233, 238, 220],\n",
       "         [229, 240, 214],\n",
       "         ...,\n",
       "         [235, 244, 222],\n",
       "         [235, 239, 226],\n",
       "         [233, 238, 219]]],\n",
       "\n",
       "\n",
       "       [[[  5,   5,   5],\n",
       "         [  5,   5,   5],\n",
       "         [  6,   6,   6],\n",
       "         ...,\n",
       "         [  4,   4,   4],\n",
       "         [  3,   3,   3],\n",
       "         [  8,   8,   8]],\n",
       "\n",
       "        [[  5,   5,   5],\n",
       "         [  5,   5,   5],\n",
       "         [  6,   6,   6],\n",
       "         ...,\n",
       "         [  5,   5,   5],\n",
       "         [  5,   5,   5],\n",
       "         [  4,   4,   4]],\n",
       "\n",
       "        [[  8,   8,   8],\n",
       "         [  4,   4,   4],\n",
       "         [  4,   4,   4],\n",
       "         ...,\n",
       "         [  5,   5,   5],\n",
       "         [  6,   6,   6],\n",
       "         [  5,   5,   5]],\n",
       "\n",
       "        ...,\n",
       "\n",
       "        [[  6,   6,   6],\n",
       "         [  5,   5,   5],\n",
       "         [  5,   5,   5],\n",
       "         ...,\n",
       "         [  6,   6,   6],\n",
       "         [ 12,  12,  12],\n",
       "         [  5,   5,   5]],\n",
       "\n",
       "        [[  8,   8,   8],\n",
       "         [  8,   8,   8],\n",
       "         [  4,   4,   4],\n",
       "         ...,\n",
       "         [  8,   8,   8],\n",
       "         [  8,   8,   8],\n",
       "         [  5,   5,   5]],\n",
       "\n",
       "        [[  5,   5,   5],\n",
       "         [  5,   5,   5],\n",
       "         [ 10,  10,  10],\n",
       "         ...,\n",
       "         [  6,   6,   6],\n",
       "         [ 11,  11,  11],\n",
       "         [  8,   8,   8]]]], dtype=uint8)"
      ]
     },
     "execution_count": 30,
     "metadata": {},
     "output_type": "execute_result"
    }
   ],
   "source": [
    "X_test\n",
    "type(X_test)"
   ]
  },
  {
   "cell_type": "code",
   "execution_count": 34,
   "metadata": {},
   "outputs": [
    {
     "data": {
      "text/plain": [
       "65"
      ]
     },
     "execution_count": 34,
     "metadata": {},
     "output_type": "execute_result"
    }
   ],
   "source": [
    "len(preds_test_t)"
   ]
  },
  {
   "cell_type": "code",
   "execution_count": 1,
   "metadata": {},
   "outputs": [
    {
     "ename": "NameError",
     "evalue": "name 'preds_test_t' is not defined",
     "output_type": "error",
     "traceback": [
      "\u001b[0;31m---------------------------------------------------------------------------\u001b[0m",
      "\u001b[0;31mNameError\u001b[0m                                 Traceback (most recent call last)",
      "\u001b[0;32m<ipython-input-1-58b819fab354>\u001b[0m in \u001b[0;36m<module>\u001b[0;34m\u001b[0m\n\u001b[0;32m----> 1\u001b[0;31m \u001b[0mpreds_test_t\u001b[0m\u001b[0;34m[\u001b[0m\u001b[0;36m0\u001b[0m\u001b[0;34m]\u001b[0m\u001b[0;34m\u001b[0m\u001b[0;34m\u001b[0m\u001b[0m\n\u001b[0m",
      "\u001b[0;31mNameError\u001b[0m: name 'preds_test_t' is not defined"
     ]
    }
   ],
   "source": [
    "preds_test_t[0]"
   ]
  },
  {
   "cell_type": "code",
   "execution_count": null,
   "metadata": {},
   "outputs": [],
   "source": []
  }
 ],
 "metadata": {
  "kernelspec": {
   "display_name": "Python 3",
   "language": "python",
   "name": "python3"
  },
  "language_info": {
   "codemirror_mode": {
    "name": "ipython",
    "version": 3
   },
   "file_extension": ".py",
   "mimetype": "text/x-python",
   "name": "python",
   "nbconvert_exporter": "python",
   "pygments_lexer": "ipython3",
   "version": "3.7.3"
  }
 },
 "nbformat": 4,
 "nbformat_minor": 2
}
